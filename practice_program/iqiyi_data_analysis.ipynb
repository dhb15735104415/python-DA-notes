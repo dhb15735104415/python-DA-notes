{
 "cells": [
  {
   "cell_type": "markdown",
   "metadata": {
    "collapsed": true
   },
   "source": [
    " 视频网站数据清洗整理和结论研究\n",
    " \n",
    " 1、数据清洗 - 去除空值\n",
    " \n",
    " 2、数据清洗 - 时间标签转化\n",
    " \n",
    " 3、问题1 分析出不同导演电影的好评率，并筛选出TOP20\n",
    " \n",
    " 4、问题2 统计分析2001-2016年每年评影人数总量\n"
   ]
  },
  {
   "cell_type": "code",
   "execution_count": 61,
   "metadata": {},
   "outputs": [],
   "source": [
    "import numpy as np\n",
    "import pandas as pd\n",
    "import matplotlib.pyplot as plt"
   ]
  },
  {
   "cell_type": "code",
   "execution_count": 62,
   "metadata": {},
   "outputs": [
    {
     "data": {
      "text/html": [
       "<div>\n",
       "<style scoped>\n",
       "    .dataframe tbody tr th:only-of-type {\n",
       "        vertical-align: middle;\n",
       "    }\n",
       "\n",
       "    .dataframe tbody tr th {\n",
       "        vertical-align: top;\n",
       "    }\n",
       "\n",
       "    .dataframe thead th {\n",
       "        text-align: right;\n",
       "    }\n",
       "</style>\n",
       "<table border=\"1\" class=\"dataframe\">\n",
       "  <thead>\n",
       "    <tr style=\"text-align: right;\">\n",
       "      <th></th>\n",
       "      <th>数据获取日期</th>\n",
       "      <th>演员</th>\n",
       "      <th>视频ID</th>\n",
       "      <th>详细链接</th>\n",
       "      <th>剧名</th>\n",
       "      <th>状态</th>\n",
       "      <th>类型</th>\n",
       "      <th>来源平台</th>\n",
       "      <th>整理后剧名</th>\n",
       "      <th>更新时间</th>\n",
       "      <th>...</th>\n",
       "      <th>上映年份</th>\n",
       "      <th>简介</th>\n",
       "      <th>导演</th>\n",
       "      <th>差评数</th>\n",
       "      <th>评分人数</th>\n",
       "      <th>播放量</th>\n",
       "      <th>更新至</th>\n",
       "      <th>总集数</th>\n",
       "      <th>第几季</th>\n",
       "      <th>好评数</th>\n",
       "    </tr>\n",
       "  </thead>\n",
       "  <tbody>\n",
       "    <tr>\n",
       "      <th>0</th>\n",
       "      <td>2016年5月24日</td>\n",
       "      <td>NaN</td>\n",
       "      <td>100</td>\n",
       "      <td>http://www.iqiyi.com/dianshiju/douyu2.html</td>\n",
       "      <td>斗鱼Ⅱ(1-20)全集</td>\n",
       "      <td>已完结</td>\n",
       "      <td>粤语电视剧/偶像剧/言情剧/超清1080P</td>\n",
       "      <td>爱奇艺</td>\n",
       "      <td>斗鱼2</td>\n",
       "      <td>NaN</td>\n",
       "      <td>...</td>\n",
       "      <td>2004.0</td>\n",
       "      <td>在单子杀了阿豹派去强暴语燕的手下而入狱后，众人的生活都有了改变。语燕为了让自己不再是于皓的包...</td>\n",
       "      <td>NaN</td>\n",
       "      <td>2034.0</td>\n",
       "      <td>32722.0</td>\n",
       "      <td>8069526.0</td>\n",
       "      <td>NaN</td>\n",
       "      <td>20.0</td>\n",
       "      <td>2</td>\n",
       "      <td>30688.0</td>\n",
       "    </tr>\n",
       "  </tbody>\n",
       "</table>\n",
       "<p>1 rows × 24 columns</p>\n",
       "</div>"
      ],
      "text/plain": [
       "       数据获取日期   演员 视频ID                                        详细链接  \\\n",
       "0  2016年5月24日  NaN  100  http://www.iqiyi.com/dianshiju/douyu2.html   \n",
       "\n",
       "            剧名   状态                     类型 来源平台 整理后剧名 更新时间   ...       上映年份  \\\n",
       "0  斗鱼Ⅱ(1-20)全集  已完结  粤语电视剧/偶像剧/言情剧/超清1080P  爱奇艺   斗鱼2  NaN   ...     2004.0   \n",
       "\n",
       "                                                  简介   导演     差评数     评分人数  \\\n",
       "0  在单子杀了阿豹派去强暴语燕的手下而入狱后，众人的生活都有了改变。语燕为了让自己不再是于皓的包...  NaN  2034.0  32722.0   \n",
       "\n",
       "         播放量 更新至   总集数  第几季      好评数  \n",
       "0  8069526.0 NaN  20.0    2  30688.0  \n",
       "\n",
       "[1 rows x 24 columns]"
      ]
     },
     "execution_count": 62,
     "metadata": {},
     "output_type": "execute_result"
    }
   ],
   "source": [
    "# 读取数据\n",
    "path = r'C:\\Users\\HBlock\\Desktop\\DataFiles\\爱奇艺视频数据.csv'\n",
    "data = pd.read_csv(path, engine='python')\n",
    "data.head(1)"
   ]
  },
  {
   "cell_type": "code",
   "execution_count": 63,
   "metadata": {},
   "outputs": [
    {
     "name": "stdout",
     "output_type": "stream",
     "text": [
      "       数据获取日期    演员 视频ID                                        详细链接  \\\n",
      "0  2016年5月24日  缺失数据  100  http://www.iqiyi.com/dianshiju/douyu2.html   \n",
      "\n",
      "            剧名   状态                     类型 来源平台 整理后剧名  更新时间   ...       上映年份  \\\n",
      "0  斗鱼Ⅱ(1-20)全集  已完结  粤语电视剧/偶像剧/言情剧/超清1080P  爱奇艺   斗鱼2  缺失数据   ...     2004.0   \n",
      "\n",
      "                                                  简介    导演     差评数     评分人数  \\\n",
      "0  在单子杀了阿豹派去强暴语燕的手下而入狱后，众人的生活都有了改变。语燕为了让自己不再是于皓的包...  缺失数据  2034.0  32722.0   \n",
      "\n",
      "         播放量  更新至   总集数  第几季      好评数  \n",
      "0  8069526.0  0.0  20.0    2  30688.0  \n",
      "\n",
      "[1 rows x 24 columns]\n"
     ]
    }
   ],
   "source": [
    "'''\n",
    "    1、数据清洗 - 去除空值\n",
    "    提示：fillna方法填充缺失数据，注意inplace参数\n",
    "'''\n",
    "def data_cleaning(df):\n",
    "    cols = df.columns\n",
    "    test = np.nan\n",
    "    for col in cols:\n",
    "        if df[col].dtype == 'object':\n",
    "            df[col].fillna('缺失数据',inplace = True)\n",
    "        else:\n",
    "            df[col].fillna(0,inplace = True)\n",
    "    return df\n",
    "print(data_cleaning(data).head(1))"
   ]
  },
  {
   "cell_type": "code",
   "execution_count": 2,
   "metadata": {
    "pycharm": {
     "is_executing": false
    }
   },
   "outputs": [],
   "source": [
    "'''\n",
    "    数据清洗 - 时间标签转化\n",
    "    将时间字段改为时间标签\n",
    "    需要将中文日期转化为非中文日期，例如 2016年5月24日 → 2016.5.24\n",
    "'''\n",
    "def convert_time(df,*cols):\n",
    "    for col in cols:\n",
    "        df[col] = df[col].str.replace('年','.')\n",
    "        df[col] = df[col].str.replace('月','.')\n",
    "        df[col] = df[col].str.replace('日','.')\n",
    "        df[col] = pd.to_datetime(df[col])\n",
    "    return df\n",
    "convert_time(data,'数据获取日期')"
   ]
  },
  {
   "cell_type": "code",
   "execution_count": 86,
   "metadata": {},
   "outputs": [
    {
     "data": {
      "image/png": "[encoded data removed]",
      "text/plain": [
       "<Figure size 864x432 with 1 Axes>"
      ]
     },
     "metadata": {},
     "output_type": "display_data"
    }
   ],
   "source": [
    "# 问题1 分析出不同导演电影的好评率，并筛选出TOP20\n",
    "# 要求：\n",
    "# ① 计算统计出不同导演的好评率，不要求创建函数\n",
    "# ② 通过多系列柱状图，做图表可视化\n",
    "# 提示：\n",
    "# ① 好评率 = 好评数 / 评分人数\n",
    "import matplotlib  as mpl  \n",
    "mpl.rcParams['font.sans-serif'] = ['SimHei']\n",
    "# 以上两行解决中文标签乱码\n",
    "\n",
    "df_product = data.groupby('导演')[['好评数','评分人数']].sum()\n",
    "df_product['好评率'] = df_product['好评数']/df_product['评分人数']\n",
    "df_sort = df_product.sort_values('好评率',ascending=False) # 降序排列\n",
    "\n",
    "\n",
    "# 绘制柱状图  只绘制前20个\n",
    "df_sort['好评率'][:20].plot(kind='bar',\n",
    "                       grid=True,\n",
    "                       alpha=0.8,\n",
    "                       figsize=(12,6),\n",
    "                       color='g',\n",
    "                       rot=45,\n",
    "                       ylim=[0.90,1],\n",
    "                       title='不同导演电影的好评率')\n",
    "plt.show()"
   ]
  }
 ],
 "metadata": {
  "kernelspec": {
   "display_name": "Python 3",
   "language": "python",
   "name": "python3"
  },
  "language_info": {
   "codemirror_mode": {
    "name": "ipython",
    "version": 3
   },
   "file_extension": ".py",
   "mimetype": "text/x-python",
   "name": "python",
   "nbconvert_exporter": "python",
   "pygments_lexer": "ipython3",
   "version": "3.6.5"
  },
  "pycharm": {
   "stem_cell": {
    "cell_type": "raw",
    "source": [],
    "metadata": {
     "collapsed": false
    }
   }
  }
 },
 "nbformat": 4,
 "nbformat_minor": 1
}