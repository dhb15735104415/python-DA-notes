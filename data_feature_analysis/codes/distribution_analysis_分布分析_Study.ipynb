{
 "cells": [
  {
   "cell_type": "markdown",
   "metadata": {
    "collapsed": true,
    "pycharm": {
     "is_executing": false,
     "name": "#%% md\n"
    }
   },
   "source": [
    "    分布分析\n",
    "    分布分析能揭示数据的分布特征和分布类型.\n",
    "    \n",
    "    1.对于定量数据,想要了解其分布形式是对称的还是非对称的,发现某些特大或特小的可疑值,可通过绘制\n",
    "    频率分布表\\频率分布直方图\\茎叶图进行直观地分析\n",
    "      注意:选择'组数'和'组距'是做频率分布分析时最主要的问题,一般按照以下的步骤进行:\n",
    "      1)求极差:最大值-最小值\n",
    "      2)决定组距和组数:组距根据业务需求来定, 组数=极差/组距(取整数+1)\n",
    "      3)决定分点:各数据组的边界范围按左闭右开区间，如[a,b)\n",
    "      4)列出频率分布表:各组频率之和的值为1\n",
    "      5)绘制频率分布直方图:纵轴表示 频率除以组距 的值\n",
    "      \n",
    "      遵循的主要原则如下:\n",
    "      1)各组之间必须是相互排斥的\n",
    "      2)各组必须将所有的数据包含在内\n",
    "      3)各组的组距最好相等\n",
    "      \n",
    "    2.对于定性数据,可用饼图和条形图直观地显示分布情况\n",
    "      饼图的每一个扇形部分代表每一类型的百分比或频数,根据定性变量的类型数目将饼图分成几个部分,每一部分\n",
    "    的大小与每一类型的频数成正比;\n",
    "      条形图的高度代表每一类型的百分比或频数,条形图的宽度没有意义"
   ]
  },
  {
   "cell_type": "code",
   "execution_count": 59,
   "outputs": [],
   "source": [
    "import numpy as np\n",
    "import pandas as pd\n",
    "import matplotlib.pyplot as plt \n",
    "\n",
    "plt.rcParams['font.sans-serif'] = ['SimHei']\n",
    "plt.rcParams['axes.unicode_minus'] = False"
   ],
   "metadata": {
    "collapsed": false,
    "pycharm": {
     "name": "#%%\n",
     "is_executing": false
    }
   }
  },
  {
   "cell_type": "code",
   "execution_count": 60,
   "outputs": [
    {
     "name": "stdout",
     "text": [
      "查看列名及其类型:\n",
      "房屋编码      int64\n",
      "小区       object\n",
      "朝向       object\n",
      "房屋单价      int64\n",
      "参考首付    float64\n",
      "参考总价    float64\n",
      "经度      float64\n",
      "纬度      float64\n",
      "dtype: object\n"
     ],
     "output_type": "stream"
    },
    {
     "data": {
      "text/plain": "        房屋编码      小区  朝向   房屋单价  参考首付   参考总价          经度         纬度\n0  605093949   大望新平村  南北   5434  15.0   50.0  114.180964  22.603698\n1  605768856     通宝楼  南北   3472   7.5   25.0  114.179298  22.566910\n2  606815561  罗湖区罗芳村  南北   5842  15.6   52.0  114.158869  22.547223\n3  605147285     兴华苑  南北   3829  10.8   36.0  114.158040  22.554343\n4  606030866  京基东方都会  西南  47222  51.0  170.0  114.149243  22.554370",
      "text/html": "<div>\n<style scoped>\n    .dataframe tbody tr th:only-of-type {\n        vertical-align: middle;\n    }\n\n    .dataframe tbody tr th {\n        vertical-align: top;\n    }\n\n    .dataframe thead th {\n        text-align: right;\n    }\n</style>\n<table border=\"1\" class=\"dataframe\">\n  <thead>\n    <tr style=\"text-align: right;\">\n      <th></th>\n      <th>房屋编码</th>\n      <th>小区</th>\n      <th>朝向</th>\n      <th>房屋单价</th>\n      <th>参考首付</th>\n      <th>参考总价</th>\n      <th>经度</th>\n      <th>纬度</th>\n    </tr>\n  </thead>\n  <tbody>\n    <tr>\n      <th>0</th>\n      <td>605093949</td>\n      <td>大望新平村</td>\n      <td>南北</td>\n      <td>5434</td>\n      <td>15.0</td>\n      <td>50.0</td>\n      <td>114.180964</td>\n      <td>22.603698</td>\n    </tr>\n    <tr>\n      <th>1</th>\n      <td>605768856</td>\n      <td>通宝楼</td>\n      <td>南北</td>\n      <td>3472</td>\n      <td>7.5</td>\n      <td>25.0</td>\n      <td>114.179298</td>\n      <td>22.566910</td>\n    </tr>\n    <tr>\n      <th>2</th>\n      <td>606815561</td>\n      <td>罗湖区罗芳村</td>\n      <td>南北</td>\n      <td>5842</td>\n      <td>15.6</td>\n      <td>52.0</td>\n      <td>114.158869</td>\n      <td>22.547223</td>\n    </tr>\n    <tr>\n      <th>3</th>\n      <td>605147285</td>\n      <td>兴华苑</td>\n      <td>南北</td>\n      <td>3829</td>\n      <td>10.8</td>\n      <td>36.0</td>\n      <td>114.158040</td>\n      <td>22.554343</td>\n    </tr>\n    <tr>\n      <th>4</th>\n      <td>606030866</td>\n      <td>京基东方都会</td>\n      <td>西南</td>\n      <td>47222</td>\n      <td>51.0</td>\n      <td>170.0</td>\n      <td>114.149243</td>\n      <td>22.554370</td>\n    </tr>\n  </tbody>\n</table>\n</div>"
     },
     "metadata": {},
     "output_type": "execute_result",
     "execution_count": 60
    }
   ],
   "source": [
    "# 读取数据\n",
    "path = r'C:\\Users\\HBlock\\Desktop\\DataFiles\\SZ_ES_House_info.csv'\n",
    "data = pd.read_csv(path,engine='python')\n",
    "print('查看列名及其类型:',data.dtypes,sep='\\n')\n",
    "data.head()\n",
    "# 定量字段：房屋单价，参考首付，参考总价，*经度，*纬度，*房屋编码\n",
    "# 定性字段：小区，朝向"
   ],
   "metadata": {
    "collapsed": false,
    "pycharm": {
     "name": "#%%\n",
     "is_executing": false
    }
   }
  },
  {
   "cell_type": "code",
   "execution_count": 61,
   "outputs": [
    {
     "name": "stdout",
     "text": [
      "房屋总价极差为: 175.0\n"
     ],
     "output_type": "stream"
    }
   ],
   "source": [
    "# 定量字段--深圳某小区二手房信息  对房屋总价进行分布分析\n",
    "# 1)求房屋总价极差: max-min  - 定量字段\n",
    "total_price = '参考总价'\n",
    "house_price_range = data[total_price].max() - data[total_price].min()  # 175.0\n",
    "print('房屋总价极差为:',house_price_range)"
   ],
   "metadata": {
    "collapsed": false,
    "pycharm": {
     "name": "#%%\n",
     "is_executing": false
    }
   }
  },
  {
   "cell_type": "code",
   "execution_count": 62,
   "outputs": [
    {
     "data": {
      "text/plain": "<matplotlib.axes._subplots.AxesSubplot at 0x25acb4f33c8>"
     },
     "metadata": {},
     "output_type": "execute_result",
     "execution_count": 62
    },
    {
     "data": {
      "text/plain": "<Figure size 432x288 with 1 Axes>",
      "image/png": "[encoded data removed]"
     },
     "metadata": {
      "needs_background": "light"
     },
     "output_type": "display_data"
    }
   ],
   "source": [
    "# 频率分布情况 - 定量字段\n",
    "# 2)通过直方图直接判断分组组数\n",
    "data[total_price].hist(bins=12)\n",
    "# 简单查看数据分布，确定分布组数 → 一般8-16即可\n",
    "# 这里以10组为参考"
   ],
   "metadata": {
    "collapsed": false,
    "pycharm": {
     "name": "#%%\n",
     "is_executing": false
    }
   }
  },
  {
   "cell_type": "code",
   "execution_count": 63,
   "outputs": [
    {
     "name": "stdout",
     "text": [
      "price_cut:\n",
      "0    [42.5, 60.0)\n",
      "1    [25.0, 42.5)\n",
      "2    [42.5, 60.0)\n",
      "Name: 参考总价, dtype: category\n",
      "Categories (10, interval[float64]): [[25.0, 42.5) < [42.5, 60.0) < [60.0, 77.5) < [77.5, 95.0) ... [130.0, 147.5) < [147.5, 165.0) < [165.0, 182.5) < [182.5, 200.175)]\n",
      "price_cut_count:\n",
      "[182.5, 200.175)    20\n",
      "[42.5, 60.0)        17\n",
      "[25.0, 42.5)        14\n",
      "[165.0, 182.5)       8\n",
      "[147.5, 165.0)       4\n",
      "[95.0, 112.5)        4\n",
      "[130.0, 147.5)       3\n",
      "[112.5, 130.0)       2\n",
      "[77.5, 95.0)         2\n",
      "[60.0, 77.5)         1\n",
      "Name: 参考总价, dtype: int64\n",
      "--------------------------------------\n"
     ],
     "output_type": "stream"
    },
    {
     "data": {
      "text/plain": "        房屋编码      小区  朝向  房屋单价  参考首付  参考总价          经度         纬度  \\\n0  605093949   大望新平村  南北  5434  15.0  50.0  114.180964  22.603698   \n1  605768856     通宝楼  南北  3472   7.5  25.0  114.179298  22.566910   \n2  606815561  罗湖区罗芳村  南北  5842  15.6  52.0  114.158869  22.547223   \n\n       参考总价分组区间  \n0  [42.5, 60.0)  \n1  [25.0, 42.5)  \n2  [42.5, 60.0)  ",
      "text/html": "<div>\n<style scoped>\n    .dataframe tbody tr th:only-of-type {\n        vertical-align: middle;\n    }\n\n    .dataframe tbody tr th {\n        vertical-align: top;\n    }\n\n    .dataframe thead th {\n        text-align: right;\n    }\n</style>\n<table border=\"1\" class=\"dataframe\">\n  <thead>\n    <tr style=\"text-align: right;\">\n      <th></th>\n      <th>房屋编码</th>\n      <th>小区</th>\n      <th>朝向</th>\n      <th>房屋单价</th>\n      <th>参考首付</th>\n      <th>参考总价</th>\n      <th>经度</th>\n      <th>纬度</th>\n      <th>参考总价分组区间</th>\n    </tr>\n  </thead>\n  <tbody>\n    <tr>\n      <th>0</th>\n      <td>605093949</td>\n      <td>大望新平村</td>\n      <td>南北</td>\n      <td>5434</td>\n      <td>15.0</td>\n      <td>50.0</td>\n      <td>114.180964</td>\n      <td>22.603698</td>\n      <td>[42.5, 60.0)</td>\n    </tr>\n    <tr>\n      <th>1</th>\n      <td>605768856</td>\n      <td>通宝楼</td>\n      <td>南北</td>\n      <td>3472</td>\n      <td>7.5</td>\n      <td>25.0</td>\n      <td>114.179298</td>\n      <td>22.566910</td>\n      <td>[25.0, 42.5)</td>\n    </tr>\n    <tr>\n      <th>2</th>\n      <td>606815561</td>\n      <td>罗湖区罗芳村</td>\n      <td>南北</td>\n      <td>5842</td>\n      <td>15.6</td>\n      <td>52.0</td>\n      <td>114.158869</td>\n      <td>22.547223</td>\n      <td>[42.5, 60.0)</td>\n    </tr>\n  </tbody>\n</table>\n</div>"
     },
     "metadata": {},
     "output_type": "execute_result",
     "execution_count": 63
    }
   ],
   "source": [
    "# 频率分布情况 - 定量字段\n",
    "# 3)求出分组区间\n",
    "\n",
    "# pd.cut(x, bins, right)：按照组数对x分组，且返回一个和x同样长度的分组dataframe，right → 是否右边包含，默认True\n",
    "price_cut = pd.cut(data[total_price],10,right=False)  #\n",
    "print('price_cut:',price_cut.head(3),sep='\\n')\n",
    "\n",
    "price_cut_count = price_cut.value_counts()  # 统计每组数据的频率,默认降序排列\n",
    "print('price_cut_count:',price_cut_count,sep='\\n')\n",
    "print('--------------------------------------')\n",
    "\n",
    "# 给源数据data添加“分组区间”列\n",
    "data[f'{total_price}分组区间'] = price_cut.values\n",
    "data.head(3)"
   ],
   "metadata": {
    "collapsed": false,
    "pycharm": {
     "name": "#%%\n",
     "is_executing": false
    }
   }
  },
  {
   "cell_type": "code",
   "execution_count": 67,
   "outputs": [
    {
     "name": "stdout",
     "text": [
      "frequency_data:\n",
      "                  频数\n",
      "[182.5, 200.175)  20\n",
      "[42.5, 60.0)      17\n",
      "[25.0, 42.5)      14\n",
      "[165.0, 182.5)     8\n",
      "[147.5, 165.0)     4\n",
      "[95.0, 112.5)      4\n",
      "[130.0, 147.5)     3\n",
      "[112.5, 130.0)     2\n",
      "[77.5, 95.0)       2\n",
      "[60.0, 77.5)       1\n"
     ],
     "output_type": "stream"
    },
    {
     "data": {
      "text/plain": "                  频数        频率      累计频率     频率%    累计频率%\n[182.5, 200.175)  20  0.266667  0.266667  26.67%   26.67%\n[42.5, 60.0)      17  0.226667  0.493333  22.67%   49.33%\n[25.0, 42.5)      14  0.186667  0.680000  18.67%   68.00%\n[165.0, 182.5)     8  0.106667  0.786667  10.67%   78.67%\n[147.5, 165.0)     4  0.053333  0.840000   5.33%   84.00%\n[95.0, 112.5)      4  0.053333  0.893333   5.33%   89.33%\n[130.0, 147.5)     3  0.040000  0.933333   4.00%   93.33%\n[112.5, 130.0)     2  0.026667  0.960000   2.67%   96.00%\n[77.5, 95.0)       2  0.026667  0.986667   2.67%   98.67%\n[60.0, 77.5)       1  0.013333  1.000000   1.33%  100.00%",
      "text/html": "<div>\n<style scoped>\n    .dataframe tbody tr th:only-of-type {\n        vertical-align: middle;\n    }\n\n    .dataframe tbody tr th {\n        vertical-align: top;\n    }\n\n    .dataframe thead th {\n        text-align: right;\n    }\n</style>\n<table border=\"1\" class=\"dataframe\">\n  <thead>\n    <tr style=\"text-align: right;\">\n      <th></th>\n      <th>频数</th>\n      <th>频率</th>\n      <th>累计频率</th>\n      <th>频率%</th>\n      <th>累计频率%</th>\n    </tr>\n  </thead>\n  <tbody>\n    <tr>\n      <th>[182.5, 200.175)</th>\n      <td>20</td>\n      <td>0.266667</td>\n      <td>0.266667</td>\n      <td>26.67%</td>\n      <td>26.67%</td>\n    </tr>\n    <tr>\n      <th>[42.5, 60.0)</th>\n      <td>17</td>\n      <td>0.226667</td>\n      <td>0.493333</td>\n      <td>22.67%</td>\n      <td>49.33%</td>\n    </tr>\n    <tr>\n      <th>[25.0, 42.5)</th>\n      <td>14</td>\n      <td>0.186667</td>\n      <td>0.680000</td>\n      <td>18.67%</td>\n      <td>68.00%</td>\n    </tr>\n    <tr>\n      <th>[165.0, 182.5)</th>\n      <td>8</td>\n      <td>0.106667</td>\n      <td>0.786667</td>\n      <td>10.67%</td>\n      <td>78.67%</td>\n    </tr>\n    <tr>\n      <th>[147.5, 165.0)</th>\n      <td>4</td>\n      <td>0.053333</td>\n      <td>0.840000</td>\n      <td>5.33%</td>\n      <td>84.00%</td>\n    </tr>\n    <tr>\n      <th>[95.0, 112.5)</th>\n      <td>4</td>\n      <td>0.053333</td>\n      <td>0.893333</td>\n      <td>5.33%</td>\n      <td>89.33%</td>\n    </tr>\n    <tr>\n      <th>[130.0, 147.5)</th>\n      <td>3</td>\n      <td>0.040000</td>\n      <td>0.933333</td>\n      <td>4.00%</td>\n      <td>93.33%</td>\n    </tr>\n    <tr>\n      <th>[112.5, 130.0)</th>\n      <td>2</td>\n      <td>0.026667</td>\n      <td>0.960000</td>\n      <td>2.67%</td>\n      <td>96.00%</td>\n    </tr>\n    <tr>\n      <th>[77.5, 95.0)</th>\n      <td>2</td>\n      <td>0.026667</td>\n      <td>0.986667</td>\n      <td>2.67%</td>\n      <td>98.67%</td>\n    </tr>\n    <tr>\n      <th>[60.0, 77.5)</th>\n      <td>1</td>\n      <td>0.013333</td>\n      <td>1.000000</td>\n      <td>1.33%</td>\n      <td>100.00%</td>\n    </tr>\n  </tbody>\n</table>\n</div>"
     },
     "metadata": {},
     "output_type": "execute_result",
     "execution_count": 67
    }
   ],
   "source": [
    "# 频率分布情况 - 定量字段\n",
    "# 4)求出目标字段下频率分布的其他统计量 → 频数，频率，累计频率\n",
    "frequency_data = pd.DataFrame(price_cut_count)\n",
    "frequency_data.rename(columns={price_cut_count.name:'频数'},inplace=True)  # 修改列名称为'频数'\n",
    "print('frequency_data:',frequency_data,sep='\\n')\n",
    "\n",
    "frequency_data['频率'] = frequency_data['频数']/frequency_data['频数'].sum()  # 计算频率\n",
    "frequency_data['累计频率'] = frequency_data['频率'].cumsum()  # 计算累计频率\n",
    "frequency_data['频率%'] = frequency_data['频率'].apply(lambda x: \"%.2f%%\" %(x*100))  # 以百分比显示频率\n",
    "frequency_data['累计频率%'] = frequency_data['累计频率'].apply(lambda x: \"%.2f%%\" %(x*100))  # 以百分比显示累计频率\n",
    "\n",
    "frequency_data\n",
    "# frequency_data.style.bar(subset=['频率','累计频率'], color='green',width=100)  #可以增加表格样式,不加也可以"
   ],
   "metadata": {
    "collapsed": false,
    "pycharm": {
     "name": "#%%\n",
     "is_executing": false
    }
   }
  },
  {
   "cell_type": "code",
   "execution_count": 91,
   "outputs": [
    {
     "data": {
      "text/plain": "<Figure size 864x144 with 1 Axes>",
      "image/png": "[encoded data removed]"
     },
     "metadata": {
      "needs_background": "light"
     },
     "output_type": "display_data"
    }
   ],
   "source": [
    "# 频率分布情况 - 定量字段\n",
    "# 5)绘制频率直方图\n",
    "frequency_data['频率'].plot(kind='bar',\n",
    "                          figsize=(12,2),\n",
    "                          alpha=0.8,\n",
    "                          color='g',\n",
    "                          grid=True,\n",
    "                          rot=0,\n",
    "                          width=0.8)\n",
    "# 修改y轴刻度\n",
    "y_lim = np.linspace(0,0.30,7)\n",
    "plt.yticks(y_lim)\n",
    "\n",
    "# 添加频数标签\n",
    "x = len(frequency_data)\n",
    "y = frequency_data['频率']\n",
    "m = frequency_data['频数']\n",
    "for i,j,k in zip(range(x),y,m):\n",
    "    plt.text(i-0.1,j+0.01,'%i' % k, color = 'k')\n",
    "plt.show()\n"
   ],
   "metadata": {
    "collapsed": false,
    "pycharm": {
     "name": "#%%\n",
     "is_executing": false
    }
   }
  },
  {
   "cell_type": "code",
   "execution_count": 92,
   "outputs": [
    {
     "name": "stdout",
     "text": [
      "cx_g:\n",
      "南北    29\n",
      "南     20\n",
      "东      8\n",
      "东南     5\n",
      "西南     4\n",
      "北      4\n",
      "西北     3\n",
      "东西     1\n",
      "东北     1\n",
      "Name: 朝向, dtype: int64\n"
     ],
     "output_type": "stream"
    },
    {
     "data": {
      "text/plain": "    频数        频率      累计频率     频率%    累计频率%\n南北  29  0.386667  0.386667  38.67%   38.67%\n南   20  0.266667  0.653333  26.67%   65.33%\n东    8  0.106667  0.760000  10.67%   76.00%\n东南   5  0.066667  0.826667   6.67%   82.67%\n西南   4  0.053333  0.880000   5.33%   88.00%\n北    4  0.053333  0.933333   5.33%   93.33%\n西北   3  0.040000  0.973333   4.00%   97.33%\n东西   1  0.013333  0.986667   1.33%   98.67%\n东北   1  0.013333  1.000000   1.33%  100.00%",
      "text/html": "<div>\n<style scoped>\n    .dataframe tbody tr th:only-of-type {\n        vertical-align: middle;\n    }\n\n    .dataframe tbody tr th {\n        vertical-align: top;\n    }\n\n    .dataframe thead th {\n        text-align: right;\n    }\n</style>\n<table border=\"1\" class=\"dataframe\">\n  <thead>\n    <tr style=\"text-align: right;\">\n      <th></th>\n      <th>频数</th>\n      <th>频率</th>\n      <th>累计频率</th>\n      <th>频率%</th>\n      <th>累计频率%</th>\n    </tr>\n  </thead>\n  <tbody>\n    <tr>\n      <th>南北</th>\n      <td>29</td>\n      <td>0.386667</td>\n      <td>0.386667</td>\n      <td>38.67%</td>\n      <td>38.67%</td>\n    </tr>\n    <tr>\n      <th>南</th>\n      <td>20</td>\n      <td>0.266667</td>\n      <td>0.653333</td>\n      <td>26.67%</td>\n      <td>65.33%</td>\n    </tr>\n    <tr>\n      <th>东</th>\n      <td>8</td>\n      <td>0.106667</td>\n      <td>0.760000</td>\n      <td>10.67%</td>\n      <td>76.00%</td>\n    </tr>\n    <tr>\n      <th>东南</th>\n      <td>5</td>\n      <td>0.066667</td>\n      <td>0.826667</td>\n      <td>6.67%</td>\n      <td>82.67%</td>\n    </tr>\n    <tr>\n      <th>西南</th>\n      <td>4</td>\n      <td>0.053333</td>\n      <td>0.880000</td>\n      <td>5.33%</td>\n      <td>88.00%</td>\n    </tr>\n    <tr>\n      <th>北</th>\n      <td>4</td>\n      <td>0.053333</td>\n      <td>0.933333</td>\n      <td>5.33%</td>\n      <td>93.33%</td>\n    </tr>\n    <tr>\n      <th>西北</th>\n      <td>3</td>\n      <td>0.040000</td>\n      <td>0.973333</td>\n      <td>4.00%</td>\n      <td>97.33%</td>\n    </tr>\n    <tr>\n      <th>东西</th>\n      <td>1</td>\n      <td>0.013333</td>\n      <td>0.986667</td>\n      <td>1.33%</td>\n      <td>98.67%</td>\n    </tr>\n    <tr>\n      <th>东北</th>\n      <td>1</td>\n      <td>0.013333</td>\n      <td>1.000000</td>\n      <td>1.33%</td>\n      <td>100.00%</td>\n    </tr>\n  </tbody>\n</table>\n</div>"
     },
     "metadata": {},
     "output_type": "execute_result",
     "execution_count": 92
    }
   ],
   "source": [
    "# 频率分布情况 - 定性字段\n",
    "# 1)通过计数统计判断不同类别的频率\n",
    "\n",
    "cx_g = data['朝向'].value_counts(sort=True)\n",
    "print('cx_g:',cx_g,sep='\\n')\n",
    "# 统计频率\n",
    "\n",
    "r_cx = pd.DataFrame(cx_g)\n",
    "r_cx.rename(columns ={cx_g.name:'频数'}, inplace = True)  # 修改频数字段名\n",
    "r_cx['频率'] = r_cx / r_cx['频数'].sum()  # 计算频率\n",
    "r_cx['累计频率'] = r_cx['频率'].cumsum()  # 计算累计频率\n",
    "r_cx['频率%'] = r_cx['频率'].apply(lambda x: \"%.2f%%\" % (x*100))  # 以百分比显示频率\n",
    "r_cx['累计频率%'] = r_cx['累计频率'].apply(lambda x: \"%.2f%%\" % (x*100))  # 以百分比显示累计频率\n",
    "r_cx\n",
    "\n",
    "# r_cx.style.bar(subset=['频率','累计频率'], color='#d65f5f',width=100)  # 可视化显示"
   ],
   "metadata": {
    "collapsed": false,
    "pycharm": {
     "name": "#%%\n",
     "is_executing": false
    }
   }
  },
  {
   "cell_type": "code",
   "execution_count": 93,
   "outputs": [
    {
     "data": {
      "text/plain": "<Figure size 864x144 with 1 Axes>",
      "image/png": "[encoded data removed]"
     },
     "metadata": {
      "needs_background": "light"
     },
     "output_type": "display_data"
    },
    {
     "data": {
      "text/plain": "<Figure size 432x288 with 1 Axes>",
      "image/png": "[encoded data removed]"
     },
     "metadata": {},
     "output_type": "display_data"
    }
   ],
   "source": [
    "# 频率分布情况 - 定性字段\n",
    "# 2)绘制频率直方图、饼图\n",
    "\n",
    "plt.figure(num = 1,figsize = (12,2))\n",
    "# 绘制直方图\n",
    "r_cx['频率'].plot(kind = 'bar',\n",
    "                 width = 0.8,\n",
    "                 rot = 0,\n",
    "                 color = 'k',\n",
    "                 grid = True,\n",
    "                 alpha = 0.5)\n",
    "plt.title('参考总价分布频率直方图')\n",
    "\n",
    "\n",
    "plt.figure(num = 2)\n",
    "# 绘制饼图\n",
    "plt.pie(r_cx['频数'],\n",
    "       labels = r_cx.index,\n",
    "       autopct='%.2f%%',\n",
    "       shadow = True)\n",
    "plt.axis('equal')\n",
    "\n",
    "plt.show()"
   ],
   "metadata": {
    "collapsed": false,
    "pycharm": {
     "name": "#%%\n",
     "is_executing": false
    }
   }
  }
 ],
 "metadata": {
  "kernelspec": {
   "display_name": "Python 3",
   "language": "python",
   "name": "python3"
  },
  "language_info": {
   "codemirror_mode": {
    "name": "ipython",
    "version": 2
   },
   "file_extension": ".py",
   "mimetype": "text/x-python",
   "name": "python",
   "nbconvert_exporter": "python",
   "pygments_lexer": "ipython2",
   "version": "2.7.6"
  },
  "pycharm": {
   "stem_cell": {
    "cell_type": "raw",
    "source": [],
    "metadata": {
     "collapsed": false
    }
   }
  }
 },
 "nbformat": 4,
 "nbformat_minor": 0
}