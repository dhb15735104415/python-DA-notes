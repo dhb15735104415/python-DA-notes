{
 "cells": [
  {
   "cell_type": "code",
   "execution_count": 1,
   "metadata": {
    "collapsed": true,
    "pycharm": {
     "is_executing": false
    }
   },
   "outputs": [
    {
     "data": {
      "text/plain": "'\\n     Pandas时期：Period 时期表示的是时间区间，比如数日、数月、数季、数年等\\n\\n    核心：pd.Period()  \\n'"
     },
     "metadata": {},
     "output_type": "execute_result",
     "execution_count": 1
    }
   ],
   "source": [
    "'''\n",
    "     Pandas时期：Period 时期表示的是时间区间，比如数日、数月、数季、数年等\n",
    "\n",
    "    核心：pd.Period()  \n",
    "'''"
   ]
  },
  {
   "cell_type": "code",
   "execution_count": 3,
   "outputs": [],
   "source": [
    "import numpy as np\n",
    "import pandas as pd\n"
   ],
   "metadata": {
    "collapsed": false,
    "pycharm": {
     "name": "#%%\n",
     "is_executing": false
    }
   }
  },
  {
   "cell_type": "code",
   "execution_count": 19,
   "outputs": [
    {
     "name": "stdout",
     "text": [
      "p: 2019-01\n",
      "type(p): <class 'pandas._libs.tslibs.period.Period'>\n",
      "p+10: 2019-11\n",
      "p-5: 2018-08\n",
      "p2: 2019\n",
      "time_unit: <5 * YearEnds: month=12>\n",
      "time_unit2: <12 * MonthEnds>\n"
     ],
     "output_type": "stream"
    }
   ],
   "source": [
    "# pd.Period()创建时期\n",
    "# pd.Period()参数：一个时间戳 + freq 参数 → freq 用于指明该 period 的长度，\n",
    "# 时间戳则说明该 period 在时间轴上的位置\n",
    "\n",
    "# 生成一个以2019-01开始，月为频率的时间构造器\n",
    "p = pd.Period('2019', freq='M')  \n",
    "print('p:',p)\n",
    "print('type(p):',type(p))\n",
    "\n",
    "# 通过加减整数可以实现对Period的移动\n",
    "print('p+10:',(p + 10))\n",
    "print('p-5:',(p - 5))\n",
    "\n",
    "# 表示以12月作为结束的一整年，这里表示从2019-01-01到2019-12-31的全年\n",
    "p2 = pd.Period('2019', freq='A-DEC')\n",
    "print('p2:',p2)\n",
    "\n",
    "# 如果两个Period对象拥有相同频率，则它们的差就是它们之间的单位数量\n",
    "time_unit = p2 - pd.Period('2014',freq='A-DEC')\n",
    "print('time_unit:',time_unit)  # <5 * YearEnds: month=12>\n",
    "\n",
    "time_unit2 = p - pd.Period('2018',freq='M')\n",
    "print('time_unit2:',time_unit2)   # <12 * MonthEnds>"
   ],
   "metadata": {
    "collapsed": false,
    "pycharm": {
     "name": "#%%\n",
     "is_executing": false
    }
   }
  },
  {
   "cell_type": "code",
   "execution_count": 39,
   "outputs": [
    {
     "name": "stdout",
     "text": [
      "prng: PeriodIndex(['2018-06', '2018-07', '2018-08', '2018-09', '2018-10', '2018-11',\n",
      "             '2018-12', '2019-01', '2019-02', '2019-03', '2019-04', '2019-05',\n",
      "             '2019-06'],\n",
      "            dtype='period[M]', freq='M')\n",
      "2018-06 <class 'pandas._libs.tslibs.period.Period'>\n",
      "----------------------------------------------\n",
      "ts:\n",
      "2018-06    0.663469\n",
      "2018-07   -0.347156\n",
      "2018-08    0.505840\n",
      "2018-09   -0.702328\n",
      "2018-10   -0.019975\n",
      "2018-11    0.469174\n",
      "2018-12   -2.302109\n",
      "2019-01    0.010164\n",
      "2019-02    0.424886\n",
      "2019-03    2.156560\n",
      "2019-04   -1.480768\n",
      "2019-05    0.662125\n",
      "2019-06    0.155197\n",
      "Freq: M, dtype: float64\n",
      "type(ts):\n",
      "<class 'pandas.core.series.Series'>\n",
      "ts.index:\n",
      "PeriodIndex(['2018-06', '2018-07', '2018-08', '2018-09', '2018-10', '2018-11',\n",
      "             '2018-12', '2019-01', '2019-02', '2019-03', '2019-04', '2019-05',\n",
      "             '2019-06'],\n",
      "            dtype='period[M]', freq='M')\n",
      "index: PeriodIndex(['2019Q1', '2019Q1', '2019Q3', '2019Q4'], dtype='period[Q-DEC]', freq='Q-DEC')\n"
     ],
     "output_type": "stream"
    }
   ],
   "source": [
    "# period_range函数可用于创建规则的时期范围\n",
    "\n",
    "# 创建从2001-01-01到2000-06-30所有月份的Period\n",
    "prng = pd.period_range('6/1/2018','6/30/2019',freq='M') \n",
    "print('prng:',prng)   # 数据格式为PeriodIndex\n",
    "print(prng[0],type(prng[0]))  # 单个数值为Period\n",
    "\n",
    "print('----------------------------------------------')\n",
    "# 时间序列\n",
    "ts = pd.Series(np.random.randn(len(prng)),index=prng) \n",
    "print('ts:',ts,sep='\\n')\n",
    "print('type(ts):',type(ts),sep='\\n')\n",
    "print('ts.index:',ts.index,sep='\\n')\n",
    "# Timestamp表示一个时间戳，是一个时间截面 \n",
    "# Period表示一个时期，是一个时间段！！但两者作为index时区别不大\n",
    "\n",
    "# PeriodIndex类的构造函数允许直接使用一组字符串表示一段时期\n",
    "values = ['2019','2019-03','2019-09','2019-12']   # 只写'2019',默认以Q1算\n",
    "index = pd.PeriodIndex(values, freq='Q-DEC')   # Q-DEC：指定12月为季度末，每个季度末最后一月的最后一个日历日\n",
    "print('index:',index)"
   ],
   "metadata": {
    "collapsed": false,
    "pycharm": {
     "name": "#%%\n",
     "is_executing": false
    }
   }
  },
  {
   "cell_type": "code",
   "execution_count": 60,
   "outputs": [
    {
     "name": "stdout",
     "text": [
      "p: 2019\n",
      "p.asfreq('M',how='start'): 2019-01\n",
      "p.asfreq('M',how='end'): 2019-12\n",
      "p.asfreq('D',how='start'): 2019-01-01\n",
      "rng:\n",
      "DatetimeIndex(['2018-01-31', '2018-02-28', '2018-03-31', '2018-04-30',\n",
      "               '2018-05-31', '2018-06-30', '2018-07-31', '2018-08-31',\n",
      "               '2018-09-30', '2018-10-31', '2018-11-30', '2018-12-31'],\n",
      "              dtype='datetime64[ns]', freq='M')\n",
      "ts:\n",
      "2018-01-31    0.874591\n",
      "2018-02-28    0.059166\n",
      "2018-03-31    0.401321\n",
      "2018-04-30    0.912694\n",
      "2018-05-31    0.585810\n",
      "2018-06-30    0.866380\n",
      "2018-07-31    0.048322\n",
      "2018-08-31    0.548327\n",
      "2018-09-30    0.269814\n",
      "2018-10-31    0.829351\n",
      "2018-11-30    0.439449\n",
      "2018-12-31    0.853334\n",
      "Freq: M, dtype: float64\n",
      "频率转换为季度末:\n",
      "2018-03-31    0.401321\n",
      "2018-06-30    0.866380\n",
      "2018-09-30    0.269814\n",
      "2018-12-31    0.853334\n",
      "Freq: Q-DEC, dtype: float64\n"
     ],
     "output_type": "stream"
    }
   ],
   "source": [
    "# 时期的频率转换-asfreq\n",
    "\n",
    "p = pd.Period('2019',freq='A-DEC') # 2019年1月1日到2019年12月31日\n",
    "print('p:',p)\n",
    "# 将频率为年(20190101-20191231)转换频率为月2019-01 或者 2019-12\n",
    "print(\"p.asfreq('M',how='start'):\",p.asfreq('M',how='start'))  # 也可以写:how='s'  规范推荐写start\n",
    "print(\"p.asfreq('M',how='end'):\",p.asfreq('M',how='end'))\n",
    "\n",
    "# 将频率为年(20190101-20191231)转换频率为天2019-01-01\n",
    "print(\"p.asfreq('D',how='start'):\",p.asfreq('D',how='start'))  \n",
    "\n",
    "# 对于PeriodIndex或TimeSeries的频率转换方式相同  (index)\n",
    "rng = pd.date_range('2018','2019',freq='M')  # M：每月最后一个日历日\n",
    "print('rng:',rng,sep='\\n')\n",
    "ts = pd.Series(np.random.rand(len(rng)),index=rng)\n",
    "print('ts:',ts,sep='\\n')\n",
    "\n",
    "print('频率转换为季度末:',ts.asfreq('Q-DEC',how='start'),sep='\\n')"
   ],
   "metadata": {
    "collapsed": false,
    "pycharm": {
     "name": "#%%\n",
     "is_executing": false
    }
   }
  },
  {
   "cell_type": "code",
   "execution_count": 78,
   "outputs": [
    {
     "name": "stdout",
     "text": [
      "ts:\n",
      "2019-01-31   -0.633046\n",
      "2019-02-28    0.864475\n",
      "2019-03-31   -0.391862\n",
      "2019-04-30   -1.804254\n",
      "2019-05-31   -2.919936\n",
      "2019-06-30    0.571848\n",
      "Freq: M, dtype: float64\n",
      "ts.period():\n",
      "2019-01   -0.633046\n",
      "2019-02    0.864475\n",
      "2019-03   -0.391862\n",
      "2019-04   -1.804254\n",
      "2019-05   -2.919936\n",
      "2019-06    0.571848\n",
      "Freq: M, dtype: float64\n",
      "以天为频率:\n",
      "2019-01-29    0.389471\n",
      "2019-01-30    0.350165\n",
      "2019-01-31   -0.744531\n",
      "2019-02-01    0.504262\n",
      "2019-02-02   -1.278724\n",
      "2019-02-03   -0.684223\n",
      "Freq: D, dtype: float64\n",
      "转换为时间段频率to_period('M')\n",
      "2019-01    0.389471\n",
      "2019-01    0.350165\n",
      "2019-01   -0.744531\n",
      "2019-02    0.504262\n",
      "2019-02   -1.278724\n",
      "2019-02   -0.684223\n",
      "Freq: M, dtype: float64\n",
      "pts.to_timestamp():\n",
      "2019-01-01   -0.633046\n",
      "2019-02-01    0.864475\n",
      "2019-03-01   -0.391862\n",
      "2019-04-01   -1.804254\n",
      "2019-05-01   -2.919936\n",
      "2019-06-01    0.571848\n",
      "Freq: MS, dtype: float64\n"
     ],
     "output_type": "stream"
    }
   ],
   "source": [
    "# 时间戳与时期之间的转换：pd.to_period()、pd.to_timestamp()\n",
    "\n",
    "# 通过to_period方法,可以将时间戳(timestamp)索引的Series和DataFrame对象转换为以时期(period)索引\n",
    "rng = pd.date_range('1/1/2019', periods=6, freq='M')  # M：每月最后一个日历日\n",
    "ts = pd.Series(np.random.randn(len(rng)),index=rng)\n",
    "print('ts:',ts,sep='\\n')\n",
    "\n",
    "print('ts.period():',ts.to_period(),sep='\\n')\n",
    "\n",
    "# 将timestamp转换为period是运行重复的  \n",
    "# 常见以短时间段作为频率,如下,以天为频率,如果转为月则会有重复值,实际不会这么使用\n",
    "rng = pd.date_range('1/29/2019',periods=6,freq='D')\n",
    "ts2 = pd.Series(np.random.randn(6),index=rng)\n",
    "print('以天为频率:',ts2,sep='\\n')\n",
    "print(\"转换为时间段频率to_period('M')\",ts2.to_period('M'),sep='\\n')  # 结果有重复的\n",
    "\n",
    "# to_timestamp可以将period转换为timestamp\n",
    "pts = ts.to_period()  # 每月为频率\n",
    "print('pts.to_timestamp():',pts.to_timestamp(),sep='\\n')  # 转换为天为频率,默认为每月第一天"
   ],
   "metadata": {
    "collapsed": false,
    "pycharm": {
     "name": "#%%\n",
     "is_executing": false
    }
   }
  },
  {
   "cell_type": "code",
   "execution_count": 88,
   "outputs": [
    {
     "name": "stdout",
     "text": [
      "通过数组创建PeriodIndex:\n",
      "PeriodIndex(['2017Q1', '2017Q2', '2017Q3', '2017Q4', '2018Q1', '2018Q2',\n",
      "             '2018Q3', '2018Q4'],\n",
      "            dtype='period[Q-DEC]', freq='Q-DEC')\n"
     ],
     "output_type": "stream"
    }
   ],
   "source": [
    "# 通过数组创建PeriodIndex\n",
    "\n",
    "# 某些数据集中时间信息是分开在多个列存放的，可以通过PeriodIndex的参数将这些列组合在一起\n",
    "year = [2017,2017,2017,2017,2018,2018,2018,2018]\n",
    "quarter = [1,2,3,4,1,2,3,4]\n",
    "index = pd.PeriodIndex(year=year,quarter=quarter,freq='Q-DEC')\n",
    "print('通过数组创建PeriodIndex:',index,sep='\\n')\n",
    "\n",
    "\n"
   ],
   "metadata": {
    "collapsed": false,
    "pycharm": {
     "name": "#%%\n",
     "is_executing": false
    }
   }
  }
 ],
 "metadata": {
  "kernelspec": {
   "display_name": "Python 3",
   "language": "python",
   "name": "python3"
  },
  "language_info": {
   "codemirror_mode": {
    "name": "ipython",
    "version": 2
   },
   "file_extension": ".py",
   "mimetype": "text/x-python",
   "name": "python",
   "nbconvert_exporter": "python",
   "pygments_lexer": "ipython2",
   "version": "2.7.6"
  },
  "pycharm": {
   "stem_cell": {
    "cell_type": "raw",
    "source": [],
    "metadata": {
     "collapsed": false
    }
   }
  }
 },
 "nbformat": 4,
 "nbformat_minor": 0
}