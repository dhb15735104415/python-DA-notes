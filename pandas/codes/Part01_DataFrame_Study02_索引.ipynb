{
 "cells": [
  {
   "cell_type": "code",
   "execution_count": 1,
   "metadata": {
    "collapsed": true,
    "pycharm": {
     "is_executing": false
    }
   },
   "outputs": [
    {
     "data": {
      "text/plain": "'\\n     Pandas数据结构Dataframe：索引\\n\\n    Dataframe既有行索引也有列索引，可以被看做由Series组成的字典（共用一个索引）\\n\\n    选择列 / 选择行 / 切片 / 布尔判断\\n'"
     },
     "metadata": {},
     "output_type": "execute_result",
     "execution_count": 1
    }
   ],
   "source": [
    "'''\n",
    "     Pandas数据结构Dataframe：索引\n",
    "\n",
    "    Dataframe既有行索引也有列索引，可以被看做由Series组成的字典（共用一个索引）\n",
    "\n",
    "    选择列 / 选择行 / 切片 / 布尔判断\n",
    "'''"
   ]
  },
  {
   "cell_type": "code",
   "execution_count": 2,
   "outputs": [],
   "source": [
    "import numpy as np\n",
    "import pandas as pd\n"
   ],
   "metadata": {
    "collapsed": false,
    "pycharm": {
     "name": "#%%\n",
     "is_executing": false
    }
   }
  },
  {
   "cell_type": "code",
   "execution_count": 11,
   "outputs": [
    {
     "name": "stdout",
     "text": [
      "               a          b          c          d\n",
      "one    59.524572  55.717675   8.140609  16.005705\n",
      "two    37.532983  22.805866  11.220946  81.270835\n",
      "three  61.182367  29.829048  16.281012  98.101248\n",
      "data1:one      59.524572\n",
      "two      37.532983\n",
      "three    61.182367\n",
      "Name: a, dtype: float64---type(data1):<class 'pandas.core.series.Series'>\n",
      "data2:               a          b\n",
      "one    59.524572  55.717675\n",
      "two    37.532983  22.805866\n",
      "three  61.182367  29.829048---type(data2):<class 'pandas.core.frame.DataFrame'>\n",
      "------------------------------------\n",
      "data3:a    59.524572\n",
      "b    55.717675\n",
      "c     8.140609\n",
      "d    16.005705\n",
      "Name: one, dtype: float64---type(data3):<class 'pandas.core.series.Series'>\n",
      "data4:             a          b          c          d\n",
      "one  59.524572  55.717675   8.140609  16.005705\n",
      "two  37.532983  22.805866  11.220946  81.270835---type(data4):<class 'pandas.core.frame.DataFrame'>\n"
     ],
     "output_type": "stream"
    }
   ],
   "source": [
    "# 选择行与列\n",
    "df = pd.DataFrame(np.random.rand(12).reshape(3,4)*100,\n",
    "                  index=['one','two','three'],\n",
    "                  columns=list('abcd'))\n",
    "print(df)\n",
    "\n",
    "# 按照列名选择列，只选择一列输出Series，选择多列输出Dataframe\n",
    "data1 = df['a']  # 返回的是Series\n",
    "print(f'data1:{data1}---type(data1):{type(data1)}')\n",
    "\n",
    "data2 = df[['a','b']]  # 返回的是DataFrame\n",
    "print(f'data2:{data2}---type(data2):{type(data2)}')\n",
    "print('------------------------------------')\n",
    "# 按照index选择行，只选择一行输出Series，选择多行输出Dataframe\n",
    "data3 = df.loc['one']\n",
    "print(f'data3:{data3}---type(data3):{type(data3)}')\n",
    "\n",
    "data4 = df.loc[['one','two']]\n",
    "print(f'data4:{data4}---type(data4):{type(data4)}')"
   ],
   "metadata": {
    "collapsed": false,
    "pycharm": {
     "name": "#%%\n",
     "is_executing": false
    }
   }
  },
  {
   "cell_type": "code",
   "execution_count": 20,
   "outputs": [
    {
     "name": "stdout",
     "text": [
      "               a          b          c          d\n",
      "one    41.770857  29.254266  18.961108  38.232884\n",
      "two    93.129053   9.532206  79.830410  56.219493\n",
      "three  98.963902  79.218648  47.563676  95.508355\n",
      "--------------------------------\n",
      "data1:\n",
      "one      41.770857\n",
      "two      93.129053\n",
      "three    98.963902\n",
      "Name: a, dtype: float64\n",
      "data2:\n",
      "               b          c\n",
      "one    29.254266  18.961108\n",
      "two     9.532206  79.830410\n",
      "three  79.218648  47.563676\n",
      "data4:\n",
      "               a          b          c          d\n",
      "three  98.963902  79.218648  47.563676  95.508355\n",
      "type(data4): <class 'pandas.core.frame.DataFrame'>\n"
     ],
     "output_type": "stream"
    }
   ],
   "source": [
    "# df[col]   []中写列名,一般用于选择列，也可以选择行\n",
    "\n",
    "df = pd.DataFrame(np.random.rand(12).reshape(3,4)*100,\n",
    "                   index = ['one','two','three'],\n",
    "                   columns = ['a','b','c','d'])\n",
    "print(df)\n",
    "print('--------------------------------')\n",
    "\n",
    "# df[]默认选择列，[]中写列名（所以一般数据colunms都会单独制定，不会用默认数字列名，以免和index冲突）\n",
    "# 单选列为Series，print结果为Series格式\n",
    "# 多选列为Dataframe，print结果为Dataframe格式\n",
    "data1 = df['a']\n",
    "data2 = df[['b','c']]  # 尝试输入 data2 = df[['b','c','e']]\n",
    "print('data1:',data1,sep='\\n')\n",
    "print('data2:',data2,sep='\\n')\n",
    "\n",
    "\n",
    "# df[]中为数字时，默认选择行，且只能进行切片的选择，不能单独选择（df[0]）\n",
    "# 输出结果为Dataframe，即便只选择一行\n",
    "# df[]不能通过索引标签名来选择行(df['one']) 应该为 df.loc['one']\n",
    "\n",
    "# data3 = df[2]\n",
    "# 不能单独选择,报错为:KeyError: 2\n",
    "\n",
    "data4 = df[2:]  # 数字,切片,选择行\n",
    "print('data4:',data4,sep='\\n')\n",
    "print('type(data4):',type(data4))\n"
   ],
   "metadata": {
    "collapsed": false,
    "pycharm": {
     "name": "#%%\n",
     "is_executing": false
    }
   }
  },
  {
   "cell_type": "code",
   "execution_count": 41,
   "outputs": [
    {
     "name": "stdout",
     "text": [
      "df1:\n",
      "               a          b          c          d\n",
      "one    36.309989  70.974033  50.147612   5.464923\n",
      "two    17.784274  48.618331  34.888646  80.887257\n",
      "three   3.645267  54.571100  40.413687  80.970206\n",
      "four   40.592083  64.470108  80.797844  41.378309\n",
      "df2:\n",
      "           a          b          c          d\n",
      "0  55.305429  85.568787  52.392482  66.049958\n",
      "1  50.338716  52.158006  91.504786  57.914425\n",
      "2  19.079261  84.865653  16.220635  80.636807\n",
      "3  58.063007  92.839389  40.500828  27.648786\n",
      "单标签索引\n",
      "-----\n",
      "data1:\n",
      "a    36.309989\n",
      "b    70.974033\n",
      "c    50.147612\n",
      "d     5.464923\n",
      "Name: one, dtype: float64\n",
      "data2:\n",
      "a    55.305429\n",
      "b    85.568787\n",
      "c    52.392482\n",
      "d    66.049958\n",
      "Name: 0, dtype: float64\n",
      "多标签索引\n",
      "-----\n",
      "data3:\n",
      "                  a          b          c          d\n",
      "two       17.784274  48.618331  34.888646  80.887257\n",
      "one       36.309989  70.974033  50.147612   5.464923\n",
      "notExist        NaN        NaN        NaN        NaN\n",
      "data4:\n",
      "           a          b          c          d\n",
      "3  58.063007  92.839389  40.500828  27.648786\n",
      "2  19.079261  84.865653  16.220635  80.636807\n",
      "1  50.338716  52.158006  91.504786  57.914425\n",
      "切片索引\n",
      "data5:\n",
      "               a          b          c          d\n",
      "one    36.309989  70.974033  50.147612   5.464923\n",
      "two    17.784274  48.618331  34.888646  80.887257\n",
      "three   3.645267  54.571100  40.413687  80.970206\n",
      "data6:\n",
      "           a          b          c          d\n",
      "1  50.338716  52.158006  91.504786  57.914425\n",
      "2  19.079261  84.865653  16.220635  80.636807\n",
      "3  58.063007  92.839389  40.500828  27.648786\n"
     ],
     "output_type": "stream"
    },
    {
     "name": "stderr",
     "text": [
      "f:\\language\\python\\lib\\site-packages\\ipykernel_launcher.py:24: FutureWarning: \n",
      "Passing list-likes to .loc or [] with any missing label will raise\n",
      "KeyError in the future, you can use .reindex() as an alternative.\n",
      "\n",
      "See the documentation here:\n",
      "https://pandas.pydata.org/pandas-docs/stable/indexing.html#deprecate-loc-reindex-listlike\n"
     ],
     "output_type": "stream"
    }
   ],
   "source": [
    "# df.loc[label]主要针对index选择行，同时支持指定index，及默认数字index\n",
    "\n",
    "df1 = pd.DataFrame(np.random.rand(16).reshape(4,4)*100,\n",
    "                   index = ['one','two','three','four'],\n",
    "                   columns = ['a','b','c','d'])\n",
    "df2 = pd.DataFrame(np.random.rand(16).reshape(4,4)*100,\n",
    "                   columns = ['a','b','c','d'])\n",
    "print('df1:',df1,sep='\\n')\n",
    "print('df2:',df2,sep='\\n')\n",
    "\n",
    "\n",
    "print('单标签索引\\n-----')\n",
    "# 单个标签索引，返回Series\n",
    "data1 = df1.loc['one']\n",
    "print('data1:',data1,sep='\\n')\n",
    "\n",
    "data2 = df2.loc[0]\n",
    "print('data2:',data2,sep='\\n')\n",
    "\n",
    "\n",
    "print('多标签索引\\n-----')\n",
    "# 多个标签索引，如果标签不存在，则返回NaN\n",
    "# 顺序可变\n",
    "data3 = df1.loc[['two','one','notExist']]\n",
    "print('data3:',data3,sep='\\n')\n",
    "\n",
    "data4 = df2.loc[[3,2,1]]\n",
    "print('data4:',data4,sep='\\n')\n",
    "\n",
    "\n",
    "print('切片索引')\n",
    "# 切片索引 可以做切片对象\n",
    "# 末端包含\n",
    "data5 = df1.loc['one':'three']\n",
    "print('data5:',data5,sep='\\n')\n",
    "\n",
    "data6 = df2.loc[1:3]\n",
    "print('data6:',data6,sep='\\n')"
   ],
   "metadata": {
    "collapsed": false,
    "pycharm": {
     "name": "#%%\n",
     "is_executing": false
    }
   }
  },
  {
   "cell_type": "code",
   "execution_count": 56,
   "outputs": [
    {
     "name": "stdout",
     "text": [
      "               a          b          c          d\n",
      "one    42.917386  44.913823  94.049444  17.956989\n",
      "two    27.552968  75.272542  93.942579  91.940440\n",
      "three  90.787196   7.657909  55.882408   1.334855\n",
      "four   74.697755  28.769311  96.371018  91.701468\n",
      "-----------------------------------------------\n",
      "单位置索引-----\n",
      "data1:\n",
      "a    42.917386\n",
      "b    44.913823\n",
      "c    94.049444\n",
      "d    17.956989\n",
      "Name: one, dtype: float64\n",
      "type(data1): <class 'pandas.core.series.Series'>\n",
      "多位置索引-----\n",
      "df.iloc[[0,2]]:\n",
      "               a          b          c          d\n",
      "one    42.917386  44.913823  94.049444  17.956989\n",
      "three  90.787196   7.657909  55.882408   1.334855\n",
      "df.iloc[[3,2,1]]:\n",
      "               a          b          c          d\n",
      "four   74.697755  28.769311  96.371018  91.701468\n",
      "three  90.787196   7.657909  55.882408   1.334855\n",
      "two    27.552968  75.272542  93.942579  91.940440\n",
      "切片索引-----\n",
      "df.iloc[1:3]:\n",
      "               a          b          c          d\n",
      "two    27.552968  75.272542  93.942579  91.940440\n",
      "three  90.787196   7.657909  55.882408   1.334855\n",
      "df.iloc[::2]:\n",
      "               a          b          c          d\n",
      "one    42.917386  44.913823  94.049444  17.956989\n",
      "three  90.787196   7.657909  55.882408   1.334855\n"
     ],
     "output_type": "stream"
    }
   ],
   "source": [
    "# df.iloc[] - 按照整数位置（从轴的0到length-1）选择行\n",
    "# 类似list的索引，其顺序就是dataframe的整数位置，从0开始计\n",
    "\n",
    "df = pd.DataFrame(np.random.rand(16).reshape(4,4)*100,\n",
    "                   index = ['one','two','three','four'],\n",
    "                   columns = ['a','b','c','d'])\n",
    "print(df)\n",
    "print('-----------------------------------------------')\n",
    "\n",
    "print('单位置索引-----')\n",
    "# 单位置索引,返回Series\n",
    "data1 = df.iloc[0]\n",
    "print('data1:',data1,sep='\\n')\n",
    "print('type(data1):',type(data1))\n",
    "\n",
    "print('多位置索引-----')\n",
    "# 多位置索引  顺序可变\n",
    "print('df.iloc[[0,2]]:',df.iloc[[0,2]],sep='\\n')\n",
    "print('df.iloc[[3,2,1]]:',df.iloc[[3,2,1]],sep='\\n')\n",
    "\n",
    "print('切片索引-----')\n",
    "# 切片索引\n",
    "# 末端不包含 按照整数位置（从轴的0到length-1）选择行  但是 loc[n:m]是末端包含的 注意区别\n",
    "print('df.iloc[1:3]:',df.iloc[1:3],sep='\\n')\n",
    "print('df.iloc[::2]:',df.iloc[::2],sep='\\n')"
   ],
   "metadata": {
    "collapsed": false,
    "pycharm": {
     "name": "#%%\n",
     "is_executing": false
    }
   }
  },
  {
   "cell_type": "code",
   "execution_count": 75,
   "outputs": [
    {
     "name": "stdout",
     "text": [
      "               a          b          c          d\n",
      "one    80.877372  21.484370  51.119562  48.024357\n",
      "two    69.144856  64.568690  15.385662  94.205065\n",
      "three  26.315537  67.672672  77.320084  64.502198\n",
      "four   44.059774  63.587926  57.581944  55.132572\n",
      "-------------------------------------------------\n",
      "df < 20为:\n",
      "           a      b      c      d\n",
      "one    False  False  False  False\n",
      "two    False  False   True  False\n",
      "three  False  False  False  False\n",
      "four   False  False  False  False\n",
      "type(b1):\n",
      "<class 'pandas.core.frame.DataFrame'>\n",
      "df[b1]为:\n",
      "        a   b          c   d\n",
      "one   NaN NaN        NaN NaN\n",
      "two   NaN NaN  15.385662 NaN\n",
      "three NaN NaN        NaN NaN\n",
      "four  NaN NaN        NaN NaN\n",
      "------单列做判断-------\n",
      "df['a'] > 50:\n",
      "one       True\n",
      "two       True\n",
      "three    False\n",
      "four     False\n",
      "Name: a, dtype: bool\n",
      "type(b2):\n",
      "<class 'pandas.core.series.Series'>\n",
      "df[b2]:\n",
      "             a         b          c          d\n",
      "one  80.877372  21.48437  51.119562  48.024357\n",
      "two  69.144856  64.56869  15.385662  94.205065\n",
      "------多列做判断-------\n",
      "df[['a','c']] > 50:\n",
      "           a      c\n",
      "one     True   True\n",
      "two     True  False\n",
      "three  False   True\n",
      "four   False   True\n",
      "df[b3]:\n",
      "               a   b          c   d\n",
      "one    80.877372 NaN  51.119562 NaN\n",
      "two    69.144856 NaN        NaN NaN\n",
      "three        NaN NaN  77.320084 NaN\n",
      "four         NaN NaN  57.581944 NaN\n",
      "------多行  做判断-------\n",
      "df.loc[['one','two']]:\n",
      "        a      b      c      d\n",
      "one  True  False   True  False\n",
      "two  True   True  False   True\n",
      "df[b4]:\n",
      "               a         b          c          d\n",
      "one    80.877372       NaN  51.119562        NaN\n",
      "two    69.144856  64.56869        NaN  94.205065\n",
      "three        NaN       NaN        NaN        NaN\n",
      "four         NaN       NaN        NaN        NaN\n"
     ],
     "output_type": "stream"
    }
   ],
   "source": [
    "# 布尔型索引\n",
    "# 和Series原理相同\n",
    "\n",
    "df = pd.DataFrame(np.random.rand(16).reshape(4,4)*100,\n",
    "                   index = ['one','two','three','four'],\n",
    "                   columns = ['a','b','c','d'])\n",
    "print(df)\n",
    "print('-------------------------------------------------')\n",
    "\n",
    "# 不做索引则会对数据每个值进行判断\n",
    "b1 = df < 20\n",
    "print('df < 20为:',b1, sep='\\n')\n",
    "print('type(b1):',type(b1),sep='\\n')\n",
    "# 索引结果保留 所有数据：True返回原数据，False返回值为NaN\n",
    "print('df[b1]为:',df[b1],sep='\\n')\n",
    "\n",
    "print('------单列做判断-------')\n",
    "# 单列做判断\n",
    "b2 = df['a'] > 50\n",
    "print(\"df['a'] > 50:\",b2,sep='\\n')\n",
    "print(\"type(b2):\",type(b2),sep='\\n')\n",
    "# 索引结果保留 单列判断为True的行数据，包括其他列\n",
    "print('df[b2]:',df[b2],sep='\\n')  \n",
    "\n",
    "print('------多列做判断-------')\n",
    "# 多列做判断\n",
    "b3 = df[['a','c']] > 50\n",
    "print(\"df[['a','c']] > 50:\",b3,sep='\\n')\n",
    "# 索引结果只保留参与索引的所有数据:True返回原数据，False返回值为NaN,其他索引的数据都为NaN：\n",
    "print('df[b3]:',df[b3],sep='\\n')\n",
    "\n",
    "print('------多行  做判断-------')\n",
    "# 多行做判断\n",
    "b4 = df.loc[['one','two']] > 50\n",
    "print(\"df.loc[['one','two']]:\",b4,sep='\\n')\n",
    "# 索引结果只保留参与索引的所有数据:True返回原数据，False返回值为NaN,其他索引的数据都为NaN：\n",
    "print('df[b4]:',df[b4], sep='\\n')"
   ],
   "metadata": {
    "collapsed": false,
    "pycharm": {
     "name": "#%%\n",
     "is_executing": false
    }
   }
  },
  {
   "cell_type": "code",
   "execution_count": 78,
   "outputs": [
    {
     "name": "stdout",
     "text": [
      "               a          b          c          d\n",
      "one    52.164716   8.768123  13.001178   4.599268\n",
      "two    80.018892  95.345254  32.264297  40.074233\n",
      "three  44.609648  26.359517  12.386568  31.980904\n",
      "four   60.447738   6.166816  99.853311  45.179152\n",
      "-------------------------------------------------\n",
      "选择a列的one，three行\n",
      "one      52.164716\n",
      "three    44.609648\n",
      "Name: a, dtype: float64\n",
      "选择b，c，d列的one，three行:\n",
      "               b          c          d\n",
      "one     8.768123  13.001178   4.599268\n",
      "three  26.359517  12.386568  31.980904\n",
      "选择满足判断索引的前两行数据\n",
      "               a          b          c          d\n",
      "three  44.609648  26.359517  12.386568  31.980904\n"
     ],
     "output_type": "stream"
    }
   ],
   "source": [
    "# 多重索引：比如同时索引行和列\n",
    "# 先选择列再选择行 —— 相当于对于一个数据，先筛选字段，再选择数据量\n",
    "df = pd.DataFrame(np.random.rand(16).reshape(4,4)*100,\n",
    "                   index = ['one','two','three','four'],\n",
    "                   columns = ['a','b','c','d'])\n",
    "print(df)\n",
    "print('-------------------------------------------------')\n",
    "data1 = df['a'].loc[['one','three']] \n",
    "print('选择a列的one，three行',data1,sep='\\n')  \n",
    "\n",
    "data2 = df[['b','c','d']].iloc[::2]\n",
    "print('选择b，c，d列的one，three行:',data2,sep='\\n') \n",
    "\n",
    "data3 = df[df['a'] < 50].iloc[:2] # \n",
    "print('选择满足判断索引的前两行数据',data3,sep='\\n')"
   ],
   "metadata": {
    "collapsed": false,
    "pycharm": {
     "name": "#%%\n",
     "is_executing": false
    }
   }
  }
 ],
 "metadata": {
  "kernelspec": {
   "display_name": "Python 3",
   "language": "python",
   "name": "python3"
  },
  "language_info": {
   "codemirror_mode": {
    "name": "ipython",
    "version": 2
   },
   "file_extension": ".py",
   "mimetype": "text/x-python",
   "name": "python",
   "nbconvert_exporter": "python",
   "pygments_lexer": "ipython2",
   "version": "2.7.6"
  },
  "pycharm": {
   "stem_cell": {
    "cell_type": "raw",
    "source": [],
    "metadata": {
     "collapsed": false
    }
   }
  }
 },
 "nbformat": 4,
 "nbformat_minor": 0
}