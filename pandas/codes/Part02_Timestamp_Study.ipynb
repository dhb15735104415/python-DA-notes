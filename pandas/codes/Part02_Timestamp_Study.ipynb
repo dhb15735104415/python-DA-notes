{
 "cells": [
  {
   "cell_type": "code",
   "execution_count": 7,
   "metadata": {
    "collapsed": true,
    "pycharm": {
     "is_executing": false,
     "name": "#%%\n"
    }
   },
   "outputs": [
    {
     "name": "stdout",
     "text": [
      "t1: 2019-12-15 07:53:53.091608\n",
      "type(t1): <class 'pandas._libs.tslibs.timestamps.Timestamp'>\n",
      "t2: 2019-11-13 00:00:00\n"
     ],
     "output_type": "stream"
    }
   ],
   "source": [
    "'''\n",
    "    Pandas时刻数据：Timestamp   时间戳\n",
    "\n",
    "    时刻数据代表时间点，是pandas的数据类型，是将值与时间点相关联的最基本类型的时间序列数据\n",
    "\n",
    "    pandas.Timestamp()\n",
    "'''\n",
    "import datetime\n",
    "import pandas as pd\n",
    "\n",
    "date1 = datetime.datetime.today()\n",
    "date2 = '2019-11-13'\n",
    "t1 = pd.Timestamp(date1)\n",
    "t2 = pd.Timestamp(date2)\n",
    "print('t1:',t1)\n",
    "print('type(t1):',type(t1))  # 数据类型为 pandas的Timestamp\n",
    "print('t2:',t2)"
   ]
  },
  {
   "cell_type": "code",
   "execution_count": 22,
   "outputs": [
    {
     "name": "stdout",
     "text": [
      "t1: 2019-11-13 20:22:22\n",
      "type(t1): <class 'pandas._libs.tslibs.timestamps.Timestamp'>\n",
      "t1: 2019-11-13 20:22:22\n",
      "type(t2): <class 'pandas._libs.tslibs.timestamps.Timestamp'>\n",
      "时间列表t3: DatetimeIndex(['2018-01-01', '2019-11-13', '2019-05-29'], dtype='datetime64[ns]', freq=None)\n",
      "type(t3): <class 'pandas.core.indexes.datetimes.DatetimeIndex'>\n",
      "['2018-1-1', '2019-11-13', '2019-5-29', '头号玩家']\n",
      "t4: Index(['2018-1-1', '2019-11-13', '2019-5-29', '头号玩家'], dtype='object')\n",
      "type(t4): <class 'pandas.core.indexes.base.Index'>\n",
      "t5: DatetimeIndex(['2018-01-01', '2019-11-13', '2019-05-29', 'NaT'], dtype='datetime64[ns]', freq=None)\n",
      "type(t5): <class 'pandas.core.indexes.datetimes.DatetimeIndex'>\n"
     ],
     "output_type": "stream"
    },
    {
     "data": {
      "text/plain": "\"\\n    源码:\\n       errors : {'ignore', 'raise', 'coerce'}, default 'raise'\\n        - If 'raise', then invalid parsing will raise an exception\\n        - If 'coerce', then invalid parsing will be set as NaT\\n        - If 'ignore', then invalid parsing will return the input\\n    coerce:胁迫 迫使\\n\""
     },
     "metadata": {},
     "output_type": "execute_result",
     "execution_count": 22
    }
   ],
   "source": [
    "# pd.to_datetime  多个时间数据转换时间戳索引\n",
    "\n",
    "date1 = datetime.datetime(2019,11,13,20,22,22)\n",
    "date2 = '2020-1-1'\n",
    "\n",
    "# pd.to_datetime()：如果是单个时间数据，转换成pandas的时刻数据，数据类型为Timestamp\n",
    "t1 = pd.to_datetime(date1)\n",
    "t2 = pd.to_datetime(date2)\n",
    "print('t1:',t1)\n",
    "print('type(t1):',type(t1))\n",
    "print('t1:',t1)\n",
    "print('type(t2):',type(t2))\n",
    "\n",
    "# 多个时间数据，将会转换为pandas的DatetimeIndex\n",
    "date_lst = ['2018-1-1','2019-11-13','2019-5-29']\n",
    "t3 = pd.to_datetime(date_lst)\n",
    "print('时间列表t3:',t3)\n",
    "print('type(t3):',type(t3))\n",
    "\n",
    "# 当一组时间序列中夹杂其他格式数据，可用errors参数返回\n",
    "date_lst2 = ['2018-1-1','2019-11-13','2019-5-29','头号玩家']\n",
    "print(date_lst2)\n",
    "\n",
    "# errors = 'ignore':不可解析时返回原始输入，这里就是直接生成一般数组\n",
    "t4 = pd.to_datetime(date_lst2,errors='ignore')\n",
    "print('t4:',t4)  \n",
    "print('type(t4):',type(t4))\n",
    "\n",
    "# errors = 'coerce':不可扩展，缺失值返回NaT（Not a Time），结果认为DatetimeIndex\n",
    "t5 = pd.to_datetime(date_lst2, errors='coerce')\n",
    "print('t5:',t5)  # 结果中,不可解析为时间的值变为NaT\n",
    "print('type(t5):',type(t5))\n",
    "\n",
    "'''\n",
    "    源码:\n",
    "       errors : {'ignore', 'raise', 'coerce'}, default 'raise'\n",
    "        - If 'raise', then invalid parsing will raise an exception\n",
    "        - If 'coerce', then invalid parsing will be set as NaT\n",
    "        - If 'ignore', then invalid parsing will return the input\n",
    "    coerce:胁迫 迫使\n",
    "'''"
   ],
   "metadata": {
    "collapsed": false,
    "pycharm": {
     "name": "#%%\n",
     "is_executing": false
    }
   }
  }
 ],
 "metadata": {
  "kernelspec": {
   "display_name": "Python 3",
   "language": "python",
   "name": "python3"
  },
  "language_info": {
   "codemirror_mode": {
    "name": "ipython",
    "version": 2
   },
   "file_extension": ".py",
   "mimetype": "text/x-python",
   "name": "python",
   "nbconvert_exporter": "python",
   "pygments_lexer": "ipython2",
   "version": "2.7.6"
  },
  "pycharm": {
   "stem_cell": {
    "cell_type": "raw",
    "source": [],
    "metadata": {
     "collapsed": false
    }
   }
  }
 },
 "nbformat": 4,
 "nbformat_minor": 0
}