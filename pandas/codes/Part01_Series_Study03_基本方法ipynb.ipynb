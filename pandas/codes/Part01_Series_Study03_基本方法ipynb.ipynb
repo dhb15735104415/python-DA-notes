{
 "cells": [
  {
   "cell_type": "code",
   "execution_count": 2,
   "metadata": {
    "collapsed": true,
    "pycharm": {
     "is_executing": false
    }
   },
   "outputs": [
    {
     "data": {
      "text/plain": "'\\n     Pandas数据结构Series：基本技巧\\n\\n    数据查看 / 重新索引 / 对齐 / 添加、修改、删除值\\n'"
     },
     "metadata": {},
     "output_type": "execute_result",
     "execution_count": 2
    }
   ],
   "source": [
    "'''\n",
    "     Pandas数据结构Series：基本技巧\n",
    "\n",
    "    数据查看 / 重新索引 / 对齐 / 添加、修改、删除值\n",
    "'''"
   ]
  },
  {
   "cell_type": "code",
   "execution_count": 4,
   "outputs": [],
   "source": [
    "import numpy as np\n",
    "import pandas as pd"
   ],
   "metadata": {
    "collapsed": false,
    "pycharm": {
     "name": "#%%\n",
     "is_executing": false
    }
   }
  },
  {
   "cell_type": "code",
   "execution_count": 9,
   "outputs": [
    {
     "name": "stdout",
     "text": [
      "s.head():\n",
      "0    0.333867\n",
      "1    0.345927\n",
      "2    0.025112\n",
      "3    0.585148\n",
      "4    0.868228\n",
      "5    0.378809\n",
      "6    0.598123\n",
      "7    0.274860\n",
      "8    0.067783\n",
      "9    0.534081\n",
      "dtype: float64\n",
      "s.tail()\n",
      "10    0.646271\n",
      "11    0.645271\n",
      "12    0.282449\n",
      "13    0.749941\n",
      "14    0.918441\n",
      "dtype: float64\n"
     ],
     "output_type": "stream"
    }
   ],
   "source": [
    "# .head()查看头部数据\n",
    "# .tail()查看尾部数据\n",
    "# 默认查看5条\n",
    "\n",
    "s = pd.Series(np.random.rand(15))\n",
    "print('s.head():',s.head(10),sep='\\n')\n",
    "print('s.tail()',s.tail(),sep='\\n')\n"
   ],
   "metadata": {
    "collapsed": false,
    "pycharm": {
     "name": "#%%\n",
     "is_executing": false
    }
   }
  },
  {
   "cell_type": "code",
   "execution_count": 17,
   "outputs": [
    {
     "name": "stdout",
     "text": [
      "a    0.093169\n",
      "b    0.722299\n",
      "c    0.701739\n",
      "d    0.612326\n",
      "e    0.293649\n",
      "dtype: float64\n",
      "s.reindex()后为:\n",
      "c    0.701739\n",
      "d    0.612326\n",
      "e    0.293649\n",
      "b    0.722299\n",
      "a    0.093169\n",
      "f         NaN\n",
      "g         NaN\n",
      "dtype: float64\n",
      "原s并未改变:\n",
      "a    0.093169\n",
      "b    0.722299\n",
      "c    0.701739\n",
      "d    0.612326\n",
      "e    0.293649\n",
      "dtype: float64\n",
      "s.reindex(),填充值后:\n",
      "c     0.701739\n",
      "d     0.612326\n",
      "e     0.293649\n",
      "b     0.722299\n",
      "a    0.0931692\n",
      "f          填充值\n",
      "g          填充值\n",
      "dtype: object\n"
     ],
     "output_type": "stream"
    }
   ],
   "source": [
    "# 重新索引reindex  返回一个新Series,原Series不变\n",
    "# .reindex将会根据索引重新排序，如果当前索引不存在，则引入缺失值\n",
    "s = pd.Series(np.random.rand((5)), index=list('abcde'))\n",
    "print(s)\n",
    "\n",
    "s1 = s.reindex(list('cdebafg'))\n",
    "print('s.reindex()后为:',s1,sep='\\n')\n",
    "print('原s并未改变:',s,sep='\\n')\n",
    "# .reindex()中也是写列表\n",
    "# 这里'f','g'索引不存在，所以值为NaN\n",
    "\n",
    "# fill_value参数：填充缺失值的值\n",
    "s2 = s.reindex(list('cdebafg'), fill_value='填充值')\n",
    "print('s.reindex(),填充值后:',s2,sep='\\n')"
   ],
   "metadata": {
    "collapsed": false,
    "pycharm": {
     "name": "#%%\n",
     "is_executing": false
    }
   }
  },
  {
   "cell_type": "code",
   "execution_count": 20,
   "outputs": [
    {
     "name": "stdout",
     "text": [
      "s1:\n",
      "one      0.026509\n",
      "two      0.186253\n",
      "three    0.185978\n",
      "dtype: float64\n",
      "s2:\n",
      "four    0.885822\n",
      "one     0.939412\n",
      "two     0.780858\n",
      "dtype: float64\n",
      "s1+s2:\n",
      "four          NaN\n",
      "one      0.965921\n",
      "three         NaN\n",
      "two      0.967110\n",
      "dtype: float64\n"
     ],
     "output_type": "stream"
    }
   ],
   "source": [
    "# Series对齐\n",
    "# Series 和 ndarray 之间的主要区别是，Series 上的操作会根据标签自动对齐\n",
    "# index顺序不会影响数值计算，以标签来计算\n",
    "# 空值和任何值计算结果扔为空值\n",
    "s1 = pd.Series(np.random.rand(3),index=['one','two','three'])\n",
    "s2 = pd.Series(np.random.rand(3),index=['four','one','two'])\n",
    "print('s1:',s1,sep='\\n')\n",
    "print('s2:',s2,sep='\\n')\n",
    "\n",
    "print('s1+s2:',s1+s2,sep='\\n')"
   ],
   "metadata": {
    "collapsed": false,
    "pycharm": {
     "name": "#%%\n",
     "is_executing": false
    }
   }
  },
  {
   "cell_type": "code",
   "execution_count": 28,
   "outputs": [
    {
     "name": "stdout",
     "text": [
      "a    0.854934\n",
      "b    0.212250\n",
      "c    0.284833\n",
      "d    0.060326\n",
      "e    0.451882\n",
      "dtype: float64\n",
      "s.drop(['a']):\n",
      "b    0.212250\n",
      "c    0.284833\n",
      "d    0.060326\n",
      "e    0.451882\n",
      "dtype: float64\n",
      "原s没变:\n",
      "a    0.854934\n",
      "b    0.212250\n",
      "c    0.284833\n",
      "d    0.060326\n",
      "e    0.451882\n",
      "dtype: float64\n",
      "s1 inplace=True后:\n",
      "None\n",
      "b    0.212250\n",
      "c    0.284833\n",
      "d    0.060326\n",
      "e    0.451882\n",
      "dtype: float64\n"
     ],
     "output_type": "stream"
    }
   ],
   "source": [
    "# 删除：.drop\n",
    "# 返回Series，其中删除了指定的索引标签。根据指定的索引标签删除Series的元素。\n",
    "# 使用多索引时，可以通过指定级别来删除不同级别上的标签\n",
    "# drop 删除元素之后返回副本(inplace=False)\n",
    "# 如果为inplace=True，则执行就地操作并返回None。\n",
    "s = pd.Series(np.random.rand(5),index=list('abcde'))\n",
    "print(s)\n",
    "print(\"s.drop(['a']):\",s.drop(['a']),sep='\\n') # 也可以删除多个索引 s.drop(['a','b','c'])\n",
    "print('原s没变:',s,sep='\\n')\n",
    "\n",
    "s1 = s.drop(['a'],inplace=True)\n",
    "print('s1 inplace=True后:',s1,sep='\\n')  \n",
    "print(s)"
   ],
   "metadata": {
    "collapsed": false,
    "pycharm": {
     "name": "#%%\n",
     "is_executing": false
    }
   }
  },
  {
   "cell_type": "code",
   "execution_count": 47,
   "outputs": [
    {
     "name": "stdout",
     "text": [
      "a    0.559676\n",
      "b    0.543117\n",
      "c    0.838730\n",
      "d    0.250963\n",
      "e    0.922776\n",
      "dtype: float64\n",
      "添加值后:\n",
      "a       0.559676\n",
      "b       0.543117\n",
      "c       0.838730\n",
      "d       0.250963\n",
      "e       0.922776\n",
      "5    1000.000000\n",
      "f     999.000000\n",
      "dtype: float64\n",
      "s1:\n",
      "0    0.593408\n",
      "1    0.134550\n",
      "2    0.232858\n",
      "3    0.946541\n",
      "4    0.602256\n",
      "dtype: float64\n",
      "s1[5] = 100后为:\n",
      "0      0.593408\n",
      "1      0.134550\n",
      "2      0.232858\n",
      "3      0.946541\n",
      "4      0.602256\n",
      "5    100.000000\n",
      "dtype: float64\n",
      "使用append()追加后的结果:\n",
      "a       0.559676\n",
      "b       0.543117\n",
      "c       0.838730\n",
      "d       0.250963\n",
      "e       0.922776\n",
      "5    1000.000000\n",
      "f     999.000000\n",
      "0       0.650579\n",
      "1       0.385322\n",
      "2       0.930511\n",
      "dtype: float64\n"
     ],
     "output_type": "stream"
    }
   ],
   "source": [
    "# 添加  直接通过下标索引/标签index添加值\n",
    "# .append方法,直接添加一个数组,生成一个新的数组，不改变之前的数组\n",
    "\n",
    "# 直接通过下标索引/标签index添加值\n",
    "s = pd.Series(np.random.rand(5),index=list('abcde'))\n",
    "print(s)\n",
    "s['5'] = 1000\n",
    "s['f'] = 999\n",
    "print('添加值后:',s, sep='\\n')  \n",
    "# s[5] = 1000 #报错 下标越界 索引数据类型得保持一致,否则直接添加s[5],解释器会认为是从索引为6处开始添加值\n",
    "# IndexError: index 5 is out of bounds for axis 0 with size 5\n",
    "s1 = pd.Series(np.random.rand(5))\n",
    "print('s1:',s1,sep='\\n')\n",
    "s1[5] = 100\n",
    "print('s1[5] = 100后为:',s1,sep='\\n')\n",
    "\n",
    "#  .append()\n",
    "s2 = s.append(pd.Series(np.random.rand(3)))\n",
    "print('使用append()追加后的结果:',s2,sep='\\n')"
   ],
   "metadata": {
    "collapsed": false,
    "pycharm": {
     "name": "#%%\n",
     "is_executing": false
    }
   }
  },
  {
   "cell_type": "code",
   "execution_count": 36,
   "outputs": [
    {
     "name": "stdout",
     "text": [
      "a    0.364147\n",
      "b    0.173560\n",
      "c    0.341755\n",
      "dtype: float64\n",
      "修改后的s为:\n",
      "a    100.0\n",
      "b    200.0\n",
      "c    200.0\n",
      "dtype: float64\n"
     ],
     "output_type": "stream"
    }
   ],
   "source": [
    "# 修改  通过索引直接修改，类似序列\n",
    "\n",
    "s = pd.Series(np.random.rand(3), index = ['a','b','c'])\n",
    "print(s)\n",
    "s['a'] = 100\n",
    "s[['b','c']] = 200\n",
    "print('修改后的s为:',s,sep='\\n')\n"
   ],
   "metadata": {
    "collapsed": false,
    "pycharm": {
     "name": "#%%\n",
     "is_executing": false
    }
   }
  },
  {
   "cell_type": "code",
   "execution_count": 41,
   "outputs": [
    {
     "name": "stdout",
     "text": [
      "a    0.963760\n",
      "b    0.225437\n",
      "c    0.378354\n",
      "d    0.992072\n",
      "e    0.728896\n",
      "dtype: float64\n",
      "遍历索引\n",
      "index: a\n",
      "index: b\n",
      "index: c\n",
      "index: d\n",
      "index: e\n",
      "遍历值\n",
      "value: 0.9637600650720208\n",
      "value: 0.22543702407575705\n",
      "value: 0.3783541836284804\n",
      "value: 0.9920718478294156\n",
      "value: 0.7288960144796388\n",
      "遍历值2\n",
      "s[index]: 0.9637600650720208\n",
      "s[index]: 0.22543702407575705\n",
      "s[index]: 0.3783541836284804\n",
      "s[index]: 0.9920718478294156\n",
      "s[index]: 0.7288960144796388\n"
     ],
     "output_type": "stream"
    }
   ],
   "source": [
    "# 数据的遍历：\n",
    "s = pd.Series(np.random.rand(5),index=list('abcde'))\n",
    "print(s)\n",
    "\n",
    "print('遍历索引')\n",
    "# 遍历索引\n",
    "for index in s.index:\n",
    "    print('index:',index)\n",
    "\n",
    "print('遍历值')\n",
    "# 遍历值\n",
    "for value in s.values:\n",
    "    print('value:',value)\n",
    "    \n",
    "print('遍历值2')\n",
    "# 遍历值2\n",
    "for index in s.index:\n",
    "    print('s[index]:',s[index])"
   ],
   "metadata": {
    "collapsed": false,
    "pycharm": {
     "name": "#%%\n",
     "is_executing": false
    }
   }
  }
 ],
 "metadata": {
  "kernelspec": {
   "display_name": "Python 3",
   "language": "python",
   "name": "python3"
  },
  "language_info": {
   "codemirror_mode": {
    "name": "ipython",
    "version": 2
   },
   "file_extension": ".py",
   "mimetype": "text/x-python",
   "name": "python",
   "nbconvert_exporter": "python",
   "pygments_lexer": "ipython2",
   "version": "2.7.6"
  },
  "pycharm": {
   "stem_cell": {
    "cell_type": "raw",
    "source": [],
    "metadata": {
     "collapsed": false
    }
   }
  }
 },
 "nbformat": 4,
 "nbformat_minor": 0
}