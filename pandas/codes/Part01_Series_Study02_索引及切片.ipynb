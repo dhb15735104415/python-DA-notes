{
 "cells": [
  {
   "cell_type": "code",
   "execution_count": 1,
   "metadata": {
    "collapsed": true,
    "pycharm": {
     "is_executing": false
    }
   },
   "outputs": [
    {
     "data": {
      "text/plain": "'\\n    Pandas数据结构Series：索引\\n\\n    位置下标 / 标签索引 / 切片索引 / 布尔型索引\\n'"
     },
     "metadata": {},
     "output_type": "execute_result",
     "execution_count": 1
    }
   ],
   "source": [
    "'''\n",
    "    Pandas数据结构Series：索引\n",
    "\n",
    "    位置下标 / 标签索引 / 切片索引 / 布尔型索引\n",
    "'''\n"
   ]
  },
  {
   "cell_type": "code",
   "execution_count": 3,
   "outputs": [],
   "source": [
    "import numpy as np\n",
    "import pandas as pd"
   ],
   "metadata": {
    "collapsed": false,
    "pycharm": {
     "name": "#%%\n",
     "is_executing": false
    }
   }
  },
  {
   "cell_type": "code",
   "execution_count": 15,
   "outputs": [
    {
     "name": "stdout",
     "text": [
      "0    0.205202\n",
      "1    0.068738\n",
      "2    0.546757\n",
      "3    0.705758\n",
      "4    0.717939\n",
      "dtype: float64\n",
      "s[0]下标为0的值: 0.2052023994039398 float64\n",
      "type()查看s[0]值的类型: <class 'numpy.float64'>\n"
     ],
     "output_type": "stream"
    }
   ],
   "source": [
    "# 位置下标,类似序列\n",
    "\n",
    "s = pd.Series(np.random.rand(5))\n",
    "print(s)\n",
    "print('s[0]下标为0的值:',s[0],s[0].dtype)\n",
    "print('type()查看s[0]值的类型:',type(s[0]))\n",
    "# 不完全同于序列 负数下标-n不适用\n",
    "# print(s[-2])  # 会报错"
   ],
   "metadata": {
    "collapsed": false,
    "pycharm": {
     "name": "#%%\n",
     "is_executing": false
    }
   }
  },
  {
   "cell_type": "code",
   "execution_count": 20,
   "outputs": [
    {
     "name": "stdout",
     "text": [
      "a    0.032270\n",
      "b    0.311276\n",
      "c    0.453296\n",
      "d    0.424132\n",
      "e    0.593180\n",
      "dtype: float64\n",
      "s[a]: 0.032270262194921906\n",
      "type(s_v): <class 'numpy.float64'>\n",
      "s_v.dtype: float64\n",
      "多个标签索引: b    0.311276\n",
      "a    0.032270\n",
      "c    0.453296\n",
      "dtype: float64\n"
     ],
     "output_type": "stream"
    }
   ],
   "source": [
    "# 标签索引\n",
    "s = pd.Series(np.random.rand(5), index=list('abcde'))\n",
    "print(s)\n",
    "\n",
    "s_v = s['a']\n",
    "print('s[a]:',s_v)\n",
    "print('type(s_v):',type(s_v))\n",
    "print('s_v.dtype:',s_v.dtype)\n",
    "# numpy.float与float占用字节不同\n",
    "\n",
    "# 如果需要选择多个标签的值，用[[]]来表示（相当于[]中包含一个列表）\n",
    "# 多标签索引结果是新的数组 并且按标签顺序\n",
    "s_vs= s[['b','a','c']]\n",
    "print('多个标签索引:',s_vs)"
   ],
   "metadata": {
    "collapsed": false,
    "pycharm": {
     "name": "#%%\n",
     "is_executing": false
    }
   }
  },
  {
   "cell_type": "code",
   "execution_count": 39,
   "outputs": [
    {
     "name": "stdout",
     "text": [
      "s1: 0    0.199795\n",
      "1    0.544138\n",
      "2    0.993964\n",
      "3    0.683223\n",
      "4    0.617650\n",
      "dtype: float64\n",
      "s2: a    0.619540\n",
      "b    0.545357\n",
      "c    0.425525\n",
      "d    0.548347\n",
      "e    0.376191\n",
      "dtype: float64\n",
      "s1[1:4]: 1    0.544138\n",
      "2    0.993964\n",
      "3    0.683223\n",
      "dtype: float64\n",
      "s1[4]: 0.6176500005874858\n",
      "s2['a':'c'](包含s2['c']): a    0.619540\n",
      "b    0.545357\n",
      "c    0.425525\n",
      "dtype: float64\n",
      "s2['c']: 0.42552536081932\n",
      "s1[:-1]: 0    0.199795\n",
      "1    0.544138\n",
      "2    0.993964\n",
      "3    0.683223\n",
      "dtype: float64\n"
     ],
     "output_type": "stream"
    }
   ],
   "source": [
    "# 切片索引\n",
    "\n",
    "s1 = pd.Series(np.random.rand(5))\n",
    "s2 = pd.Series(np.random.rand(5), index=list('abcde'))\n",
    "print('s1:',s1)\n",
    "print('s2:',s2)\n",
    "\n",
    "# 下标索引做切片，和list写法一样\n",
    "\n",
    "print('s1[1:4]:',s1[1:4])\n",
    "print('s1[4]:',s1[4])\n",
    "\n",
    "# 注意:用index做切片是末端包含\n",
    "print(\"s2['a':'c'](包含s2['c']):\", s2['a':'c'])\n",
    "print(\"s2['c']:\", s2['c'])\n",
    "\n",
    "# 注意:负数下标作切片是可行,但是作索引是不行的\n",
    "print('s1[:-1]:',s1[:-1])"
   ],
   "metadata": {
    "collapsed": false,
    "pycharm": {
     "name": "#%%\n",
     "is_executing": false
    }
   }
  },
  {
   "cell_type": "code",
   "execution_count": 38,
   "outputs": [
    {
     "name": "stdout",
     "text": [
      "s:\n",
      "0    89.3159\n",
      "1    45.3149\n",
      "2    70.4316\n",
      "4       None\n",
      "dtype: object\n",
      "bool_s1为:\n",
      "0     True\n",
      "1    False\n",
      "2     True\n",
      "4    False\n",
      "dtype: bool\n",
      "type(bool_s1)为: <class 'pandas.core.series.Series'>\n",
      "bool_s1.dtype为: bool\n",
      "---------------------------------\n",
      "bool_s2为:\n",
      "0    False\n",
      "1    False\n",
      "2    False\n",
      "4     True\n",
      "dtype: bool\n",
      "type(bool_s2)为: <class 'pandas.core.series.Series'>\n",
      "bool_s2.dtype为: bool\n",
      "---------------------------------\n",
      "bool_s3为:\n",
      "0     True\n",
      "1     True\n",
      "2     True\n",
      "4    False\n",
      "dtype: bool\n",
      "type(bool_s3)为: <class 'pandas.core.series.Series'>\n",
      "bool_s3.dtype为: bool\n",
      "s[bool_s1]为: 0    89.3159\n",
      "2    70.4316\n",
      "dtype: object\n",
      "s[bool_s3]为:\n",
      "0    89.3159\n",
      "1    45.3149\n",
      "2    70.4316\n",
      "dtype: object\n"
     ],
     "output_type": "stream"
    }
   ],
   "source": [
    "# 布尔型索引\n",
    "s = pd.Series(np.random.rand(3)*100)\n",
    "s[4] = None  # 添加一个空值\n",
    "print('s:',s, sep='\\n')\n",
    "\n",
    "# 数组做判断之后，返回的是一个由布尔值组成的新的数组\n",
    "# .isnull() / .notnull() 判断是否为空值 (None代表空值，NaN代表有问题的数值，两个都会识别为空值)\n",
    "bool_s1 = s > 50\n",
    "bool_s2 = s.isnull()\n",
    "bool_s3 = s.notnull()\n",
    "print('bool_s1为:',bool_s1, sep='\\n')\n",
    "print('type(bool_s1)为:',type(bool_s1))\n",
    "print('bool_s1.dtype为:',bool_s1.dtype)\n",
    "print('---------------------------------')\n",
    "\n",
    "bool_s1 = s > 50\n",
    "bool_s2 = s.isnull()\n",
    "bool_s3 = s.notnull()\n",
    "print('bool_s2为:',bool_s2, sep='\\n')\n",
    "print('type(bool_s2)为:',type(bool_s2))\n",
    "print('bool_s2.dtype为:',bool_s2.dtype)\n",
    "print('---------------------------------')\n",
    "\n",
    "bool_s1 = s > 50\n",
    "bool_s2 = s.isnull()\n",
    "bool_s3 = s.notnull()\n",
    "print('bool_s3为:',bool_s3, sep='\\n')\n",
    "print('type(bool_s3)为:',type(bool_s3))\n",
    "print('bool_s3.dtype为:',bool_s3.dtype)\n",
    "\n",
    "# 布尔型索引方法：用[判断条件]表示，其中判断条件可以是 一个语句，或者是 一个布尔型数组\n",
    "print('s[bool_s1]为:',s[bool_s1])\n",
    "print('s[bool_s3]为:',s[bool_s3],sep='\\n')"
   ],
   "metadata": {
    "collapsed": false,
    "pycharm": {
     "name": "#%%\n",
     "is_executing": false
    }
   }
  }
 ],
 "metadata": {
  "kernelspec": {
   "display_name": "Python 3",
   "language": "python",
   "name": "python3"
  },
  "language_info": {
   "codemirror_mode": {
    "name": "ipython",
    "version": 2
   },
   "file_extension": ".py",
   "mimetype": "text/x-python",
   "name": "python",
   "nbconvert_exporter": "python",
   "pygments_lexer": "ipython2",
   "version": "2.7.6"
  },
  "pycharm": {
   "stem_cell": {
    "cell_type": "raw",
    "source": [],
    "metadata": {
     "collapsed": false
    }
   }
  }
 },
 "nbformat": 4,
 "nbformat_minor": 0
}