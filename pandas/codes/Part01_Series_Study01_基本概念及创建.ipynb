{
 "cells": [
  {
   "cell_type": "code",
   "execution_count": 1,
   "metadata": {
    "collapsed": true,
    "pycharm": {
     "is_executing": false
    }
   },
   "outputs": [
    {
     "data": {
      "text/plain": "'\\n    Pandas数据结构Series：基本概念及创建\\n\\n    \"一维数组\"Serise\\n'"
     },
     "metadata": {},
     "output_type": "execute_result",
     "execution_count": 1
    }
   ],
   "source": [
    "'''\n",
    "    Pandas数据结构Series：基本概念及创建\n",
    "\n",
    "    \"一维数组\"Serise\n",
    "        \n",
    "    核心：series相比于ndarray，是一个自带索引index的数组 → 一维数组 + 对应索引\n",
    "    所以当只看series的值的时候，就是一个ndarray\n",
    "    series和ndarray较相似，索引切片功能差别不大\n",
    "    series和dict相比，series更像一个有顺序的字典（dict本身不存在顺序），\n",
    "    其索引原理与字典相似（一个用key，一个用index）\n",
    "'''\n",
    "\n"
   ]
  },
  {
   "cell_type": "code",
   "execution_count": 20,
   "outputs": [
    {
     "name": "stdout",
     "text": [
      "0    0.230422\n",
      "1    0.971958\n",
      "2    0.838730\n",
      "3    0.055058\n",
      "4    0.459943\n",
      "dtype: float64\n",
      "<class 'pandas.core.series.Series'>\n",
      ".index为: RangeIndex(start=0, stop=5, step=1) <class 'pandas.core.indexes.range.RangeIndex'>\n",
      ".value为: [0.2304221  0.97195836 0.83873006 0.0550582  0.45994271] <class 'numpy.ndarray'>\n"
     ],
     "output_type": "stream"
    }
   ],
   "source": [
    "import numpy as np\n",
    "import pandas as pd\n",
    "\n",
    "# Series 数据结构\n",
    "\n",
    "# Series 是带有标签的一维数组，可以保存任何数据类型（整数，字符串，浮点数，Python对象等）,轴标签统称为索引\n",
    "s = pd.Series(np.random.rand(5))\n",
    "print(s)\n",
    "print(type(s))\n",
    "\n",
    "# .index查看series索引，类型为rangeindex\n",
    "print('.index为:',s.index,type(s.index))\n",
    "\n",
    "# .values查看series值，类型是ndarray\n",
    "print('.value为:',s.values, type(s.values))"
   ],
   "metadata": {
    "collapsed": false,
    "pycharm": {
     "name": "#%%\n",
     "is_executing": false
    }
   }
  },
  {
   "cell_type": "code",
   "execution_count": 23,
   "outputs": [
    {
     "name": "stdout",
     "text": [
      "由字典创建的Series为: one      1\n",
      "two      2\n",
      "three    3\n",
      "dtype: int64\n",
      "字典Value类型不一致,Series为: a        1\n",
      "b    hello\n",
      "c        3\n",
      "4        4\n",
      "5        5\n",
      "dtype: object\n"
     ],
     "output_type": "stream"
    }
   ],
   "source": [
    "# Series 创建方法一：由字典创建，字典的key就是index，values就是values\n",
    "dic = {'one':1, 'two':2, 'three':3}\n",
    "s = pd.Series(dic)\n",
    "print('由字典创建的Series为:',s)\n",
    "\n",
    "# 注意：key肯定是字符串，假如values类型不止一个会怎么样？ \n",
    "dic2 = {'a':1 ,'b':'hello' , 'c':3, '4':4, '5':5}\n",
    "print('字典Value类型不一致,Series为:',pd.Series(dic2))"
   ],
   "metadata": {
    "collapsed": false,
    "pycharm": {
     "name": "#%%\n",
     "is_executing": false
    }
   }
  },
  {
   "cell_type": "code",
   "execution_count": 28,
   "outputs": [
    {
     "name": "stdout",
     "text": [
      "[2 3 4 5 6]\n",
      "由数组创建的Series为: 0    2\n",
      "1    3\n",
      "2    4\n",
      "3    5\n",
      "4    6\n",
      "dtype: int32\n",
      "改变后的Series: a    2\n",
      "b    3\n",
      "c    4\n",
      "d    5\n",
      "e    6\n",
      "dtype: object\n"
     ],
     "output_type": "stream"
    }
   ],
   "source": [
    "# Series 创建方法二：由数组创建(一维数组)\n",
    "ar = np.arange(start=2,stop=7)\n",
    "print(ar)\n",
    "s = pd.Series(ar)\n",
    "print('由数组创建的Series为:',s)  # # 默认index是从0开始，步长为1的数字\n",
    "\n",
    "# index的数据类型能否改变?value的数据类型呢?\n",
    "# index参数：设置index，长度保持一致\n",
    "# dtype参数：设置数值类型\n",
    "s = pd.Series(ar, index=['a','b','c','d','e'], dtype=object)\n",
    "print('改变后的Series:',s)"
   ],
   "metadata": {
    "collapsed": false,
    "pycharm": {
     "name": "#%%\n",
     "is_executing": false
    }
   }
  },
  {
   "cell_type": "code",
   "execution_count": 32,
   "outputs": [
    {
     "name": "stdout",
     "text": [
      "由标量创建的Series: 0    10\n",
      "dtype: int64\n",
      "多个标量组成的Series: 0    10\n",
      "1    10\n",
      "2    10\n",
      "3    10\n",
      "4    10\n",
      "dtype: int64\n"
     ],
     "output_type": "stream"
    }
   ],
   "source": [
    "# Series 创建方法三：由标量创建\n",
    "s = pd.Series(10)  # 默认值创建一个数值,索引为0\n",
    "print('由标量创建的Series:',s)\n",
    "\n",
    "# 如果data是标量值，则必须提供索引。该值会重复，来匹配索引的长度\n",
    "s = pd.Series(10,index=range(5))\n",
    "print('多个标量组成的Series:',s)"
   ],
   "metadata": {
    "collapsed": false,
    "pycharm": {
     "name": "#%%\n",
     "is_executing": false
    }
   }
  },
  {
   "cell_type": "code",
   "execution_count": 40,
   "outputs": [
    {
     "name": "stdout",
     "text": [
      "无名称的Series:\n",
      "0    2\n",
      "dtype: int64\n",
      "None\n",
      "有名称的Series2:\n",
      "0    0.380070\n",
      "1    0.677022\n",
      "2    0.626759\n",
      "3    0.962478\n",
      "4    0.382045\n",
      "Name: s2_test, dtype: float64\n",
      "s2_test\n",
      "修改名称后的新Series: 0    0.380070\n",
      "1    0.677022\n",
      "2    0.626759\n",
      "3    0.962478\n",
      "4    0.382045\n",
      "Name: s3_test, dtype: float64\n",
      "s2并未改变: 0    0.380070\n",
      "1    0.677022\n",
      "2    0.626759\n",
      "3    0.962478\n",
      "4    0.382045\n",
      "Name: s2_test, dtype: float64\n"
     ],
     "output_type": "stream"
    }
   ],
   "source": [
    "# Series 名称属性：.name; 更改名称方法:rename()\n",
    "s1 = pd.Series(np.random.randint(5))\n",
    "print('无名称的Series:',s1,s1.name,sep='\\n')\n",
    "\n",
    "s2 = pd.Series(np.random.rand(5), name='s2_test')\n",
    "print('有名称的Series2:',s2,s2.name,sep='\\n')\n",
    "\n",
    "# .rename()重命名一个数组的名称，并且新指向一个数组，原数组不变\n",
    "s3 = s2.rename('s3_test')\n",
    "print('修改名称后的新Series:',s3)\n",
    "print('s2并未改变:',s2)"
   ],
   "metadata": {
    "collapsed": false,
    "pycharm": {
     "name": "#%%\n",
     "is_executing": false
    }
   }
  },
  {
   "cell_type": "code",
   "execution_count": null,
   "outputs": [],
   "source": [
    "\n"
   ],
   "metadata": {
    "collapsed": false,
    "pycharm": {
     "name": "#%%\n"
    }
   }
  }
 ],
 "metadata": {
  "kernelspec": {
   "display_name": "Python 3",
   "language": "python",
   "name": "python3"
  },
  "language_info": {
   "codemirror_mode": {
    "name": "ipython",
    "version": 2
   },
   "file_extension": ".py",
   "mimetype": "text/x-python",
   "name": "python",
   "nbconvert_exporter": "python",
   "pygments_lexer": "ipython2",
   "version": "2.7.6"
  },
  "pycharm": {
   "stem_cell": {
    "cell_type": "raw",
    "source": [],
    "metadata": {
     "collapsed": false
    }
   }
  }
 },
 "nbformat": 4,
 "nbformat_minor": 0
}