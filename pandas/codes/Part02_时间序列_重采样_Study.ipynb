{
 "cells": [
  {
   "cell_type": "code",
   "execution_count": 1,
   "metadata": {
    "collapsed": true,
    "pycharm": {
     "is_executing": false
    }
   },
   "outputs": [
    {
     "data": {
      "text/plain": "' \\n    时间序列 - 重采样\\n    \\n    将时间序列从一个频率转换为另一个频率的过程，且会有数据的结合\\n    降采样：高频数据 → 低频数据，eg.以天为频率的数据转为以月为频率的数据\\n    升采样：低频数据 → 高频数据，eg.以年为频率的数据转为以月为频率的数据\\n'"
     },
     "metadata": {},
     "output_type": "execute_result",
     "execution_count": 1
    }
   ],
   "source": [
    "''' \n",
    "    时间序列 - 重采样\n",
    "    \n",
    "    将时间序列从一个频率转换为另一个频率的过程，且会有数据的结合\n",
    "    降采样：高频数据 → 低频数据，eg.以天为频率的数据转为以月为频率的数据\n",
    "    升采样：低频数据 → 高频数据，eg.以年为频率的数据转为以月为频率的数据\n",
    "'''\n"
   ]
  },
  {
   "cell_type": "code",
   "execution_count": 9,
   "outputs": [],
   "source": [
    "import pandas as pd\n",
    "import numpy as np"
   ],
   "metadata": {
    "collapsed": false,
    "pycharm": {
     "name": "#%%\n",
     "is_executing": false
    }
   }
  },
  {
   "cell_type": "code",
   "execution_count": 20,
   "outputs": [
    {
     "name": "stdout",
     "text": [
      "rng:\n",
      "DatetimeIndex(['2019-12-01', '2019-12-02', '2019-12-03', '2019-12-04',\n",
      "               '2019-12-05', '2019-12-06', '2019-12-07', '2019-12-08',\n",
      "               '2019-12-09', '2019-12-10'],\n",
      "              dtype='datetime64[ns]', freq='D')\n",
      "ts:\n",
      "2019-12-01     1\n",
      "2019-12-02     3\n",
      "2019-12-03     5\n",
      "2019-12-04     7\n",
      "2019-12-05     9\n",
      "2019-12-06    11\n",
      "2019-12-07    13\n",
      "2019-12-08    15\n",
      "2019-12-09    17\n",
      "2019-12-10    19\n",
      "Freq: D, dtype: int32\n",
      "降频:1天->2天,重采样: DatetimeIndexResampler [freq=<2 * Days>, axis=0, closed=left, label=left, convention=start, base=0]\n",
      "type(res1): <class 'pandas.core.resample.DatetimeIndexResampler'>\n",
      "降频后,再求和:\n",
      "2019-12-01     4\n",
      "2019-12-03    12\n",
      "2019-12-05    20\n",
      "2019-12-07    28\n",
      "2019-12-09    36\n",
      "Freq: 2D, dtype: int32\n",
      "2019-12-01     5\n",
      "2019-12-06    15\n",
      "Freq: 5D, dtype: int32 → 求平均值\n",
      "\n",
      "2019-12-01     9\n",
      "2019-12-06    19\n",
      "Freq: 5D, dtype: int32 → 求最大值\n",
      "\n",
      "2019-12-01     1\n",
      "2019-12-06    11\n",
      "Freq: 5D, dtype: int32 → 求最小值\n",
      "\n",
      "2019-12-01     5\n",
      "2019-12-06    15\n",
      "Freq: 5D, dtype: int32 → 求中值\n",
      "\n",
      "2019-12-01     1\n",
      "2019-12-06    11\n",
      "Freq: 5D, dtype: int32 → 返回第一个值\n",
      "\n",
      "2019-12-01     9\n",
      "2019-12-06    19\n",
      "Freq: 5D, dtype: int32 → 返回最后一个值\n",
      "\n",
      "            open  high  low  close\n",
      "2019-12-01     1     9    1      9\n",
      "2019-12-06    11    19   11     19 → OHLC重采样\n",
      "\n"
     ],
     "output_type": "stream"
    }
   ],
   "source": [
    "# 重采样：.resample()\n",
    "\n",
    "# 创建一个以天为频率的TimeSeries\n",
    "rng = pd.date_range('2019-12-01',periods=10)\n",
    "print('rng:',rng,sep='\\n')\n",
    "ts = pd.Series(np.arange(1,20,2),index=rng)  # 20以内的奇数为value\n",
    "print('ts:',ts,sep='\\n')\n",
    "\n",
    "# 重采样为按2天为频率\n",
    "ts_res1 = ts.resample('2D')\n",
    "print('降频:1天->2天,重采样:',res1)  # DatetimeIndexResampler 构建器，频率改为2天\n",
    "print('type(res1):',type(res1))\n",
    "\n",
    "ts_res2 = ts.resample('2D').sum()  # 得到一个新的聚合后的Series，聚合方式为求和\n",
    "print('降频后,再求和:',ts_res2,sep='\\n')\n",
    "# .sum()：聚合方法\n",
    "\n",
    "print(ts.resample('5D').mean(),'→ 求平均值\\n')\n",
    "print(ts.resample('5D').max(),'→ 求最大值\\n')\n",
    "print(ts.resample('5D').min(),'→ 求最小值\\n')\n",
    "print(ts.resample('5D').median(),'→ 求中值\\n')\n",
    "print(ts.resample('5D').first(),'→ 返回第一个值\\n')\n",
    "print(ts.resample('5D').last(),'→ 返回最后一个值\\n')\n",
    "print(ts.resample('5D').ohlc(),'→ OHLC重采样\\n')\n",
    "# OHLC:金融领域的时间序列聚合方式 → open开盘、high最大值、low最小值、close收盘"
   ],
   "metadata": {
    "collapsed": false,
    "pycharm": {
     "name": "#%%\n",
     "is_executing": false
    }
   }
  },
  {
   "cell_type": "code",
   "execution_count": 35,
   "outputs": [
    {
     "name": "stdout",
     "text": [
      "ts:\n",
      "2019-01-01     1\n",
      "2019-01-02     2\n",
      "2019-01-03     3\n",
      "2019-01-04     4\n",
      "2019-01-05     5\n",
      "2019-01-06     6\n",
      "2019-01-07     7\n",
      "2019-01-08     8\n",
      "2019-01-09     9\n",
      "2019-01-10    10\n",
      "2019-01-11    11\n",
      "2019-01-12    12\n",
      "Freq: D, dtype: int32\n",
      "默认:ts.resample('5D'):\n",
      "2019-01-01    15\n",
      "2019-01-06    40\n",
      "2019-01-11    23\n",
      "Freq: 5D, dtype: int32\n",
      "right:\n",
      "2018-12-27     1\n",
      "2019-01-01    20\n",
      "2019-01-06    45\n",
      "2019-01-11    12\n",
      "Freq: 5D, dtype: int32\n",
      "left:\n",
      "2019-01-01    15\n",
      "2019-01-06    40\n",
      "2019-01-11    23\n",
      "Freq: 5D, dtype: int32\n",
      "-----------------------------------------------------\n",
      "2019-01-01    15\n",
      "2019-01-06    40\n",
      "2019-01-11    23\n",
      "Freq: 5D, dtype: int32 → leftlabel\n",
      "\n",
      "2019-01-06    15\n",
      "2019-01-11    40\n",
      "2019-01-16    23\n",
      "Freq: 5D, dtype: int32 → rightlabel\n",
      "\n"
     ],
     "output_type": "stream"
    }
   ],
   "source": [
    "# 降采样  高频数据 → 低频数据\n",
    "rng = pd.date_range('20190101', periods = 12)\n",
    "ts = pd.Series(np.arange(1,13), index = rng)\n",
    "print('ts:',ts,sep='\\n')\n",
    "\n",
    "# 降频  默认,不加其他参数, [1,2,3,4,5] [6,7,8,9,10] [11,12]\n",
    "print(\"默认:ts.resample('5D'):\",ts.resample('5D').sum(),sep='\\n')\n",
    "\n",
    "# right:指定间隔右边为结束  [1] [2,3,4,5,6] [7,8,9,10,11] [12]\n",
    "# [1]的右边为结束 则是从2开始分块(5天为一组)\n",
    "print('right:',ts.resample('5D',closed='right').sum(),sep='\\n')\n",
    "\n",
    "# left:指定间隔左边为结束 [1,2,3,4,5] [6,7,8,9,10] [11,12]  默认是left\n",
    "print('left:',ts.resample('5D',closed='left').sum(),sep='\\n')\n",
    "\n",
    "print('-----------------------------------------------------')\n",
    "# label：聚合值的index，默认为取左\n",
    "# left:lable名的显示分组左边\n",
    "print(ts.resample('5D', label = 'left').sum(),'→ leftlabel\\n')  # 如第一组显示:2019-01-01\n",
    "\n",
    "# right:lable名的显示分组右边\n",
    "print(ts.resample('5D', label = 'right').sum(),'→ rightlabel\\n')  # 如第一组显示:2019-01-06"
   ],
   "metadata": {
    "collapsed": false,
    "pycharm": {
     "name": "#%%\n",
     "is_executing": false
    }
   }
  },
  {
   "cell_type": "code",
   "execution_count": 43,
   "outputs": [
    {
     "name": "stdout",
     "text": [
      "                      a   b   c\n",
      "2019-01-01 00:00:00   0   1   2\n",
      "2019-01-01 01:00:00   3   4   5\n",
      "2019-01-01 02:00:00   6   7   8\n",
      "2019-01-01 03:00:00   9  10  11\n",
      "2019-01-01 04:00:00  12  13  14\n",
      ".asfreq()：不做填充，返回NaN:\n",
      "                        a     b     c\n",
      "2019-01-01 00:00:00   0.0   1.0   2.0\n",
      "2019-01-01 00:15:00   NaN   NaN   NaN\n",
      "2019-01-01 00:30:00   NaN   NaN   NaN\n",
      "2019-01-01 00:45:00   NaN   NaN   NaN\n",
      "2019-01-01 01:00:00   3.0   4.0   5.0\n",
      "2019-01-01 01:15:00   NaN   NaN   NaN\n",
      "2019-01-01 01:30:00   NaN   NaN   NaN\n",
      "2019-01-01 01:45:00   NaN   NaN   NaN\n",
      "2019-01-01 02:00:00   6.0   7.0   8.0\n",
      "2019-01-01 02:15:00   NaN   NaN   NaN\n",
      "2019-01-01 02:30:00   NaN   NaN   NaN\n",
      "2019-01-01 02:45:00   NaN   NaN   NaN\n",
      "2019-01-01 03:00:00   9.0  10.0  11.0\n",
      "2019-01-01 03:15:00   NaN   NaN   NaN\n",
      "2019-01-01 03:30:00   NaN   NaN   NaN\n",
      "2019-01-01 03:45:00   NaN   NaN   NaN\n",
      "2019-01-01 04:00:00  12.0  13.0  14.0\n",
      "\n",
      ".ffill()：向上填充:\n",
      "                      a   b   c\n",
      "2019-01-01 00:00:00   0   1   2\n",
      "2019-01-01 00:15:00   0   1   2\n",
      "2019-01-01 00:30:00   0   1   2\n",
      "2019-01-01 00:45:00   0   1   2\n",
      "2019-01-01 01:00:00   3   4   5\n",
      "2019-01-01 01:15:00   3   4   5\n",
      "2019-01-01 01:30:00   3   4   5\n",
      "2019-01-01 01:45:00   3   4   5\n",
      "2019-01-01 02:00:00   6   7   8\n",
      "2019-01-01 02:15:00   6   7   8\n",
      "2019-01-01 02:30:00   6   7   8\n",
      "2019-01-01 02:45:00   6   7   8\n",
      "2019-01-01 03:00:00   9  10  11\n",
      "2019-01-01 03:15:00   9  10  11\n",
      "2019-01-01 03:30:00   9  10  11\n",
      "2019-01-01 03:45:00   9  10  11\n",
      "2019-01-01 04:00:00  12  13  14\n",
      "\n",
      ".bfill()：向下填充:\n",
      "                      a   b   c\n",
      "2019-01-01 00:00:00   0   1   2\n",
      "2019-01-01 00:15:00   3   4   5\n",
      "2019-01-01 00:30:00   3   4   5\n",
      "2019-01-01 00:45:00   3   4   5\n",
      "2019-01-01 01:00:00   3   4   5\n",
      "2019-01-01 01:15:00   6   7   8\n",
      "2019-01-01 01:30:00   6   7   8\n",
      "2019-01-01 01:45:00   6   7   8\n",
      "2019-01-01 02:00:00   6   7   8\n",
      "2019-01-01 02:15:00   9  10  11\n",
      "2019-01-01 02:30:00   9  10  11\n",
      "2019-01-01 02:45:00   9  10  11\n",
      "2019-01-01 03:00:00   9  10  11\n",
      "2019-01-01 03:15:00  12  13  14\n",
      "2019-01-01 03:30:00  12  13  14\n",
      "2019-01-01 03:45:00  12  13  14\n",
      "2019-01-01 04:00:00  12  13  14\n",
      "\n"
     ],
     "output_type": "stream"
    }
   ],
   "source": [
    "# 升采样 低频转高频 \n",
    "# 主要是如何插值\n",
    "# .asfreq()：不做填充，返回NaN\n",
    "# .ffill()：向上填充\n",
    "# .bfill()：向下填充\n",
    "\n",
    "rng = pd.date_range('2019/1/1 0:0:0', periods = 5, freq = 'H')\n",
    "ts = pd.DataFrame(np.arange(15).reshape(5,3),\n",
    "                  index = rng,\n",
    "                  columns = ['a','b','c'])\n",
    "print(ts)\n",
    "\n",
    "print('.asfreq()：不做填充，返回NaN:',ts.resample('15T').asfreq(),sep='\\n',end='\\n\\n')\n",
    "print('.ffill()：向上填充:',ts.resample('15T').ffill(),sep='\\n',end='\\n\\n')\n",
    "print('.bfill()：向下填充:',ts.resample('15T').bfill(),sep='\\n',end='\\n\\n')"
   ],
   "metadata": {
    "collapsed": false,
    "pycharm": {
     "name": "#%%\n",
     "is_executing": false
    }
   }
  },
  {
   "cell_type": "code",
   "execution_count": 58,
   "outputs": [
    {
     "name": "stdout",
     "text": [
      "ts:\n",
      "2019-01     0\n",
      "2019-02     1\n",
      "2019-03     2\n",
      "2019-04     3\n",
      "2019-05     4\n",
      "2019-06     5\n",
      "2019-07     6\n",
      "2019-08     7\n",
      "2019-09     8\n",
      "2019-10     9\n",
      "2019-11    10\n",
      "2019-12    11\n",
      "2020-01    12\n",
      "Freq: M, dtype: int32\n",
      "原ts.index: PeriodIndex(['2019-01', '2019-02', '2019-03', '2019-04', '2019-05', '2019-06',\n",
      "             '2019-07', '2019-08', '2019-09', '2019-10', '2019-11', '2019-12',\n",
      "             '2020-01'],\n",
      "            dtype='period[M]', freq='M')\n",
      "ts.index修改类型后: DatetimeIndex(['2019-01-01', '2019-02-01', '2019-03-01', '2019-04-01',\n",
      "               '2019-05-01', '2019-06-01', '2019-07-01', '2019-08-01',\n",
      "               '2019-09-01', '2019-10-01', '2019-11-01', '2019-12-01',\n",
      "               '2020-01-01'],\n",
      "              dtype='datetime64[ns]', freq='MS')\n",
      "降采样,改为3个月:\n",
      "2019-01     3\n",
      "2019-04    12\n",
      "2019-07    21\n",
      "2019-10    30\n",
      "2020-01    12\n",
      "Freq: 3M, dtype: int32\n",
      "\n",
      "升采样,改为15天:\n",
      "2019-01-01     0\n",
      "2019-01-16     0\n",
      "2019-01-31     0\n",
      "2019-02-15     1\n",
      "2019-03-02     2\n",
      "2019-03-17     2\n",
      "2019-04-01     3\n",
      "2019-04-16     3\n",
      "2019-05-01     4\n",
      "2019-05-16     4\n",
      "2019-05-31     4\n",
      "2019-06-15     5\n",
      "2019-06-30     5\n",
      "2019-07-15     6\n",
      "2019-07-30     6\n",
      "2019-08-14     7\n",
      "2019-08-29     7\n",
      "2019-09-13     8\n",
      "2019-09-28     8\n",
      "2019-10-13     9\n",
      "2019-10-28     9\n",
      "2019-11-12    10\n",
      "2019-11-27    10\n",
      "2019-12-12    11\n",
      "2019-12-27    11\n",
      "Freq: 15D, dtype: int32\n"
     ],
     "output_type": "stream"
    },
    {
     "data": {
      "text/plain": "'\\n    IncompatibleFrequency: \\n    Frequency <MonthEnd> cannot be resampled to <3 * MonthEnds>, as they are not sub or super periods\\n\\n'"
     },
     "metadata": {},
     "output_type": "execute_result",
     "execution_count": 58
    }
   ],
   "source": [
    "# 时期重采样 - Period\n",
    "\n",
    "prng = pd.period_range('2019','2020',freq = 'M')\n",
    "ts = pd.Series(np.arange(len(prng)), index = prng)\n",
    "print('ts:',ts,sep='\\n')\n",
    "\n",
    "print('原ts.index:',ts.index)\n",
    "ts.index = ts.index.astype('datetime64[ns]')  # 不加这段代码会报错,错误信息置底部\n",
    "print('ts.index修改类型后:',ts.index)\n",
    "\n",
    "print('降采样,改为3个月:',ts.resample('3M', kind='period').sum(),sep='\\n',end='\\n\\n')  \n",
    "# print('降采样,改为3个月:',ts.resample('3M').sum())  # 错误代码,想要的是以月为label,而不是天\n",
    "print('升采样,改为15天:',ts.resample('15D').ffill(),sep='\\n')  # 升采样\n",
    "\n",
    "'''\n",
    "    IncompatibleFrequency: \n",
    "    Frequency <MonthEnd> cannot be resampled to <3 * MonthEnds>, as they are not sub or super periods\n",
    "\n",
    "'''"
   ],
   "metadata": {
    "collapsed": false,
    "pycharm": {
     "name": "#%%\n",
     "is_executing": false
    }
   }
  }
 ],
 "metadata": {
  "kernelspec": {
   "display_name": "Python 3",
   "language": "python",
   "name": "python3"
  },
  "language_info": {
   "codemirror_mode": {
    "name": "ipython",
    "version": 2
   },
   "file_extension": ".py",
   "mimetype": "text/x-python",
   "name": "python",
   "nbconvert_exporter": "python",
   "pygments_lexer": "ipython2",
   "version": "2.7.6"
  },
  "pycharm": {
   "stem_cell": {
    "cell_type": "raw",
    "source": [],
    "metadata": {
     "collapsed": false
    }
   }
  }
 },
 "nbformat": 4,
 "nbformat_minor": 0
}