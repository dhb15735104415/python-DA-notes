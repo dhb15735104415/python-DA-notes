{
 "cells": [
  {
   "cell_type": "code",
   "execution_count": 1,
   "metadata": {
    "collapsed": true,
    "pycharm": {
     "is_executing": false
    }
   },
   "outputs": [
    {
     "data": {
      "text/plain": "'\\n     去重及替换\\n\\n    .duplicated / .replace\\n'"
     },
     "metadata": {},
     "output_type": "execute_result",
     "execution_count": 1
    }
   ],
   "source": [
    "'''\n",
    "     去重及替换\n",
    "\n",
    "    .duplicated / .replace\n",
    "'''"
   ]
  },
  {
   "cell_type": "code",
   "execution_count": 3,
   "outputs": [],
   "source": [
    "import numpy as np\n",
    "import pandas as pd"
   ],
   "metadata": {
    "collapsed": false,
    "pycharm": {
     "name": "#%%\n",
     "is_executing": false
    }
   }
  },
  {
   "cell_type": "code",
   "execution_count": 16,
   "outputs": [
    {
     "name": "stdout",
     "text": [
      "s:\n",
      "0    1\n",
      "1    1\n",
      "2    1\n",
      "3    2\n",
      "4    2\n",
      "5    2\n",
      "6    3\n",
      "7    4\n",
      "8    5\n",
      "9    5\n",
      "dtype: int64\n",
      "去重后:\n",
      "0    False\n",
      "1     True\n",
      "2     True\n",
      "3    False\n",
      "4     True\n",
      "5     True\n",
      "6    False\n",
      "7    False\n",
      "8    False\n",
      "9     True\n",
      "dtype: bool\n",
      "type(sd): <class 'pandas.core.series.Series'>\n",
      "----------------------------------------\n",
      "通过布尔判断，得到不重复的值:\n",
      "0    1\n",
      "3    2\n",
      "6    3\n",
      "7    4\n",
      "8    5\n",
      "dtype: int64\n",
      "移除重复值:\n",
      "0    1\n",
      "3    2\n",
      "6    3\n",
      "7    4\n",
      "8    5\n",
      "dtype: int64\n",
      "df:\n",
      "  key1 key2\n",
      "0    a    a\n",
      "1    a    a\n",
      "2    3    b\n",
      "3    4    b\n",
      "4    5    c\n",
      "----------------------------------------\n",
      "去重后:\n",
      "0    False\n",
      "1     True\n",
      "2    False\n",
      "3    False\n",
      "4    False\n",
      "dtype: bool\n"
     ],
     "output_type": "stream"
    }
   ],
   "source": [
    "# Series 重复元素检查 duplicated(self, keep='first')\n",
    "'''\n",
    "    def duplicated(self, keep='first'):\n",
    "        \n",
    "        Indicate duplicate Series values.\n",
    "\n",
    "        Duplicated values are indicated as ``True`` values in the resulting\n",
    "        Series. Either all duplicates, all except the first or all except the\n",
    "        last occurrence of duplicates can be indicated.\n",
    "        重复的值在结果系列中表示为“真”值。\n",
    "        可以指示所有重复项，除了第一个重复项之外的所有重复项，或最后一次重复项除外的所有重复项。\n",
    "        Returns\n",
    "        -------\n",
    "        pandas.core.series.Series\n",
    "'''\n",
    "s = pd.Series([1,1,1,2,2,2,3,4,5,5])\n",
    "print('s:',s,sep='\\n')\n",
    "\n",
    "sd = s.duplicated()\n",
    "print('重复元素检查后:',sd,sep='\\n')\n",
    "print('type(sd):',type(sd))\n",
    "print('----------------------------------------')\n",
    "# 判断是否重复\n",
    "# 通过布尔判断，得到不重复的值\n",
    "print('通过布尔判断，得到不重复的值:',s[s.duplicated() == False],sep='\\n')\n",
    "\n",
    "\n",
    "# Series移除重复值 drop_duplicates\n",
    "'''\n",
    "     def drop_duplicates(self, keep='first', inplace=False):\n",
    "        \"\"\"\n",
    "        Return Series with duplicate values removed.\n",
    "        返回具有重复值的Series。\n",
    "        Parameters\n",
    "        ----------\n",
    "        keep : {'first', 'last', ``False``}, default 'first'\n",
    "            - 'first' : Drop duplicates except for the first occurrence.\n",
    "            - 'last' : Drop duplicates except for the last occurrence.\n",
    "            - ``False`` : Drop all duplicates.\n",
    "        inplace : boolean, default ``False``\n",
    "            If ``True``, performs operation inplace and returns None.\n",
    "            如果为``True''，就地执行操作并返回None。 即会改变原序列\n",
    "        Returns\n",
    "        -------\n",
    "        deduplicated : Series\n",
    "'''\n",
    "s_drop = s.drop_duplicates()\n",
    "print('移除重复值:',s_drop,sep='\\n')  # 等价于:s[s.duplicated() == False]\n"
   ],
   "metadata": {
    "collapsed": false,
    "pycharm": {
     "name": "#%%\n",
     "is_executing": false
    }
   }
  },
  {
   "cell_type": "code",
   "execution_count": 26,
   "outputs": [
    {
     "name": "stdout",
     "text": [
      "df:\n",
      "  key1 key2\n",
      "0    a    a\n",
      "1    a    a\n",
      "2    3    b\n",
      "3    4    b\n",
      "4    5    5\n",
      "5    5    5\n",
      "----------------------------------------\n",
      "DataFrame重复元素检查后:\n",
      "0    False\n",
      "1     True\n",
      "2    False\n",
      "3    False\n",
      "4    False\n",
      "5     True\n",
      "dtype: bool\n",
      "移除重复值:\n",
      "  key1 key2\n",
      "0    a    a\n",
      "2    3    b\n",
      "3    4    b\n",
      "4    5    5\n",
      "指定检查key2列:\n",
      "0    False\n",
      "1     True\n",
      "2    False\n",
      "3     True\n",
      "4    False\n",
      "5     True\n",
      "Name: key2, dtype: bool\n"
     ],
     "output_type": "stream"
    }
   ],
   "source": [
    "# DataFrame 重复元素检查 \n",
    "# duplicated()   返回表示重复行的布尔系列，可以选择仅考虑某些列。\n",
    "\n",
    "'''    \n",
    "    def duplicated(self, subset=None, keep='first'):\n",
    "        \"\"\"\n",
    "        Return boolean Series denoting duplicate rows, optionally only\n",
    "        considering certain columns.\n",
    "        返回表示重复行的布尔系列，可以选择仅考虑某些列。\n",
    "        Parameters\n",
    "        ----------\n",
    "        subset : column label or sequence of labels, optional\n",
    "            Only consider certain columns for identifying duplicates, by\n",
    "            default use all of the columns\n",
    "        仅考虑某些列来标识重复项，默认情况下使用所有列\n",
    "        keep : {'first', 'last', False}, default 'first'\n",
    "            - ``first`` : Mark duplicates as ``True`` except for the\n",
    "              first occurrence.\n",
    "            - ``last`` : Mark duplicates as ``True`` except for the\n",
    "              last occurrence.\n",
    "            - False : Mark all duplicates as ``True``.\n",
    "\n",
    "        Returns\n",
    "        -------\n",
    "        duplicated : Series\n",
    "        \"\"\"\n",
    "'''\n",
    "\n",
    "df = pd.DataFrame({'key1':['a','a',3,4,5,5],\n",
    "                  'key2':['a','a','b','b',5,5]})\n",
    "print('df:',df,sep='\\n')\n",
    "print('----------------------------------------')\n",
    "df_dup = df.duplicated()\n",
    "print('DataFrame重复元素检查后:',df_dup,sep='\\n')\n",
    "\n",
    "df_drop = df.drop_duplicates()\n",
    "print('移除重复值:',df_drop,sep='\\n')\n",
    "\n",
    "print('指定检查key2列:',df['key2'].duplicated(),sep='\\n')  #  相当于Series 重复元素检查"
   ],
   "metadata": {
    "collapsed": false,
    "pycharm": {
     "name": "#%%\n",
     "is_executing": false
    }
   }
  },
  {
   "cell_type": "code",
   "execution_count": 36,
   "outputs": [
    {
     "name": "stdout",
     "text": [
      "s:\n",
      "0    a\n",
      "1    s\n",
      "2    c\n",
      "3    a\n",
      "4    a\n",
      "5    z\n",
      "6    s\n",
      "7    d\n",
      "dtype: object\n",
      "a替换为100后:\n",
      "0    100\n",
      "1      s\n",
      "2      c\n",
      "3    100\n",
      "4    100\n",
      "5      z\n",
      "6      s\n",
      "7      d\n",
      "dtype: object\n",
      "未改变原序列:\n",
      "0    a\n",
      "1    s\n",
      "2    c\n",
      "3    a\n",
      "4    a\n",
      "5    z\n",
      "6    s\n",
      "7    d\n",
      "dtype: object\n",
      "a替换为100后(inplace=True):\n",
      "None\n",
      "改变了原序列:\n",
      "0    100\n",
      "1      s\n",
      "2      c\n",
      "3    100\n",
      "4    100\n",
      "5      z\n",
      "6      s\n",
      "7      d\n",
      "dtype: object\n"
     ],
     "output_type": "stream"
    }
   ],
   "source": [
    "# Series序列替换 .replace\n",
    "\n",
    "s = pd.Series(list('ascaazsd'))\n",
    "print('s:',s,sep='\\n')\n",
    "\n",
    "# 不会改变原序列的值 inplace=False\n",
    "s_rep = s.replace('a',100)  \n",
    "print('a替换为100后:',s_rep,sep='\\n')\n",
    "print('未改变原序列:',s,sep='\\n')\n",
    "\n",
    "s_rep2 = s.replace('a',100,inplace=True)  # 返回None \n",
    "print('a替换为100后(inplace=True):',s_rep2,sep='\\n')\n",
    "print('改变了原序列:',s,sep='\\n')"
   ],
   "metadata": {
    "collapsed": false,
    "pycharm": {
     "name": "#%%\n",
     "is_executing": false
    }
   }
  },
  {
   "cell_type": "code",
   "execution_count": 38,
   "outputs": [
    {
     "name": "stdout",
     "text": [
      "df:\n",
      "   key1  key2\n",
      "0     1     1\n",
      "1     2     2\n",
      "2     2     3\n",
      "3     3     3\n",
      "4     3     3\n",
      "5     4     4\n",
      "2替换为200后:\n",
      "   key1  key2\n",
      "0     1     1\n",
      "1   200   200\n",
      "2   200     3\n",
      "3     3     3\n",
      "4     3     3\n",
      "5     4     4\n"
     ],
     "output_type": "stream"
    }
   ],
   "source": [
    "# DataFrame替换 .replace\n",
    "# 默认inplace=False  \n",
    "df = pd.DataFrame({'key1':[1,2,2,3,3,4],\n",
    "                   'key2':[1,2,3,3,3,4]})\n",
    "print('df:',df,sep='\\n')\n",
    "\n",
    "df_rep = df.replace(2,200)\n",
    "print('2替换为200后:',df_rep,sep='\\n')\n",
    "\n"
   ],
   "metadata": {
    "collapsed": false,
    "pycharm": {
     "name": "#%%\n",
     "is_executing": false
    }
   }
  }
 ],
 "metadata": {
  "kernelspec": {
   "display_name": "Python 3",
   "language": "python",
   "name": "python3"
  },
  "language_info": {
   "codemirror_mode": {
    "name": "ipython",
    "version": 2
   },
   "file_extension": ".py",
   "mimetype": "text/x-python",
   "name": "python",
   "nbconvert_exporter": "python",
   "pygments_lexer": "ipython2",
   "version": "2.7.6"
  },
  "pycharm": {
   "stem_cell": {
    "cell_type": "raw",
    "source": [],
    "metadata": {
     "collapsed": false
    }
   }
  }
 },
 "nbformat": 4,
 "nbformat_minor": 0
}