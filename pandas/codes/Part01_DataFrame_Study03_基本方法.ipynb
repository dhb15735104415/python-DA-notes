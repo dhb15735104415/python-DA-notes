{
 "cells": [
  {
   "cell_type": "code",
   "execution_count": 25,
   "metadata": {
    "collapsed": true,
    "pycharm": {
     "is_executing": false
    }
   },
   "outputs": [
    {
     "data": {
      "text/plain": "'\\n     Pandas数据结构Dataframe：基本技巧\\n\\n    数据查看、转置 / 添加、修改、删除值 / 对齐 / 排序\\n'"
     },
     "metadata": {},
     "output_type": "execute_result",
     "execution_count": 25
    }
   ],
   "source": [
    "'''\n",
    "     Pandas数据结构Dataframe：基本技巧\n",
    "\n",
    "    数据查看、转置 / 添加、修改、删除值 / 对齐 / 排序\n",
    "'''"
   ]
  },
  {
   "cell_type": "code",
   "execution_count": 26,
   "outputs": [],
   "source": [
    "import numpy as np\n",
    "import pandas as pd"
   ],
   "metadata": {
    "collapsed": false,
    "pycharm": {
     "name": "#%%\n",
     "is_executing": false
    }
   }
  },
  {
   "cell_type": "code",
   "execution_count": 27,
   "outputs": [
    {
     "name": "stdout",
     "text": [
      "           a          b\n",
      "0  46.273141  53.521861\n",
      "1  88.224790  95.663311\n",
      "2  66.661347  31.053160\n",
      "3  97.399907  41.232907\n",
      "4  93.898176  71.052759\n",
      "5  51.513911  41.921510\n",
      "-------------------------\n",
      "df.head():\n",
      "           a          b\n",
      "0  46.273141  53.521861\n",
      "1  88.224790  95.663311\n",
      "2  66.661347  31.053160\n",
      "3  97.399907  41.232907\n",
      "4  93.898176  71.052759\n",
      "df.tail():\n",
      "           a          b\n",
      "1  88.224790  95.663311\n",
      "2  66.661347  31.053160\n",
      "3  97.399907  41.232907\n",
      "4  93.898176  71.052759\n",
      "5  51.513911  41.921510\n",
      "装置:\n",
      "           0          1          2          3          4          5\n",
      "a  46.273141  88.224790  66.661347  97.399907  93.898176  51.513911\n",
      "b  53.521861  95.663311  31.053160  41.232907  71.052759  41.921510\n"
     ],
     "output_type": "stream"
    }
   ],
   "source": [
    "# 数据查看、转置\n",
    "# .head()查看头部数据\n",
    "# .tail()查看尾部数据\n",
    "# 默认查看5条\n",
    "\n",
    "df = pd.DataFrame(np.random.rand(12).reshape(6,2)*100,\n",
    "                   columns = ['a','b'])\n",
    "print(df)\n",
    "print('-------------------------')\n",
    "\n",
    "# .head()查看头部数据\n",
    "print('df.head():',df.head(),sep='\\n')  # 默认查看5条\n",
    "\n",
    "# .tail()查看尾部数据\n",
    "print('df.tail():',df.tail(),sep='\\n')  # 默认查看5条\n",
    "\n",
    "# .T 转置\n",
    "print('装置:',df.T,sep='\\n')"
   ],
   "metadata": {
    "collapsed": false,
    "pycharm": {
     "name": "#%%\n",
     "is_executing": false
    }
   }
  },
  {
   "cell_type": "code",
   "execution_count": 28,
   "outputs": [
    {
     "name": "stdout",
     "text": [
      "           a          b          c          d\n",
      "0  35.088945  52.618756  98.014476  60.101203\n",
      "1  19.441815  38.285228  69.597129  42.780308\n",
      "2  33.389042   3.817104  38.742897  80.085088\n",
      "3  44.083907  28.671428  92.636480  80.177648\n",
      "-------------------------\n",
      "列添加结果:\n",
      "           a          b          c          d   e\n",
      "0  35.088945  52.618756  98.014476  60.101203  10\n",
      "1  19.441815  38.285228  69.597129  42.780308  10\n",
      "2  33.389042   3.817104  38.742897  80.085088  10\n",
      "3  44.083907  28.671428  92.636480  80.177648  10\n",
      "行添加结果:\n",
      "           a          b          c          d   e\n",
      "0  35.088945  52.618756  98.014476  60.101203  10\n",
      "1  19.441815  38.285228  69.597129  42.780308  10\n",
      "2  33.389042   3.817104  38.742897  80.085088  10\n",
      "3  44.083907  28.671428  92.636480  80.177648  10\n",
      "5   5.000000   5.000000   5.000000   5.000000   5\n",
      "列修改结果:\n",
      "     a          b    c          d   e\n",
      "0  100  52.618756  100  60.101203  10\n",
      "1  100  38.285228  100  42.780308  10\n",
      "2  100   3.817104  100  80.085088  10\n",
      "3  100  28.671428  100  80.177648  10\n",
      "5  100   5.000000  100   5.000000   5\n",
      "行修改结果:\n",
      "     a           b    c           d    e\n",
      "0  100   52.618756  100   60.101203   10\n",
      "1  200  200.000000  200  200.000000  200\n",
      "2  100    3.817104  100   80.085088   10\n",
      "3  200  200.000000  200  200.000000  200\n",
      "5  100    5.000000  100    5.000000    5\n",
      "将列表或数组赋值给某个列:\n",
      "     a           b    c           d    e  new\n",
      "0  100   52.618756  100   60.101203   10  NaN\n",
      "1  200  200.000000  200  200.000000  200  3.0\n",
      "2  100    3.817104  100   80.085088   10  1.0\n",
      "3  200  200.000000  200  200.000000  200  2.0\n",
      "5  100    5.000000  100    5.000000    5  NaN\n"
     ],
     "output_type": "stream"
    }
   ],
   "source": [
    "# 添加与修改\n",
    "df = pd.DataFrame(np.random.rand(16).reshape(4,4)*100,\n",
    "                   columns = ['a','b','c','d'])\n",
    "print(df)\n",
    "print('-------------------------')\n",
    "\n",
    "# 列添加\n",
    "df['e'] = 10\n",
    "print('列添加结果:',df,sep='\\n')\n",
    "\n",
    "# 行添加\n",
    "df.loc[5] = 5\n",
    "print('行添加结果:',df,sep='\\n')\n",
    "\n",
    "# 修改\n",
    "df[['a','c']] = 100\n",
    "print('列修改结果:',df,sep='\\n')\n",
    "\n",
    "df.loc[[1,3]] = 200\n",
    "print('行修改结果:',df,sep='\\n')\n",
    "\n",
    "# 将列表或数组赋值给某个列时，其长度必须跟DataFrame的长度相匹配。\n",
    "# 如果赋值的时一个Series，则会精确匹配DataFrame的索引，所有空位都将被填上缺失值\n",
    "s = pd.Series([1,2,3], index=[2,3,1])\n",
    "df['new'] = s\n",
    "print('将列表或数组赋值给某个列:',df,sep='\\n')\n"
   ],
   "metadata": {
    "collapsed": false,
    "pycharm": {
     "name": "#%%\n",
     "is_executing": false
    }
   }
  },
  {
   "cell_type": "code",
   "execution_count": 29,
   "outputs": [
    {
     "name": "stdout",
     "text": [
      "           a          b          c          d\n",
      "0  20.746174   2.108337  53.654897  33.330863\n",
      "1  75.668222  43.102076  36.939050  80.360866\n",
      "2  40.002902  11.530604   7.205150  32.129312\n",
      "3  64.423157  33.841595  94.480334  22.327999\n",
      "-------------------------\n",
      "del df['a']后:\n",
      "           b          c          d\n",
      "0   2.108337  53.654897  33.330863\n",
      "1  43.102076  36.939050  80.360866\n",
      "2  11.530604   7.205150  32.129312\n",
      "3  33.841595  94.480334  22.327999\n",
      "删除b列后:\n",
      "           c          d\n",
      "0  53.654897  33.330863\n",
      "1  36.939050  80.360866\n",
      "2   7.205150  32.129312\n",
      "3  94.480334  22.327999\n",
      "df未变:\n",
      "           b          c          d\n",
      "0   2.108337  53.654897  33.330863\n",
      "1  43.102076  36.939050  80.360866\n",
      "2  11.530604   7.205150  32.129312\n",
      "3  33.841595  94.480334  22.327999\n",
      "删除索引为1,2的行数据:\n",
      "           b          c          d\n",
      "0   2.108337  53.654897  33.330863\n",
      "3  33.841595  94.480334  22.327999\n",
      "df未变:\n",
      "           b          c          d\n",
      "0   2.108337  53.654897  33.330863\n",
      "1  43.102076  36.939050  80.360866\n",
      "2  11.530604   7.205150  32.129312\n",
      "3  33.841595  94.480334  22.327999\n"
     ],
     "output_type": "stream"
    }
   ],
   "source": [
    "# 删除  \n",
    "# del 删除会改变原数据\n",
    "# .drop() 参数nplace=False → 删除后生成新的数据，不改变原数据\n",
    "\n",
    "df = pd.DataFrame(np.random.rand(16).reshape(4,4)*100,\n",
    "                   columns = ['a','b','c','d'])\n",
    "print(df)\n",
    "print('-------------------------')\n",
    "del df['a']\n",
    "print(\"del df['a']后:\",df,sep='\\n')  # 只有b c d散列数据\n",
    "\n",
    "\n",
    "# drop() 删除列 参数axis=1\n",
    "# data1 = df.drop(['b'])  # 报错\n",
    "data1 = df.drop(['b'],axis=1)\n",
    "print('删除b列后:',data1,sep='\\n')\n",
    "print('df未变:',df, sep='\\n')\n",
    "'''\n",
    "    报错:\n",
    "    KeyError: \"['b'] not found in axis\"\n",
    "    查看源码:\n",
    "     def drop(self, labels=None, axis=0, index=None, columns=None,\n",
    "             level=None, inplace=False, errors='raise'):\n",
    "    原来drop()中 aixs=0,是默认删除行的         \n",
    "        \n",
    "'''\n",
    "\n",
    "# drop 删除行\n",
    "data2 = df.drop([1,2])\n",
    "print('删除索引为1,2的行数据:',data2,sep='\\n')\n",
    "print('df未变:',df, sep='\\n')\n"
   ],
   "metadata": {
    "collapsed": false,
    "pycharm": {
     "name": "#%%\n",
     "is_executing": false
    }
   }
  },
  {
   "cell_type": "code",
   "execution_count": 30,
   "outputs": [
    {
     "name": "stdout",
     "text": [
      "df1:\n",
      "          a         b         c         d         e\n",
      "0 -0.379090  1.959584  1.004015 -0.508001  0.716146\n",
      "1  0.500205 -1.481490 -0.116625  0.900788 -0.674632\n",
      "2  0.166941  0.343055 -0.885019  0.955943  0.565904\n",
      "3  2.017430 -0.132209 -2.033689  0.021549 -0.344013\n",
      "df2:\n",
      "          a         b     three      four\n",
      "0  0.724001  2.078301  1.107812 -0.228004\n",
      "1 -0.733371  0.288378 -1.007956  0.721288\n",
      "2 -1.200390 -0.043281  0.135267  1.337034\n",
      "对齐:df1+df2:\n",
      "          a         b   c   d   e  four  three\n",
      "0  0.344911  4.037884 NaN NaN NaN   NaN    NaN\n",
      "1 -0.233167 -1.193113 NaN NaN NaN   NaN    NaN\n",
      "2 -1.033449  0.299774 NaN NaN NaN   NaN    NaN\n",
      "3       NaN       NaN NaN NaN NaN   NaN    NaN\n"
     ],
     "output_type": "stream"
    }
   ],
   "source": [
    "# 对齐\n",
    "# DataFrame对象之间的数据自动按照列和索引（行标签）对齐\n",
    "# 有共同列和行的数据会相加, 行或者列不同,数据以NaN填充补齐\n",
    "df1 = pd.DataFrame(np.random.randn(4,5),columns=list('abcde'))\n",
    "df2 = pd.DataFrame(np.random.randn(3,4),columns=['a','b','three','four'])\n",
    "print('df1:',df1,sep='\\n')\n",
    "print('df2:',df2,sep='\\n')\n",
    "print('对齐:df1+df2:',df1+df2,sep='\\n')"
   ],
   "metadata": {
    "collapsed": false,
    "pycharm": {
     "name": "#%%\n",
     "is_executing": false
    }
   }
  },
  {
   "cell_type": "code",
   "execution_count": 31,
   "outputs": [
    {
     "name": "stdout",
     "text": [
      "           a          b          c          d\n",
      "0  67.620089  41.404496  66.203988  93.256572\n",
      "1  56.811512  28.698349   5.441622  11.244606\n",
      "2  71.550770  13.189563  57.717130  55.079214\n",
      "3  68.503283  85.001847  93.799145  93.288485\n",
      "------------------------------\n",
      "按a列的值排序(默认升序),结果:\n",
      "           a          b          c          d\n",
      "1  56.811512  28.698349   5.441622  11.244606\n",
      "0  67.620089  41.404496  66.203988  93.256572\n",
      "3  68.503283  85.001847  93.799145  93.288485\n",
      "2  71.550770  13.189563  57.717130  55.079214\n",
      "按a列的值排序(降序),结果:\n",
      "           a          b          c          d\n",
      "2  71.550770  13.189563  57.717130  55.079214\n",
      "3  68.503283  85.001847  93.799145  93.288485\n",
      "0  67.620089  41.404496  66.203988  93.256572\n",
      "1  56.811512  28.698349   5.441622  11.244606\n",
      "   a  b  c\n",
      "0  1  0  8\n",
      "1  1  1  7\n",
      "2  1  2  6\n",
      "3  1  3  5\n",
      "4  2  4  4\n",
      "5  2  5  3\n",
      "6  2  6  2\n",
      "7  2  7  1\n",
      "-------------------------------\n",
      "多列排序,按a c两列排:    a  b  c\n",
      "3  1  3  5\n",
      "2  1  2  6\n",
      "1  1  1  7\n",
      "0  1  0  8\n",
      "7  2  7  1\n",
      "6  2  6  2\n",
      "5  2  5  3\n",
      "4  2  4  4\n",
      "sssssssssss\n"
     ],
     "output_type": "stream"
    }
   ],
   "source": [
    "# 排序1 - 按值排序 .sort_values() 默认升序\n",
    "# 同样适用于Series\n",
    "df = pd.DataFrame(np.random.rand(16).reshape(4,4)*100,\n",
    "                   columns = ['a','b','c','d'])\n",
    "print(df)\n",
    "print('------------------------------')\n",
    "\n",
    "# 单列排序\n",
    "# ascending参数：设置升序降序，默认升序\n",
    "data_sheng = df.sort_values(['a'])\n",
    "print('按a列的值排序(默认升序),结果:',data_sheng,sep='\\n')\n",
    "\n",
    "data_sheng = df.sort_values(['a'],ascending=False)  # 降序\n",
    "print('按a列的值排序(降序),结果:',data_sheng,sep='\\n')\n",
    "\n",
    "# 多列排序 按列顺序排序\n",
    "\n",
    "df2 = pd.DataFrame({'a':[1,1,1,1,2,2,2,2],\n",
    "                  'b':list(range(8)),\n",
    "                  'c':list(range(8,0,-1))})\n",
    "print(df2)\n",
    "print('-------------------------------')\n",
    "print('多列排序,按a c两列排:',df2.sort_values(['a','c']))\n",
    "print('sssssssssss')"
   ],
   "metadata": {
    "collapsed": false,
    "pycharm": {
     "name": "#%%\n",
     "is_executing": false
    }
   }
  },
  {
   "cell_type": "code",
   "execution_count": 32,
   "outputs": [
    {
     "name": "stdout",
     "text": [
      "           a          b          c          d\n",
      "5   4.542951  73.361255  81.060015  75.963579\n",
      "4  78.409482  66.932160  95.032126   4.931172\n",
      "3  15.206742  66.308490  77.365875  22.834827\n",
      "2  79.346925   0.764017  14.149721  42.951801\n",
      "--------------------------------------\n",
      "df1按照索引排序:\n",
      "           a          b          c          d\n",
      "2  79.346925   0.764017  14.149721  42.951801\n",
      "3  15.206742  66.308490  77.365875  22.834827\n",
      "4  78.409482  66.932160  95.032126   4.931172\n",
      "5   4.542951  73.361255  81.060015  75.963579\n",
      "--------------df2:----------------\n",
      "           a          b          c          d\n",
      "h  60.060786  72.127402  89.644130  75.365754\n",
      "s  35.316899   9.804425  30.154542  94.054218\n",
      "x  38.900973   0.745579  56.755278  52.378376\n",
      "g  66.918160  21.778740  71.999138  93.181842\n",
      "df2按照索引排序:\n",
      "           a          b          c          d\n",
      "x  38.900973   0.745579  56.755278  52.378376\n",
      "s  35.316899   9.804425  30.154542  94.054218\n",
      "h  60.060786  72.127402  89.644130  75.365754\n",
      "g  66.918160  21.778740  71.999138  93.181842\n"
     ],
     "output_type": "stream"
    }
   ],
   "source": [
    "# 排序2 - 按索引排序 sort_index() 默认升序\n",
    "# 默认 ascending=True, inplace=False\n",
    "\n",
    "\n",
    "df1 = pd.DataFrame(np.random.rand(16).reshape(4,4)*100,\n",
    "                  index = [5,4,3,2],\n",
    "                   columns = ['a','b','c','d'])\n",
    "df2 = pd.DataFrame(np.random.rand(16).reshape(4,4)*100,\n",
    "                  index = ['h','s','x','g'],\n",
    "                   columns = ['a','b','c','d'])\n",
    "# 按照index排序\n",
    "print(df1)\n",
    "print('--------------------------------------')\n",
    "print('df1按照索引排序:',df1.sort_index(),sep='\\n')\n",
    "print('--------------df2:----------------')\n",
    "print(df2)\n",
    "print('df2按照索引排序:',df2.sort_index(ascending=False),sep='\\n')"
   ],
   "metadata": {
    "collapsed": false,
    "pycharm": {
     "name": "#%%\n",
     "is_executing": false
    }
   }
  },
  {
   "cell_type": "code",
   "execution_count": 33,
   "outputs": [
    {
     "name": "stdout",
     "text": [
      "     0    1    2\n",
      "0  1.0  2.0  3.0\n",
      "1  NaN  NaN  2.0\n",
      "2  NaN  NaN  NaN\n",
      "3  8.0  8.0  NaN\n"
     ],
     "output_type": "stream"
    },
    {
     "data": {
      "text/plain": "       0      1      2\n0    1.0    2.0    3.0\n1  100.0  100.0    2.0\n2  100.0  100.0  100.0\n3    8.0    8.0  100.0",
      "text/html": "<div>\n<style scoped>\n    .dataframe tbody tr th:only-of-type {\n        vertical-align: middle;\n    }\n\n    .dataframe tbody tr th {\n        vertical-align: top;\n    }\n\n    .dataframe thead th {\n        text-align: right;\n    }\n</style>\n<table border=\"1\" class=\"dataframe\">\n  <thead>\n    <tr style=\"text-align: right;\">\n      <th></th>\n      <th>0</th>\n      <th>1</th>\n      <th>2</th>\n    </tr>\n  </thead>\n  <tbody>\n    <tr>\n      <th>0</th>\n      <td>1.0</td>\n      <td>2.0</td>\n      <td>3.0</td>\n    </tr>\n    <tr>\n      <th>1</th>\n      <td>100.0</td>\n      <td>100.0</td>\n      <td>2.0</td>\n    </tr>\n    <tr>\n      <th>2</th>\n      <td>100.0</td>\n      <td>100.0</td>\n      <td>100.0</td>\n    </tr>\n    <tr>\n      <th>3</th>\n      <td>8.0</td>\n      <td>8.0</td>\n      <td>100.0</td>\n    </tr>\n  </tbody>\n</table>\n</div>"
     },
     "metadata": {},
     "output_type": "execute_result",
     "execution_count": 33
    }
   ],
   "source": [
    "# fillna() 填充缺失数据,使用指定的方法填充NA / NaN值。\n",
    "df3 = pd.DataFrame([[1,2,3],[np.nan,np.nan,2],[np.nan,np.nan,np.nan],[8,8,np.nan]])\n",
    "print(df3)\n",
    "\n",
    "# 用常数填充\n",
    "df3.fillna(100)"
   ],
   "metadata": {
    "collapsed": false,
    "pycharm": {
     "name": "#%%\n",
     "is_executing": false
    }
   }
  },
  {
   "cell_type": "code",
   "execution_count": 34,
   "outputs": [
    {
     "data": {
      "text/plain": "       0      1    2\n0    1.0    2.0  3.0\n1  100.0  200.0  2.0\n2  100.0  200.0  NaN\n3    8.0    8.0  NaN",
      "text/html": "<div>\n<style scoped>\n    .dataframe tbody tr th:only-of-type {\n        vertical-align: middle;\n    }\n\n    .dataframe tbody tr th {\n        vertical-align: top;\n    }\n\n    .dataframe thead th {\n        text-align: right;\n    }\n</style>\n<table border=\"1\" class=\"dataframe\">\n  <thead>\n    <tr style=\"text-align: right;\">\n      <th></th>\n      <th>0</th>\n      <th>1</th>\n      <th>2</th>\n    </tr>\n  </thead>\n  <tbody>\n    <tr>\n      <th>0</th>\n      <td>1.0</td>\n      <td>2.0</td>\n      <td>3.0</td>\n    </tr>\n    <tr>\n      <th>1</th>\n      <td>100.0</td>\n      <td>200.0</td>\n      <td>2.0</td>\n    </tr>\n    <tr>\n      <th>2</th>\n      <td>100.0</td>\n      <td>200.0</td>\n      <td>NaN</td>\n    </tr>\n    <tr>\n      <th>3</th>\n      <td>8.0</td>\n      <td>8.0</td>\n      <td>NaN</td>\n    </tr>\n  </tbody>\n</table>\n</div>"
     },
     "metadata": {},
     "output_type": "execute_result",
     "execution_count": 34
    }
   ],
   "source": [
    "# 通过字典填充不同的常数\n",
    "df3.fillna({0:100,1:200,3:400})"
   ],
   "metadata": {
    "collapsed": false,
    "pycharm": {
     "name": "#%%\n",
     "is_executing": false
    }
   }
  },
  {
   "cell_type": "code",
   "execution_count": 35,
   "outputs": [
    {
     "name": "stdout",
     "text": [
      "df3已被改变:\n",
      "      0     1     2\n",
      "0   1.0   2.0   3.0\n",
      "1  11.0  11.0   2.0\n",
      "2  11.0  11.0  11.0\n",
      "3   8.0   8.0  11.0\n"
     ],
     "output_type": "stream"
    }
   ],
   "source": [
    "# 传入inplace=True直接修改原对象\n",
    "df3.fillna(11,inplace=True)  # 默认inplace为False\n",
    "print('df3已被改变:',df3,sep='\\n')"
   ],
   "metadata": {
    "collapsed": false,
    "pycharm": {
     "name": "#%%\n",
     "is_executing": false
    }
   }
  },
  {
   "cell_type": "code",
   "execution_count": 38,
   "outputs": [
    {
     "data": {
      "text/plain": "   0  1  2    3    4\n0  0  8  3  1.0  3.0\n1  6  1  1  NaN  0.0\n2  9  7  2  NaN  NaN\n3  6  3  3  NaN  NaN\n4  6  4  5  0.0  8.0",
      "text/html": "<div>\n<style scoped>\n    .dataframe tbody tr th:only-of-type {\n        vertical-align: middle;\n    }\n\n    .dataframe tbody tr th {\n        vertical-align: top;\n    }\n\n    .dataframe thead th {\n        text-align: right;\n    }\n</style>\n<table border=\"1\" class=\"dataframe\">\n  <thead>\n    <tr style=\"text-align: right;\">\n      <th></th>\n      <th>0</th>\n      <th>1</th>\n      <th>2</th>\n      <th>3</th>\n      <th>4</th>\n    </tr>\n  </thead>\n  <tbody>\n    <tr>\n      <th>0</th>\n      <td>0</td>\n      <td>8</td>\n      <td>3</td>\n      <td>1.0</td>\n      <td>3.0</td>\n    </tr>\n    <tr>\n      <th>1</th>\n      <td>6</td>\n      <td>1</td>\n      <td>1</td>\n      <td>NaN</td>\n      <td>0.0</td>\n    </tr>\n    <tr>\n      <th>2</th>\n      <td>9</td>\n      <td>7</td>\n      <td>2</td>\n      <td>NaN</td>\n      <td>NaN</td>\n    </tr>\n    <tr>\n      <th>3</th>\n      <td>6</td>\n      <td>3</td>\n      <td>3</td>\n      <td>NaN</td>\n      <td>NaN</td>\n    </tr>\n    <tr>\n      <th>4</th>\n      <td>6</td>\n      <td>4</td>\n      <td>5</td>\n      <td>0.0</td>\n      <td>8.0</td>\n    </tr>\n  </tbody>\n</table>\n</div>"
     },
     "metadata": {},
     "output_type": "execute_result",
     "execution_count": 38
    }
   ],
   "source": [
    "# 传入method='ffill/bfill',改变插值方式\n",
    "df4 = pd.DataFrame(np.random.randint(0,10,(5,5)))\n",
    "df4.iloc[1:4,3] = np.nan\n",
    "df4.iloc[2:4,4] = np.nan\n",
    "df4"
   ],
   "metadata": {
    "collapsed": false,
    "pycharm": {
     "name": "#%%\n",
     "is_executing": false
    }
   }
  },
  {
   "cell_type": "code",
   "execution_count": 41,
   "outputs": [
    {
     "data": {
      "text/plain": "   0  1  2    3    4\n0  0  8  3  1.0  3.0\n1  6  1  1  1.0  0.0\n2  9  7  2  1.0  0.0\n3  6  3  3  1.0  0.0\n4  6  4  5  0.0  8.0",
      "text/html": "<div>\n<style scoped>\n    .dataframe tbody tr th:only-of-type {\n        vertical-align: middle;\n    }\n\n    .dataframe tbody tr th {\n        vertical-align: top;\n    }\n\n    .dataframe thead th {\n        text-align: right;\n    }\n</style>\n<table border=\"1\" class=\"dataframe\">\n  <thead>\n    <tr style=\"text-align: right;\">\n      <th></th>\n      <th>0</th>\n      <th>1</th>\n      <th>2</th>\n      <th>3</th>\n      <th>4</th>\n    </tr>\n  </thead>\n  <tbody>\n    <tr>\n      <th>0</th>\n      <td>0</td>\n      <td>8</td>\n      <td>3</td>\n      <td>1.0</td>\n      <td>3.0</td>\n    </tr>\n    <tr>\n      <th>1</th>\n      <td>6</td>\n      <td>1</td>\n      <td>1</td>\n      <td>1.0</td>\n      <td>0.0</td>\n    </tr>\n    <tr>\n      <th>2</th>\n      <td>9</td>\n      <td>7</td>\n      <td>2</td>\n      <td>1.0</td>\n      <td>0.0</td>\n    </tr>\n    <tr>\n      <th>3</th>\n      <td>6</td>\n      <td>3</td>\n      <td>3</td>\n      <td>1.0</td>\n      <td>0.0</td>\n    </tr>\n    <tr>\n      <th>4</th>\n      <td>6</td>\n      <td>4</td>\n      <td>5</td>\n      <td>0.0</td>\n      <td>8.0</td>\n    </tr>\n  </tbody>\n</table>\n</div>"
     },
     "metadata": {},
     "output_type": "execute_result",
     "execution_count": 41
    }
   ],
   "source": [
    "# method='ffill',用前面的值来填充,bfil\n",
    "df4.fillna(method='ffill')"
   ],
   "metadata": {
    "collapsed": false,
    "pycharm": {
     "name": "#%%\n",
     "is_executing": false
    }
   }
  },
  {
   "cell_type": "code",
   "execution_count": 43,
   "outputs": [
    {
     "data": {
      "text/plain": "   0  1  2    3    4\n0  0  8  3  1.0  3.0\n1  6  1  1  0.0  0.0\n2  9  7  2  0.0  8.0\n3  6  3  3  0.0  8.0\n4  6  4  5  0.0  8.0",
      "text/html": "<div>\n<style scoped>\n    .dataframe tbody tr th:only-of-type {\n        vertical-align: middle;\n    }\n\n    .dataframe tbody tr th {\n        vertical-align: top;\n    }\n\n    .dataframe thead th {\n        text-align: right;\n    }\n</style>\n<table border=\"1\" class=\"dataframe\">\n  <thead>\n    <tr style=\"text-align: right;\">\n      <th></th>\n      <th>0</th>\n      <th>1</th>\n      <th>2</th>\n      <th>3</th>\n      <th>4</th>\n    </tr>\n  </thead>\n  <tbody>\n    <tr>\n      <th>0</th>\n      <td>0</td>\n      <td>8</td>\n      <td>3</td>\n      <td>1.0</td>\n      <td>3.0</td>\n    </tr>\n    <tr>\n      <th>1</th>\n      <td>6</td>\n      <td>1</td>\n      <td>1</td>\n      <td>0.0</td>\n      <td>0.0</td>\n    </tr>\n    <tr>\n      <th>2</th>\n      <td>9</td>\n      <td>7</td>\n      <td>2</td>\n      <td>0.0</td>\n      <td>8.0</td>\n    </tr>\n    <tr>\n      <th>3</th>\n      <td>6</td>\n      <td>3</td>\n      <td>3</td>\n      <td>0.0</td>\n      <td>8.0</td>\n    </tr>\n    <tr>\n      <th>4</th>\n      <td>6</td>\n      <td>4</td>\n      <td>5</td>\n      <td>0.0</td>\n      <td>8.0</td>\n    </tr>\n  </tbody>\n</table>\n</div>"
     },
     "metadata": {},
     "output_type": "execute_result",
     "execution_count": 43
    }
   ],
   "source": [
    "# method='bfill',用后面的值来填充\n",
    "df4.fillna(method='bfill')"
   ],
   "metadata": {
    "collapsed": false,
    "pycharm": {
     "name": "#%%\n",
     "is_executing": false
    }
   }
  },
  {
   "cell_type": "code",
   "execution_count": 46,
   "outputs": [
    {
     "data": {
      "text/plain": "   0  1  2    3    4\n0  0  8  3  1.0  3.0\n1  6  1  1  1.0  0.0\n2  9  7  2  1.0  0.0\n3  6  3  3  NaN  0.0\n4  6  4  5  0.0  8.0",
      "text/html": "<div>\n<style scoped>\n    .dataframe tbody tr th:only-of-type {\n        vertical-align: middle;\n    }\n\n    .dataframe tbody tr th {\n        vertical-align: top;\n    }\n\n    .dataframe thead th {\n        text-align: right;\n    }\n</style>\n<table border=\"1\" class=\"dataframe\">\n  <thead>\n    <tr style=\"text-align: right;\">\n      <th></th>\n      <th>0</th>\n      <th>1</th>\n      <th>2</th>\n      <th>3</th>\n      <th>4</th>\n    </tr>\n  </thead>\n  <tbody>\n    <tr>\n      <th>0</th>\n      <td>0</td>\n      <td>8</td>\n      <td>3</td>\n      <td>1.0</td>\n      <td>3.0</td>\n    </tr>\n    <tr>\n      <th>1</th>\n      <td>6</td>\n      <td>1</td>\n      <td>1</td>\n      <td>1.0</td>\n      <td>0.0</td>\n    </tr>\n    <tr>\n      <th>2</th>\n      <td>9</td>\n      <td>7</td>\n      <td>2</td>\n      <td>1.0</td>\n      <td>0.0</td>\n    </tr>\n    <tr>\n      <th>3</th>\n      <td>6</td>\n      <td>3</td>\n      <td>3</td>\n      <td>NaN</td>\n      <td>0.0</td>\n    </tr>\n    <tr>\n      <th>4</th>\n      <td>6</td>\n      <td>4</td>\n      <td>5</td>\n      <td>0.0</td>\n      <td>8.0</td>\n    </tr>\n  </tbody>\n</table>\n</div>"
     },
     "metadata": {},
     "output_type": "execute_result",
     "execution_count": 46
    }
   ],
   "source": [
    "# limit='' 限制填充个数\n",
    "df4.fillna(method='ffill',limit=2)  # 填充2个NaN值"
   ],
   "metadata": {
    "collapsed": false,
    "pycharm": {
     "name": "#%%\n",
     "is_executing": false
    }
   }
  },
  {
   "cell_type": "code",
   "execution_count": 49,
   "outputs": [
    {
     "name": "stdout",
     "text": [
      "   0  1  2    3    4\n",
      "0  0  8  3  1.0  3.0\n",
      "1  6  1  1  NaN  0.0\n",
      "2  9  7  2  NaN  NaN\n",
      "3  6  3  3  NaN  NaN\n",
      "4  6  4  5  0.0  8.0\n",
      "df4.fillna(method='ffill',axis = 1)后,结果为:\n",
      "     0    1    2    3    4\n",
      "0  0.0  8.0  3.0  1.0  3.0\n",
      "1  6.0  1.0  1.0  1.0  0.0\n",
      "2  9.0  7.0  2.0  2.0  2.0\n",
      "3  6.0  3.0  3.0  3.0  3.0\n",
      "4  6.0  4.0  5.0  0.0  8.0\n"
     ],
     "output_type": "stream"
    }
   ],
   "source": [
    "# 传入axis='' 修改填充方向\n",
    "print(df4)\n",
    "\n",
    "print(\"df4.fillna(method='ffill',axis = 1)后,结果为:\",df4.fillna(method='ffill',axis=1),sep='\\n')\n",
    "# axis=1 修改为按列的方向,默认axis=0(按行的方向)"
   ],
   "metadata": {
    "collapsed": false,
    "pycharm": {
     "name": "#%%\n",
     "is_executing": false
    }
   }
  }
 ],
 "metadata": {
  "kernelspec": {
   "display_name": "Python 3",
   "language": "python",
   "name": "python3"
  },
  "language_info": {
   "codemirror_mode": {
    "name": "ipython",
    "version": 2
   },
   "file_extension": ".py",
   "mimetype": "text/x-python",
   "name": "python",
   "nbconvert_exporter": "python",
   "pygments_lexer": "ipython2",
   "version": "2.7.6"
  },
  "pycharm": {
   "stem_cell": {
    "cell_type": "raw",
    "source": [],
    "metadata": {
     "collapsed": false
    }
   }
  }
 },
 "nbformat": 4,
 "nbformat_minor": 0
}