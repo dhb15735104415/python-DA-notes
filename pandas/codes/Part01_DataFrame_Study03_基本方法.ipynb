{
 "cells": [
  {
   "cell_type": "code",
   "execution_count": 1,
   "metadata": {
    "collapsed": true,
    "pycharm": {
     "is_executing": false
    }
   },
   "outputs": [
    {
     "data": {
      "text/plain": "'\\n     Pandas数据结构Dataframe：基本技巧\\n\\n    数据查看、转置 / 添加、修改、删除值 / 对齐 / 排序\\n'"
     },
     "metadata": {},
     "output_type": "execute_result",
     "execution_count": 1
    }
   ],
   "source": [
    "'''\n",
    "     Pandas数据结构Dataframe：基本技巧\n",
    "\n",
    "    数据查看、转置 / 添加、修改、删除值 / 对齐 / 排序\n",
    "'''"
   ]
  },
  {
   "cell_type": "code",
   "execution_count": 2,
   "outputs": [],
   "source": [
    "import numpy as np\n",
    "import pandas as pd"
   ],
   "metadata": {
    "collapsed": false,
    "pycharm": {
     "name": "#%%\n",
     "is_executing": false
    }
   }
  },
  {
   "cell_type": "code",
   "execution_count": 73,
   "outputs": [
    {
     "name": "stdout",
     "text": [
      "           a          b\n",
      "0  73.030042  44.060414\n",
      "1  70.757289  79.973575\n",
      "2   5.390289  91.676149\n",
      "3  82.740107  46.059079\n",
      "4  66.924224   6.699428\n",
      "5  70.309964  11.516443\n",
      "-------------------------\n",
      "df.head():\n",
      "           a          b\n",
      "0  73.030042  44.060414\n",
      "1  70.757289  79.973575\n",
      "2   5.390289  91.676149\n",
      "3  82.740107  46.059079\n",
      "4  66.924224   6.699428\n",
      "df.tail():\n",
      "           a          b\n",
      "1  70.757289  79.973575\n",
      "2   5.390289  91.676149\n",
      "3  82.740107  46.059079\n",
      "4  66.924224   6.699428\n",
      "5  70.309964  11.516443\n",
      "装置:\n",
      "           0          1          2          3          4          5\n",
      "a  73.030042  70.757289   5.390289  82.740107  66.924224  70.309964\n",
      "b  44.060414  79.973575  91.676149  46.059079   6.699428  11.516443\n"
     ],
     "output_type": "stream"
    }
   ],
   "source": [
    "# 数据查看、转置\n",
    "# .head()查看头部数据\n",
    "# .tail()查看尾部数据\n",
    "# 默认查看5条\n",
    "\n",
    "df = pd.DataFrame(np.random.rand(12).reshape(6,2)*100,\n",
    "                   columns = ['a','b'])\n",
    "print(df)\n",
    "print('-------------------------')\n",
    "\n",
    "# .head()查看头部数据\n",
    "print('df.head():',df.head(),sep='\\n')  # 默认查看5条\n",
    "\n",
    "# .tail()查看尾部数据\n",
    "print('df.tail():',df.tail(),sep='\\n')  # 默认查看5条\n",
    "\n",
    "# .T 转置\n",
    "print('装置:',df.T,sep='\\n')"
   ],
   "metadata": {
    "collapsed": false,
    "pycharm": {
     "name": "#%%\n",
     "is_executing": false
    }
   }
  },
  {
   "cell_type": "code",
   "execution_count": 23,
   "outputs": [
    {
     "name": "stdout",
     "text": [
      "           a          b          c          d\n",
      "0  79.330734  11.400155  23.154823  58.078311\n",
      "1  69.529421  67.259219  27.391375  22.941492\n",
      "2  60.838557  94.728034   9.949035  91.845331\n",
      "3  90.039547  64.778917  89.947051  97.260848\n",
      "-------------------------\n",
      "列添加结果:\n",
      "           a          b          c          d   e\n",
      "0  79.330734  11.400155  23.154823  58.078311  10\n",
      "1  69.529421  67.259219  27.391375  22.941492  10\n",
      "2  60.838557  94.728034   9.949035  91.845331  10\n",
      "3  90.039547  64.778917  89.947051  97.260848  10\n",
      "行添加结果:\n",
      "           a          b          c          d   e\n",
      "0  79.330734  11.400155  23.154823  58.078311  10\n",
      "1  69.529421  67.259219  27.391375  22.941492  10\n",
      "2  60.838557  94.728034   9.949035  91.845331  10\n",
      "3  90.039547  64.778917  89.947051  97.260848  10\n",
      "5   5.000000   5.000000   5.000000   5.000000   5\n",
      "列修改结果:\n",
      "     a          b    c          d   e\n",
      "0  100  11.400155  100  58.078311  10\n",
      "1  100  67.259219  100  22.941492  10\n",
      "2  100  94.728034  100  91.845331  10\n",
      "3  100  64.778917  100  97.260848  10\n",
      "5  100   5.000000  100   5.000000   5\n",
      "行修改结果:\n",
      "     a           b    c           d    e\n",
      "0  100   11.400155  100   58.078311   10\n",
      "1  200  200.000000  200  200.000000  200\n",
      "2  100   94.728034  100   91.845331   10\n",
      "3  200  200.000000  200  200.000000  200\n",
      "5  100    5.000000  100    5.000000    5\n"
     ],
     "output_type": "stream"
    }
   ],
   "source": [
    "# 添加与修改\n",
    "df = pd.DataFrame(np.random.rand(16).reshape(4,4)*100,\n",
    "                   columns = ['a','b','c','d'])\n",
    "print(df)\n",
    "print('-------------------------')\n",
    "\n",
    "# 列添加\n",
    "df['e'] = 10\n",
    "print('列添加结果:',df,sep='\\n')\n",
    "\n",
    "# 行添加\n",
    "df.loc[5] = 5\n",
    "print('行添加结果:',df,sep='\\n')\n",
    "\n",
    "# 修改\n",
    "df[['a','c']] = 100\n",
    "print('列修改结果:',df,sep='\\n')\n",
    "\n",
    "df.loc[[1,3]] = 200\n",
    "print('行修改结果:',df,sep='\\n')"
   ],
   "metadata": {
    "collapsed": false,
    "pycharm": {
     "name": "#%%\n",
     "is_executing": false
    }
   }
  },
  {
   "cell_type": "code",
   "execution_count": 35,
   "outputs": [
    {
     "name": "stdout",
     "text": [
      "           a          b          c          d\n",
      "0  61.992831   0.245781  43.378231  36.463428\n",
      "1  81.318336  68.919007  90.545388  52.367777\n",
      "2  90.294877  76.402073  15.666492  89.942047\n",
      "3  59.217484  42.972103  11.560793  30.570542\n",
      "-------------------------\n",
      "del df['a']后:\n",
      "           b          c          d\n",
      "0   0.245781  43.378231  36.463428\n",
      "1  68.919007  90.545388  52.367777\n",
      "2  76.402073  15.666492  89.942047\n",
      "3  42.972103  11.560793  30.570542\n",
      "删除b列后:\n",
      "           c          d\n",
      "0  43.378231  36.463428\n",
      "1  90.545388  52.367777\n",
      "2  15.666492  89.942047\n",
      "3  11.560793  30.570542\n",
      "df未变:\n",
      "           b          c          d\n",
      "0   0.245781  43.378231  36.463428\n",
      "1  68.919007  90.545388  52.367777\n",
      "2  76.402073  15.666492  89.942047\n",
      "3  42.972103  11.560793  30.570542\n",
      "删除索引为1,2的行数据:\n",
      "           b          c          d\n",
      "0   0.245781  43.378231  36.463428\n",
      "3  42.972103  11.560793  30.570542\n",
      "df未变:\n",
      "           b          c          d\n",
      "0   0.245781  43.378231  36.463428\n",
      "1  68.919007  90.545388  52.367777\n",
      "2  76.402073  15.666492  89.942047\n",
      "3  42.972103  11.560793  30.570542\n"
     ],
     "output_type": "stream"
    }
   ],
   "source": [
    "# 删除  \n",
    "# del 删除会改变原数据\n",
    "# .drop() 参数nplace=False → 删除后生成新的数据，不改变原数据\n",
    "\n",
    "df = pd.DataFrame(np.random.rand(16).reshape(4,4)*100,\n",
    "                   columns = ['a','b','c','d'])\n",
    "print(df)\n",
    "print('-------------------------')\n",
    "del df['a']\n",
    "print(\"del df['a']后:\",df,sep='\\n')  # 只有b c d散列数据\n",
    "\n",
    "\n",
    "# drop() 删除列 参数axis=1\n",
    "# data1 = df.drop(['b'])  # 报错\n",
    "data1 = df.drop(['b'],axis=1)\n",
    "print('删除b列后:',data1,sep='\\n')\n",
    "print('df未变:',df, sep='\\n')\n",
    "'''\n",
    "    报错:\n",
    "    KeyError: \"['b'] not found in axis\"\n",
    "    查看源码:\n",
    "     def drop(self, labels=None, axis=0, index=None, columns=None,\n",
    "             level=None, inplace=False, errors='raise'):\n",
    "    原来drop()中 aixs=0,是默认删除行的         \n",
    "        \n",
    "'''\n",
    "\n",
    "# drop 删除行\n",
    "data2 = df.drop([1,2])\n",
    "print('删除索引为1,2的行数据:',data2,sep='\\n')\n",
    "print('df未变:',df, sep='\\n')\n"
   ],
   "metadata": {
    "collapsed": false,
    "pycharm": {
     "name": "#%%\n",
     "is_executing": false
    }
   }
  },
  {
   "cell_type": "code",
   "execution_count": 51,
   "outputs": [
    {
     "name": "stdout",
     "text": [
      "df1:\n",
      "          a         b         c         d         e\n",
      "0 -0.771437  0.576449 -1.205220 -0.174389  0.574491\n",
      "1 -1.052373 -0.217659  0.025932  1.346265  1.665915\n",
      "2 -1.934034  0.796602 -0.589602 -0.603452 -0.622497\n",
      "3 -0.626071  0.997315  0.262095  0.755168 -0.277383\n",
      "df2:\n",
      "          a         b     three      four\n",
      "0  0.691809  0.163854 -0.930205  0.244912\n",
      "1 -0.142841  0.429617  0.591790 -1.368127\n",
      "2 -0.898800  0.208997  0.390324  1.076276\n",
      "对齐:df1+df2:\n",
      "          a         b   c   d   e  four  three\n",
      "0 -0.079629  0.740303 NaN NaN NaN   NaN    NaN\n",
      "1 -1.195214  0.211958 NaN NaN NaN   NaN    NaN\n",
      "2 -2.832835  1.005599 NaN NaN NaN   NaN    NaN\n",
      "3       NaN       NaN NaN NaN NaN   NaN    NaN\n"
     ],
     "output_type": "stream"
    }
   ],
   "source": [
    "# 对齐\n",
    "# DataFrame对象之间的数据自动按照列和索引（行标签）对齐\n",
    "# 有共同列和行的数据会相加, 行或者列不同,数据以NaN填充补齐\n",
    "df1 = pd.DataFrame(np.random.randn(4,5),columns=list('abcde'))\n",
    "df2 = pd.DataFrame(np.random.randn(3,4),columns=['a','b','three','four'])\n",
    "print('df1:',df1,sep='\\n')\n",
    "print('df2:',df2,sep='\\n')\n",
    "print('对齐:df1+df2:',df1+df2,sep='\\n')"
   ],
   "metadata": {
    "collapsed": false,
    "pycharm": {
     "name": "#%%\n",
     "is_executing": false
    }
   }
  },
  {
   "cell_type": "code",
   "execution_count": 72,
   "outputs": [
    {
     "name": "stdout",
     "text": [
      "           a          b          c          d\n",
      "0  28.116915   2.865934  95.470537  45.702881\n",
      "1  95.662479   1.048975  49.196878  23.882209\n",
      "2   6.064136  85.079644  16.699507  22.295523\n",
      "3  62.025626  65.755948  83.305129  94.885135\n",
      "------------------------------\n",
      "按a列的值排序(默认升序),结果:\n",
      "           a          b          c          d\n",
      "2   6.064136  85.079644  16.699507  22.295523\n",
      "0  28.116915   2.865934  95.470537  45.702881\n",
      "3  62.025626  65.755948  83.305129  94.885135\n",
      "1  95.662479   1.048975  49.196878  23.882209\n",
      "按a列的值排序(降序),结果:\n",
      "           a          b          c          d\n",
      "1  95.662479   1.048975  49.196878  23.882209\n",
      "3  62.025626  65.755948  83.305129  94.885135\n",
      "0  28.116915   2.865934  95.470537  45.702881\n",
      "2   6.064136  85.079644  16.699507  22.295523\n",
      "   a  b  c\n",
      "0  1  0  8\n",
      "1  1  1  7\n",
      "2  1  2  6\n",
      "3  1  3  5\n",
      "4  2  4  4\n",
      "5  2  5  3\n",
      "6  2  6  2\n",
      "7  2  7  1\n",
      "-------------------------------\n",
      "多列排序,按a c两列排:    a  b  c\n",
      "3  1  3  5\n",
      "2  1  2  6\n",
      "1  1  1  7\n",
      "0  1  0  8\n",
      "7  2  7  1\n",
      "6  2  6  2\n",
      "5  2  5  3\n",
      "4  2  4  4\n",
      "sssssssssss\n"
     ],
     "output_type": "stream"
    }
   ],
   "source": [
    "# 排序1 - 按值排序 .sort_values() 默认升序\n",
    "# 同样适用于Series\n",
    "df = pd.DataFrame(np.random.rand(16).reshape(4,4)*100,\n",
    "                   columns = ['a','b','c','d'])\n",
    "print(df)\n",
    "print('------------------------------')\n",
    "\n",
    "# 单列排序\n",
    "# ascending参数：设置升序降序，默认升序\n",
    "data_sheng = df.sort_values(['a'])\n",
    "print('按a列的值排序(默认升序),结果:',data_sheng,sep='\\n')\n",
    "\n",
    "data_sheng = df.sort_values(['a'],ascending=False)  # 降序\n",
    "print('按a列的值排序(降序),结果:',data_sheng,sep='\\n')\n",
    "\n",
    "# 多列排序 按列顺序排序\n",
    "\n",
    "df2 = pd.DataFrame({'a':[1,1,1,1,2,2,2,2],\n",
    "                  'b':list(range(8)),\n",
    "                  'c':list(range(8,0,-1))})\n",
    "print(df2)\n",
    "print('-------------------------------')\n",
    "print('多列排序,按a c两列排:',df2.sort_values(['a','c']))\n",
    "print('sssssssssss')"
   ],
   "metadata": {
    "collapsed": false,
    "pycharm": {
     "name": "#%%\n",
     "is_executing": false
    }
   }
  },
  {
   "cell_type": "code",
   "execution_count": 4,
   "outputs": [
    {
     "name": "stdout",
     "text": [
      "           a          b          c          d\n",
      "5  93.654577  76.751638  71.369369  36.015022\n",
      "4  59.444658  63.871290  29.115092  44.948165\n",
      "3  31.012306  43.183335  59.006653  67.292303\n",
      "2  97.159454  99.029686  85.550277  83.239840\n",
      "--------------------------------------\n",
      "df1按照索引排序:\n",
      "           a          b          c          d\n",
      "2  97.159454  99.029686  85.550277  83.239840\n",
      "3  31.012306  43.183335  59.006653  67.292303\n",
      "4  59.444658  63.871290  29.115092  44.948165\n",
      "5  93.654577  76.751638  71.369369  36.015022\n",
      "--------------df2:----------------\n",
      "           a          b          c          d\n",
      "h  82.151010   1.020782   6.336697  32.854831\n",
      "s  25.093479   2.243624  24.679984  54.125508\n",
      "x   2.945762  84.414500  50.044999  37.604035\n",
      "g  96.268348  86.634679  13.095740  60.667239\n",
      "df2按照索引排序:\n",
      "           a          b          c          d\n",
      "x   2.945762  84.414500  50.044999  37.604035\n",
      "s  25.093479   2.243624  24.679984  54.125508\n",
      "h  82.151010   1.020782   6.336697  32.854831\n",
      "g  96.268348  86.634679  13.095740  60.667239\n"
     ],
     "output_type": "stream"
    }
   ],
   "source": [
    "# 排序2 - 按索引排序 sort_index() 默认升序\n",
    "# 默认 ascending=True, inplace=False\n",
    "\n",
    "\n",
    "df1 = pd.DataFrame(np.random.rand(16).reshape(4,4)*100,\n",
    "                  index = [5,4,3,2],\n",
    "                   columns = ['a','b','c','d'])\n",
    "df2 = pd.DataFrame(np.random.rand(16).reshape(4,4)*100,\n",
    "                  index = ['h','s','x','g'],\n",
    "                   columns = ['a','b','c','d'])\n",
    "# 按照index排序\n",
    "print(df1)\n",
    "print('--------------------------------------')\n",
    "print('df1按照索引排序:',df1.sort_index(),sep='\\n')\n",
    "print('--------------df2:----------------')\n",
    "print(df2)\n",
    "print('df2按照索引排序:',df2.sort_index(ascending=False),sep='\\n')\n"
   ],
   "metadata": {
    "collapsed": false,
    "pycharm": {
     "name": "#%%\n",
     "is_executing": false
    }
   }
  }
 ],
 "metadata": {
  "kernelspec": {
   "display_name": "Python 3",
   "language": "python",
   "name": "python3"
  },
  "language_info": {
   "codemirror_mode": {
    "name": "ipython",
    "version": 2
   },
   "file_extension": ".py",
   "mimetype": "text/x-python",
   "name": "python",
   "nbconvert_exporter": "python",
   "pygments_lexer": "ipython2",
   "version": "2.7.6"
  },
  "pycharm": {
   "stem_cell": {
    "cell_type": "raw",
    "source": [],
    "metadata": {
     "collapsed": false
    }
   }
  }
 },
 "nbformat": 4,
 "nbformat_minor": 0
}