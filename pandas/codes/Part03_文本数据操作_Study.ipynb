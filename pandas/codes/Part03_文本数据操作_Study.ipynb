{
 "cells": [
  {
   "cell_type": "code",
   "execution_count": 1,
   "metadata": {
    "collapsed": true,
    "pycharm": {
     "is_executing": false
    }
   },
   "outputs": [
    {
     "data": {
      "text/plain": "'\\n    文本数据\\n\\n    Pandas针对字符串配备的一套方法，使其易于对数组的每个元素进行操作\\n'"
     },
     "metadata": {},
     "output_type": "execute_result",
     "execution_count": 1
    }
   ],
   "source": [
    "'''\n",
    "    文本数据\n",
    "\n",
    "    Pandas针对字符串配备的一套方法，使其易于对数组的每个元素进行操作\n",
    "'''\n"
   ]
  },
  {
   "cell_type": "code",
   "execution_count": 4,
   "outputs": [],
   "source": [
    "import numpy as np\n",
    "import pandas as pd"
   ],
   "metadata": {
    "collapsed": false,
    "pycharm": {
     "name": "#%%\n",
     "is_executing": false
    }
   }
  },
  {
   "cell_type": "code",
   "execution_count": 13,
   "outputs": [
    {
     "name": "stdout",
     "text": [
      "s:\n",
      "0          A\n",
      "1          B\n",
      "2          C\n",
      "3    bbhello\n",
      "4        123\n",
      "5        NaN\n",
      "6         hj\n",
      "dtype: object\n",
      "df:\n",
      "  key1  key2\n",
      "0    a   hee\n",
      "1    b    fv\n",
      "2    c     w\n",
      "3    d  hija\n",
      "4    e   123\n",
      "5    f   NaN\n",
      "-----------------------\n",
      "统计字母b出现的次数\n",
      "0    0.0\n",
      "1    0.0\n",
      "2    0.0\n",
      "3    2.0\n",
      "4    0.0\n",
      "5    NaN\n",
      "6    0.0\n",
      "dtype: float64\n",
      "df中key2列的字母都大写:\n",
      "0     HEE\n",
      "1      FV\n",
      "2       W\n",
      "3    HIJA\n",
      "4     123\n",
      "5     NaN\n",
      "Name: key2, dtype: object\n",
      "df的列名称都大写:\n",
      "  KEY1  KEY2\n",
      "0    a   hee\n",
      "1    b    fv\n",
      "2    c     w\n",
      "3    d  hija\n",
      "4    e   123\n",
      "5    f   NaN\n"
     ],
     "output_type": "stream"
    }
   ],
   "source": [
    "# 通过str访问，且自动排除丢失/ NA值\n",
    "# 直接通过.str调用字符串方法\n",
    "# 可以对Series、Dataframe使用\n",
    "# 自动过滤NaN值\n",
    "\n",
    "s = pd.Series(['A','B','C','bbhello','123',np.nan,'hj'])\n",
    "df = pd.DataFrame({'key1':list('abcdef'),\n",
    "                  'key2':['hee','fv','w','hija','123',np.nan]})\n",
    "print('s:',s,sep='\\n')\n",
    "print('df:',df,sep='\\n')\n",
    "print('-----------------------')\n",
    "\n",
    "# 统计字母b出现的次数\n",
    "print('统计字母b出现的次数',s.str.count('b'),sep='\\n')\n",
    "# df中key2列的字母都大写\n",
    "print('df中key2列的字母都大写:',df['key2'].str.upper(),sep='\\n')\n",
    "# df的列名称都大写\n",
    "df.columns = df.columns.str.upper()\n",
    "print('df的列名称都大写:',df,sep='\\n')\n",
    "# df.columns是一个Index对象，也可使用.str"
   ],
   "metadata": {
    "collapsed": false,
    "pycharm": {
     "name": "#%%\n",
     "is_executing": false
    }
   }
  },
  {
   "cell_type": "code",
   "execution_count": 15,
   "outputs": [
    {
     "name": "stdout",
     "text": [
      "0          a\n",
      "1          b\n",
      "2    bbhello\n",
      "3        123\n",
      "4        NaN\n",
      "dtype: object → lower小写\n",
      "\n",
      "0          A\n",
      "1          B\n",
      "2    BBHELLO\n",
      "3        123\n",
      "4        NaN\n",
      "dtype: object → upper大写\n",
      "\n",
      "0    1.0\n",
      "1    1.0\n",
      "2    7.0\n",
      "3    3.0\n",
      "4    NaN\n",
      "dtype: float64 → len字符长度\n",
      "\n",
      "0    False\n",
      "1     True\n",
      "2     True\n",
      "3    False\n",
      "4      NaN\n",
      "dtype: object → 判断起始是否为b\n",
      "\n",
      "0    False\n",
      "1    False\n",
      "2    False\n",
      "3     True\n",
      "4      NaN\n",
      "dtype: object → 判断结束是否为3\n",
      "\n"
     ],
     "output_type": "stream"
    }
   ],
   "source": [
    "# 字符串常用方法（1） - lower，upper，len，startswith，endswith\n",
    "\n",
    "s = pd.Series(['A','b','bbhello','123',np.nan])\n",
    "\n",
    "print(s.str.lower(),'→ lower小写\\n')\n",
    "print(s.str.upper(),'→ upper大写\\n')\n",
    "print(s.str.len(),'→ len字符长度\\n')\n",
    "print(s.str.startswith('b'),'→ 判断起始是否为b\\n')\n",
    "print(s.str.endswith('3'),'→ 判断结束是否为3\\n')\n"
   ],
   "metadata": {
    "collapsed": false,
    "pycharm": {
     "name": "#%%\n",
     "is_executing": false
    }
   }
  },
  {
   "cell_type": "code",
   "execution_count": 34,
   "outputs": [
    {
     "name": "stdout",
     "text": [
      "s:\n",
      "0        jack\n",
      "1       jill \n",
      "2     jes se \n",
      "3      fr ank\n",
      "dtype: object\n",
      "df:\n",
      "      Column A                Column B    \n",
      "0     -0.018366                   0.019211\n",
      "1     -1.745238                  -0.562363\n",
      "2      1.203093                  -0.473534\n",
      "去除字符串中的空格(不包括中间空格):\n",
      "0      jack\n",
      "1      jill\n",
      "2    jes se\n",
      "3    fr ank\n",
      "dtype: object\n",
      "去除字符串中的左空格(不包括中间空格):\n",
      "0       jack\n",
      "1      jill \n",
      "2    jes se \n",
      "3     fr ank\n",
      "dtype: object\n",
      "去除字符串中的右空格(不包括中间空格):\n",
      "0       jack\n",
      "1       jill\n",
      "2     jes se\n",
      "3     fr ank\n",
      "dtype: object\n",
      "   Column A  Column B\n",
      "0 -0.018366  0.019211\n",
      "1 -1.745238 -0.562363\n",
      "2  1.203093 -0.473534\n"
     ],
     "output_type": "stream"
    }
   ],
   "source": [
    "# 字符串常用方法（2） - strip 去除字符串中的空格(不包括中间空格)\n",
    "\n",
    "s = pd.Series([' jack', 'jill ', ' jes se ', 'fr ank'])\n",
    "df = pd.DataFrame(np.random.randn(3, 2), columns=['   Column A ', '             Column B    '],\n",
    "                  index=range(3))\n",
    "print('s:',s,sep='\\n')\n",
    "print('df:',df,sep='\\n')\n",
    "\n",
    "print('去除字符串中的空格(不包括中间空格):',s.str.strip(),sep='\\n')  \n",
    "print('去除字符串中的左空格(不包括中间空格):',s.str.lstrip(),sep='\\n')  \n",
    "print('去除字符串中的右空格(不包括中间空格):',s.str.rstrip(),sep='\\n')  \n",
    "\n",
    "df.columns = df.columns.str.strip()\n",
    "print(df)\n",
    "# 这里去掉了columns的前后空格，但没有去掉中间空格"
   ],
   "metadata": {
    "collapsed": false,
    "pycharm": {
     "name": "#%%\n",
     "is_executing": false
    }
   }
  },
  {
   "cell_type": "code",
   "execution_count": 50,
   "outputs": [
    {
     "name": "stdout",
     "text": [
      "将空格替换成+++\n",
      "0        jack\n",
      "1       jill \n",
      "2     jes se \n",
      "3      fr ank\n",
      "dtype: object\n",
      "df名称改变:\n",
      "   -Column-A-  -Column-B-\n",
      "0   -0.243746   -0.074930\n",
      "1   -0.548231   -0.844910\n",
      "2   -2.446569    0.005277\n",
      "df名称替换字符串增加个数限制:\n",
      "   RColumnRA-  RColumnRB-\n",
      "0   -0.243746   -0.074930\n",
      "1   -0.548231   -0.844910\n",
      "2   -2.446569    0.005277\n"
     ],
     "output_type": "stream"
    }
   ],
   "source": [
    "# 字符串常用方法（3） - replace  替换  Series无此方法  DataFrame有\n",
    "s = pd.Series([' jack', 'jill ', ' jes se ', 'fr ank'])\n",
    "df = pd.DataFrame(np.random.randn(3, 2), columns=[' Column A ', ' Column B '],\n",
    "                  index=range(3))\n",
    "s.str.replace('j','+++')  # 无效\n",
    "print('将空格替换成+++',s,sep='\\n')\n",
    "\n",
    "# DataFrame的列名称,空格被替换\n",
    "df.columns = df.columns.str.replace(' ','-')\n",
    "print('df名称改变:',df,sep='\\n')\n",
    "\n",
    "# 参数n：替换个数\n",
    "df.columns = df.columns.str.replace('-','R',n=2)  # 替换2个'-' 为R\n",
    "print('df名称替换字符串增加个数限制:',df,sep='\\n')"
   ],
   "metadata": {
    "collapsed": false,
    "pycharm": {
     "name": "#%%\n",
     "is_executing": false
    }
   }
  },
  {
   "cell_type": "code",
   "execution_count": 79,
   "outputs": [
    {
     "name": "stdout",
     "text": [
      "s:\n",
      "0      a,b,c\n",
      "1      1,2,3\n",
      "2    [a,,,c]\n",
      "3        NaN\n",
      "dtype: object\n",
      "s.str.split(','):\n",
      "0    [a, b, c]\n",
      "1    [1, 2, 3]\n",
      "2          NaN\n",
      "3          NaN\n",
      "dtype: object\n",
      "获取拆分后列表中下标为1的元素:\n",
      "0      b\n",
      "1      2\n",
      "2    NaN\n",
      "3    NaN\n",
      "dtype: object\n",
      "获取拆分后列表中下标为2的元素:\n",
      "0      c\n",
      "1      3\n",
      "2    NaN\n",
      "3    NaN\n",
      "dtype: object\n",
      "使用expand=True获取DataFrame:\n",
      "     0    1    2\n",
      "0    a    b    c\n",
      "1    1    2    3\n",
      "2  NaN  NaN  NaN\n",
      "3  NaN  NaN  NaN\n",
      "使用expand=True获取DataFrame,限制分割一次:\n",
      "     0    1\n",
      "0    a  b,c\n",
      "1    1  2,3\n",
      "2  NaN  NaN\n",
      "3  NaN  NaN\n",
      "使用expand=True获取DataFrame,限制分割一次(反向分割):\n",
      "     0    1\n",
      "0  a,b    c\n",
      "1  1,2    3\n",
      "2  NaN  NaN\n",
      "3  NaN  NaN\n",
      "df:\n",
      "      key1     key2\n",
      "0    a,b,c    a-b-c\n",
      "1    1,2,3    1-2-3\n",
      "2  [:,., ]  [:-.- ]\n",
      "DataFrame操作第二列数据:\n",
      "0    [a, b, c]\n",
      "1    [1, 2, 3]\n",
      "2          NaN\n",
      "Name: key2, dtype: object\n",
      "DataFrame操作列名称数据:\n",
      "Index([['', 'ey1'], ['', 'ey2']], dtype='object')\n",
      "<class 'pandas.core.indexes.base.Index'>\n"
     ],
     "output_type": "stream"
    }
   ],
   "source": [
    "# 字符串常用方法（4） - split、rsplit\n",
    "\n",
    "s = pd.Series(['a,b,c','1,2,3',['a,,,c'],np.nan])\n",
    "print('s:',s,sep='\\n')\n",
    "\n",
    "str_sp = s.str.split(',')\n",
    "print(\"s.str.split(','):\",str_sp,sep='\\n')\n",
    "\n",
    "# 可以使用get或[]符号访问拆分列表中的元素\n",
    "print('获取拆分后列表中下标为1的元素:',str_sp.str[1],sep='\\n')\n",
    "print('获取拆分后列表中下标为2的元素:',str_sp.str.get(2),sep='\\n')\n",
    "\n",
    "\n",
    "# 使用expand参数可以轻松扩展此操作以返回DataFrame\n",
    "print('使用expand=True获取DataFrame:',s.str.split(',', expand=True),sep='\\n')\n",
    "# n参数限制分割数\n",
    "print('使用expand=True获取DataFrame,限制分割一次:',s.str.split(',', expand=True,n = 1),sep='\\n')\n",
    "# rsplit类似于split，反向工作，即从字符串的末尾到字符串的开头\n",
    "print('使用expand=True获取DataFrame,限制分割一次(反向分割):',s.str.rsplit(',', expand=True,n = 1),sep='\\n')\n",
    "\n",
    "# Dataframe使用split\n",
    "\n",
    "df = pd.DataFrame({'key1':['a,b,c','1,2,3',[':,., ']],\n",
    "                  'key2':['a-b-c','1-2-3',[':-.- ']]})\n",
    "print('df:',df,sep='\\n')\n",
    "result = df['key2'].str.split('-')\n",
    "print('DataFrame操作第二列数据:',result,sep='\\n')\n",
    "\n",
    "result = df.columns.str.split('k')  \n",
    "print('DataFrame操作列名称数据:',result,sep='\\n')  #  应用场景少,好奇尝试下\n",
    "print(type(result))"
   ],
   "metadata": {
    "collapsed": false,
    "pycharm": {
     "name": "#%%\n",
     "is_executing": false
    }
   }
  },
  {
   "cell_type": "code",
   "execution_count": 82,
   "outputs": [
    {
     "name": "stdout",
     "text": [
      "s:\n",
      "0          A\n",
      "1          b\n",
      "2          C\n",
      "3    bbhello\n",
      "4        123\n",
      "5        NaN\n",
      "6         hj\n",
      "dtype: object\n",
      "df:\n",
      "  key1  key2\n",
      "0    a   hee\n",
      "1    b    fv\n",
      "2    c     w\n",
      "3    d  hija\n",
      "4    e   123\n",
      "5    f   NaN\n",
      "--------------------------\n",
      "s取第一个字符:\n",
      "0      A\n",
      "1      b\n",
      "2      C\n",
      "3      b\n",
      "4      1\n",
      "5    NaN\n",
      "6      h\n",
      "dtype: object\n",
      "s取前两个字符:\n",
      "0      A\n",
      "1      b\n",
      "2      C\n",
      "3     bb\n",
      "4     12\n",
      "5    NaN\n",
      "6     hj\n",
      "dtype: object\n",
      "df去列名称为key2的值得第一个字符\n",
      "0      h\n",
      "1      f\n",
      "2      w\n",
      "3      h\n",
      "4      1\n",
      "5    NaN\n",
      "Name: key2, dtype: object\n"
     ],
     "output_type": "stream"
    }
   ],
   "source": [
    "# 字符串索引\n",
    "\n",
    "s = pd.Series(['A','b','C','bbhello','123',np.nan,'hj'])\n",
    "df = pd.DataFrame({'key1':list('abcdef'),\n",
    "                  'key2':['hee','fv','w','hija','123',np.nan]})\n",
    "print('s:',s,sep='\\n')\n",
    "print('df:',df,sep='\\n')\n",
    "print('--------------------------')\n",
    "print('s取第一个字符:',s.str[0],sep='\\n')  # 取第一个字符\n",
    "print('s取前两个字符:',s.str[:2],sep='\\n')  # 取前两个字符\n",
    "print('df取列名称为key2的值得第一个字符',df['key2'].str[0],sep='\\n')  # \n",
    "# str之后和字符串本身索引方式相同\n"
   ],
   "metadata": {
    "collapsed": false,
    "pycharm": {
     "name": "#%%\n",
     "is_executing": false
    }
   }
  }
 ],
 "metadata": {
  "kernelspec": {
   "display_name": "Python 3",
   "language": "python",
   "name": "python3"
  },
  "language_info": {
   "codemirror_mode": {
    "name": "ipython",
    "version": 2
   },
   "file_extension": ".py",
   "mimetype": "text/x-python",
   "name": "python",
   "nbconvert_exporter": "python",
   "pygments_lexer": "ipython2",
   "version": "2.7.6"
  },
  "pycharm": {
   "stem_cell": {
    "cell_type": "raw",
    "source": [],
    "metadata": {
     "collapsed": false
    }
   }
  }
 },
 "nbformat": 4,
 "nbformat_minor": 0
}