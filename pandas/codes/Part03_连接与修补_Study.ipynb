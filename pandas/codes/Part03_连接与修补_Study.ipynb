{
 "cells": [
  {
   "cell_type": "code",
   "execution_count": 1,
   "metadata": {
    "collapsed": true,
    "pycharm": {
     "is_executing": false
    }
   },
   "outputs": [
    {
     "data": {
      "text/plain": "\"\\n    连接与修补 concat、combine_first\\n    \\n    连接 - 沿轴执行连接操作\\n    \\n    pd.concat(objs, axis=0, join='outer', join_axes=None, ignore_index=False,\\n              keys=None, levels=None, names=None, verify_integrity=False,\\n              copy=True)\\n\""
     },
     "metadata": {},
     "output_type": "execute_result",
     "execution_count": 1
    }
   ],
   "source": [
    "'''\n",
    "    连接与修补 concat、combine_first\n",
    "    \n",
    "    连接 - 沿轴执行连接操作\n",
    "    \n",
    "    pd.concat(objs, axis=0, join='outer', join_axes=None, ignore_index=False,\n",
    "              keys=None, levels=None, names=None, verify_integrity=False,\n",
    "              copy=True)\n",
    "'''"
   ]
  },
  {
   "cell_type": "code",
   "execution_count": 4,
   "outputs": [],
   "source": [
    "import numpy as np\n",
    "import pandas as pd"
   ],
   "metadata": {
    "collapsed": false,
    "pycharm": {
     "name": "#%%\n",
     "is_executing": false
    }
   }
  },
  {
   "cell_type": "code",
   "execution_count": 14,
   "outputs": [
    {
     "name": "stdout",
     "text": [
      "0    1\n",
      "1    2\n",
      "2    3\n",
      "dtype: int64\n",
      "\n",
      "0    4\n",
      "1    5\n",
      "2    6\n",
      "dtype: int64\n",
      "s1和s2连接:\n",
      "0    1\n",
      "1    2\n",
      "2    3\n",
      "0    4\n",
      "1    5\n",
      "2    6\n",
      "dtype: int64\n",
      "s3和s4连接(列连接列):\n",
      "   0  1\n",
      "0  1  3\n",
      "1  2  2\n",
      "2  3  1\n",
      "type(result): <class 'pandas.core.frame.DataFrame'>\n"
     ],
     "output_type": "stream"
    }
   ],
   "source": [
    "# 连接：concat  \n",
    "# 默认axis=0 沿行的方向进行,即行连接行\n",
    "s1 = pd.Series([1,2,3])\n",
    "s2 = pd.Series([4,5,6])\n",
    "s3 = pd.Series([1,2,3])\n",
    "s4 = pd.Series([3,2,1])\n",
    "print(s1,s2,sep='\\n\\n')\n",
    "print('s1和s2连接:',pd.concat([s1,s2]),sep='\\n')  # 入参必须是:an iterable of pandas objects\n",
    "'''\n",
    "TypeError: first argument must be an iterable of pandas objects, \n",
    "you passed an object of type \"Series\"\n",
    "'''\n",
    "\n",
    "# axis=1 列+列\n",
    "result = pd.concat([s3,s4],axis=1)\n",
    "print('s3和s4连接(列连接列):',result,sep='\\n')\n",
    "print('type(result):',type(result))  # 返回DataFrame类型"
   ],
   "metadata": {
    "collapsed": false,
    "pycharm": {
     "name": "#%%\n",
     "is_executing": false
    }
   }
  },
  {
   "cell_type": "code",
   "execution_count": 42,
   "outputs": [
    {
     "name": "stdout",
     "text": [
      "s5:\n",
      "a    1\n",
      "b    2\n",
      "c    3\n",
      "dtype: int64\n",
      "s6:\n",
      "b    4\n",
      "c    5\n",
      "d    6\n",
      "dtype: int64\n",
      "s5,s6列连接,默认并集:\n",
      "     0    1\n",
      "a  1.0  NaN\n",
      "b  2.0  4.0\n",
      "c  3.0  5.0\n",
      "d  NaN  6.0\n",
      "type(result_outer): <class 'pandas.core.frame.DataFrame'>\n",
      "result_outer.dtypes:\n",
      "0    float64\n",
      "1    float64\n",
      "dtype: object\n",
      "s5,s6列连接,取交集:\n",
      "   0  1\n",
      "b  2  4\n",
      "c  3  5\n",
      "type(result_inner): <class 'pandas.core.frame.DataFrame'>\n",
      "result_inner.dtypes:\n",
      "0    int64\n",
      "1    int64\n",
      "dtype: object\n",
      "指定联合的index:\n",
      "     0    1\n",
      "a  1.0  NaN\n",
      "b  2.0  4.0\n",
      "d  NaN  6.0\n"
     ],
     "output_type": "stream"
    }
   ],
   "source": [
    "# 连接方式(关键字参数)\n",
    "# join:默认为join='outer',取并集,缺失值默认为NaN; inner为交集\n",
    "# join_axes: 默认为join_axes=None\n",
    "\n",
    "s5 = pd.Series([1,2,3],index=['a','b','c'])\n",
    "s6 = pd.Series([4,5,6],index=['b','c','d'])\n",
    "print('s5:',s5,sep='\\n')\n",
    "print('s6:',s6,sep='\\n')\n",
    "\n",
    "# s5,s6列连接,默认并集\n",
    "result_outer = pd.concat([s5,s6],axis=1,sort=True)\n",
    "print('s5,s6列连接,默认并集:',result_outer,sep='\\n')\n",
    "print('type(result_outer):',type(result_outer))\n",
    "print('result_outer.dtypes:',result_outer.dtypes,sep='\\n')  # 元素的类型为float64\n",
    "\n",
    "# s5,s6列连接,取交集\n",
    "result_inner = pd.concat([s5,s6],axis=1,join='inner')\n",
    "print('s5,s6列连接,取交集:',result_inner,sep='\\n')\n",
    "print('type(result_inner):',type(result_inner))\n",
    "print('result_inner.dtypes:',result_inner.dtypes,sep='\\n')  # 元素的类型为int64\n",
    "\n",
    "# join_axes：指定联合的index\n",
    "result_axes = pd.concat([s5,s6],axis=1,join_axes=[['a','b','d']])  # 传['a','b','d']单一列表会报错,如下注释\n",
    "\n",
    "'''\n",
    "    AssertionError: length of join_axes must be equal to 1  join_axes的长度必须等于1\n",
    "    源码:\n",
    "    join_axes : list of Index objects  参数必须为索引对象列表\n",
    "'''\n",
    "print('指定联合的index:',result_axes,sep='\\n')"
   ],
   "metadata": {
    "collapsed": false,
    "pycharm": {
     "name": "#%%\n",
     "is_executing": false
    }
   }
  },
  {
   "cell_type": "code",
   "execution_count": 44,
   "outputs": [
    {
     "name": "stdout",
     "text": [
      "s5,s6行连接,取并集,增加行索引名:\n",
      "one  a    1\n",
      "     b    2\n",
      "     c    3\n",
      "two  b    4\n",
      "     c    5\n",
      "     d    6\n",
      "dtype: int64\n",
      "type(sre): <class 'pandas.core.series.Series'>\n",
      "sre.index: MultiIndex(levels=[['one', 'two'], ['a', 'b', 'c', 'd']],\n",
      "           codes=[[0, 0, 0, 1, 1, 1], [0, 1, 2, 1, 2, 3]])\n",
      "s5,s6列连接,取并集,增加列索引名:\n",
      "   one  two\n",
      "a  1.0  NaN\n",
      "b  2.0  4.0\n",
      "c  3.0  5.0\n",
      "d  NaN  6.0\n",
      "type(sre2): <class 'pandas.core.frame.DataFrame'>\n"
     ],
     "output_type": "stream"
    }
   ],
   "source": [
    "# 覆盖列名 之前列连接得到的DataFrame的列名都是默认0开始的正整数\n",
    "# keys：序列，默认值无。使用传递的键作为最外层构建层次索引\n",
    "# keys = ['索引名1','索引名2',......] 可以修改索引名\n",
    "\n",
    "sre = pd.concat([s5,s6],keys=['one','two'])\n",
    "print('s5,s6行连接,取并集,增加行索引名:',sre,sep='\\n')\n",
    "print('type(sre):',type(sre))  # 为 Series\n",
    "print('sre.index:',sre.index)  # 返回多重索引\n",
    "\n",
    "sre2 = pd.concat([s5,s6],axis=1,sort=True, keys=['one','two'])\n",
    "print('s5,s6列连接,取并集,增加列索引名:',sre2,sep='\\n')\n",
    "print('type(sre2):',type(sre2))  # 为 DataFrame"
   ],
   "metadata": {
    "collapsed": false,
    "pycharm": {
     "name": "#%%\n",
     "is_executing": false
    }
   }
  },
  {
   "cell_type": "code",
   "execution_count": 56,
   "outputs": [
    {
     "name": "stdout",
     "text": [
      "df1:\n",
      "     0    1    2\n",
      "0  NaN  3.0  5.0\n",
      "1 -4.6  NaN  NaN\n",
      "2  NaN  7.0  NaN\n",
      "df2:\n",
      "      0    1    2\n",
      "a -42.6  NaN -8.2\n",
      "2  -5.0  1.6  4.0\n",
      "------------------------------------------------\n",
      "修补后:\n",
      "      0    1    2\n",
      "0   NaN  3.0  5.0\n",
      "1  -4.6  NaN  NaN\n",
      "2  -5.0  7.0  4.0\n",
      "a -42.6  NaN -8.2\n",
      "df1未改变:\n",
      "     0    1    2\n",
      "0  NaN  3.0  5.0\n",
      "1 -4.6  NaN  NaN\n",
      "2  NaN  7.0  NaN\n",
      "------------------------------------------------\n",
      "df2覆盖df1后:\n",
      "     0    1    2\n",
      "0  NaN  3.0  5.0\n",
      "1 -4.6  NaN  NaN\n",
      "2 -5.0  1.6  4.0\n",
      "None\n"
     ],
     "output_type": "stream"
    }
   ],
   "source": [
    "# 修补 combine_first()   \n",
    "# 原DataFrame不会改变,返回改变后值\n",
    "df1 = pd.DataFrame([[np.nan, 3., 5.], [-4.6, np.nan, np.nan],[np.nan, 7., np.nan]])\n",
    "df2 = pd.DataFrame([[-42.6, np.nan, -8.2], [-5., 1.6, 4]],index=['a', 2])\n",
    "print('df1:',df1,sep='\\n')\n",
    "print('df2:',df2,sep='\\n')\n",
    "print('------------------------------------------------')\n",
    "\n",
    "print('修补后:',df1.combine_first(df2),sep='\\n')\n",
    "# 根据index，df1的空值被df2替代\n",
    "# 如果df2的index多于df1或者不一致，则更新到df1上\n",
    "print('df1未改变:',df1,sep='\\n')\n",
    "print('------------------------------------------------')\n",
    "\n",
    "# 覆盖 update()\n",
    "# 原DataFrame会改变,就地返回None\n",
    "df1.update(df2)  # \n",
    "print('df2覆盖df1后:',df1,sep='\\n')\n",
    "# update，直接df2覆盖df1，相同index位置\n",
    "print(df1.update(df2))\n"
   ],
   "metadata": {
    "collapsed": false,
    "pycharm": {
     "name": "#%%\n",
     "is_executing": false
    }
   }
  }
 ],
 "metadata": {
  "kernelspec": {
   "display_name": "Python 3",
   "language": "python",
   "name": "python3"
  },
  "language_info": {
   "codemirror_mode": {
    "name": "ipython",
    "version": 2
   },
   "file_extension": ".py",
   "mimetype": "text/x-python",
   "name": "python",
   "nbconvert_exporter": "python",
   "pygments_lexer": "ipython2",
   "version": "2.7.6"
  },
  "pycharm": {
   "stem_cell": {
    "cell_type": "raw",
    "source": [],
    "metadata": {
     "collapsed": false
    }
   }
  }
 },
 "nbformat": 4,
 "nbformat_minor": 0
}