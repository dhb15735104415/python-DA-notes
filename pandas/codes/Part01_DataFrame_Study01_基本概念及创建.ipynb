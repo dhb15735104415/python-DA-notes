{
 "cells": [
  {
   "cell_type": "code",
   "execution_count": 1,
   "metadata": {
    "collapsed": true,
    "pycharm": {
     "is_executing": false
    }
   },
   "outputs": [
    {
     "data": {
      "text/plain": "'\\n     Pandas数据结构Dataframe：基本概念及创建\\n\\n    \"二维数组\"Dataframe：是一个表格型的数据结构，包含一组有序的列，其列的值类型可以是数值、字符串、布尔值等。\\n    \\n    Dataframe中的数据以一个或多个二维块存放，不是列表、字典或一维数组结构。\\n'"
     },
     "metadata": {},
     "output_type": "execute_result",
     "execution_count": 1
    }
   ],
   "source": [
    "'''\n",
    "     Pandas数据结构Dataframe：基本概念及创建\n",
    "\n",
    "    \"二维数组\"Dataframe：是一个表格型的数据结构，包含一组有序的列，其列的值类型可以是数值、字符串、布尔值等。\n",
    "    \n",
    "    Dataframe中的数据以一个或多个二维块存放，不是列表、字典或一维数组结构。\n",
    "'''"
   ]
  },
  {
   "cell_type": "code",
   "execution_count": 2,
   "outputs": [],
   "source": [
    "import numpy as np\n",
    "import pandas as pd"
   ],
   "metadata": {
    "collapsed": false,
    "pycharm": {
     "name": "#%%\n",
     "is_executing": false
    }
   }
  },
  {
   "cell_type": "code",
   "execution_count": 83,
   "outputs": [
    {
     "name": "stdout",
     "text": [
      "dataframe:\n",
      "  name  age gendor\n",
      "0   张三   18      男\n",
      "1   李四   25      女\n",
      "2   王五   23      男\n",
      "type(dataframe): <class 'pandas.core.frame.DataFrame'>\n",
      "index为:RangeIndex(start=0, stop=3, step=1)\n",
      "type(index):<class 'pandas.core.indexes.range.RangeIndex'>'\n",
      "------------------------------------\n",
      "columns:Index(['name', 'age', 'gendor'], dtype='object')\n",
      "type(columns):<class 'pandas.core.indexes.base.Index'>'\n",
      "------------------------------------\n",
      "values为:[['张三' 18 '男']\n",
      " ['李四' 25 '女']\n",
      " ['王五' 23 '男']]\n",
      "type(values):<class 'numpy.ndarray'>'\n"
     ],
     "output_type": "stream"
    }
   ],
   "source": [
    "# Dataframe 数据结构\n",
    "# Dataframe是一个表格型的数据结构，“带有标签的二维数组”。\n",
    "# Dataframe带有index（行标签）和columns（列标签）\n",
    "\n",
    "data = {\n",
    "    'name':['张三','李四','王五'],\n",
    "    'age':[18,25,23],\n",
    "    'gendor':['男','女','男']\n",
    "}\n",
    "dataframe = pd.DataFrame(data)\n",
    "print('dataframe:',dataframe,sep='\\n')\n",
    "# 查看数据，数据类型为dataframe\n",
    "print('type(dataframe):',type(dataframe)) # 查看数据，数据类型为dataframe\n",
    "\n",
    "# .index查看行标签及数据类型\n",
    "print(f\"index为:{dataframe.index}\\ntype(index):{type(dataframe.index)}'\")\n",
    "print('------------------------------------')\n",
    "# .columns查看列标签及数据类型\n",
    "print(f\"columns:{dataframe.columns}\\ntype(columns):{type(dataframe.columns)}'\")\n",
    "print('------------------------------------')\n",
    "# .values查看值及数据类型\n",
    "print(f\"values为:{dataframe.values}\\ntype(values):{type(dataframe.values)}'\")"
   ],
   "metadata": {
    "collapsed": false,
    "pycharm": {
     "name": "#%%\n",
     "is_executing": false
    }
   }
  },
  {
   "cell_type": "code",
   "execution_count": 84,
   "outputs": [
    {
     "name": "stdout",
     "text": [
      "data1: {'a': [1, 2, 3], 'b': [4, 5, 6], 'c': [7, 8, 9]}\n",
      "data2: {'one': array([0.82032253, 0.32656513, 0.94989943]), 'two': array([37.30560185, 41.15056234, 27.420099  ])}\n",
      "df1:\n",
      "   a  b  c\n",
      "0  1  4  7\n",
      "1  2  5  8\n",
      "2  3  6  9\n",
      "df2:\n",
      "        one        two\n",
      "0  0.820323  37.305602\n",
      "1  0.326565  41.150562\n",
      "2  0.949899  27.420099\n",
      "df1指定columns后:\n",
      "    d  c  b  a\n",
      "0 NaN  7  4  1\n",
      "1 NaN  8  5  2\n",
      "2 NaN  9  6  3\n",
      "原df1未变:\n",
      "   a  b  c\n",
      "0  1  4  7\n",
      "1  2  5  8\n",
      "2  3  6  9\n",
      "data1指定columns后:\n",
      "     d  c  b  a\n",
      "0  NaN  7  4  1\n",
      "1  NaN  8  5  2\n",
      "2  NaN  9  6  3\n",
      "df2重新定义index后:\n",
      "     one  two\n",
      "in1  NaN  NaN\n",
      "in2  NaN  NaN\n",
      "in3  NaN  NaN\n",
      "in4  NaN  NaN\n",
      "data2重新定义index后:\n",
      "         one        two\n",
      "11  0.820323  37.305602\n",
      "22  0.326565  41.150562\n",
      "33  0.949899  27.420099\n"
     ],
     "output_type": "stream"
    },
    {
     "data": {
      "text/plain": "'\\n    df2_re = pd.DataFrame(data2, index=[11,22,33,44]) \\n    -> ValueError: Shape of passed values is (3, 2), indices imply (4, 2)\\n'"
     },
     "metadata": {},
     "output_type": "execute_result",
     "execution_count": 84
    }
   ],
   "source": [
    "# Dataframe 创建方法一：由数组/list组成的字典\n",
    "# 创建方法:pandas.Dataframe()\n",
    "data1 = {\n",
    "    'a':[1,2,3],\n",
    "    'b':[4,5,6],\n",
    "    'c':[7,8,9]\n",
    "}\n",
    "data2 = {\n",
    "    'one':np.random.rand(3),\n",
    "    'two':np.random.rand(3)*100\n",
    "}\n",
    "\n",
    "# 如果改为:'one':np.random.rand(5),\n",
    "# 执行pd.DataFrame(data2)则会报错:ValueError: arrays must all be same length\n",
    "# 字典的值的长度必须保持一致！\n",
    "\n",
    "print('data1:',data1)\n",
    "print('data2:',data2)\n",
    "\n",
    "df1 = pd.DataFrame(data1)\n",
    "df2 = pd.DataFrame(data2)\n",
    "print('df1:',df1,sep='\\n')\n",
    "print('df2:',df2,sep='\\n')\n",
    "# 根据结果看,由数组/list组成的字典 创建Dataframe，columns为字典key，index为默认数字标签\n",
    "\n",
    "\n",
    "# columns参数：可以重新指定列的顺序，格式为list，如果现有数据中没有该列（比如'd'），则产生NaN值\n",
    "# 如果columns重新指定时候，列的数量可以少于原数据\n",
    "# 重新指定会返回一个新DataFrame,并且原DataFrame不变\n",
    "df1_re = pd.DataFrame(df1, columns=['d','c','b','a'])\n",
    "print('df1指定columns后:',df1_re,sep='\\n')\n",
    "print('原df1未变:',df1,sep='\\n')\n",
    "\n",
    "df1_re = pd.DataFrame(data1, columns=['d','c','b','a'])\n",
    "print('data1指定columns后:',df1_re,sep='\\n')\n",
    "\n",
    "# index参数：重新定义index，格式为list，长度不用保持一致\n",
    "df2_re = pd.DataFrame(df2, index=['in1','in2','in3','in4'])  # 入参为df2\n",
    "print('df2重新定义index后:',df2_re,sep='\\n')  # 值都为NaN  why??\n",
    "\n",
    "# index参数：重新定义index，格式为list，长度必须保持一致,否则报错\n",
    "df2_re = pd.DataFrame(data2, index=[11,22,33])  # 入参为data2\n",
    "print('data2重新定义index后:',df2_re,sep='\\n')  # 值正常\n",
    "\n",
    "'''\n",
    "    df2_re = pd.DataFrame(data2, index=[11,22,33,44]) \n",
    "    -> ValueError: Shape of passed values is (3, 2), indices imply (4, 2)\n",
    "'''"
   ],
   "metadata": {
    "collapsed": false,
    "pycharm": {
     "name": "#%%\n",
     "is_executing": false
    }
   }
  },
  {
   "cell_type": "code",
   "execution_count": 3,
   "outputs": [
    {
     "name": "stdout",
     "text": [
      "data1:\n",
      "{'one': 0    0.310477\n",
      "1    0.866212\n",
      "2    0.016683\n",
      "dtype: float64, 'two': 0    0.634575\n",
      "1    0.909371\n",
      "dtype: float64}\n",
      "data2:\n",
      "{'one': a    0.378043\n",
      "b    0.833629\n",
      "c    0.949988\n",
      "dtype: float64, 'two': a    0.635414\n",
      "b    0.328351\n",
      "dtype: float64}\n",
      "df1:\n",
      "        one       two\n",
      "0  0.310477  0.634575\n",
      "1  0.866212  0.909371\n",
      "2  0.016683       NaN\n",
      "df2:\n",
      "        one       two\n",
      "a  0.378043  0.635414\n",
      "b  0.833629  0.328351\n",
      "c  0.949988       NaN\n"
     ],
     "output_type": "stream"
    }
   ],
   "source": [
    "# Dataframe 创建方法二：由Series组成的字典\n",
    "# 由Seris组成的字典 创建Dataframe，columns为字典key，index为Series的标签（如果Series没有指定标签，则是默认数字标签）\n",
    "# Series可以长度不一样，即DataFrame中的index不一样也可以,生成的Dataframe会出现NaN值\n",
    "\n",
    "data1 = {\n",
    "    'one':pd.Series(np.random.rand(3)),\n",
    "    'two':pd.Series(np.random.rand(2))  # 没有设置index\n",
    "}\n",
    "print('data1:',data1,sep='\\n')  # 如果Series没有指定标签，则是默认数字标签\n",
    "\n",
    "data2 = {\n",
    "    'one':pd.Series(np.random.rand(3),index=list('abc')),\n",
    "    'two':pd.Series(np.random.rand(2),index=list('ab'))  # 设置index,且标签数不一样\n",
    "}\n",
    "print('data2:',data2,sep='\\n')\n",
    "\n",
    "df1 = pd.DataFrame(data1)\n",
    "df2 = pd.DataFrame(data2)\n",
    "print('df1:',df1,sep='\\n')\n",
    "print('df2:',df2,sep='\\n')"
   ],
   "metadata": {
    "collapsed": false,
    "pycharm": {
     "name": "#%%\n",
     "is_executing": false
    }
   }
  },
  {
   "cell_type": "code",
   "execution_count": 87,
   "outputs": [
    {
     "name": "stdout",
     "text": [
      "[[0.77426672 0.08042241 0.64137097]\n",
      " [0.19586419 0.84101602 0.57112997]]\n",
      "未指定index和columns:\n",
      "          0         1         2\n",
      "0  0.774267  0.080422  0.641371\n",
      "1  0.195864  0.841016  0.571130\n",
      "指定index和columns:\n",
      "        one       two     three\n",
      "a  0.774267  0.080422  0.641371\n",
      "b  0.195864  0.841016  0.571130\n"
     ],
     "output_type": "stream"
    },
    {
     "data": {
      "text/plain": "'\\n    如果index和columns指定长度和原数组不一致,会报以下错误:\\n    df3对应的报错: ValueError: Shape of passed values is (2, 3), indices imply (3, 3)\\n    ValueError：传递的值的形状为（2，3），索引暗示（3，3）\\n    \\n    df4对应的报错: ValueError: Shape of passed values is (2, 3), indices imply (2, 4)\\n\\n'"
     },
     "metadata": {},
     "output_type": "execute_result",
     "execution_count": 87
    }
   ],
   "source": [
    "# Dataframe 创建方法三：通过二维数组直接创建\n",
    "# 通过二维数组直接创建Dataframe，得到一样形状的结果数据，如果不指定index和columns，两者均返回默认数字格式\n",
    "# index和columns指定长度与原数组保持一致\n",
    "ar = np.random.rand(6).reshape(2,3)\n",
    "print(ar)\n",
    "\n",
    "df1 = pd.DataFrame(ar)  # 未指定index和columns\n",
    "print('未指定index和columns:',df1,sep='\\n')\n",
    "\n",
    "df2 = pd.DataFrame(ar,index=list('ab'),columns=['one','two','three'])\n",
    "print('指定index和columns:',df2,sep='\\n')\n",
    "\n",
    "# df3 = pd.DataFrame(ar,index=list('abc'),columns=['one','two','three'])\n",
    "# df4 = pd.DataFrame(ar,index=list('ab'),columns=['one','two','three','four'])\n",
    "\n",
    "'''\n",
    "    如果index和columns指定长度和原数组不一致,会报以下错误:\n",
    "    df3对应的报错: ValueError: Shape of passed values is (2, 3), indices imply (3, 3)\n",
    "    ValueError：传递的值的形状为（2，3），索引暗示（3，3）\n",
    "    \n",
    "    df4对应的报错: ValueError: Shape of passed values is (2, 3), indices imply (2, 4)\n",
    "    \n",
    "    该DataFrame是由二维数组创建而来,二维的形状已经定型了,是不可变的值,因此必须保证index和columns的长度和\n",
    "    原数组一致\n",
    "'''"
   ],
   "metadata": {
    "collapsed": false,
    "pycharm": {
     "name": "#%%\n",
     "is_executing": false
    }
   }
  },
  {
   "cell_type": "code",
   "execution_count": 4,
   "outputs": [
    {
     "name": "stdout",
     "text": [
      "[{'one': 1, 'two': 2}, {'one': 10, 'two': 20, 'three': 30}]\n",
      "df1:\n",
      "   one  three  two\n",
      "0    1    NaN    2\n",
      "1   10   30.0   20\n",
      "df3:\n",
      "   one  two  three\n",
      "a    1    2    NaN\n",
      "b   10   20   30.0\n",
      "df4:\n",
      "   c1  c2  c2c3\n",
      "a NaN NaN   NaN\n",
      "b NaN NaN   NaN\n"
     ],
     "output_type": "stream"
    },
    {
     "data": {
      "text/plain": "'\\n    未报错,但是所有值都为NaN\\n    采用data的结构,但是新指定的columns相当于出现新的列，并没有值赋予,所以值为NaN\\n    创建DataFrame时,通过二维数组直接创建  与  由字典组成的列表  这两种方式,在指定index和columns时,机制不同\\n'"
     },
     "metadata": {},
     "output_type": "execute_result",
     "execution_count": 4
    }
   ],
   "source": [
    "# Dataframe 创建方法四：由字典组成的列表 每一个字典就是一行数据\n",
    "# 由字典组成的列表创建Dataframe，columns为字典的key，index不做指定则为默认数组标签\n",
    "# index参数,可以指定新的标签名,但必须保持和原有数组形状一致\n",
    "# columns参数,指定新的列,值为NaN （非常重要！）\n",
    "\n",
    "\n",
    "data = [\n",
    "    {'one':1,'two':2},\n",
    "    {'one':10,'two':20,'three':30}\n",
    "]\n",
    "print(data)\n",
    "df1 = pd.DataFrame(data)\n",
    "print('df1:',df1,sep='\\n')  # 字典key的数量不一致时,多出来的会默认赋予NaN值\n",
    "\n",
    "# df2 = pd.DataFrame(data,index=list('a'))\n",
    "# df22 = pd.DataFrame(data,index=list('abc'))\n",
    "''' \n",
    "    报错:\n",
    "    df2对应报错:ValueError: Shape of passed values is (2, 3), indices imply (1, 3)\n",
    "\n",
    "    df22对应报错:ValueError: Shape of passed values is (2, 3), indices imply (3, 3)\n",
    "    \n",
    "    在该创建方式中,每一个字典就是一行数据,data是有两个字典组成的list,所以必须是两行数据,列数没有限制\n",
    "'''\n",
    "df3 = pd.DataFrame(data,index=['a','b'],columns=['one','two','three'])  \n",
    "print('df3:',df3,sep='\\n')\n",
    "\n",
    "df4 = pd.DataFrame(data,index=['a','b'],columns=['c1','c2','c2c3'])  #  columns=['c1','c2','c3','c4']也是如此\n",
    "print('df4:',df4,sep='\\n')\n",
    "'''\n",
    "    未报错,但是所有值都为NaN\n",
    "    采用data的结构,但是新指定的columns相当于出现新的列，并没有值赋予,所以值为NaN\n",
    "    创建DataFrame时,通过二维数组直接创建  与  由字典组成的列表  这两种方式,在指定index和columns时,机制不同\n",
    "'''"
   ],
   "metadata": {
    "collapsed": false,
    "pycharm": {
     "name": "#%%\n",
     "is_executing": false
    }
   }
  },
  {
   "cell_type": "code",
   "execution_count": 89,
   "outputs": [
    {
     "name": "stdout",
     "text": [
      "{'Jack': {'math': 90, 'english': 89, 'art': 78}, 'Marry': {'math': 82, 'english': 95, 'art': 92}, 'Tom': {'math': 78, 'english': 67}}\n",
      "df1:\n",
      "         Jack  Marry   Tom\n",
      "art        78     92   NaN\n",
      "english    89     95  67.0\n",
      "math       90     82  78.0\n",
      "df2:\n",
      "         Jack   Tom  Bob\n",
      "art        78   NaN  NaN\n",
      "english    89  67.0  NaN\n",
      "math       90  78.0  NaN\n",
      "df3:\n",
      "   Jack  Marry  Tom\n",
      "a   NaN    NaN  NaN\n",
      "b   NaN    NaN  NaN\n",
      "c   NaN    NaN  NaN\n"
     ],
     "output_type": "stream"
    }
   ],
   "source": [
    "# Dataframe 创建方法五：由字典组成的字典\n",
    "# columns参数可以增加和减少现有列，如出现新的列，值为NaN\n",
    "# index在这里和之前不同，并不能改变原有index，如果指向新的标签，值为NaN （非常重要！）\n",
    "\n",
    "data = {'Jack':{'math':90,'english':89,'art':78},\n",
    "       'Marry':{'math':82,'english':95,'art':92},\n",
    "       'Tom':{'math':78,'english':67}\n",
    "    }\n",
    "print(data)\n",
    "df1 = pd.DataFrame(data)\n",
    "print('df1:',df1,sep='\\n')\n",
    "# 由字典组成的字典创建Dataframe，columns为字典的key，index为子字典的key\n",
    "\n",
    "df2 = pd.DataFrame(data, columns = ['Jack','Tom','Bob'])\n",
    "print('df2:',df2,sep='\\n')\n",
    "\n",
    "df3 = pd.DataFrame(data, index = ['a','b','c'])  \n",
    "print('df3:',df3,sep='\\n')\n",
    "# 类似reindex() 新增加了index,由于新增加的index并么有对应的值,所以为空值"
   ],
   "metadata": {
    "collapsed": false,
    "pycharm": {
     "name": "#%%\n",
     "is_executing": false
    }
   }
  }
 ],
 "metadata": {
  "kernelspec": {
   "display_name": "Python 3",
   "language": "python",
   "name": "python3"
  },
  "language_info": {
   "codemirror_mode": {
    "name": "ipython",
    "version": 2
   },
   "file_extension": ".py",
   "mimetype": "text/x-python",
   "name": "python",
   "nbconvert_exporter": "python",
   "pygments_lexer": "ipython2",
   "version": "2.7.6"
  },
  "pycharm": {
   "stem_cell": {
    "cell_type": "raw",
    "source": [],
    "metadata": {
     "collapsed": false
    }
   }
  }
 },
 "nbformat": 4,
 "nbformat_minor": 0
}