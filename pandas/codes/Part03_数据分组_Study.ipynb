{
 "cells": [
  {
   "cell_type": "code",
   "execution_count": 85,
   "metadata": {
    "collapsed": true,
    "pycharm": {
     "is_executing": false,
     "name": "#%%\n"
    }
   },
   "outputs": [
    {
     "data": {
      "text/plain": "'\\n      数据分组\\n\\n    分组统计 - groupby功能\\n    \\n    ① 根据某些条件将数据拆分成组\\n    ② 对每个组独立应用函数\\n    ③ 将结果合并到一个数据结构中\\n\\n    Dataframe在行（axis=0）或列（axis=1）上进行分组，将一个函数应用到各个分组并产生一个新值，\\n    然后函数执行结果被合并到最终的结果对象中。\\n    \\n    df.groupby(by=None, axis=0, level=None, as_index=True, sort=True, group_keys=True, squeeze=False, **kwargs)\\n'"
     },
     "metadata": {},
     "output_type": "execute_result",
     "execution_count": 85
    }
   ],
   "source": [
    "'''\n",
    "      数据分组\n",
    "\n",
    "    分组统计 - groupby功能\n",
    "    \n",
    "    ① 根据某些条件将数据拆分成组\n",
    "    ② 对每个组独立应用函数\n",
    "    ③ 将结果合并到一个数据结构中\n",
    "\n",
    "    Dataframe在行（axis=0）或列（axis=1）上进行分组，将一个函数应用到各个分组并产生一个新值，\n",
    "    然后函数执行结果被合并到最终的结果对象中。\n",
    "    \n",
    "    df.groupby(by=None, axis=0, level=None, as_index=True, sort=True, group_keys=True, squeeze=False, **kwargs)\n",
    "'''"
   ]
  },
  {
   "cell_type": "code",
   "execution_count": 86,
   "outputs": [],
   "source": [
    "import numpy as np\n",
    "import pandas as pd"
   ],
   "metadata": {
    "collapsed": false,
    "pycharm": {
     "name": "#%%\n",
     "is_executing": false
    }
   }
  },
  {
   "cell_type": "code",
   "execution_count": 95,
   "outputs": [
    {
     "name": "stdout",
     "text": [
      "无参调用groupby():\n",
      "    a   b   c   d\n",
      "1  24  28  32  36\n",
      "df:\n",
      "     A      B         C         D\n",
      "0  foo    one  0.602496  0.965342\n",
      "1  bar    one  1.341526  0.348595\n",
      "2  foo    two  0.429603  0.285039\n",
      "3  bar  three  0.057443 -1.135306\n",
      "4  foo    two -0.985327  2.332853\n",
      "5  bar    two  0.224047 -0.416738\n",
      "6  foo   four -0.383513  0.686205\n",
      "7  foo  three  1.832420  0.765970\n",
      "----------------------------------------------------\n",
      "df.groupby('A'): <pandas.core.groupby.generic.DataFrameGroupBy object at 0x0000026A9FC12940>\n",
      "type(df_grpbyA): <class 'pandas.core.groupby.generic.DataFrameGroupBy'>\n",
      "对A列进行分组,并计算平均值:\n",
      "            C         D\n",
      "A                      \n",
      "bar  0.541005 -0.401150\n",
      "foo  0.299136  1.007082\n",
      "type(a): <class 'pandas.core.frame.DataFrame'>\n",
      "a.columns: Index(['C', 'D'], dtype='object')\n",
      "----------------------------------------------------\n",
      "对多个列进行分组,并计算平均值:\n",
      "                  C         D\n",
      "A   B                        \n",
      "bar one    1.341526  0.348595\n",
      "    three  0.057443 -1.135306\n",
      "    two    0.224047 -0.416738\n",
      "foo four  -0.383513  0.686205\n",
      "    one    0.602496  0.965342\n",
      "    three  1.832420  0.765970\n",
      "    two   -0.277862  1.308946\n",
      "type(b): <class 'pandas.core.frame.DataFrame'>\n",
      "b.columns: Index(['C', 'D'], dtype='object')\n",
      "----------------------------------------------------\n",
      "以A分组，算D的平均值:\n",
      "A\n",
      "bar   -0.401150\n",
      "foo    1.007082\n",
      "Name: D, dtype: float64\n",
      "type(c): <class 'pandas.core.series.Series'>\n"
     ],
     "output_type": "stream"
    }
   ],
   "source": [
    "\n",
    "# 分组\n",
    "# 通过分组后的计算，得到一个新的dataframe\n",
    "# 默认axis = 0，以行来分组\n",
    "# 可单个或多个（[]）列分组\n",
    "\n",
    "df = pd.DataFrame({'A' : ['foo', 'bar', 'foo', 'bar','foo', 'bar', 'foo', 'foo'],\n",
    "                   'B' : ['one', 'one', 'two', 'three', 'two', 'two', 'four', 'three'],\n",
    "                   'C' : np.random.randn(8),\n",
    "                   'D' : np.random.randn(8)})\n",
    "print('df:',df,sep='\\n')\n",
    "print('----------------------------------------------------')\n",
    "df_grpbyA = df.groupby('A')\n",
    "print(\"df.groupby('A'):\",df_grpbyA)  # 返回一个DataFrameGroupBy object\n",
    "print('type(df_grpbyA):',type(df_grpbyA))\n",
    "\n",
    "# 对分组独立应用函数\n",
    "\n",
    "a = df_grpbyA.mean()  # 以A分组,算得到的DataFrame的平均值\n",
    "print('对A列进行分组,并计算平均值:',a,sep='\\n')  # 过滤掉了'B'列,字符串无法求平均值\n",
    "print('type(a):',type(a))\n",
    "print('a.columns:',a.columns)  # Index(['C', 'D'], dtype='object')  A并不是属于列\n",
    "print('----------------------------------------------------')\n",
    "\n",
    "b = df.groupby(['A','B']).mean()  # 以A,B分组,同时分,最后统计.算得到的DataFrame的平均值\n",
    "print('对多个列进行分组,并计算平均值:',b,sep='\\n')\n",
    "print('type(b):',type(b))\n",
    "print('b.columns:',b.columns)\n",
    "print('----------------------------------------------------')\n",
    "\n",
    "c = df.groupby(['A'])['D'].mean()  # 以A分组，算D的平均值\n",
    "print('以A分组，算D的平均值:',c,sep='\\n')\n",
    "print('type(c):',type(c))  # 返回的是Series,没有columns"
   ],
   "metadata": {
    "collapsed": false,
    "pycharm": {
     "name": "#%%\n",
     "is_executing": false
    }
   }
  },
  {
   "cell_type": "code",
   "execution_count": 88,
   "outputs": [
    {
     "name": "stdout",
     "text": [
      "df:\n",
      "   X  Y\n",
      "0  A  1\n",
      "1  B  4\n",
      "2  A  3\n",
      "3  B  2\n",
      "对X分组,以list查看结果:\n",
      "[('A',    X  Y\n",
      "0  A  1\n",
      "2  A  3), ('B',    X  Y\n",
      "1  B  4\n",
      "3  B  2)]\n",
      "----------------------------------------------------\n",
      "name: A\n",
      "group:\n",
      "   X  Y\n",
      "0  A  1\n",
      "2  A  3\n",
      "type(group): <class 'pandas.core.frame.DataFrame'>\n",
      "name: B\n",
      "group:\n",
      "   X  Y\n",
      "1  B  4\n",
      "3  B  2\n",
      "type(group): <class 'pandas.core.frame.DataFrame'>\n",
      "----------------------------------------------------\n",
      "提取分组后的A组:    X  Y\n",
      "0  A  1\n",
      "2  A  3\n",
      "----------------------------------------------------\n",
      "dic_grp: {'A': Int64Index([0, 2], dtype='int64'), 'B': Int64Index([1, 3], dtype='int64')}\n",
      "dic_grp['A']: Int64Index([0, 2], dtype='int64')\n",
      "----------------------------------------------------\n",
      "组的大小:\n",
      "X\n",
      "A    2\n",
      "B    2\n",
      "dtype: int64\n",
      "type(size_grp): <class 'pandas.core.series.Series'>\n",
      "----------------------------------------------------\n"
     ],
     "output_type": "stream"
    }
   ],
   "source": [
    "#  分组的结果是可迭代对象\n",
    "\n",
    "df = pd.DataFrame({'X' : ['A', 'B', 'A', 'B'], \n",
    "                   'Y' : [1, 4, 3, 2]})\n",
    "print('df:',df,sep='\\n')\n",
    "x_grp = df.groupby('X')\n",
    "\n",
    "# 生成list,每个元素以元组表示\n",
    "print('对X分组,以list查看结果:',list(x_grp),sep='\\n')\n",
    "print('----------------------------------------------------')\n",
    "for name,group in x_grp:\n",
    "    print('name:',name)  # 组名\n",
    "    print('group:',group,sep='\\n')  # 分组后的DataFrame\n",
    "    print('type(group):',type(group))\n",
    "print('----------------------------------------------------')\n",
    "\n",
    "# .get_group()提取分组后的组\n",
    "print('提取分组后的A组:',x_grp.get_group('A'))\n",
    "print('----------------------------------------------------')\n",
    "\n",
    "# .groups：将分组后的groups转为dict\n",
    "# 可以字典索引方法来查看groups里的元素\n",
    "dic_grp = x_grp.groups  # 字典{组名->组标签}\n",
    "print('dic_grp:',dic_grp)\n",
    "print(\"dic_grp['A']:\",dic_grp['A'])\n",
    "print('----------------------------------------------------')\n",
    "\n",
    "# .size()：查看分组后的长度\n",
    "size_grp = x_grp.size()  # 计算组大小\n",
    "print('组的大小:',size_grp,sep='\\n')\n",
    "print('type(size_grp):',type(size_grp))  # 类型为Series\n",
    "print('----------------------------------------------------')"
   ],
   "metadata": {
    "collapsed": false,
    "pycharm": {
     "name": "#%%\n",
     "is_executing": false
    }
   }
  },
  {
   "cell_type": "code",
   "execution_count": 89,
   "outputs": [
    {
     "name": "stdout",
     "text": [
      "df:\n",
      "     A      B         C         D\n",
      "0  foo    one  1.684745  0.282491\n",
      "1  bar    one -0.709896  0.042087\n",
      "2  foo    two  0.929791  0.560546\n",
      "3  bar  three  0.470365 -1.380237\n",
      "4  foo    two -0.276657 -0.477893\n",
      "5  bar    two  0.094160 -0.565854\n",
      "6  foo   four -0.128589 -1.898789\n",
      "7  foo  three  0.122221  2.596233\n",
      "dic_ab_grp:\n",
      "{('bar', 'one'): Int64Index([1], dtype='int64'), ('bar', 'three'): Int64Index([3], dtype='int64'), ('bar', 'two'): Int64Index([5], dtype='int64'), ('foo', 'four'): Int64Index([6], dtype='int64'), ('foo', 'one'): Int64Index([0], dtype='int64'), ('foo', 'three'): Int64Index([7], dtype='int64'), ('foo', 'two'): Int64Index([2, 4], dtype='int64')}\n",
      "--------------------------------------\n",
      "获取('foo','three')组的索引: Int64Index([7], dtype='int64')\n"
     ],
     "output_type": "stream"
    }
   ],
   "source": [
    "\n",
    "\n",
    "# 按照两个列进行分组\n",
    "\n",
    "df = pd.DataFrame({'A' : ['foo', 'bar', 'foo', 'bar','foo', 'bar', 'foo', 'foo'],\n",
    "                   'B' : ['one', 'one', 'two', 'three', 'two', 'two', 'four', 'three'],\n",
    "                   'C' : np.random.randn(8),\n",
    "                   'D' : np.random.randn(8)})\n",
    "print('df:',df,sep='\\n')\n",
    "# 按A,B分组\n",
    "ab_grp = df.groupby(['A','B'])\n",
    "dic_ab_grp = ab_grp.groups\n",
    "print('dic_ab_grp:',dic_ab_grp,sep='\\n')\n",
    "'''\n",
    "    结果:\n",
    "    {('bar', 'one'): Int64Index([1], dtype='int64'),\n",
    "     ('bar', 'three'): Int64Index([3], dtype='int64'), \n",
    "     ('bar', 'two'): Int64Index([5], dtype='int64'),\n",
    "     ('foo', 'four'): Int64Index([6], dtype='int64'), \n",
    "     ('foo', 'one'): Int64Index([0], dtype='int64'), \n",
    "     ('foo', 'three'): Int64Index([7], dtype='int64'), \n",
    "     ('foo', 'two'): Int64Index([2, 4], dtype='int64')}\n",
    "'''\n",
    "print('--------------------------------------')\n",
    "print(\"获取('foo','three')组的索引:\",dic_ab_grp[('foo', 'three')])"
   ],
   "metadata": {
    "collapsed": false,
    "pycharm": {
     "name": "#%%\n",
     "is_executing": false
    }
   }
  },
  {
   "cell_type": "code",
   "execution_count": 90,
   "outputs": [
    {
     "name": "stdout",
     "text": [
      "df:\n",
      "      data1     data2 key1 key2\n",
      "0  0.533342  0.918625    a  one\n",
      "1  0.621700  0.400834    b  two\n",
      "----------------------\n",
      "df.dtypes:\n",
      "data1    float64\n",
      "data2    float64\n",
      "key1      object\n",
      "key2      object\n",
      "dtype: object\n",
      "type(df.dtypes): <class 'pandas.core.series.Series'>\n",
      "按照值类型分组:\n",
      "name: float64\n",
      "group:\n",
      "      data1     data2\n",
      "0  0.533342  0.918625\n",
      "1  0.621700  0.400834\n",
      "--------\n",
      "name: object\n",
      "group:\n",
      "  key1 key2\n",
      "0    a  one\n",
      "1    b  two\n",
      "--------\n"
     ],
     "output_type": "stream"
    }
   ],
   "source": [
    "# 其他轴上的分组\n",
    "df = pd.DataFrame({'data1':np.random.rand(2),\n",
    "                   'data2':np.random.rand(2),\n",
    "                   'key1':['a','b'],\n",
    "                   'key2':['one','two']})\n",
    "print('df:',df,sep='\\n')\n",
    "print('----------------------')\n",
    "print('df.dtypes:',df.dtypes,sep='\\n')\n",
    "print('type(df.dtypes):',type(df.dtypes))\n",
    "\n",
    "# 按照值类型分组\n",
    "vatype_df = df.groupby(df.dtypes,axis=1)\n",
    "print('按照值类型分组:')\n",
    "for name, group in vatype_df:\n",
    "    print('name:',name)\n",
    "    print('group:',group,sep='\\n')\n",
    "    print('--------')"
   ],
   "metadata": {
    "collapsed": false,
    "pycharm": {
     "name": "#%%\n",
     "is_executing": false
    }
   }
  },
  {
   "cell_type": "code",
   "execution_count": 101,
   "outputs": [
    {
     "name": "stdout",
     "text": [
      "df:\n",
      "    a   b   c   d\n",
      "0   0   1   2   3\n",
      "1   4   5   6   7\n",
      "2   8   9  10  11\n",
      "3  12  13  14  15\n",
      "-------------------------------\n",
      "按字典分组(朝列的方向):\n",
      "   one  two\n",
      "0    1    5\n",
      "1    9   13\n",
      "2   17   21\n",
      "3   25   29\n",
      "Series分组-----------------------------\n",
      "s:\n",
      "a      one\n",
      "b      one\n",
      "c      two\n",
      "d      two\n",
      "e    three\n",
      "dtype: object\n",
      "遍历分组结果-----------------------------\n",
      "name: one\n",
      "group:\n",
      "a    one\n",
      "b    one\n",
      "dtype: object\n",
      "----------\n",
      "name: three\n",
      "group:\n",
      "e    three\n",
      "dtype: object\n",
      "----------\n",
      "name: two\n",
      "group:\n",
      "c    two\n",
      "d    two\n",
      "dtype: object\n",
      "----------\n"
     ],
     "output_type": "stream"
    }
   ],
   "source": [
    "# df通过字典分组\n",
    "df = pd.DataFrame(np.arange(16).reshape(4,4),\n",
    "                  columns = ['a','b','c','d'])\n",
    "print('df:',df,sep='\\n')\n",
    "print('-------------------------------')\n",
    "\n",
    "\n",
    "mapping = {'a':'one','b':'one','c':'two','d':'two','e':'three'}\n",
    "grp_dic_columns = df.groupby(mapping,axis=1)\n",
    "print('按字典分组(朝列的方向):',grp_dic_columns.sum(),sep='\\n')\n",
    "# mapping中，a、b列对应的为one，c、d列对应的为two，以字典来分组\n",
    "\n",
    "# Series分组\n",
    "print('Series分组-----------------------------')\n",
    "s = pd.Series(mapping)\n",
    "print('s:',s,sep='\\n')\n",
    "grp_series = s.groupby(s)\n",
    "print('遍历分组结果-----------------------------')\n",
    "\n",
    "for name,group in grp_series:\n",
    "    print('name:',name)\n",
    "    print('group:',group,sep='\\n')\n",
    "    print('----------')"
   ],
   "metadata": {
    "collapsed": false,
    "pycharm": {
     "name": "#%%\n",
     "is_executing": false
    }
   }
  },
  {
   "cell_type": "code",
   "execution_count": 97,
   "outputs": [
    {
     "name": "stdout",
     "text": [
      "      a   b   c   d\n",
      "abc   0   1   2   3\n",
      "bcd   4   5   6   7\n",
      "aa    8   9  10  11\n",
      "b    12  13  14  15 \n",
      "\n",
      "按照字母长度分组;\n",
      "    a   b   c   d\n",
      "1  12  13  14  15\n",
      "2   8   9  10  11\n",
      "3   4   6   8  10\n"
     ],
     "output_type": "stream"
    }
   ],
   "source": [
    "# 通过函数分组\n",
    "\n",
    "df = pd.DataFrame(np.arange(16).reshape(4,4),\n",
    "                  columns = ['a','b','c','d'],\n",
    "                 index = ['abc','bcd','aa','b'])\n",
    "print(df,'\\n')\n",
    "\n",
    "# 按照字母长度分组,默认按行分组,index也算\n",
    "print('按照字母长度分组;',df.groupby(len).sum(),sep='\\n')\n"
   ],
   "metadata": {
    "collapsed": false,
    "pycharm": {
     "name": "#%%\n",
     "is_executing": false
    }
   }
  },
  {
   "cell_type": "code",
   "execution_count": 105,
   "outputs": [
    {
     "name": "stdout",
     "text": [
      "<pandas.core.groupby.generic.SeriesGroupBy object at 0x0000026A9FC515C0>\n",
      "1    1\n",
      "2    2\n",
      "3    3\n",
      "dtype: int64 → first：非NaN的第一个值\n",
      "\n",
      "1    10\n",
      "2    20\n",
      "3    30\n",
      "dtype: int64 → last：非NaN的最后一个值\n",
      "\n",
      "1    11\n",
      "2    22\n",
      "3    33\n",
      "dtype: int64 → sum：非NaN的和\n",
      "\n",
      "1     5.5\n",
      "2    11.0\n",
      "3    16.5\n",
      "dtype: float64 → mean：非NaN的平均值\n",
      "\n",
      "1     5.5\n",
      "2    11.0\n",
      "3    16.5\n",
      "dtype: float64 → median：非NaN的算术中位数\n",
      "\n",
      "1    2\n",
      "2    2\n",
      "3    2\n",
      "dtype: int64 → count：非NaN的值\n",
      "\n",
      "1    1\n",
      "2    2\n",
      "3    3\n",
      "dtype: int64 → min、max：非NaN的最小值、最大值\n",
      "\n",
      "1     6.363961\n",
      "2    12.727922\n",
      "3    19.091883\n",
      "dtype: float64 → std：非NaN的标准差\n",
      "\n",
      "1     40.5\n",
      "2    162.0\n",
      "3    364.5\n",
      "dtype: float64 → var：非NaN的方差\n",
      "\n",
      "1    10\n",
      "2    40\n",
      "3    90\n",
      "dtype: int64 → prod：非NaN的积\n",
      "\n"
     ],
     "output_type": "stream"
    }
   ],
   "source": [
    "# 分组计算函数方法\n",
    "\n",
    "s = pd.Series([1, 2, 3, 10, 20, 30], index = [1, 2, 3, 1, 2, 3])\n",
    "grouped = s.groupby(level=0)  # 唯一索引用.groupby(level=0)，将同一个index的分为一组\n",
    "print(grouped)\n",
    "print(grouped.first(),'→ first：非NaN的第一个值\\n')\n",
    "print(grouped.last(),'→ last：非NaN的最后一个值\\n')\n",
    "print(grouped.sum(),'→ sum：非NaN的和\\n')\n",
    "print(grouped.mean(),'→ mean：非NaN的平均值\\n')\n",
    "print(grouped.median(),'→ median：非NaN的算术中位数\\n')\n",
    "print(grouped.count(),'→ count：非NaN的值\\n')\n",
    "print(grouped.min(),'→ min、max：非NaN的最小值、最大值\\n')\n",
    "print(grouped.std(),'→ std：非NaN的标准差\\n')\n",
    "print(grouped.var(),'→ var：非NaN的方差\\n')\n",
    "print(grouped.prod(),'→ prod：非NaN的积\\n')"
   ],
   "metadata": {
    "collapsed": false,
    "pycharm": {
     "name": "#%%\n",
     "is_executing": false
    }
   }
  },
  {
   "cell_type": "code",
   "execution_count": 117,
   "outputs": [
    {
     "name": "stdout",
     "text": [
      "df:\n",
      "   a         b         c         d\n",
      "0  1  0.209741  0.222404  0.342205\n",
      "1  1  0.421281  0.724667  0.398478\n",
      "2  2  0.094332  0.043355  0.503155\n",
      "3  2  0.850950  0.971803  0.065080\n",
      "传递单个函数:\n",
      "          b         c         d\n",
      "a                              \n",
      "1  0.631021  0.947071  0.740684\n",
      "2  0.945281  1.015158  0.568234\n",
      "type(agg_single): <class 'pandas.core.frame.DataFrame'>\n",
      "通过List传入多个函数(求和 平均值):\n",
      "          b                   c                   d          \n",
      "        sum      mean       sum      mean       sum      mean\n",
      "a                                                            \n",
      "1  0.631021  0.315511  0.947071  0.473536  0.740684  0.370342\n",
      "2  0.945281  0.472641  1.015158  0.507579  0.568234  0.284117\n",
      "type(agg_lst): <class 'pandas.core.frame.DataFrame'>\n",
      "通过dic传入多个函数,key的名称为columns:\n",
      "   result of sum  result of mean\n",
      "a                               \n",
      "1       0.631021        0.315511\n",
      "2       0.945281        0.472641\n",
      "type(agg_dic): <class 'pandas.core.frame.DataFrame'>\n"
     ],
     "output_type": "stream"
    },
    {
     "name": "stderr",
     "text": [
      "f:\\language\\python\\lib\\site-packages\\ipykernel_launcher.py:21: FutureWarning: using a dict on a Series for aggregation\n",
      "is deprecated and will be removed in a future version\n"
     ],
     "output_type": "stream"
    }
   ],
   "source": [
    "# 多函数计算：agg()\n",
    "\n",
    "df = pd.DataFrame({'a':[1,1,2,2],\n",
    "                  'b':np.random.rand(4),\n",
    "                  'c':np.random.rand(4),\n",
    "                  'd':np.random.rand(4),})\n",
    "print('df:',df,sep='\\n')\n",
    "\n",
    "# 函数写法可以用str，或者np.方法\n",
    "agg_single = df.groupby('a').agg('sum')  # 也可写为:agg.(np.sum)\n",
    "print('传递单个函数:',agg_single,sep='\\n')\n",
    "print('type(agg_single):',type(agg_single))\n",
    "\n",
    "# 可以通过list传入多个函数\n",
    "agg_lst = df.groupby('a').agg(['sum',np.mean])  # 分别求和 平均值\n",
    "print('通过List传入多个函数(求和 平均值):',agg_lst,sep='\\n')\n",
    "print('type(agg_lst):',type(agg_lst))\n",
    "\n",
    "# 可以通过dic传入多个函数,key的名称为columns\n",
    "agg_dic = df.groupby('a')['b'].agg({'result of sum':np.sum,\n",
    "                               'result of mean':np.mean})\n",
    "print('通过dic传入多个函数,key的名称为columns:',agg_dic,sep='\\n')\n",
    "print('type(agg_dic):',type(agg_dic))"
   ],
   "metadata": {
    "collapsed": false,
    "pycharm": {
     "name": "#%%\n",
     "is_executing": false
    }
   }
  }
 ],
 "metadata": {
  "kernelspec": {
   "display_name": "Python 3",
   "language": "python",
   "name": "python3"
  },
  "language_info": {
   "codemirror_mode": {
    "name": "ipython",
    "version": 2
   },
   "file_extension": ".py",
   "mimetype": "text/x-python",
   "name": "python",
   "nbconvert_exporter": "python",
   "pygments_lexer": "ipython2",
   "version": "2.7.6"
  },
  "pycharm": {
   "stem_cell": {
    "cell_type": "raw",
    "source": [],
    "metadata": {
     "collapsed": false
    }
   }
  }
 },
 "nbformat": 4,
 "nbformat_minor": 0
}