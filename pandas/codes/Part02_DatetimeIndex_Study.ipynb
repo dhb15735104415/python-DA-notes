{
 "cells": [
  {
   "cell_type": "code",
   "execution_count": 7,
   "metadata": {
    "collapsed": true,
    "pycharm": {
     "is_executing": false
    }
   },
   "outputs": [],
   "source": [
    "'''\n",
    "    Pandas时间戳索引：DatetimeIndex\n",
    "\n",
    "    核心：pd.date_range()\n",
    "'''\n",
    "import pandas as pd\n",
    "import numpy as np"
   ]
  },
  {
   "cell_type": "code",
   "execution_count": 64,
   "outputs": [
    {
     "name": "stdout",
     "text": [
      "dt_index: DatetimeIndex(['2018-01-01', '2019-11-13', '2019-05-29', '2020-01-01'], dtype='datetime64[ns]', freq=None)\n",
      "type(dt_index): <class 'pandas.core.indexes.datetimes.DatetimeIndex'>\n",
      "dt_series:\n",
      "2018-01-01    0.364854\n",
      "2019-11-13    0.238635\n",
      "2019-05-29    0.162703\n",
      "2020-01-01    0.521823\n",
      "dtype: float64\n",
      "type(dt_series): <class 'pandas.core.series.Series'>\n",
      "dt_series.index:\n",
      "DatetimeIndex(['2018-01-01', '2019-11-13', '2019-05-29', '2020-01-01'], dtype='datetime64[ns]', freq=None)\n"
     ],
     "output_type": "stream"
    }
   ],
   "source": [
    "    \n",
    "# pd.DatetimeIndex()直接生成时间戳索引，支持str、datetime.datetime\n",
    "# 单个时间戳为Timestamp，多个时间戳为DatetimeIndex\n",
    "\n",
    "date_lst = ['2018-1-1','2019-11-13','2019-5-29',pd.datetime(2020,1,1)]\n",
    "dt_index = pd.DatetimeIndex(date_lst)\n",
    "print('dt_index:',dt_index)\n",
    "print('type(dt_index):',type(dt_index))  # 类型为时间戳索引 DatetimeIndex\n",
    "\n",
    "# 以DatetimeIndex为index的Series，为TimeSries，时间序列\n",
    "\n",
    "dt_series = pd.Series(np.random.rand(len(dt_index)),index=dt_index)\n",
    "print('dt_series:',dt_series,sep='\\n')\n",
    "print('type(dt_series):',type(dt_series))\n",
    "print('dt_series.index:',dt_series.index,sep='\\n')  # 结果为时间戳索引DatetimeIndex\n"
   ],
   "metadata": {
    "collapsed": false,
    "pycharm": {
     "name": "#%%\n",
     "is_executing": false
    }
   }
  },
  {
   "cell_type": "code",
   "execution_count": 67,
   "outputs": [
    {
     "name": "stdout",
     "text": [
      "dt_rng1: DatetimeIndex(['2019-12-15', '2019-12-16', '2019-12-17', '2019-12-18',\n",
      "               '2019-12-19', '2019-12-20'],\n",
      "              dtype='datetime64[ns]', freq='D')\n",
      "type(dt_rng1): <class 'pandas.core.indexes.datetimes.DatetimeIndex'>\n",
      "dt_rng2: DatetimeIndex(['2019-12-15', '2019-12-16', '2019-12-17', '2019-12-18',\n",
      "               '2019-12-19'],\n",
      "              dtype='datetime64[ns]', freq='D')\n",
      "dt_rng3: DatetimeIndex(['2019-12-16', '2019-12-17', '2019-12-18', '2019-12-19',\n",
      "               '2019-12-20'],\n",
      "              dtype='datetime64[ns]', freq='D')\n",
      "dt_rng4: DatetimeIndex(['2019-12-15', '2019-12-16', '2019-12-17', '2019-12-18',\n",
      "               '2019-12-19'],\n",
      "              dtype='datetime64[ns]', name='2019年12月', freq='D')\n",
      "dt_rng5: DatetimeIndex(['2019-11-11 09:11:00', '2019-11-12 09:11:00',\n",
      "               '2019-11-13 09:11:00', '2019-11-14 09:11:00',\n",
      "               '2019-11-15 09:11:00'],\n",
      "              dtype='datetime64[ns]', name='2019年11月', freq='D')\n",
      "closed_right, DatetimeIndex(['2019-12-16', '2019-12-17', '2019-12-18', '2019-12-19',\n",
      "               '2019-12-20'],\n",
      "              dtype='datetime64[ns]', freq='D')\n",
      "closed_left, DatetimeIndex(['2019-12-15', '2019-12-16', '2019-12-17', '2019-12-18',\n",
      "               '2019-12-19'],\n",
      "              dtype='datetime64[ns]', freq='D')\n",
      "直接转化为list，元素为Timestamp: [Timestamp('2018-01-01 00:00:00', freq='D'), Timestamp('2018-01-02 00:00:00', freq='D'), Timestamp('2018-01-03 00:00:00', freq='D')]\n",
      "bdate_range()工作日:\n",
      "DatetimeIndex(['2020-01-01', '2020-01-02', '2020-01-03', '2020-01-06',\n",
      "               '2020-01-07'],\n",
      "              dtype='datetime64[ns]', freq='B')\n"
     ],
     "output_type": "stream"
    }
   ],
   "source": [
    "# pd.date_range()-日期范围：生成日期范围\n",
    "# 2种生成方式：1.start + end  2.start/end + periods\n",
    "# 默认频率：day\n",
    "'''\n",
    "    pd.date_range(start=None, end=None, periods=None, freq='D', tz=None, normalize=False, name=None, closed=None, **kwargs)\n",
    "    start：开始时间\n",
    "    end：结束时间\n",
    "    periods：偏移量\n",
    "    freq：频率，默认天，pd.date_range()默认频率为日历日，pd.bdate_range()默认频率为工作日\n",
    "    tz：时区\n",
    "    normalize：bool, default False将开始/结束日期标准化为午夜，然后再生成日期范围\n",
    "    closed:None, 'left', 'right'}, optional\n",
    "        Make the interval closed with respect to the given frequency to\n",
    "        the 'left', 'right', or both sides (None, the default).\n",
    "'''\n",
    "\n",
    "dt_rng1 = pd.date_range('2019-12-15','2019-12-20',normalize=True)  \n",
    "print('dt_rng1:',dt_rng1)  # 结果为DatetimeIndex\n",
    "print('type(dt_rng1):',type(dt_rng1))\n",
    "\n",
    "# 使用start periods参数\n",
    "dt_rng2 = pd.date_range(start='2019/12/15',periods=5)  # 识别多种时间格式\n",
    "print('dt_rng2:',dt_rng2)\n",
    "\n",
    "# 使用end periods参数\n",
    "dt_rng3 = pd.date_range(end='20191220',periods=5)  # 识别多种时间格式\n",
    "print('dt_rng3:',dt_rng3)\n",
    "\n",
    "# 增减DatetimeIndex名称\n",
    "dt_rng4 = pd.date_range(start='2019-12-15 09:11',periods=5,name='2019年12月',normalize=True)\n",
    "print('dt_rng4:',dt_rng4)  # normalize=True时,时间格式只有年月日\n",
    "\n",
    "dt_rng5 = pd.date_range(end='2019-11-15 09:11',periods=5,name='2019年11月',normalize=False)\n",
    "print('dt_rng5:',dt_rng5)  # normalize=False时,时间格式只有年月日时分秒  \n",
    "\n",
    "# closed：默认为None的情况下，左闭右闭,即([date1,date2]), right则左开右闭,left则左闭右开\n",
    "# 可以理解为:加了closed关键字参数,区间情况就变为一开一闭  \n",
    "print('closed_right,',pd.date_range('20191215','20191220',closed = 'right'))\n",
    "print('closed_left,',pd.date_range('20191215','20191220',closed = 'left'))\n",
    "\n",
    "# 直接转化为list，元素为Timestamp\n",
    "print('直接转化为list，元素为Timestamp:',list(pd.date_range(start = '1/1/2018', periods = 3)))\n",
    "\n",
    "# pd.bdate_range()默认频率为工作日\n",
    "print('bdate_range()工作日:',pd.bdate_range('20200101','20200107'),sep='\\n')\n"
   ],
   "metadata": {
    "collapsed": false,
    "pycharm": {
     "name": "#%%\n",
     "is_executing": false
    }
   }
  },
  {
   "cell_type": "code",
   "execution_count": 42,
   "outputs": [
    {
     "name": "stdout",
     "text": [
      "默认freq = 'D'：每日历日:\n",
      "DatetimeIndex(['2020-01-01', '2020-01-02', '2020-01-03', '2020-01-04'], dtype='datetime64[ns]', freq='D')\n",
      "B：每工作日:\n",
      "DatetimeIndex(['2020-01-01', '2020-01-02', '2020-01-03'], dtype='datetime64[ns]', freq='B')\n",
      "H：每小时:\n",
      "DatetimeIndex(['2020-01-01 00:00:00', '2020-01-01 01:00:00',\n",
      "               '2020-01-01 02:00:00', '2020-01-01 03:00:00',\n",
      "               '2020-01-01 04:00:00', '2020-01-01 05:00:00',\n",
      "               '2020-01-01 06:00:00', '2020-01-01 07:00:00',\n",
      "               '2020-01-01 08:00:00', '2020-01-01 09:00:00',\n",
      "               '2020-01-01 10:00:00', '2020-01-01 11:00:00',\n",
      "               '2020-01-01 12:00:00', '2020-01-01 13:00:00',\n",
      "               '2020-01-01 14:00:00', '2020-01-01 15:00:00',\n",
      "               '2020-01-01 16:00:00', '2020-01-01 17:00:00',\n",
      "               '2020-01-01 18:00:00', '2020-01-01 19:00:00',\n",
      "               '2020-01-01 20:00:00', '2020-01-01 21:00:00',\n",
      "               '2020-01-01 22:00:00', '2020-01-01 23:00:00',\n",
      "               '2020-01-02 00:00:00'],\n",
      "              dtype='datetime64[ns]', freq='H')\n",
      "T/MIN：每分\n",
      "DatetimeIndex(['2020-01-01 12:00:00', '2020-01-01 12:01:00',\n",
      "               '2020-01-01 12:02:00', '2020-01-01 12:03:00',\n",
      "               '2020-01-01 12:04:00', '2020-01-01 12:05:00',\n",
      "               '2020-01-01 12:06:00', '2020-01-01 12:07:00',\n",
      "               '2020-01-01 12:08:00', '2020-01-01 12:09:00',\n",
      "               '2020-01-01 12:10:00'],\n",
      "              dtype='datetime64[ns]', freq='T')\n",
      "S：每秒:\n",
      "DatetimeIndex(['2020-01-01 12:00:00', '2020-01-01 12:00:01',\n",
      "               '2020-01-01 12:00:02', '2020-01-01 12:00:03',\n",
      "               '2020-01-01 12:00:04', '2020-01-01 12:00:05',\n",
      "               '2020-01-01 12:00:06', '2020-01-01 12:00:07',\n",
      "               '2020-01-01 12:00:08', '2020-01-01 12:00:09',\n",
      "               '2020-01-01 12:00:10'],\n",
      "              dtype='datetime64[ns]', freq='S')\n",
      "L：每毫秒（千分之一秒）:\n",
      "DatetimeIndex([       '2020-01-01 12:00:00', '2020-01-01 12:00:00.001000',\n",
      "               '2020-01-01 12:00:00.002000', '2020-01-01 12:00:00.003000',\n",
      "               '2020-01-01 12:00:00.004000', '2020-01-01 12:00:00.005000',\n",
      "               '2020-01-01 12:00:00.006000', '2020-01-01 12:00:00.007000',\n",
      "               '2020-01-01 12:00:00.008000', '2020-01-01 12:00:00.009000',\n",
      "               ...\n",
      "               '2020-01-01 12:00:00.991000', '2020-01-01 12:00:00.992000',\n",
      "               '2020-01-01 12:00:00.993000', '2020-01-01 12:00:00.994000',\n",
      "               '2020-01-01 12:00:00.995000', '2020-01-01 12:00:00.996000',\n",
      "               '2020-01-01 12:00:00.997000', '2020-01-01 12:00:00.998000',\n",
      "               '2020-01-01 12:00:00.999000',        '2020-01-01 12:00:01'],\n",
      "              dtype='datetime64[ns]', length=1001, freq='L')\n",
      "U：每微秒（百万分之一秒）:\n",
      "DatetimeIndex([       '2020-01-01 12:00:00', '2020-01-01 12:00:00.000001',\n",
      "               '2020-01-01 12:00:00.000002', '2020-01-01 12:00:00.000003',\n",
      "               '2020-01-01 12:00:00.000004', '2020-01-01 12:00:00.000005',\n",
      "               '2020-01-01 12:00:00.000006', '2020-01-01 12:00:00.000007',\n",
      "               '2020-01-01 12:00:00.000008', '2020-01-01 12:00:00.000009',\n",
      "               ...\n",
      "               '2020-01-01 12:00:00.999991', '2020-01-01 12:00:00.999992',\n",
      "               '2020-01-01 12:00:00.999993', '2020-01-01 12:00:00.999994',\n",
      "               '2020-01-01 12:00:00.999995', '2020-01-01 12:00:00.999996',\n",
      "               '2020-01-01 12:00:00.999997', '2020-01-01 12:00:00.999998',\n",
      "               '2020-01-01 12:00:00.999999',        '2020-01-01 12:00:01'],\n",
      "              dtype='datetime64[ns]', length=1000001, freq='U')\n",
      "W-MON：指定星期几开始算起，每周:\n",
      "DatetimeIndex(['2020-01-06', '2020-01-13', '2020-01-20', '2020-01-27'], dtype='datetime64[ns]', freq='W-MON')\n",
      "WOM-2MON：每月的第几个星期几开始算，这里是每月第二个星期一:\n",
      "DatetimeIndex(['2020-01-13', '2020-02-10', '2020-03-09', '2020-04-13'], dtype='datetime64[ns]', freq='WOM-2MON')\n"
     ],
     "output_type": "stream"
    }
   ],
   "source": [
    "# pd.date_range()-日期范围：频率(1)  freq参数\n",
    "\n",
    "print(\"默认freq = 'D'：每日历日:\",pd.date_range('2020/1/1','2020/1/4'),sep='\\n')  # 默认freq = 'D'：每日历日\n",
    "print('B：每工作日:',pd.date_range('2020/1/1','2020/1/4', freq = 'B'),sep='\\n')  # B：每工作日\n",
    "print('H：每小时:',pd.date_range('2020/1/1','2020/1/2', freq = 'H'),sep='\\n')  # H：每小时\n",
    "print('T/MIN：每分',pd.date_range('2020/1/1 12:00','2020/1/1 12:10', freq = 'T'),sep='\\n')  # T/MIN：每分 10T/每10分\n",
    "print('S：每秒:',pd.date_range('2020/1/1 12:00:00','2020/1/1 12:00:10', freq = 'S'),sep='\\n')  # S：每秒\n",
    "print('L：每毫秒（千分之一秒）:',pd.date_range('2020/1/1 12:00:00','2020/1/1 12:00:01', freq = 'L'),sep='\\n')  # L：每毫秒（千分之一秒）\n",
    "print('U：每微秒（百万分之一秒）:',pd.date_range('2020/1/1 12:00:00','2020/1/1 12:00:01', freq = 'U'),sep='\\n')  # U：每微秒（百万分之一秒）\n",
    "\n",
    "print('W-MON：指定星期几开始算起，每周:',pd.date_range('2020/1/1','2020/2/1', freq = 'W-MON'),sep='\\n')  \n",
    "# W-MON：从指定星期几开始算起，每周\n",
    "# 星期几缩写：MON/TUE/WED/THU/FRI/SAT/SUN\n",
    "\n",
    "print('WOM-2MON：每月的第几个星期几开始算，这里是每月第二个星期一:',pd.date_range('2020/1/1','2020/5/1', freq = 'WOM-2MON'),sep='\\n')  \n",
    "# WOM-2MON：每月的第几个星期几开始算，这里是每月第二个星期一"
   ],
   "metadata": {
    "collapsed": false,
    "pycharm": {
     "name": "#%%\n",
     "is_executing": false
    }
   }
  },
  {
   "cell_type": "code",
   "execution_count": 49,
   "outputs": [
    {
     "name": "stdout",
     "text": [
      "DatetimeIndex(['2019-01-31', '2019-02-28', '2019-03-31', '2019-04-30',\n",
      "               '2019-05-31', '2019-06-30', '2019-07-31', '2019-08-31',\n",
      "               '2019-09-30', '2019-10-31', '2019-11-30', '2019-12-31'],\n",
      "              dtype='datetime64[ns]', freq='M')\n",
      "DatetimeIndex(['2019-03-31', '2019-06-30', '2019-09-30', '2019-12-31'], dtype='datetime64[ns]', freq='Q-DEC')\n",
      "DatetimeIndex(['2019-12-31'], dtype='datetime64[ns]', freq='A-DEC')\n",
      "---------------------------------------------\n",
      "DatetimeIndex(['2019-01-31', '2019-02-28', '2019-03-29', '2019-04-30',\n",
      "               '2019-05-31', '2019-06-28', '2019-07-31', '2019-08-30',\n",
      "               '2019-09-30', '2019-10-31', '2019-11-29', '2019-12-31'],\n",
      "              dtype='datetime64[ns]', freq='BM')\n",
      "DatetimeIndex(['2019-03-29', '2019-06-28', '2019-09-30', '2019-12-31'], dtype='datetime64[ns]', freq='BQ-DEC')\n",
      "DatetimeIndex(['2019-12-31'], dtype='datetime64[ns]', freq='BA-DEC')\n",
      "---------------------------------------------\n",
      "DatetimeIndex(['2019-01-01', '2019-02-01', '2019-03-01', '2019-04-01',\n",
      "               '2019-05-01', '2019-06-01', '2019-07-01', '2019-08-01',\n",
      "               '2019-09-01', '2019-10-01', '2019-11-01', '2019-12-01',\n",
      "               '2020-01-01'],\n",
      "              dtype='datetime64[ns]', freq='MS')\n",
      "DatetimeIndex(['2019-03-01', '2019-06-01', '2019-09-01', '2019-12-01'], dtype='datetime64[ns]', freq='QS-DEC')\n",
      "DatetimeIndex(['2019-12-01'], dtype='datetime64[ns]', freq='AS-DEC')\n",
      "---------------------------------------------\n",
      "DatetimeIndex(['2019-01-01', '2019-02-01', '2019-03-01', '2019-04-01',\n",
      "               '2019-05-01', '2019-06-03', '2019-07-01', '2019-08-01',\n",
      "               '2019-09-02', '2019-10-01', '2019-11-01', '2019-12-02',\n",
      "               '2020-01-01'],\n",
      "              dtype='datetime64[ns]', freq='BMS')\n",
      "DatetimeIndex(['2019-03-01', '2019-06-03', '2019-09-02', '2019-12-02'], dtype='datetime64[ns]', freq='BQS-DEC')\n",
      "DatetimeIndex(['2019-12-02'], dtype='datetime64[ns]', freq='BAS-DEC')\n",
      "---------------------------------------------\n"
     ],
     "output_type": "stream"
    }
   ],
   "source": [
    "# pd.date_range()-日期范围：频率(2)\n",
    "\n",
    "print(pd.date_range('2019','2020', freq = 'M'))  \n",
    "print(pd.date_range('2019','2020', freq = 'Q-DEC'))  \n",
    "print(pd.date_range('2019','2020', freq = 'A-DEC')) \n",
    "print('---------------------------------------------')\n",
    "# M：每月最后一个日历日\n",
    "# Q-月：指定月为季度末，每个季度末最后一月的最后一个日历日\n",
    "# A-月：每年指定月份的最后一个日历日\n",
    "# 月缩写：JAN/FEB/MAR/APR/MAY/JUN/JUL/AUG/SEP/OCT/NOV/DEC\n",
    "# 所以Q-月只有三种情况：1-4-7-10,2-5-8-11,3-6-9-12\n",
    "\n",
    "print(pd.date_range('2019','2020', freq = 'BM'))  \n",
    "print(pd.date_range('2019','2020', freq = 'BQ-DEC'))  \n",
    "print(pd.date_range('2019','2020', freq = 'BA-DEC')) \n",
    "print('---------------------------------------------')\n",
    "# BM：每月最后一个工作日\n",
    "# BQ-月：指定月为季度末，每个季度末最后一月的最后一个工作日\n",
    "# BA-月：每年指定月份的最后一个工作日\n",
    "\n",
    "print(pd.date_range('2019','2020', freq = 'MS'))  \n",
    "print(pd.date_range('2019','2020', freq = 'QS-DEC'))  \n",
    "print(pd.date_range('2019','2020', freq = 'AS-DEC')) \n",
    "print('---------------------------------------------')\n",
    "# MS：每月第一个日历日\n",
    "# QS-月：指定月为季度末，每个季度末最后一月的第一个日历日\n",
    "# AS-月：每年指定月份的第一个日历日\n",
    "\n",
    "print(pd.date_range('2019','2020', freq = 'BMS'))  \n",
    "print(pd.date_range('2019','2020', freq = 'BQS-DEC'))  \n",
    "print(pd.date_range('2019','2020', freq = 'BAS-DEC')) \n",
    "print('---------------------------------------------')\n",
    "# BMS：每月第一个工作日\n",
    "# BQS-月：指定月为季度末，每个季度末最后一月的第一个工作日\n",
    "# BAS-月：每年指定月份的第一个工作日"
   ],
   "metadata": {
    "collapsed": false,
    "pycharm": {
     "name": "#%%\n",
     "is_executing": false
    }
   }
  },
  {
   "cell_type": "code",
   "execution_count": 53,
   "outputs": [
    {
     "name": "stdout",
     "text": [
      "7D: DatetimeIndex(['2019-12-15', '2019-12-22', '2019-12-29'], dtype='datetime64[ns]', freq='7D')\n",
      "2小时30分钟: DatetimeIndex(['2019-12-15 00:00:00', '2019-12-15 02:30:00',\n",
      "               '2019-12-15 05:00:00', '2019-12-15 07:30:00',\n",
      "               '2019-12-15 10:00:00', '2019-12-15 12:30:00',\n",
      "               '2019-12-15 15:00:00', '2019-12-15 17:30:00',\n",
      "               '2019-12-15 20:00:00', '2019-12-15 22:30:00'],\n",
      "              dtype='datetime64[ns]', freq='150T')\n",
      "7D: DatetimeIndex(['2019-01-31'], dtype='datetime64[ns]', freq='12M')\n"
     ],
     "output_type": "stream"
    }
   ],
   "source": [
    "# pd.date_range()-日期范围：复合频率\n",
    "print('7D:',pd.date_range('2019-12-15','2019-12-31',freq='7D'))  # 7天\n",
    "print('2小时30分钟:',pd.date_range('2019-12-15','2019-12-16',freq='2h30min'))  # 2小时30分钟\n",
    "print('7D:',pd.date_range('2019','2020',freq='12M'))  # 12月，每月最后一个日历日\n"
   ],
   "metadata": {
    "collapsed": false,
    "pycharm": {
     "name": "#%%\n",
     "is_executing": false
    }
   }
  },
  {
   "cell_type": "code",
   "execution_count": 70,
   "outputs": [
    {
     "name": "stdout",
     "text": [
      "ts:\n",
      "2019-12-15    0.400722\n",
      "2019-12-16    0.369833\n",
      "2019-12-17    0.597290\n",
      "2019-12-18    0.649591\n",
      "Freq: D, dtype: float64\n",
      "------------------------\n",
      "method = 'ffill',用之前值填充No: 2019-12-15 00:00:00    0.400722\n",
      "2019-12-15 04:00:00    0.400722\n",
      "2019-12-15 08:00:00    0.400722\n",
      "2019-12-15 12:00:00    0.400722\n",
      "2019-12-15 16:00:00    0.400722\n",
      "2019-12-15 20:00:00    0.400722\n",
      "2019-12-16 00:00:00    0.369833\n",
      "2019-12-16 04:00:00    0.369833\n",
      "2019-12-16 08:00:00    0.369833\n",
      "2019-12-16 12:00:00    0.369833\n",
      "2019-12-16 16:00:00    0.369833\n",
      "2019-12-16 20:00:00    0.369833\n",
      "2019-12-17 00:00:00    0.597290\n",
      "2019-12-17 04:00:00    0.597290\n",
      "2019-12-17 08:00:00    0.597290\n",
      "2019-12-17 12:00:00    0.597290\n",
      "2019-12-17 16:00:00    0.597290\n",
      "2019-12-17 20:00:00    0.597290\n",
      "2019-12-18 00:00:00    0.649591\n",
      "Freq: 4H, dtype: float64\n",
      "----------------------------\n",
      "method = 'bfill',用之后值填充: 2019-12-15 00:00:00    0.400722\n",
      "2019-12-15 04:00:00    0.369833\n",
      "2019-12-15 08:00:00    0.369833\n",
      "2019-12-15 12:00:00    0.369833\n",
      "2019-12-15 16:00:00    0.369833\n",
      "2019-12-15 20:00:00    0.369833\n",
      "2019-12-16 00:00:00    0.369833\n",
      "2019-12-16 04:00:00    0.597290\n",
      "2019-12-16 08:00:00    0.597290\n",
      "2019-12-16 12:00:00    0.597290\n",
      "2019-12-16 16:00:00    0.597290\n",
      "2019-12-16 20:00:00    0.597290\n",
      "2019-12-17 00:00:00    0.597290\n",
      "2019-12-17 04:00:00    0.649591\n",
      "2019-12-17 08:00:00    0.649591\n",
      "2019-12-17 12:00:00    0.649591\n",
      "2019-12-17 16:00:00    0.649591\n",
      "2019-12-17 20:00:00    0.649591\n",
      "2019-12-18 00:00:00    0.649591\n",
      "Freq: 4H, dtype: float64\n"
     ],
     "output_type": "stream"
    }
   ],
   "source": [
    "# asfreq：时期频率转换\n",
    "\n",
    "ts = pd.Series(np.random.rand(4),\n",
    "              index = pd.date_range('20191215','20191218'))\n",
    "print('ts:',ts,sep='\\n')\n",
    "print('------------------------')\n",
    "print(\"method = 'ffill',用之前值填充:\",ts.asfreq('4H',method = 'ffill'))\n",
    "# 改变频率，这里是D改为4H\n",
    "# method：插值模式，None不插值，ffill用之前值填充，bfill用之后值填充\n",
    "print('----------------------------')\n",
    "print(\"method = 'bfill',用之后值填充:\",ts.asfreq('4H',method = 'bfill'))  # TODO 如何实践?"
   ],
   "metadata": {
    "collapsed": false,
    "pycharm": {
     "name": "#%%\n",
     "is_executing": false
    }
   }
  },
  {
   "cell_type": "code",
   "execution_count": 85,
   "outputs": [
    {
     "name": "stdout",
     "text": [
      "时间序列:\n",
      "2017-01-01    0.403244\n",
      "2017-01-02    0.989120\n",
      "2017-01-03    0.029793\n",
      "2017-01-04    0.130652\n",
      "Freq: D, dtype: float64\n",
      "正数：数值后移（滞后）:\n",
      "2017-01-01         NaN\n",
      "2017-01-02         NaN\n",
      "2017-01-03    0.403244\n",
      "2017-01-04    0.989120\n",
      "Freq: D, dtype: float64\n",
      "负数：数值前移（超前）\n",
      "2017-01-01    0.029793\n",
      "2017-01-02    0.130652\n",
      "2017-01-03         NaN\n",
      "2017-01-04         NaN\n",
      "Freq: D, dtype: float64\n",
      "------------------------\n",
      "变化百分比:\n",
      "2017-01-01         NaN\n",
      "2017-01-02    1.452905\n",
      "2017-01-03   -0.969879\n",
      "2017-01-04    3.385271\n",
      "Freq: D, dtype: float64\n",
      "------------------------\n",
      "对时间戳进行滞后,滞后2天:\n",
      "2017-01-03    0.403244\n",
      "2017-01-04    0.989120\n",
      "2017-01-05    0.029793\n",
      "2017-01-06    0.130652\n",
      "Freq: D, dtype: float64\n",
      "滞后10分钟: 2017-01-01 00:10:00    0.403244\n",
      "2017-01-02 00:10:00    0.989120\n",
      "2017-01-03 00:10:00    0.029793\n",
      "2017-01-04 00:10:00    0.130652\n",
      "Freq: D, dtype: float64\n"
     ],
     "output_type": "stream"
    }
   ],
   "source": [
    "# pd.date_range()-日期范围：超前/滞后数据 shift()\n",
    "\n",
    "ts = pd.Series(np.random.rand(4),\n",
    "              index = pd.date_range('20170101','20170104'))\n",
    "print('时间序列:',ts,sep='\\n')\n",
    "\n",
    "# 正数：数值后移（滞后）   负数：数值前移（超前）\n",
    "print('正数：数值后移（滞后）:',ts.shift(2),sep='\\n')  # 默认是操作values\n",
    "print('负数：数值前移（超前）',ts.shift(-2),sep='\\n')\n",
    "print('------------------------')\n",
    "\n",
    "# 计算变化百分比，这里计算：该时间戳与上一个时间戳相比，变化百分比\n",
    "per = ts/ts.shift(1) - 1\n",
    "print('变化百分比:',per,sep='\\n')\n",
    "print('------------------------')\n",
    "\n",
    "# 加上freq参数：对时间戳进行位移，而不是对数值进行位移\n",
    "print('对时间戳进行滞后,滞后2天:',ts.shift(2, freq = 'D'),sep='\\n')\n",
    "print('滞后10分钟:',ts.shift(10, freq = 'T'),sep='\\n')  # 滞后10分钟"
   ],
   "metadata": {
    "collapsed": false,
    "pycharm": {
     "name": "#%%\n",
     "is_executing": false
    }
   }
  }
 ],
 "metadata": {
  "kernelspec": {
   "display_name": "Python 3",
   "language": "python",
   "name": "python3"
  },
  "language_info": {
   "codemirror_mode": {
    "name": "ipython",
    "version": 2
   },
   "file_extension": ".py",
   "mimetype": "text/x-python",
   "name": "python",
   "nbconvert_exporter": "python",
   "pygments_lexer": "ipython2",
   "version": "2.7.6"
  },
  "pycharm": {
   "stem_cell": {
    "cell_type": "raw",
    "source": [],
    "metadata": {
     "collapsed": false
    }
   }
  }
 },
 "nbformat": 4,
 "nbformat_minor": 0
}