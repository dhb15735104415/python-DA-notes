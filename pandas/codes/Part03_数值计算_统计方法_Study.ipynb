{
 "cells": [
  {
   "cell_type": "code",
   "execution_count": 1,
   "metadata": {
    "collapsed": true,
    "pycharm": {
     "is_executing": false
    }
   },
   "outputs": [
    {
     "data": {
      "text/plain": "'\\n    数值计算和统计基础\\n\\n    常用数学、统计方法\\n'"
     },
     "metadata": {},
     "output_type": "execute_result",
     "execution_count": 1
    }
   ],
   "source": [
    "'''\n",
    "    数值计算和统计基础\n",
    "\n",
    "    常用数学、统计方法\n",
    "'''"
   ]
  },
  {
   "cell_type": "code",
   "execution_count": 4,
   "outputs": [],
   "source": [
    "import numpy as np\n",
    "import pandas as pd"
   ],
   "metadata": {
    "collapsed": false,
    "pycharm": {
     "name": "#%%\n",
     "is_executing": false
    }
   }
  },
  {
   "cell_type": "code",
   "execution_count": 18,
   "outputs": [
    {
     "name": "stdout",
     "text": [
      "df:\n",
      "   val1  val2 val3\n",
      "a   4.0   1.0    1\n",
      "b   5.0   2.0    2\n",
      "c   3.0   NaN    3\n",
      "d   NaN   4.0    j\n",
      "e   2.0   5.0    k\n",
      "mean():\n",
      "val1    3.5\n",
      "val2    3.0\n",
      "dtype: float64\n",
      "type(m1): <class 'pandas.core.series.Series'>\n",
      "单独计算val1列: 3.5\n",
      "按行计算均值:\n",
      "a    2.5\n",
      "b    3.5\n",
      "c    3.0\n",
      "d    4.0\n",
      "e    3.5\n",
      "dtype: float64\n",
      "空值参与计算:\n",
      "a    2.5\n",
      "b    3.5\n",
      "c    NaN\n",
      "d    NaN\n",
      "e    3.5\n",
      "dtype: float64\n"
     ],
     "output_type": "stream"
    }
   ],
   "source": [
    "# 基本参数：axis、skipna  np.nan ：空值\n",
    "df = pd.DataFrame({'val1':[4,5,3,np.nan,2],\n",
    "                 'val2':[1,2,np.nan,4,5],\n",
    "                 'val3':[1,2,3,'j','k']},\n",
    "                  index=list('abcde'))\n",
    "print('df:',df,sep='\\n')\n",
    "\n",
    "# .mean()计算均值\n",
    "m1 = df.mean()\n",
    "print('mean():',m1,sep='\\n')\n",
    "print('type(m1):',type(m1))  # 是一个Series\n",
    "# 从结果来看,只统计数字列, val3列并未统计\n",
    "\n",
    "# 可以通过索引单独统计一列\n",
    "print('单独计算val1列:',m1['val1'].mean())  # 统计有效的数字,默认忽略NaN\n",
    "\n",
    "# axis参数：默认为0，以列来计算，axis=1，以行来计算，这里就按照行来汇总了\n",
    "m2 = df.mean(axis=1)\n",
    "print('按行计算均值:',m2,sep='\\n')\n",
    "\n",
    "# skipna参数：是否忽略NaN，默认True，如False，有NaN的列统计结果仍未NaN\n",
    "m3 = df.mean(axis=1, skipna=False)\n",
    "print('空值参与计算:',m3,sep='\\n')  # c,d行均为NaN"
   ],
   "metadata": {
    "collapsed": false,
    "pycharm": {
     "name": "#%%\n",
     "is_executing": false
    }
   }
  },
  {
   "cell_type": "code",
   "execution_count": 20,
   "outputs": [
    {
     "name": "stdout",
     "text": [
      "   key1      key2\n",
      "0     0  8.802471\n",
      "1     1  8.319142\n",
      "2     2  5.356558\n",
      "3     3  6.863306\n",
      "4     4  9.055945\n",
      "5     5  6.231121\n",
      "6     6  8.754762\n",
      "7     7  2.446207\n",
      "8     8  2.206448\n",
      "9     9  3.788206\n",
      "-----\n",
      "key1    10\n",
      "key2    10\n",
      "dtype: int64 → count统计非Na值的数量\n",
      "\n",
      "key1    0.000000\n",
      "key2    2.206448\n",
      "dtype: float64 → min统计最小值\n",
      " 9.055944855957819 → max统计最大值\n",
      "\n",
      "key1    6.750000\n",
      "key2    8.645857\n",
      "Name: 0.75, dtype: float64 → quantile统计分位数，参数q确定位置\n",
      "\n",
      "key1    45.000000\n",
      "key2    61.824165\n",
      "dtype: float64 → sum求和\n",
      "\n",
      "key1    4.500000\n",
      "key2    6.182417\n",
      "dtype: float64 → mean求平均值\n",
      "\n",
      "key1    4.500000\n",
      "key2    6.547214\n",
      "dtype: float64 → median求算数中位数，50%分位数\n",
      "\n",
      "key1    3.027650\n",
      "key2    2.644749\n",
      "dtype: float64 \n",
      " key1    9.166667\n",
      "key2    6.994696\n",
      "dtype: float64 → std,var分别求标准差，方差\n",
      "\n",
      "key1    0.00000\n",
      "key2   -0.45415\n",
      "dtype: float64 → skew样本的偏度\n",
      "\n",
      "key1   -1.200000\n",
      "key2   -1.402946\n",
      "dtype: float64 → kurt样本的峰度\n",
      "\n"
     ],
     "output_type": "stream"
    }
   ],
   "source": [
    "# 主要数学计算方法，可用于Series和DataFrame（1）\n",
    "\n",
    "df = pd.DataFrame({'key1':np.arange(10),\n",
    "                  'key2':np.random.rand(10)*10})\n",
    "print(df)\n",
    "print('-----')\n",
    "\n",
    "print(df.count(),'→ count统计非Na值的数量\\n')\n",
    "print(df.min(),'→ min统计最小值\\n',df['key2'].max(),'→ max统计最大值\\n')\n",
    "print(df.quantile(q=0.75),'→ quantile统计分位数，参数q确定位置\\n')\n",
    "print(df.sum(),'→ sum求和\\n')\n",
    "print(df.mean(),'→ mean求平均值\\n')\n",
    "print(df.median(),'→ median求算数中位数，50%分位数\\n')\n",
    "print(df.std(),'\\n',df.var(),'→ std,var分别求标准差，方差\\n')\n",
    "print(df.skew(),'→ skew样本的偏度\\n')\n",
    "print(df.kurt(),'→ kurt样本的峰度\\n')"
   ],
   "metadata": {
    "collapsed": false,
    "pycharm": {
     "name": "#%%\n",
     "is_executing": false
    }
   }
  },
  {
   "cell_type": "code",
   "execution_count": 26,
   "outputs": [
    {
     "name": "stdout",
     "text": [
      "cumsum样本的累积和:\n",
      "   key1      key2  key1_s     key2_s  key1_p        key2_p\n",
      "0     0  8.802471       0   8.802471       0  8.802471e+00\n",
      "1     1  8.319142       1  17.121613       0  7.322900e+01\n",
      "2     2  5.356558       3  22.478171       0  3.922554e+02\n",
      "3     3  6.863306       6  29.341477       0  2.692169e+03\n",
      "4     4  9.055945      10  38.397422       0  2.438013e+04\n",
      "5     5  6.231121      15  44.628542       0  1.519156e+05\n",
      "6     6  8.754762      21  53.383305       0  1.329985e+06\n",
      "7     7  2.446207      28  55.829512       0  3.253418e+06\n",
      "8     8  2.206448      36  58.035960       0  7.178496e+06\n",
      "9     9  3.788206      45  61.824165       0  2.719362e+07\n",
      "cumprod样本的累积连乘:\n",
      "   key1      key2  key1_s     key2_s  key1_p        key2_p\n",
      "0     0  8.802471       0   8.802471       0  8.802471e+00\n",
      "1     1  8.319142       1  17.121613       0  7.322900e+01\n",
      "2     2  5.356558       3  22.478171       0  3.922554e+02\n",
      "3     3  6.863306       6  29.341477       0  2.692169e+03\n",
      "4     4  9.055945      10  38.397422       0  2.438013e+04\n",
      "5     5  6.231121      15  44.628542       0  1.519156e+05\n",
      "6     6  8.754762      21  53.383305       0  1.329985e+06\n",
      "7     7  2.446207      28  55.829512       0  3.253418e+06\n",
      "8     8  2.206448      36  58.035960       0  7.178496e+06\n",
      "9     9  3.788206      45  61.824165       0  2.719362e+07\n",
      "cummax样本的累积最大值:\n",
      "   key1      key2  key1_s     key2_s  key1_p        key2_p\n",
      "0   0.0  8.802471     0.0   8.802471     0.0  8.802471e+00\n",
      "1   1.0  8.802471     1.0  17.121613     0.0  7.322900e+01\n",
      "2   2.0  8.802471     3.0  22.478171     0.0  3.922554e+02\n",
      "3   3.0  8.802471     6.0  29.341477     0.0  2.692169e+03\n",
      "4   4.0  9.055945    10.0  38.397422     0.0  2.438013e+04\n",
      "5   5.0  9.055945    15.0  44.628542     0.0  1.519156e+05\n",
      "6   6.0  9.055945    21.0  53.383305     0.0  1.329985e+06\n",
      "7   7.0  9.055945    28.0  55.829512     0.0  3.253418e+06\n",
      "8   8.0  9.055945    36.0  58.035960     0.0  7.178496e+06\n",
      "9   9.0  9.055945    45.0  61.824165     0.0  2.719362e+07\n"
     ],
     "output_type": "stream"
    },
    {
     "data": {
      "text/plain": "'\\n    cummax():\\n    Return cumulative maximum over a DataFrame or Series axis.\\n\\n    Returns a DataFrame or Series of the same size containing the cumulative maximum.\\n'"
     },
     "metadata": {},
     "output_type": "execute_result",
     "execution_count": 26
    }
   ],
   "source": [
    "# 主要数学计算方法，可用于Series和DataFrame（2）\n",
    "# cumsum()返回给定轴上数组元素的累积和。\n",
    "df['key1_s'] = df['key1'].cumsum()  # 累积求和\n",
    "df['key2_s'] = df['key2'].cumsum()  # 累积求和\n",
    "print('cumsum样本的累积和:',df,sep='\\n')\n",
    "\n",
    "# cumprod()返回给定轴上数组元素的累积乘积。\n",
    "df['key1_p'] = df['key1'].cumprod()  # 累积连乘\n",
    "df['key2_p'] = df['key2'].cumprod()  # 累积连乘\n",
    "print('cumprod样本的累积连乘:',df,sep='\\n')\n",
    "\n",
    "# cummax()返回给定轴上数组元素的累积最大值\n",
    "resule_max = df.cummax()\n",
    "print('cummax样本的累积最大值:',resule_max,sep='\\n')\n",
    "\n",
    "'''\n",
    "    cummax():\n",
    "    Return cumulative maximum over a DataFrame or Series axis.\n",
    "\n",
    "    Returns a DataFrame or Series of the same size containing the cumulative maximum.\n",
    "'''"
   ],
   "metadata": {
    "collapsed": false,
    "pycharm": {
     "name": "#%%\n",
     "is_executing": false
    }
   }
  },
  {
   "cell_type": "code",
   "execution_count": 33,
   "outputs": [
    {
     "name": "stdout",
     "text": [
      "s:\n",
      "0     a\n",
      "1     b\n",
      "2     a\n",
      "3     d\n",
      "4     r\n",
      "5     e\n",
      "6     s\n",
      "7     d\n",
      "8     e\n",
      "9     a\n",
      "10    d\n",
      "dtype: object\n",
      "result: ['a' 'b' 'd' 'r' 'e' 's']\n",
      "type(result): <class 'numpy.ndarray'>\n",
      "重新排序: ['a' 'b' 'd' 'e' 'r' 's']\n"
     ],
     "output_type": "stream"
    }
   ],
   "source": [
    "# 唯一值：.unique()  去重\n",
    "s = pd.Series(list('abadresdead'))\n",
    "print('s:',s,sep='\\n')  # 有重复元素\n",
    "result = s.unique()\n",
    "print('result:',result)  # 去重后的list\n",
    "print('type(result):',type(result))\n",
    "\n",
    "# 重新排序\n",
    "result.sort()\n",
    "print('重新排序:',result)"
   ],
   "metadata": {
    "collapsed": false,
    "pycharm": {
     "name": "#%%\n",
     "is_executing": false
    }
   }
  },
  {
   "cell_type": "code",
   "execution_count": 36,
   "outputs": [
    {
     "name": "stdout",
     "text": [
      "值计算后:\n",
      "a    3\n",
      "d    3\n",
      "e    2\n",
      "b    1\n",
      "r    1\n",
      "s    1\n",
      "dtype: int64\n",
      "type(sc): <class 'pandas.core.series.Series'>\n"
     ],
     "output_type": "stream"
    }
   ],
   "source": [
    "# 值计数：.value_counts()\n",
    "# 得到一个新的Series，计算出不同值出现的频率\n",
    "sc = s.value_counts(sort=False)  # sort参数：排序，默认为True\n",
    "print('值计算后:',sc,sep='\\n')\n",
    "print('type(sc):', type(sc))"
   ],
   "metadata": {
    "collapsed": false,
    "pycharm": {
     "name": "#%%\n",
     "is_executing": false
    }
   }
  },
  {
   "cell_type": "code",
   "execution_count": 43,
   "outputs": [
    {
     "name": "stdout",
     "text": [
      "s:\n",
      "0    10\n",
      "1    11\n",
      "2    12\n",
      "3    13\n",
      "4    14\n",
      "dtype: int32\n",
      "df:\n",
      "  key1  key2\n",
      "0    a     4\n",
      "1    s     5\n",
      "2    d     6\n",
      "3    c     7\n",
      "4    b     8\n",
      "5    v     9\n",
      "6    a    10\n",
      "7    s    11\n",
      "8    d    12\n",
      "s.isin([11,12])\n",
      "0    False\n",
      "1     True\n",
      "2     True\n",
      "3    False\n",
      "4    False\n",
      "dtype: bool\n",
      "result:\n",
      "    key1   key2\n",
      "0   True  False\n",
      "1  False  False\n",
      "2  False  False\n",
      "3  False  False\n",
      "4   True  False\n",
      "5  False  False\n",
      "6   True   True\n",
      "7  False  False\n",
      "8  False  False\n"
     ],
     "output_type": "stream"
    },
    {
     "data": {
      "text/plain": "'\\n\\n'"
     },
     "metadata": {},
     "output_type": "execute_result",
     "execution_count": 43
    }
   ],
   "source": [
    "# 成员资格：.isin()\n",
    "s = pd.Series(np.arange(10,15))\n",
    "df = pd.DataFrame({'key1':list('asdcbvasd'),\n",
    "                   'key2':np.arange(4,13)})\n",
    "print('s:',s,sep='\\n')\n",
    "print('df:',df,sep='\\n')\n",
    "\n",
    "# s.isin(1)  # 入参为单个字符会报错,TypeError  源码有解释\n",
    "\n",
    "print('s.isin([11,12])',s.isin([11,12]),sep='\\n')\n",
    "\n",
    "result = df.isin([2,'a','b',10,'8'])  # 注意'8' 是字符串\n",
    "print('result:',result,sep='\\n')  # 结果显示,'8'是无法匹配到的\n",
    "'''\n",
    "    series.isin()源码:\n",
    "    def isin(self, values):\n",
    "        \"\"\"\n",
    "        Check whether `values` are contained in Series.\n",
    "\n",
    "        Return a boolean Series showing whether each element in the Series\n",
    "        matches an element in the passed sequence of `values` exactly.\n",
    "\n",
    "        Parameters\n",
    "        ----------\n",
    "        values : set or list-like\n",
    "            The sequence of values to test. Passing in a single string will\n",
    "            raise a ``TypeError``. Instead, turn a single string into a\n",
    "            list of one element.\n",
    "            要测试的值的顺序。传递单个字符串将引发“ TypeError”。\n",
    "            而是将单个字符串转换为一个元素的列表。\n",
    "            .. versionadded:: 0.18.1\n",
    "\n",
    "              Support for values as a set.\n",
    "\n",
    "        Returns\n",
    "        -------\n",
    "        isin : Series (bool dtype)\n",
    "'''"
   ],
   "metadata": {
    "collapsed": false,
    "pycharm": {
     "name": "#%%\n",
     "is_executing": false
    }
   }
  }
 ],
 "metadata": {
  "kernelspec": {
   "display_name": "Python 3",
   "language": "python",
   "name": "python3"
  },
  "language_info": {
   "codemirror_mode": {
    "name": "ipython",
    "version": 2
   },
   "file_extension": ".py",
   "mimetype": "text/x-python",
   "name": "python",
   "nbconvert_exporter": "python",
   "pygments_lexer": "ipython2",
   "version": "2.7.6"
  },
  "pycharm": {
   "stem_cell": {
    "cell_type": "raw",
    "source": [],
    "metadata": {
     "collapsed": false
    }
   }
  }
 },
 "nbformat": 4,
 "nbformat_minor": 0
}