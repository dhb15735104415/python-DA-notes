{
 "cells": [
  {
   "cell_type": "code",
   "execution_count": 2,
   "metadata": {
    "collapsed": true,
    "pycharm": {
     "is_executing": false,
     "name": "#%%\n"
    }
   },
   "outputs": [
    {
     "data": {
      "text/plain": "'\\n    数据读取\\n\\n    核心：read_table, read_csv, read_excel\\n'"
     },
     "metadata": {},
     "output_type": "execute_result",
     "execution_count": 2
    }
   ],
   "source": [
    "'''\n",
    "    数据读取\n",
    "\n",
    "    核心：read_table, read_csv, read_excel\n",
    "'''"
   ]
  },
  {
   "cell_type": "code",
   "execution_count": 7,
   "outputs": [],
   "source": [
    "import os\n",
    "import pandas as pd"
   ],
   "metadata": {
    "collapsed": false,
    "pycharm": {
     "name": "#%%\n",
     "is_executing": false
    }
   }
  },
  {
   "cell_type": "code",
   "execution_count": 21,
   "outputs": [
    {
     "name": "stdout",
     "text": [
      "F:\\WorkSpaces\\python-DA-notes\\pandas\\notes\n",
      "读取结果为:      va1  va3  va4\n",
      "va2               \n",
      "2      1    3    4\n",
      "3      2    4    5\n",
      "4      3    5    6\n",
      "5      4    6    7\n"
     ],
     "output_type": "stream"
    },
    {
     "name": "stderr",
     "text": [
      "f:\\language\\python\\lib\\site-packages\\ipykernel_launcher.py:8: FutureWarning: read_table is deprecated, use read_csv instead.\n",
      "  \n"
     ],
     "output_type": "stream"
    }
   ],
   "source": [
    "# 读取普通分隔数据：read_table\n",
    "# 可以读取txt，csv\n",
    "# read_table主要用于读取简单的数据，txt/csv\n",
    "\n",
    "print(os.getcwd()) #  函数得到当前工作目录，即当前Python脚本工作的目录路径。\n",
    "os.chdir('F:\\\\WorkSpaces\\\\python-DA-notes\\\\pandas\\\\notes')  # 更改工作目录\n",
    "\n",
    "data1 = pd.read_table('data1.txt', delimiter=',',header = 0, index_col=1)\n",
    "print('读取结果为:',data1)\n",
    "# delimiter：用于拆分的字符，也可以用sep：sep = ','\n",
    "# header：用做列名的序号，默认为0（第一行）\n",
    "# index_col：指定某列为行索引，否则自动索引0, 1, .....\n"
   ],
   "metadata": {
    "collapsed": false,
    "pycharm": {
     "name": "#%%\n",
     "is_executing": false
    }
   }
  },
  {
   "cell_type": "code",
   "execution_count": 25,
   "outputs": [
    {
     "name": "stdout",
     "text": [
      "                        _id  \\\n",
      "0  5deb9880a3ddd6de30946509   \n",
      "1  5deb9880a3ddd6de3094650a   \n",
      "2  5deb9880a3ddd6de3094650b   \n",
      "3  5deb9880a3ddd6de3094650c   \n",
      "4  5deb9880a3ddd6de3094650d   \n",
      "\n",
      "                                                视频名称           视频发布时间  \\\n",
      "0  CNBC：专访华为创始人任正非，未来会不惜投资，三年后你们将看到一架配备更多先进引擎，飞得更...  2019/10/25 7:45   \n",
      "1  CNBC：专访华为创始人任正非，未来会不惜投资，三年后你们将看到一架配备更多先进引擎，飞得更...  2019/10/25 7:45   \n",
      "2  CNBC：专访华为创始人任正非，未来会不惜投资，三年后你们将看到一架配备更多先进引擎，飞得更...  2019/10/25 7:45   \n",
      "3  CNBC：专访华为创始人任正非，未来会不惜投资，三年后你们将看到一架配备更多先进引擎，飞得更...  2019/10/25 7:45   \n",
      "4  CNBC：专访华为创始人任正非，未来会不惜投资，三年后你们将看到一架配备更多先进引擎，飞得更...  2019/10/25 7:45   \n",
      "\n",
      "             弹幕内容                                                 其他  \n",
      "0            打破僵局  128.36300,1,25,16777215,1571986124,0,b6e8d93b,...  \n",
      "1  大佬都是不说英语的，哈哈哈哈  773.12800,1,25,16777215,1571986780,0,b6e8d93b,...  \n",
      "2               赞  31.20800,1,25,16777215,1571990517,0,ae1fcad8,2...  \n",
      "3           老爷子厉害  252.41100,1,25,15138834,1571990823,0,ae1fcad8,...  \n",
      "4           支持华为！  802.74100,1,25,15138834,1571994384,0,ae1fcad8,...  \n"
     ],
     "output_type": "stream"
    }
   ],
   "source": [
    "# 读取csv数据：read_csv\n",
    "\n",
    "data2 = pd.read_csv('Blibili弹幕数据.csv',engine = 'python')\n",
    "print(data2.head())\n",
    "# engine：使用的分析引擎。可以选择C或者是python。C引擎快但是Python引擎功能更加完备。\n",
    "# encoding：指定字符集类型，即编码，通常指定为'utf-8'\n",
    "\n",
    "# 大多数情况先将excel导出csv，再读取"
   ],
   "metadata": {
    "collapsed": false,
    "pycharm": {
     "name": "#%%\n",
     "is_executing": false
    }
   }
  },
  {
   "cell_type": "code",
   "execution_count": 28,
   "outputs": [
    {
     "name": "stdout",
     "text": [
      "     年份  月份   日\n",
      "0  2019  12  19\n"
     ],
     "output_type": "stream"
    },
    {
     "name": "stderr",
     "text": [
      "f:\\language\\python\\lib\\site-packages\\pandas\\util\\_decorators.py:188: FutureWarning: The `sheetname` keyword is deprecated, use `sheet_name` instead\n",
      "  return func(*args, **kwargs)\n"
     ],
     "output_type": "stream"
    },
    {
     "data": {
      "text/plain": "'\\n    运行报错了:\\n    ImportError: Install xlrd >= 1.0.0 for Excel support\\n    ImportError：为Excel支持安装xlrd> = 1.0.0\\n    \\n    pip install xlrd\\n'"
     },
     "metadata": {},
     "output_type": "execute_result",
     "execution_count": 28
    }
   ],
   "source": [
    "# 读取excel数据：read_excel\n",
    "\n",
    "data3 = pd.read_excel('data2.xlsx',sheetname='读取Excel练习',header=0)\n",
    "print(data3)\n",
    "# io ：文件路径。\n",
    "# sheetname：返回多表使用sheetname=[0,1],若sheetname=None是返回全表 → ① int/string 返回的是dataframe ②而none和list返回的是dict\n",
    "# header：指定列名行，默认0，即取第一行\n",
    "# index_col：指定列为索引列，也可以使用u”strings”\n",
    "\n",
    "'''\n",
    "    运行报错了:\n",
    "    ImportError: Install xlrd >= 1.0.0 for Excel support\n",
    "    ImportError：为Excel支持安装xlrd> = 1.0.0\n",
    "    \n",
    "    需要:pip install xlrd\n",
    "'''"
   ],
   "metadata": {
    "collapsed": false,
    "pycharm": {
     "name": "#%%\n",
     "is_executing": false
    }
   }
  }
 ],
 "metadata": {
  "kernelspec": {
   "display_name": "Python 3",
   "language": "python",
   "name": "python3"
  },
  "language_info": {
   "codemirror_mode": {
    "name": "ipython",
    "version": 2
   },
   "file_extension": ".py",
   "mimetype": "text/x-python",
   "name": "python",
   "nbconvert_exporter": "python",
   "pygments_lexer": "ipython2",
   "version": "2.7.6"
  },
  "pycharm": {
   "stem_cell": {
    "cell_type": "raw",
    "source": [],
    "metadata": {
     "collapsed": false
    }
   }
  }
 },
 "nbformat": 4,
 "nbformat_minor": 0
}