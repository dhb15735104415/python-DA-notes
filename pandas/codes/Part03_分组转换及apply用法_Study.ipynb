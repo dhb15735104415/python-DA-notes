{
 "cells": [
  {
   "cell_type": "code",
   "execution_count": 2,
   "metadata": {
    "collapsed": true,
    "pycharm": {
     "is_executing": false
    }
   },
   "outputs": [
    {
     "data": {
      "text/plain": "'\\n    分组转换及一般性“拆分-应用-合并”\\n\\n    transform / apply\\n'"
     },
     "metadata": {},
     "output_type": "execute_result",
     "execution_count": 2
    }
   ],
   "source": [
    "'''\n",
    "    分组转换及一般性“拆分-应用-合并”\n",
    "\n",
    "    transform / apply\n",
    "'''"
   ]
  },
  {
   "cell_type": "code",
   "execution_count": 3,
   "outputs": [],
   "source": [
    "import numpy as np\n",
    "import pandas as pd"
   ],
   "metadata": {
    "collapsed": false,
    "pycharm": {
     "name": "#%%\n",
     "is_executing": false
    }
   }
  },
  {
   "cell_type": "code",
   "execution_count": 4,
   "outputs": [
    {
     "name": "stdout",
     "text": [
      "df:\n",
      "      data1     data2 key1 key2\n",
      "0  0.120066  0.573616    a  one\n",
      "1  0.431728  0.129289    a  two\n",
      "2  0.628849  0.996110    b  one\n",
      "3  0.860560  0.769072    b  two\n",
      "4  0.041928  0.291312    a  one\n",
      "key1_grp求均值:\n",
      "         data1     data2\n",
      "key1                    \n",
      "a     0.197907  0.331406\n",
      "b     0.744704  0.882591\n",
      "数据转换:\n",
      "      data1     data2\n",
      "0  0.197907  0.331406\n",
      "1  0.197907  0.331406\n",
      "2  0.744704  0.882591\n",
      "3  0.744704  0.882591\n",
      "4  0.197907  0.331406\n"
     ],
     "output_type": "stream"
    },
    {
     "data": {
      "text/plain": "'\\n    详细请参考:https://zhuanlan.zhihu.com/p/86350553\\n'"
     },
     "metadata": {},
     "output_type": "execute_result",
     "execution_count": 4
    }
   ],
   "source": [
    "# 数据分组转换 transform\n",
    "df = pd.DataFrame({'data1':np.random.rand(5),\n",
    "                  'data2':np.random.rand(5),\n",
    "                  'key1':list('aabba'),\n",
    "                  'key2':['one','two','one','two','one']})\n",
    "print('df:',df,sep='\\n')\n",
    "\n",
    "# 按key1列分组\n",
    "key1_grp = df.groupby('key1')\n",
    "\n",
    "# 求均值\n",
    "print('key1_grp求均值:',key1_grp.mean(),sep='\\n')\n",
    "\n",
    "# 数据转换,返回的df长度和原始数据一致\n",
    "print('数据转换:',key1_grp.transform(np.mean),sep='\\n')\n",
    "\n",
    "'''\n",
    "    详细请参考:https://zhuanlan.zhihu.com/p/86350553\n",
    "'''"
   ],
   "metadata": {
    "collapsed": false,
    "pycharm": {
     "name": "#%%\n",
     "is_executing": false
    }
   }
  },
  {
   "cell_type": "code",
   "execution_count": 13,
   "outputs": [
    {
     "name": "stdout",
     "text": [
      "         data1     data2\n",
      "key1                    \n",
      "a     0.197907  0.331406\n",
      "b     0.744704  0.882591\n",
      "调用了\n",
      "调用了\n",
      "调用了\n",
      "返回排序后的前3行数据:\n",
      "           data1     data2 key2\n",
      "key1                           \n",
      "a    0  0.120066  0.573616  one\n",
      "     1  0.431728  0.129289  two\n",
      "     4  0.041928  0.291312  one\n",
      "b    2  0.628849  0.996110  one\n",
      "     3  0.860560  0.769072  two\n",
      "返回分组后表的data1列，结果为Series:\n",
      "key1   \n",
      "a     0    0.120066\n",
      "      1    0.431728\n",
      "      4    0.041928\n",
      "b     2    0.628849\n",
      "      3    0.860560\n",
      "Name: data1, dtype: float64\n"
     ],
     "output_type": "stream"
    }
   ],
   "source": [
    "# apply 更灵活,可以接收自定义的函数\n",
    "\n",
    "# 使用lambda表达式\n",
    "result = key1_grp.apply(lambda x:x.mean())  # apply直接运行其中的函数\n",
    "print(result)\n",
    "'''\n",
    "    describe()\n",
    "    生成描述性统计信息，以汇总数据集分布的集中趋势，离散度和形状，但不包括``NaN''值\n",
    "'''\n",
    "\n",
    "\n",
    "# 使用自定义函数\n",
    "def test(d):\n",
    "    print('调用了')\n",
    "\n",
    "key1_grp.apply(test)\n",
    "\n",
    "def f_sort(d,n):\n",
    "    '''\n",
    "    返回排序后的前n行数据,按索引排序\n",
    "    @param d: 分组后的每一组数据\n",
    "    @param n: n行\n",
    "    @return: DataFrame\n",
    "    '''\n",
    "    return (d.sort_index()[:n])\n",
    "\n",
    "print('返回排序后的前3行数据:',key1_grp.apply(f_sort,3),sep='\\n')\n",
    "\n",
    "def get_key1data(d,columns):\n",
    "    '''\n",
    "    返回分组后表的data1列，结果为Series，层次化索引\n",
    "    @param d: 分组后的每一组数据\n",
    "    @param columns: 列名称\n",
    "    @return: Series\n",
    "    '''\n",
    "    return d[columns]\n",
    "\n",
    "print('返回分组后表的data1列，结果为Series:',key1_grp.apply(get_key1data,'data1'),sep='\\n')\n",
    "# 参数直接写在后面，也可以为.apply(f_df,n = 2))"
   ],
   "metadata": {
    "collapsed": false,
    "pycharm": {
     "name": "#%%\n",
     "is_executing": false
    }
   }
  }
 ],
 "metadata": {
  "kernelspec": {
   "display_name": "Python 3",
   "language": "python",
   "name": "python3"
  },
  "language_info": {
   "codemirror_mode": {
    "name": "ipython",
    "version": 2
   },
   "file_extension": ".py",
   "mimetype": "text/x-python",
   "name": "python",
   "nbconvert_exporter": "python",
   "pygments_lexer": "ipython2",
   "version": "2.7.6"
  },
  "pycharm": {
   "stem_cell": {
    "cell_type": "raw",
    "source": [],
    "metadata": {
     "collapsed": false
    }
   }
  }
 },
 "nbformat": 4,
 "nbformat_minor": 0
}