{
 "cells": [
  {
   "cell_type": "code",
   "execution_count": 2,
   "metadata": {
    "collapsed": true,
    "pycharm": {
     "is_executing": false
    }
   },
   "outputs": [],
   "source": [
    "'''\n",
    "    时间模块：datetime\n",
    "\n",
    "    datetime模块，主要掌握：datetime.date(), datetime.datetime(), datetime.timedelta()\n",
    "    \n",
    "    日期解析方法：parser.parse\n",
    "'''"
   ]
  },
  {
   "cell_type": "code",
   "execution_count": 8,
   "outputs": [
    {
     "name": "stdout",
     "text": [
      "today: 2019-12-14\n",
      "type(today): <class 'datetime.date'>\n",
      "2020-11-13\n"
     ],
     "output_type": "stream"
    },
    {
     "data": {
      "text/plain": "'\\n    源码:\\n    def __init__(self, year: int, month: int, day: int) -> None: ...\\n'"
     },
     "metadata": {},
     "output_type": "execute_result",
     "execution_count": 8
    }
   ],
   "source": [
    "    \n",
    "import datetime\n",
    "\n",
    "# datetime.date.today 返回当前日:年-月-日\n",
    "# 输出格式为 date类\n",
    "today = datetime.date.today()\n",
    "print('today:',today)\n",
    "print('type(today):',type(today))\n",
    "\n",
    "t = datetime.date(2020,11,13)\n",
    "print(t)\n",
    "# (年，月，日) → 直接得到当时日期\n",
    "'''\n",
    "    源码:\n",
    "    def __init__(self, year: int, month: int, day: int) -> None: ...\n",
    "'''"
   ],
   "metadata": {
    "collapsed": false,
    "pycharm": {
     "name": "#%%\n",
     "is_executing": false
    }
   }
  },
  {
   "cell_type": "code",
   "execution_count": 26,
   "outputs": [
    {
     "name": "stdout",
     "text": [
      "datetime.now(): 2019-12-14 21:04:39.975910\n",
      "type(now): <class 'datetime.datetime'>\n",
      "2019-12-14 21:04:39.975910 <class 'str'>\n",
      "t1: 2019-05-29 00:00:00\n",
      "t2: 2022-12-06 23:59:59.999999\n",
      "1287 days, 23:59:59.999999\n",
      "1088 days, 2:55:20.024089\n"
     ],
     "output_type": "stream"
    }
   ],
   "source": [
    "# datetime.datetime：datetime对象 \n",
    "# 输出格式为 datetime类\n",
    "now = datetime.datetime.now()  # 时间很精准\n",
    "print('datetime.now():',now)\n",
    "print('type(now):',type(now))\n",
    "\n",
    "print(str(now), type(str(now)))\n",
    "\n",
    "# 和date一样,可以通过传参自定义时间\n",
    "t1 = datetime.datetime(2019,5,29)  \n",
    "print('t1:',t1)\n",
    "t2 = datetime.datetime(2022,12,6,23,59,59,999999)\n",
    "print('t2:',t2)\n",
    "print(t2-t1)  # 1287 days, 23:59:59.999999\n",
    "print(t2 - now)"
   ],
   "metadata": {
    "collapsed": false,
    "pycharm": {
     "name": "#%%\n",
     "is_executing": false
    }
   }
  },
  {
   "cell_type": "code",
   "execution_count": 30,
   "outputs": [
    {
     "name": "stdout",
     "text": [
      "2019-12-14 21:06:04.782511\n",
      "yestoday: 2019-12-13 21:06:04.782511\n",
      "In the future, I will be back...1088 days, 2:53:55.217488 Countdown\n"
     ],
     "output_type": "stream"
    }
   ],
   "source": [
    "# datetime.timedelta：时间差\n",
    "# 时间差主要用作时间的加减法，相当于可被识别的时间“差值”\n",
    "\n",
    "today = datetime.datetime.today()  # datetime的时间更精准\n",
    "print(today)\n",
    "\n",
    "yestoday = today - datetime.timedelta(1)\n",
    "print('yestoday:',yestoday)\n",
    "\n",
    "print(f'In the future, I will be back...{t2 - today} Countdown')"
   ],
   "metadata": {
    "collapsed": false,
    "pycharm": {
     "name": "#%%\n",
     "is_executing": false
    }
   }
  },
  {
   "cell_type": "code",
   "execution_count": 44,
   "outputs": [
    {
     "name": "stdout",
     "text": [
      "t1转换成时间格式后: 2019-05-29 00:00:00\n",
      "转换后类型为: <class 'datetime.datetime'>\n",
      "2018-12-19 00:00:00 \n",
      " 2017-12-30 00:00:00 \n",
      " 2016-12-11 11:50:00\n"
     ],
     "output_type": "stream"
    }
   ],
   "source": [
    "# parser.parse：日期字符串转换   \n",
    "from dateutil.parser import parse\n",
    "\n",
    "t1 = '2019-5-29'\n",
    "print('t1转换成时间格式后:',parse(t1))\n",
    "print('转换后类型为:',type(parse(t1)))\n",
    "\n",
    "print(parse('12/19/2018'),'\\n',\n",
    "     parse('30/12/2017', dayfirst = True),'\\n',  # 国际通用格式中，日在月之前，可以通过dayfirst来设置\n",
    "     parse('Dec 11, 2016 11:50 AM'))\n",
    "# 各种格式可以解析，但无法支持中文"
   ],
   "metadata": {
    "collapsed": false,
    "pycharm": {
     "name": "#%%\n",
     "is_executing": false
    }
   }
  }
 ],
 "metadata": {
  "kernelspec": {
   "display_name": "Python 3",
   "language": "python",
   "name": "python3"
  },
  "language_info": {
   "codemirror_mode": {
    "name": "ipython",
    "version": 2
   },
   "file_extension": ".py",
   "mimetype": "text/x-python",
   "name": "python",
   "nbconvert_exporter": "python",
   "pygments_lexer": "ipython2",
   "version": "2.7.6"
  },
  "pycharm": {
   "stem_cell": {
    "cell_type": "raw",
    "source": [],
    "metadata": {
     "collapsed": false
    }
   }
  }
 },
 "nbformat": 4,
 "nbformat_minor": 0
}