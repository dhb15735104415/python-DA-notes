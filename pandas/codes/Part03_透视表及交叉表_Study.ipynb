{
 "cells": [
  {
   "cell_type": "code",
   "execution_count": null,
   "outputs": [],
   "source": [
    "'''\n",
    "    透视表及交叉表\n",
    "\n",
    "    类似excel数据透视 - pivot table / crosstab\n",
    "'''"
   ],
   "metadata": {
    "collapsed": false,
    "pycharm": {
     "name": "#%%\n"
    }
   }
  },
  {
   "cell_type": "code",
   "execution_count": null,
   "outputs": [],
   "source": [
    "import numpy as np\n",
    "import pandas as pd"
   ],
   "metadata": {
    "collapsed": false,
    "pycharm": {
     "name": "#%%\n"
    }
   }
  },
  {
   "cell_type": "code",
   "execution_count": null,
   "outputs": [],
   "source": [
    "# 透视表：pivot_table\n",
    "'''    \n",
    "    源码:\n",
    "    pd.pivot_table(data, values=None, index=None, columns=None, \n",
    "        aggfunc='mean', fill_value=None, margins=False, dropna=True, margins_name='All')\n",
    "        \n",
    "    data：DataFrame对象\n",
    "    values：要聚合的列或列的列表\n",
    "    index：数据透视表的index，从原数据的列中筛选\n",
    "    columns：数据透视表的columns，从原数据的列中筛选\n",
    "    aggfunc：用于聚合的函数，默认为numpy.mean，支持numpy计算方法\n",
    "    fill_value:将NaN值填充为设置的值\n",
    "    margins: 为True时,对所有列数据汇总\n",
    "    pivot_table中一个令人困惑的地方是“columns（列）”和“values（值）”的使用。\n",
    "    记住，变量“columns（列）”是可选的，它提供一种额外的方法来分割你所关心的实际值。\n",
    "    然而，聚合函数aggfunc最后是被应用到了变量“values”中你所列举的项目上。\n",
    "    \n",
    "    详细请参考:https://www.cnblogs.com/onemorepoint/p/8425300.html\n",
    "'''\n",
    "date = ['2019-12-1','2019-12-2','2019-12-3']*3\n",
    "rng = pd.to_datetime(date)\n",
    "print('rng:',rng,sep='\\n')\n",
    "\n",
    "df = pd.DataFrame({'date':date,\n",
    "                   'key':list('abcdabcda'),\n",
    "                   'values':np.random.rand(9)*100})\n",
    "print('df:',df,sep='\\n')\n",
    "\n",
    "# 透视表\n",
    "p_table = pd.pivot_table(df,values='values',index='date',columns='key',\n",
    "                         aggfunc=[np.sum],fill_value=0,margins=True)\n",
    "print('透视表:',p_table,sep='\\n')\n",
    "# aggfunc 参数看似没有起作用,是因为每个元素都有一个,所以求和后没有变化"
   ],
   "metadata": {
    "collapsed": false,
    "pycharm": {
     "name": "#%%\n"
    }
   }
  },
  {
   "cell_type": "code",
   "execution_count": 26,
   "outputs": [
    {
     "name": "stdout",
     "text": [
      "df:\n",
      "   A  B    C\n",
      "0  1  3  1.0\n",
      "1  2  3  1.0\n",
      "2  2  4  NaN\n",
      "3  2  4  1.0\n",
      "4  2  4  1.0\n",
      "--------------------------------\n",
      "A和B列作交叉表:\n",
      "B  3  4\n",
      "A      \n",
      "1  1  0\n",
      "2  1  3\n",
      "type(ab_cro): <class 'pandas.core.frame.DataFrame'>\n",
      "百分比显示:\n",
      "B    3    4\n",
      "A          \n",
      "1  0.2  0.0\n",
      "2  0.2  0.6\n",
      "value参数:\n",
      "B    3    4\n",
      "A          \n",
      "1  1.0  NaN\n",
      "2  1.0  2.0\n",
      "margin参数:\n",
      "B      3    4  All\n",
      "A                 \n",
      "1    1.0  NaN  1.0\n",
      "2    1.0  2.0  3.0\n",
      "All  2.0  2.0  4.0\n"
     ],
     "output_type": "stream"
    }
   ],
   "source": [
    "# 交叉表：crosstab\n",
    "# 默认情况下，crosstab计算 因子 的频率表，比如用于str的数据透视分析\n",
    "'''\n",
    "    源码:\n",
    "    pd.crosstab(index, columns, values=None, rownames=None, colnames=None, \n",
    "                aggfunc=None, margins=False, dropna=True, normalize=False)\n",
    "                \n",
    "                \n",
    "    详细请参考::https://learnku.com/articles/27452\n",
    "'''\n",
    "df = pd.DataFrame({'A': [1, 2, 2, 2, 2],\n",
    "                   'B': [3, 3, 4, 4, 4],\n",
    "                   'C': [1, 1, np.nan, 1, 1]})\n",
    "print('df:',df,sep='\\n')\n",
    "print('--------------------------------')\n",
    "\n",
    "ab_cro = pd.crosstab(df.A,df.B)  # 也可以写为:(df['A'],df['B']0 \n",
    "                                 # 第一个参数是index，第二个参数是columns\n",
    "print('A和B列作交叉表:',ab_cro,sep='\\n')  # 用A的唯一值，统计B唯一值的出现次数\n",
    "print('type(ab_cro):',type(ab_cro))\n",
    "\n",
    "# normalize参数：默认False，将所有值除以值的总和进行归一化 → 为True时候显示百分比\n",
    "print('百分比显示:',pd.crosstab(df.A,df.B,normalize=True),sep='\\n')\n",
    "\n",
    "# values参数：可选，根据因子聚合的值数组\n",
    "# print('value参数:',pd.crosstab(df.A,df.B,values=df.C))   报错,必须加aggfunc关键字参数,对value做函数计算\n",
    "'''\n",
    "    ValueError: values cannot be used without an aggfunc.\n",
    "'''\n",
    "print('value参数:',pd.crosstab(df.A,df.B,values=df.C,aggfunc=np.sum),sep='\\n')\n",
    "# 对C列的值遍历,如果A,B列确定的坐标,在C列能找到则填充在坐标处(求和后的值)\n",
    "\n",
    "# margins参数：布尔值，默认值False，添加行/列边距（小计,汇总）\n",
    "print('margin参数:',pd.crosstab(df['A'],df['B'],values=df['C'],aggfunc=np.sum, margins=True),sep='\\n')\n",
    "# NaN值参与计算,按0处理"
   ],
   "metadata": {
    "collapsed": false,
    "pycharm": {
     "name": "#%%\n",
     "is_executing": false
    }
   }
  }
 ],
 "metadata": {
  "kernelspec": {
   "display_name": "Python 3",
   "language": "python",
   "name": "python3"
  },
  "language_info": {
   "codemirror_mode": {
    "name": "ipython",
    "version": 2
   },
   "file_extension": ".py",
   "mimetype": "text/x-python",
   "name": "python",
   "nbconvert_exporter": "python",
   "pygments_lexer": "ipython2",
   "version": "2.7.6"
  },
  "pycharm": {
   "stem_cell": {
    "cell_type": "raw",
    "source": [],
    "metadata": {
     "collapsed": false
    }
   }
  }
 },
 "nbformat": 4,
 "nbformat_minor": 0
}