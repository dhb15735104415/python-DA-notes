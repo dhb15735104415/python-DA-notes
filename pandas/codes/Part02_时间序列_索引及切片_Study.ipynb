{
 "cells": [
  {
   "cell_type": "code",
   "execution_count": 1,
   "metadata": {
    "collapsed": true,
    "pycharm": {
     "is_executing": false
    }
   },
   "outputs": [
    {
     "data": {
      "text/plain": "'\\n    时间序列 - 索引及切片\\n\\n    TimeSeries是Series的一个子类，所以Series索引及数据选取方面的方法基本一样\\n\\n    同时TimeSeries通过时间序列有更便捷的方法做索引和切片\\n'"
     },
     "metadata": {},
     "output_type": "execute_result",
     "execution_count": 1
    }
   ],
   "source": [
    "'''\n",
    "    时间序列 - 索引及切片\n",
    "\n",
    "    TimeSeries是Series的一个子类，所以Series索引及数据选取方面的方法基本一样\n",
    "\n",
    "    同时TimeSeries通过时间序列有更便捷的方法做索引和切片\n",
    "'''\n"
   ]
  },
  {
   "cell_type": "code",
   "execution_count": 3,
   "outputs": [],
   "source": [
    "import numpy as np\n",
    "import pandas as pd\n",
    "from datetime import datetime"
   ],
   "metadata": {
    "collapsed": false,
    "pycharm": {
     "name": "#%%\n",
     "is_executing": false
    }
   }
  },
  {
   "cell_type": "code",
   "execution_count": 10,
   "outputs": [
    {
     "name": "stdout",
     "text": [
      "ts:\n",
      "2019-11-01    0.034937\n",
      "2019-11-02    0.918629\n",
      "2019-11-03    0.658986\n",
      "2019-11-04    0.403074\n",
      "2019-11-05    0.468199\n",
      "2019-11-06    0.563360\n",
      "2019-11-07    0.547790\n",
      "2019-11-08    0.681416\n",
      "2019-11-09    0.847734\n",
      "2019-11-10    0.836606\n",
      "2019-11-11    0.631913\n",
      "2019-11-12    0.319546\n",
      "2019-11-13    0.214228\n",
      "2019-11-14    0.932036\n",
      "2019-11-15    0.651591\n",
      "2019-11-16    0.414145\n",
      "2019-11-17    0.524547\n",
      "2019-11-18    0.402079\n",
      "2019-11-19    0.708988\n",
      "2019-11-20    0.672506\n",
      "2019-11-21    0.281581\n",
      "2019-11-22    0.866500\n",
      "2019-11-23    0.262256\n",
      "2019-11-24    0.049224\n",
      "2019-11-25    0.087476\n",
      "2019-11-26    0.937870\n",
      "2019-11-27    0.782140\n",
      "2019-11-28    0.630659\n",
      "2019-11-29    0.675204\n",
      "2019-11-30    0.973871\n",
      "2019-12-01    0.268823\n",
      "Freq: D, dtype: float64\n",
      "ts['2019-11-02']: 0.9186285964168406\n",
      "ts['20191102']: 0.9186285964168406\n",
      "ts['11/02/2019']: 0.9186285964168406\n",
      "ts[datetime(2019,11,2)]: 0.9186285964168406\n"
     ],
     "output_type": "stream"
    }
   ],
   "source": [
    "# 索引学习 索引方法同样适用于Dataframe\n",
    "# 基本下标位置索引\n",
    "# 时间序列由于按照时间先后排序，故不用考虑顺序问题\n",
    "rng = pd.date_range('2019/11','2019/12')\n",
    "ts = pd.Series(np.random.rand(len(rng)),index=rng)\n",
    "print('ts:',ts,sep='\\n')\n",
    "# 时间序列标签索引，支持各种时间字符串，以及datetime.datetime\n",
    "print(\"ts['2019-11-02']:\",ts['2019-11-02'])\n",
    "print(\"ts['20191102']:\",ts['20191102'])\n",
    "print(\"ts['11/02/2019']:\",ts['11/02/2019'])\n",
    "print(\"ts[datetime(2019,11,2)]:\",ts[datetime(2019,11,2)])\n",
    "\n"
   ],
   "metadata": {
    "collapsed": false,
    "pycharm": {
     "name": "#%%\n",
     "is_executing": false
    }
   }
  },
  {
   "cell_type": "code",
   "execution_count": 16,
   "outputs": [
    {
     "name": "stdout",
     "text": [
      "ts['2019-11-05':'2019-11-10'],\n",
      "2019-11-05    0.468199\n",
      "2019-11-06    0.563360\n",
      "2019-11-07    0.547790\n",
      "2019-11-08    0.681416\n",
      "2019-11-09    0.847734\n",
      "2019-11-10    0.836606\n",
      "Freq: D, dtype: float64\n",
      "2019-11-01    0.034937\n",
      "2019-11-02    0.918629\n",
      "2019-11-03    0.658986\n",
      "2019-11-04    0.403074\n",
      "2019-11-05    0.468199\n",
      "Freq: D, dtype: float64\n"
     ],
     "output_type": "stream"
    }
   ],
   "source": [
    "# 切片学习\n",
    "# 和Series按照index索引原理一样，也是末端包含\n",
    "\n",
    "print(\"ts['2019-11-05':'2019-11-10'],\",ts['2019-11-05':'2019-11-10'],sep='\\n')\n",
    "# 传入年,直接将2019年的数据都返回了\n",
    "print(ts['2019'].head())"
   ],
   "metadata": {
    "collapsed": false,
    "pycharm": {
     "name": "#%%\n",
     "is_executing": false
    }
   }
  },
  {
   "cell_type": "code",
   "execution_count": 27,
   "outputs": [
    {
     "name": "stdout",
     "text": [
      "ts(含重复时间戳索引):\n",
      "2019-11-15    0.995716\n",
      "2019-11-16    0.192401\n",
      "2019-11-17    0.075688\n",
      "2019-11-15    0.585997\n",
      "2019-11-16    0.586481\n",
      "dtype: float64\n",
      "ts.is_unique: True\n",
      "ts.index.is_unique: False\n",
      "重复索引将返回多个值,ts[2019-11-15]:\n",
      "2019-11-15    0.995716\n",
      "2019-11-15    0.585997\n",
      "dtype: float64\n",
      "group()做分组后:\n",
      "2019-11-15    0.790857\n",
      "2019-11-16    0.389441\n",
      "2019-11-17    0.075688\n",
      "dtype: float64\n"
     ],
     "output_type": "stream"
    },
    {
     "data": {
      "text/plain": "'\\n     def groupby(self, by=None, axis=0, level=None, as_index=True, sort=True,\\n                group_keys=True, squeeze=False, observed=False, **kwargs):\\n    使用映射器或按一系列列对DataFrame或Series进行分组。\\n    分组操作涉及拆分对象，应用功能以及组合结果的某种组合。\\n    这可用于对大量数据进行分组并在这些组上进行计算操作。\\n    level : int, level name, or sequence of such, default None\\n    If the axis is a MultiIndex (hierarchical), group by a particular\\n    level or levels.\\n    如果轴是MultiIndex（分层），则按一个或多个特定级别分组。\\n'"
     },
     "metadata": {},
     "output_type": "execute_result",
     "execution_count": 27
    }
   ],
   "source": [
    "# 重复索引的时间序列\n",
    "dates = pd.DatetimeIndex(['2019-11-15','2019-11-16','2019-11-17','2019-11-15','2019-11-16',])\n",
    "ts = pd.Series(np.random.rand(len(dates)),index=dates)\n",
    "print('ts(含重复时间戳索引):',ts,sep='\\n')\n",
    "\n",
    "# index有重复，is_unique检查 → values唯一，index不唯一\n",
    "# is_unique 如果对象中的值唯一，则返回布尔值。\n",
    "print('ts.is_unique:',ts.is_unique)  # True  因为ts的values是唯一的\n",
    "print('ts.index.is_unique:',ts.index.is_unique)  # False 索引有重复的\n",
    "\n",
    "# index有重复的将返回多个值\n",
    "print('重复索引将返回多个值,ts[''2019-11-15]:',ts['2019-11-15'],sep='\\n')\n",
    "\n",
    "# 解决这种情况,可以用group()做分组，重复的值这里用平均值处理\n",
    "print('group()做分组后:',ts.groupby(level=0).mean(),sep='\\n')\n",
    "\n",
    "'''\n",
    "     def groupby(self, by=None, axis=0, level=None, as_index=True, sort=True,\n",
    "                group_keys=True, squeeze=False, observed=False, **kwargs):\n",
    "    使用映射器或按一系列列对DataFrame或Series进行分组。\n",
    "    分组操作涉及拆分对象，应用功能以及组合结果的某种组合。\n",
    "    这可用于对大量数据进行分组并在这些组上进行计算操作。\n",
    "    level : int, level name, or sequence of such, default None\n",
    "    If the axis is a MultiIndex (hierarchical), group by a particular\n",
    "    level or levels.\n",
    "    如果轴是MultiIndex（分层），则按一个或多个特定级别分组。\n",
    "'''\n"
   ],
   "metadata": {
    "collapsed": false,
    "pycharm": {
     "name": "#%%\n",
     "is_executing": false
    }
   }
  }
 ],
 "metadata": {
  "kernelspec": {
   "display_name": "Python 3",
   "language": "python",
   "name": "python3"
  },
  "language_info": {
   "codemirror_mode": {
    "name": "ipython",
    "version": 2
   },
   "file_extension": ".py",
   "mimetype": "text/x-python",
   "name": "python",
   "nbconvert_exporter": "python",
   "pygments_lexer": "ipython2",
   "version": "2.7.6"
  },
  "pycharm": {
   "stem_cell": {
    "cell_type": "raw",
    "source": [],
    "metadata": {
     "collapsed": false
    }
   }
  }
 },
 "nbformat": 4,
 "nbformat_minor": 0
}