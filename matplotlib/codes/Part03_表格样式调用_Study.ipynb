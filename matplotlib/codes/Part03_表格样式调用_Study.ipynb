{
 "cells": [
  {
   "cell_type": "code",
   "execution_count": 48,
   "metadata": {
    "collapsed": true,
    "pycharm": {
     "is_executing": false
    }
   },
   "outputs": [
    {
     "data": {
      "text/plain": "'\\n    表格样式调用\\n\\n    Styler内置样式调用\\n'"
     },
     "metadata": {},
     "output_type": "execute_result",
     "execution_count": 48
    }
   ],
   "source": [
    "'''\n",
    "    表格样式调用\n",
    "\n",
    "    Styler内置样式调用\n",
    "'''"
   ]
  },
  {
   "cell_type": "code",
   "execution_count": 49,
   "outputs": [],
   "source": [
    "import numpy as np \n",
    "import pandas as pd"
   ],
   "metadata": {
    "collapsed": false,
    "pycharm": {
     "name": "#%%\n",
     "is_executing": false
    }
   }
  },
  {
   "cell_type": "code",
   "execution_count": 50,
   "outputs": [
    {
     "data": {
      "text/plain": "          A         B         C         D\n0  0.190672  0.962967 -0.841149 -0.575778\n1 -1.409015 -0.316233 -1.528083 -1.294502\n2       NaN  0.127803  0.451443 -1.328347\n3 -0.227417  1.061346 -0.353809 -0.690099\n4 -0.610431 -0.059224 -0.035721 -1.684958",
      "text/html": "<div>\n<style scoped>\n    .dataframe tbody tr th:only-of-type {\n        vertical-align: middle;\n    }\n\n    .dataframe tbody tr th {\n        vertical-align: top;\n    }\n\n    .dataframe thead th {\n        text-align: right;\n    }\n</style>\n<table border=\"1\" class=\"dataframe\">\n  <thead>\n    <tr style=\"text-align: right;\">\n      <th></th>\n      <th>A</th>\n      <th>B</th>\n      <th>C</th>\n      <th>D</th>\n    </tr>\n  </thead>\n  <tbody>\n    <tr>\n      <th>0</th>\n      <td>0.190672</td>\n      <td>0.962967</td>\n      <td>-0.841149</td>\n      <td>-0.575778</td>\n    </tr>\n    <tr>\n      <th>1</th>\n      <td>-1.409015</td>\n      <td>-0.316233</td>\n      <td>-1.528083</td>\n      <td>-1.294502</td>\n    </tr>\n    <tr>\n      <th>2</th>\n      <td>NaN</td>\n      <td>0.127803</td>\n      <td>0.451443</td>\n      <td>-1.328347</td>\n    </tr>\n    <tr>\n      <th>3</th>\n      <td>-0.227417</td>\n      <td>1.061346</td>\n      <td>-0.353809</td>\n      <td>-0.690099</td>\n    </tr>\n    <tr>\n      <th>4</th>\n      <td>-0.610431</td>\n      <td>-0.059224</td>\n      <td>-0.035721</td>\n      <td>-1.684958</td>\n    </tr>\n  </tbody>\n</table>\n</div>"
     },
     "metadata": {},
     "output_type": "execute_result",
     "execution_count": 50
    }
   ],
   "source": [
    "df = pd.DataFrame(np.random.randn(5,4),columns = list('ABCD'))\n",
    "df['A'][2] = np.nan\n",
    "df"
   ],
   "metadata": {
    "collapsed": false,
    "pycharm": {
     "name": "#%%\n",
     "is_executing": false
    }
   }
  },
  {
   "cell_type": "code",
   "execution_count": 51,
   "outputs": [
    {
     "data": {
      "text/plain": "<pandas.io.formats.style.Styler at 0x1dcb6310f98>",
      "text/html": "<style  type=\"text/css\" >\n    #T_f30a5294_2c91_11ea_a9bd_d8c4973e0814row2_col0 {\n            background-color:  red;\n        }</style><table id=\"T_f30a5294_2c91_11ea_a9bd_d8c4973e0814\" ><thead>    <tr>        <th class=\"blank level0\" ></th>        <th class=\"col_heading level0 col0\" >A</th>        <th class=\"col_heading level0 col1\" >B</th>        <th class=\"col_heading level0 col2\" >C</th>        <th class=\"col_heading level0 col3\" >D</th>    </tr></thead><tbody>\n                <tr>\n                        <th id=\"T_f30a5294_2c91_11ea_a9bd_d8c4973e0814level0_row0\" class=\"row_heading level0 row0\" >0</th>\n                        <td id=\"T_f30a5294_2c91_11ea_a9bd_d8c4973e0814row0_col0\" class=\"data row0 col0\" >0.190672</td>\n                        <td id=\"T_f30a5294_2c91_11ea_a9bd_d8c4973e0814row0_col1\" class=\"data row0 col1\" >0.962967</td>\n                        <td id=\"T_f30a5294_2c91_11ea_a9bd_d8c4973e0814row0_col2\" class=\"data row0 col2\" >-0.841149</td>\n                        <td id=\"T_f30a5294_2c91_11ea_a9bd_d8c4973e0814row0_col3\" class=\"data row0 col3\" >-0.575778</td>\n            </tr>\n            <tr>\n                        <th id=\"T_f30a5294_2c91_11ea_a9bd_d8c4973e0814level0_row1\" class=\"row_heading level0 row1\" >1</th>\n                        <td id=\"T_f30a5294_2c91_11ea_a9bd_d8c4973e0814row1_col0\" class=\"data row1 col0\" >-1.40901</td>\n                        <td id=\"T_f30a5294_2c91_11ea_a9bd_d8c4973e0814row1_col1\" class=\"data row1 col1\" >-0.316233</td>\n                        <td id=\"T_f30a5294_2c91_11ea_a9bd_d8c4973e0814row1_col2\" class=\"data row1 col2\" >-1.52808</td>\n                        <td id=\"T_f30a5294_2c91_11ea_a9bd_d8c4973e0814row1_col3\" class=\"data row1 col3\" >-1.2945</td>\n            </tr>\n            <tr>\n                        <th id=\"T_f30a5294_2c91_11ea_a9bd_d8c4973e0814level0_row2\" class=\"row_heading level0 row2\" >2</th>\n                        <td id=\"T_f30a5294_2c91_11ea_a9bd_d8c4973e0814row2_col0\" class=\"data row2 col0\" >nan</td>\n                        <td id=\"T_f30a5294_2c91_11ea_a9bd_d8c4973e0814row2_col1\" class=\"data row2 col1\" >0.127803</td>\n                        <td id=\"T_f30a5294_2c91_11ea_a9bd_d8c4973e0814row2_col2\" class=\"data row2 col2\" >0.451443</td>\n                        <td id=\"T_f30a5294_2c91_11ea_a9bd_d8c4973e0814row2_col3\" class=\"data row2 col3\" >-1.32835</td>\n            </tr>\n            <tr>\n                        <th id=\"T_f30a5294_2c91_11ea_a9bd_d8c4973e0814level0_row3\" class=\"row_heading level0 row3\" >3</th>\n                        <td id=\"T_f30a5294_2c91_11ea_a9bd_d8c4973e0814row3_col0\" class=\"data row3 col0\" >-0.227417</td>\n                        <td id=\"T_f30a5294_2c91_11ea_a9bd_d8c4973e0814row3_col1\" class=\"data row3 col1\" >1.06135</td>\n                        <td id=\"T_f30a5294_2c91_11ea_a9bd_d8c4973e0814row3_col2\" class=\"data row3 col2\" >-0.353809</td>\n                        <td id=\"T_f30a5294_2c91_11ea_a9bd_d8c4973e0814row3_col3\" class=\"data row3 col3\" >-0.690099</td>\n            </tr>\n            <tr>\n                        <th id=\"T_f30a5294_2c91_11ea_a9bd_d8c4973e0814level0_row4\" class=\"row_heading level0 row4\" >4</th>\n                        <td id=\"T_f30a5294_2c91_11ea_a9bd_d8c4973e0814row4_col0\" class=\"data row4 col0\" >-0.610431</td>\n                        <td id=\"T_f30a5294_2c91_11ea_a9bd_d8c4973e0814row4_col1\" class=\"data row4 col1\" >-0.0592243</td>\n                        <td id=\"T_f30a5294_2c91_11ea_a9bd_d8c4973e0814row4_col2\" class=\"data row4 col2\" >-0.0357207</td>\n                        <td id=\"T_f30a5294_2c91_11ea_a9bd_d8c4973e0814row4_col3\" class=\"data row4 col3\" >-1.68496</td>\n            </tr>\n    </tbody></table>"
     },
     "metadata": {},
     "output_type": "execute_result",
     "execution_count": 51
    }
   ],
   "source": [
    "# 对背景``null_color''进行阴影处理以获取缺失值。 df.style.highlight_null()\n",
    "df.style.highlight_null(null_color='red')  # 空值填充红色"
   ],
   "metadata": {
    "collapsed": false,
    "pycharm": {
     "name": "#%%\n",
     "is_executing": false
    }
   }
  },
  {
   "cell_type": "code",
   "execution_count": 52,
   "outputs": [
    {
     "name": "stderr",
     "text": [
      "f:\\language\\python\\lib\\site-packages\\matplotlib\\colors.py:512: RuntimeWarning: invalid value encountered in less\n",
      "  xa[xa < 0] = -1\n"
     ],
     "output_type": "stream"
    },
    {
     "data": {
      "text/plain": "<pandas.io.formats.style.Styler at 0x1dcb63506a0>",
      "text/html": "<style  type=\"text/css\" >\n    #T_f310b686_2c91_11ea_8c34_d8c4973e0814row0_col0 {\n            background-color:  #f7fcf5;\n            color:  #000000;\n        }    #T_f310b686_2c91_11ea_8c34_d8c4973e0814row0_col1 {\n            background-color:  #81ca81;\n            color:  #000000;\n        }    #T_f310b686_2c91_11ea_8c34_d8c4973e0814row0_col2 {\n            background-color:  #daf0d4;\n            color:  #000000;\n        }    #T_f310b686_2c91_11ea_8c34_d8c4973e0814row0_col3 {\n            background-color:  #73c476;\n            color:  #000000;\n        }    #T_f310b686_2c91_11ea_8c34_d8c4973e0814row1_col0 {\n            background-color:  #f7fcf5;\n            color:  #000000;\n        }    #T_f310b686_2c91_11ea_8c34_d8c4973e0814row1_col1 {\n            background-color:  #f7fcf5;\n            color:  #000000;\n        }    #T_f310b686_2c91_11ea_8c34_d8c4973e0814row1_col2 {\n            background-color:  #f7fcf5;\n            color:  #000000;\n        }    #T_f310b686_2c91_11ea_8c34_d8c4973e0814row1_col3 {\n            background-color:  #d9f0d3;\n            color:  #000000;\n        }    #T_f310b686_2c91_11ea_8c34_d8c4973e0814row2_col0 {\n            background-color:  #f7fcf5;\n            color:  #000000;\n        }    #T_f310b686_2c91_11ea_8c34_d8c4973e0814row2_col1 {\n            background-color:  #dcf2d7;\n            color:  #000000;\n        }    #T_f310b686_2c91_11ea_8c34_d8c4973e0814row2_col2 {\n            background-color:  #73c476;\n            color:  #000000;\n        }    #T_f310b686_2c91_11ea_8c34_d8c4973e0814row2_col3 {\n            background-color:  #dcf2d7;\n            color:  #000000;\n        }    #T_f310b686_2c91_11ea_8c34_d8c4973e0814row3_col0 {\n            background-color:  #f7fcf5;\n            color:  #000000;\n        }    #T_f310b686_2c91_11ea_8c34_d8c4973e0814row3_col1 {\n            background-color:  #73c476;\n            color:  #000000;\n        }    #T_f310b686_2c91_11ea_8c34_d8c4973e0814row3_col2 {\n            background-color:  #bae3b3;\n            color:  #000000;\n        }    #T_f310b686_2c91_11ea_8c34_d8c4973e0814row3_col3 {\n            background-color:  #87cd86;\n            color:  #000000;\n        }    #T_f310b686_2c91_11ea_8c34_d8c4973e0814row4_col0 {\n            background-color:  #f7fcf5;\n            color:  #000000;\n        }    #T_f310b686_2c91_11ea_8c34_d8c4973e0814row4_col1 {\n            background-color:  #eaf7e6;\n            color:  #000000;\n        }    #T_f310b686_2c91_11ea_8c34_d8c4973e0814row4_col2 {\n            background-color:  #a0d99b;\n            color:  #000000;\n        }    #T_f310b686_2c91_11ea_8c34_d8c4973e0814row4_col3 {\n            background-color:  #f7fcf5;\n            color:  #000000;\n        }</style><table id=\"T_f310b686_2c91_11ea_8c34_d8c4973e0814\" ><thead>    <tr>        <th class=\"blank level0\" ></th>        <th class=\"col_heading level0 col0\" >A</th>        <th class=\"col_heading level0 col1\" >B</th>        <th class=\"col_heading level0 col2\" >C</th>        <th class=\"col_heading level0 col3\" >D</th>    </tr></thead><tbody>\n                <tr>\n                        <th id=\"T_f310b686_2c91_11ea_8c34_d8c4973e0814level0_row0\" class=\"row_heading level0 row0\" >0</th>\n                        <td id=\"T_f310b686_2c91_11ea_8c34_d8c4973e0814row0_col0\" class=\"data row0 col0\" >0.190672</td>\n                        <td id=\"T_f310b686_2c91_11ea_8c34_d8c4973e0814row0_col1\" class=\"data row0 col1\" >0.962967</td>\n                        <td id=\"T_f310b686_2c91_11ea_8c34_d8c4973e0814row0_col2\" class=\"data row0 col2\" >-0.841149</td>\n                        <td id=\"T_f310b686_2c91_11ea_8c34_d8c4973e0814row0_col3\" class=\"data row0 col3\" >-0.575778</td>\n            </tr>\n            <tr>\n                        <th id=\"T_f310b686_2c91_11ea_8c34_d8c4973e0814level0_row1\" class=\"row_heading level0 row1\" >1</th>\n                        <td id=\"T_f310b686_2c91_11ea_8c34_d8c4973e0814row1_col0\" class=\"data row1 col0\" >-1.40901</td>\n                        <td id=\"T_f310b686_2c91_11ea_8c34_d8c4973e0814row1_col1\" class=\"data row1 col1\" >-0.316233</td>\n                        <td id=\"T_f310b686_2c91_11ea_8c34_d8c4973e0814row1_col2\" class=\"data row1 col2\" >-1.52808</td>\n                        <td id=\"T_f310b686_2c91_11ea_8c34_d8c4973e0814row1_col3\" class=\"data row1 col3\" >-1.2945</td>\n            </tr>\n            <tr>\n                        <th id=\"T_f310b686_2c91_11ea_8c34_d8c4973e0814level0_row2\" class=\"row_heading level0 row2\" >2</th>\n                        <td id=\"T_f310b686_2c91_11ea_8c34_d8c4973e0814row2_col0\" class=\"data row2 col0\" >nan</td>\n                        <td id=\"T_f310b686_2c91_11ea_8c34_d8c4973e0814row2_col1\" class=\"data row2 col1\" >0.127803</td>\n                        <td id=\"T_f310b686_2c91_11ea_8c34_d8c4973e0814row2_col2\" class=\"data row2 col2\" >0.451443</td>\n                        <td id=\"T_f310b686_2c91_11ea_8c34_d8c4973e0814row2_col3\" class=\"data row2 col3\" >-1.32835</td>\n            </tr>\n            <tr>\n                        <th id=\"T_f310b686_2c91_11ea_8c34_d8c4973e0814level0_row3\" class=\"row_heading level0 row3\" >3</th>\n                        <td id=\"T_f310b686_2c91_11ea_8c34_d8c4973e0814row3_col0\" class=\"data row3 col0\" >-0.227417</td>\n                        <td id=\"T_f310b686_2c91_11ea_8c34_d8c4973e0814row3_col1\" class=\"data row3 col1\" >1.06135</td>\n                        <td id=\"T_f310b686_2c91_11ea_8c34_d8c4973e0814row3_col2\" class=\"data row3 col2\" >-0.353809</td>\n                        <td id=\"T_f310b686_2c91_11ea_8c34_d8c4973e0814row3_col3\" class=\"data row3 col3\" >-0.690099</td>\n            </tr>\n            <tr>\n                        <th id=\"T_f310b686_2c91_11ea_8c34_d8c4973e0814level0_row4\" class=\"row_heading level0 row4\" >4</th>\n                        <td id=\"T_f310b686_2c91_11ea_8c34_d8c4973e0814row4_col0\" class=\"data row4 col0\" >-0.610431</td>\n                        <td id=\"T_f310b686_2c91_11ea_8c34_d8c4973e0814row4_col1\" class=\"data row4 col1\" >-0.0592243</td>\n                        <td id=\"T_f310b686_2c91_11ea_8c34_d8c4973e0814row4_col2\" class=\"data row4 col2\" >-0.0357207</td>\n                        <td id=\"T_f310b686_2c91_11ea_8c34_d8c4973e0814row4_col3\" class=\"data row4 col3\" >-1.68496</td>\n            </tr>\n    </tbody></table>"
     },
     "metadata": {},
     "output_type": "execute_result",
     "execution_count": 52
    }
   ],
   "source": [
    "# 根据每列（可选，行）中的数据以渐变色为背景着色 df.style.background_gradient() \n",
    "df.style.background_gradient(cmap='Greens',axis=0,low=0,high=1)\n",
    "# cmap : str or colormap,matplotlib颜色图\n",
    "#    \n",
    "# low,high:值的范围,默认都为0"
   ],
   "metadata": {
    "collapsed": false,
    "pycharm": {
     "name": "#%%\n",
     "is_executing": false
    }
   }
  },
  {
   "cell_type": "code",
   "execution_count": 53,
   "outputs": [
    {
     "data": {
      "text/plain": "<pandas.io.formats.style.Styler at 0x1dcb631d438>",
      "text/html": "<style  type=\"text/css\" >\n    #T_f314ab5e_2c91_11ea_ad8d_d8c4973e0814row0_col1 {\n            width:  10em;\n             height:  80%;\n            background:  linear-gradient(90deg,#5f337d 92.9%, transparent 92.9%);\n        }    #T_f314ab5e_2c91_11ea_ad8d_d8c4973e0814row0_col2 {\n            width:  10em;\n             height:  80%;\n            background:  linear-gradient(90deg,#265f5f 34.7%, transparent 34.7%);\n        }    #T_f314ab5e_2c91_11ea_ad8d_d8c4973e0814row1_col1 {\n            width:  10em;\n             height:  80%;\n        }    #T_f314ab5e_2c91_11ea_ad8d_d8c4973e0814row1_col2 {\n            width:  10em;\n             height:  80%;\n        }    #T_f314ab5e_2c91_11ea_ad8d_d8c4973e0814row2_col1 {\n            width:  10em;\n             height:  80%;\n            background:  linear-gradient(90deg,#5f337d 32.2%, transparent 32.2%);\n        }    #T_f314ab5e_2c91_11ea_ad8d_d8c4973e0814row2_col2 {\n            width:  10em;\n             height:  80%;\n            background:  linear-gradient(90deg,#5f337d 100.0%, transparent 100.0%);\n        }    #T_f314ab5e_2c91_11ea_ad8d_d8c4973e0814row3_col1 {\n            width:  10em;\n             height:  80%;\n            background:  linear-gradient(90deg,#5f337d 100.0%, transparent 100.0%);\n        }    #T_f314ab5e_2c91_11ea_ad8d_d8c4973e0814row3_col2 {\n            width:  10em;\n             height:  80%;\n            background:  linear-gradient(90deg,#265f5f 59.3%, transparent 59.3%);\n        }    #T_f314ab5e_2c91_11ea_ad8d_d8c4973e0814row4_col1 {\n            width:  10em;\n             height:  80%;\n            background:  linear-gradient(90deg,#265f5f 18.7%, transparent 18.7%);\n        }    #T_f314ab5e_2c91_11ea_ad8d_d8c4973e0814row4_col2 {\n            width:  10em;\n             height:  80%;\n            background:  linear-gradient(90deg,#265f5f 75.4%, transparent 75.4%);\n        }</style><table id=\"T_f314ab5e_2c91_11ea_ad8d_d8c4973e0814\" ><thead>    <tr>        <th class=\"blank level0\" ></th>        <th class=\"col_heading level0 col0\" >A</th>        <th class=\"col_heading level0 col1\" >B</th>        <th class=\"col_heading level0 col2\" >C</th>        <th class=\"col_heading level0 col3\" >D</th>    </tr></thead><tbody>\n                <tr>\n                        <th id=\"T_f314ab5e_2c91_11ea_ad8d_d8c4973e0814level0_row0\" class=\"row_heading level0 row0\" >0</th>\n                        <td id=\"T_f314ab5e_2c91_11ea_ad8d_d8c4973e0814row0_col0\" class=\"data row0 col0\" >0.190672</td>\n                        <td id=\"T_f314ab5e_2c91_11ea_ad8d_d8c4973e0814row0_col1\" class=\"data row0 col1\" >0.962967</td>\n                        <td id=\"T_f314ab5e_2c91_11ea_ad8d_d8c4973e0814row0_col2\" class=\"data row0 col2\" >-0.841149</td>\n                        <td id=\"T_f314ab5e_2c91_11ea_ad8d_d8c4973e0814row0_col3\" class=\"data row0 col3\" >-0.575778</td>\n            </tr>\n            <tr>\n                        <th id=\"T_f314ab5e_2c91_11ea_ad8d_d8c4973e0814level0_row1\" class=\"row_heading level0 row1\" >1</th>\n                        <td id=\"T_f314ab5e_2c91_11ea_ad8d_d8c4973e0814row1_col0\" class=\"data row1 col0\" >-1.40901</td>\n                        <td id=\"T_f314ab5e_2c91_11ea_ad8d_d8c4973e0814row1_col1\" class=\"data row1 col1\" >-0.316233</td>\n                        <td id=\"T_f314ab5e_2c91_11ea_ad8d_d8c4973e0814row1_col2\" class=\"data row1 col2\" >-1.52808</td>\n                        <td id=\"T_f314ab5e_2c91_11ea_ad8d_d8c4973e0814row1_col3\" class=\"data row1 col3\" >-1.2945</td>\n            </tr>\n            <tr>\n                        <th id=\"T_f314ab5e_2c91_11ea_ad8d_d8c4973e0814level0_row2\" class=\"row_heading level0 row2\" >2</th>\n                        <td id=\"T_f314ab5e_2c91_11ea_ad8d_d8c4973e0814row2_col0\" class=\"data row2 col0\" >nan</td>\n                        <td id=\"T_f314ab5e_2c91_11ea_ad8d_d8c4973e0814row2_col1\" class=\"data row2 col1\" >0.127803</td>\n                        <td id=\"T_f314ab5e_2c91_11ea_ad8d_d8c4973e0814row2_col2\" class=\"data row2 col2\" >0.451443</td>\n                        <td id=\"T_f314ab5e_2c91_11ea_ad8d_d8c4973e0814row2_col3\" class=\"data row2 col3\" >-1.32835</td>\n            </tr>\n            <tr>\n                        <th id=\"T_f314ab5e_2c91_11ea_ad8d_d8c4973e0814level0_row3\" class=\"row_heading level0 row3\" >3</th>\n                        <td id=\"T_f314ab5e_2c91_11ea_ad8d_d8c4973e0814row3_col0\" class=\"data row3 col0\" >-0.227417</td>\n                        <td id=\"T_f314ab5e_2c91_11ea_ad8d_d8c4973e0814row3_col1\" class=\"data row3 col1\" >1.06135</td>\n                        <td id=\"T_f314ab5e_2c91_11ea_ad8d_d8c4973e0814row3_col2\" class=\"data row3 col2\" >-0.353809</td>\n                        <td id=\"T_f314ab5e_2c91_11ea_ad8d_d8c4973e0814row3_col3\" class=\"data row3 col3\" >-0.690099</td>\n            </tr>\n            <tr>\n                        <th id=\"T_f314ab5e_2c91_11ea_ad8d_d8c4973e0814level0_row4\" class=\"row_heading level0 row4\" >4</th>\n                        <td id=\"T_f314ab5e_2c91_11ea_ad8d_d8c4973e0814row4_col0\" class=\"data row4 col0\" >-0.610431</td>\n                        <td id=\"T_f314ab5e_2c91_11ea_ad8d_d8c4973e0814row4_col1\" class=\"data row4 col1\" >-0.0592243</td>\n                        <td id=\"T_f314ab5e_2c91_11ea_ad8d_d8c4973e0814row4_col2\" class=\"data row4 col2\" >-0.0357207</td>\n                        <td id=\"T_f314ab5e_2c91_11ea_ad8d_d8c4973e0814row4_col3\" class=\"data row4 col3\" >-1.68496</td>\n            </tr>\n    </tbody></table>"
     },
     "metadata": {},
     "output_type": "execute_result",
     "execution_count": 53
    }
   ],
   "source": [
    "# 在单元格背景中绘制条形图  df.style.bar()\n",
    "df.style.bar(subset=['B','C'],color=['#265f5f','#5f337d'])\n",
    "# color:如果传递了str，则负数和正数的颜色都相同。\n",
    "# 如果使用2元组/列表，则第一个元素为color_negative(负数着色)，第二个元素为color_positive(正数着色)（例如：['#265f5f','#5f337d']）"
   ],
   "metadata": {
    "collapsed": false,
    "pycharm": {
     "name": "#%%\n",
     "is_executing": false
    }
   }
  },
  {
   "cell_type": "code",
   "execution_count": 60,
   "outputs": [
    {
     "data": {
      "text/plain": "<pandas.io.formats.style.Styler at 0x1dcb616c908>",
      "text/html": "<style  type=\"text/css\" >\n    #T_392ce7be_2c92_11ea_b0c9_d8c4973e0814row0_col0 {\n            width:  10em;\n             height:  80%;\n            background:  linear-gradient(90deg,#265f5f 100.0%, transparent 100.0%);\n            : ;\n        }    #T_392ce7be_2c92_11ea_b0c9_d8c4973e0814row0_col1 {\n            width:  10em;\n             height:  80%;\n            background:  linear-gradient(90deg,#265f5f 92.9%, transparent 92.9%);\n            : ;\n        }    #T_392ce7be_2c92_11ea_b0c9_d8c4973e0814row1_col0 {\n            width:  10em;\n             height:  80%;\n            : ;\n        }    #T_392ce7be_2c92_11ea_b0c9_d8c4973e0814row1_col1 {\n            width:  10em;\n             height:  80%;\n            : ;\n        }    #T_392ce7be_2c92_11ea_b0c9_d8c4973e0814row2_col0 {\n            : ;\n            background-color:  red;\n        }    #T_392ce7be_2c92_11ea_b0c9_d8c4973e0814row2_col1 {\n            width:  10em;\n             height:  80%;\n            background:  linear-gradient(90deg,#265f5f 32.2%, transparent 32.2%);\n            : ;\n        }    #T_392ce7be_2c92_11ea_b0c9_d8c4973e0814row3_col0 {\n            : ;\n            background-color:  red;\n        }    #T_392ce7be_2c92_11ea_b0c9_d8c4973e0814row3_col1 {\n            width:  10em;\n             height:  80%;\n            background:  linear-gradient(90deg,#265f5f 100.0%, transparent 100.0%);\n            : ;\n        }    #T_392ce7be_2c92_11ea_b0c9_d8c4973e0814row4_col0 {\n            width:  10em;\n             height:  80%;\n            background:  linear-gradient(90deg,#265f5f 49.9%, transparent 49.9%);\n            : ;\n        }    #T_392ce7be_2c92_11ea_b0c9_d8c4973e0814row4_col1 {\n            width:  10em;\n             height:  80%;\n            background:  linear-gradient(90deg,#265f5f 18.7%, transparent 18.7%);\n            : ;\n        }</style><table id=\"T_392ce7be_2c92_11ea_b0c9_d8c4973e0814\" ><thead>    <tr>        <th class=\"blank level0\" ></th>        <th class=\"col_heading level0 col0\" >A</th>        <th class=\"col_heading level0 col1\" >B</th>        <th class=\"col_heading level0 col2\" >C</th>        <th class=\"col_heading level0 col3\" >D</th>    </tr></thead><tbody>\n                <tr>\n                        <th id=\"T_392ce7be_2c92_11ea_b0c9_d8c4973e0814level0_row0\" class=\"row_heading level0 row0\" >0</th>\n                        <td id=\"T_392ce7be_2c92_11ea_b0c9_d8c4973e0814row0_col0\" class=\"data row0 col0\" >0.190672</td>\n                        <td id=\"T_392ce7be_2c92_11ea_b0c9_d8c4973e0814row0_col1\" class=\"data row0 col1\" >0.962967</td>\n                        <td id=\"T_392ce7be_2c92_11ea_b0c9_d8c4973e0814row0_col2\" class=\"data row0 col2\" >-0.841149</td>\n                        <td id=\"T_392ce7be_2c92_11ea_b0c9_d8c4973e0814row0_col3\" class=\"data row0 col3\" >-0.575778</td>\n            </tr>\n            <tr>\n                        <th id=\"T_392ce7be_2c92_11ea_b0c9_d8c4973e0814level0_row1\" class=\"row_heading level0 row1\" >1</th>\n                        <td id=\"T_392ce7be_2c92_11ea_b0c9_d8c4973e0814row1_col0\" class=\"data row1 col0\" >-1.40901</td>\n                        <td id=\"T_392ce7be_2c92_11ea_b0c9_d8c4973e0814row1_col1\" class=\"data row1 col1\" >-0.316233</td>\n                        <td id=\"T_392ce7be_2c92_11ea_b0c9_d8c4973e0814row1_col2\" class=\"data row1 col2\" >-1.52808</td>\n                        <td id=\"T_392ce7be_2c92_11ea_b0c9_d8c4973e0814row1_col3\" class=\"data row1 col3\" >-1.2945</td>\n            </tr>\n            <tr>\n                        <th id=\"T_392ce7be_2c92_11ea_b0c9_d8c4973e0814level0_row2\" class=\"row_heading level0 row2\" >2</th>\n                        <td id=\"T_392ce7be_2c92_11ea_b0c9_d8c4973e0814row2_col0\" class=\"data row2 col0\" >nan</td>\n                        <td id=\"T_392ce7be_2c92_11ea_b0c9_d8c4973e0814row2_col1\" class=\"data row2 col1\" >0.127803</td>\n                        <td id=\"T_392ce7be_2c92_11ea_b0c9_d8c4973e0814row2_col2\" class=\"data row2 col2\" >0.451443</td>\n                        <td id=\"T_392ce7be_2c92_11ea_b0c9_d8c4973e0814row2_col3\" class=\"data row2 col3\" >-1.32835</td>\n            </tr>\n            <tr>\n                        <th id=\"T_392ce7be_2c92_11ea_b0c9_d8c4973e0814level0_row3\" class=\"row_heading level0 row3\" >3</th>\n                        <td id=\"T_392ce7be_2c92_11ea_b0c9_d8c4973e0814row3_col0\" class=\"data row3 col0\" >nan</td>\n                        <td id=\"T_392ce7be_2c92_11ea_b0c9_d8c4973e0814row3_col1\" class=\"data row3 col1\" >1.06135</td>\n                        <td id=\"T_392ce7be_2c92_11ea_b0c9_d8c4973e0814row3_col2\" class=\"data row3 col2\" >-0.353809</td>\n                        <td id=\"T_392ce7be_2c92_11ea_b0c9_d8c4973e0814row3_col3\" class=\"data row3 col3\" >-0.690099</td>\n            </tr>\n            <tr>\n                        <th id=\"T_392ce7be_2c92_11ea_b0c9_d8c4973e0814level0_row4\" class=\"row_heading level0 row4\" >4</th>\n                        <td id=\"T_392ce7be_2c92_11ea_b0c9_d8c4973e0814row4_col0\" class=\"data row4 col0\" >-0.610431</td>\n                        <td id=\"T_392ce7be_2c92_11ea_b0c9_d8c4973e0814row4_col1\" class=\"data row4 col1\" >-0.0592243</td>\n                        <td id=\"T_392ce7be_2c92_11ea_b0c9_d8c4973e0814row4_col2\" class=\"data row4 col2\" >-0.0357207</td>\n                        <td id=\"T_392ce7be_2c92_11ea_b0c9_d8c4973e0814row4_col3\" class=\"data row4 col3\" >-1.68496</td>\n            </tr>\n    </tbody></table>"
     },
     "metadata": {},
     "output_type": "execute_result",
     "execution_count": 60
    }
   ],
   "source": [
    "# 分段式构建样式  多个样式的组合\n",
    "df['A'][[3,2]] = np.nan\n",
    "\n",
    "df.style.bar(subset=['A','B'],color='#265f5f',width=100).highlight_null(null_color='red')\n",
    "# width:float, default 100,一个介于0或100之间的数字。最大值将覆盖单元格宽度的“宽度”百分比。"
   ],
   "metadata": {
    "collapsed": false,
    "pycharm": {
     "name": "#%%\n",
     "is_executing": false
    }
   }
  }
 ],
 "metadata": {
  "kernelspec": {
   "display_name": "Python 3",
   "language": "python",
   "name": "python3"
  },
  "language_info": {
   "codemirror_mode": {
    "name": "ipython",
    "version": 2
   },
   "file_extension": ".py",
   "mimetype": "text/x-python",
   "name": "python",
   "nbconvert_exporter": "python",
   "pygments_lexer": "ipython2",
   "version": "2.7.6"
  },
  "pycharm": {
   "stem_cell": {
    "cell_type": "raw",
    "source": [],
    "metadata": {
     "collapsed": false
    }
   }
  }
 },
 "nbformat": 4,
 "nbformat_minor": 0
}