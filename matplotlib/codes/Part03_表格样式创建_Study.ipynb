{
 "cells": [
  {
   "cell_type": "code",
   "execution_count": 21,
   "outputs": [
    {
     "data": {
      "text/plain": "'\\n    表格样式创建\\n    pandas下的知识点,都是可视化的知识就放到Matplotlib学习目录下了\\n    表格视觉样式：Dataframe.style → 返回pandas.Styler对象的属性，具有格式化和显示Dataframe的有用方法\\n    \\n    样式创建：\\n    ① Styler.applymap：elementwise → 按元素方式处理Dataframe\\n    ② Styler.apply：column- / row- / table-wise → 按行/列处理Dataframe\\n'"
     },
     "metadata": {},
     "output_type": "execute_result",
     "execution_count": 21
    }
   ],
   "source": [
    "'''\n",
    "    表格样式创建\n",
    "    pandas下的知识点,都是可视化的知识就放到Matplotlib学习目录下了\n",
    "    表格视觉样式：Dataframe.style → 返回pandas.Styler对象的属性，具有格式化和显示Dataframe的有用方法\n",
    "    \n",
    "    样式创建：\n",
    "    ① Styler.applymap：elementwise → 按元素方式处理Dataframe\n",
    "    ② Styler.apply：column- / row- / table-wise → 按行/列处理Dataframe\n",
    "'''"
   ],
   "metadata": {
    "collapsed": false,
    "pycharm": {
     "name": "#%%\n",
     "is_executing": false
    }
   }
  },
  {
   "cell_type": "code",
   "execution_count": 22,
   "outputs": [],
   "source": [
    "import numpy as np\n",
    "import pandas as pd\n",
    "import matplotlib.pyplot as plt"
   ],
   "metadata": {
    "collapsed": false,
    "pycharm": {
     "name": "#%%\n",
     "is_executing": false
    }
   }
  },
  {
   "cell_type": "code",
   "execution_count": 23,
   "outputs": [
    {
     "name": "stdout",
     "text": [
      "style: <pandas.io.formats.style.Styler object at 0x000001A58B9F6B70>\n",
      "type(style): <class 'pandas.io.formats.style.Styler'>\n"
     ],
     "output_type": "stream"
    },
    {
     "data": {
      "text/plain": "<pandas.io.formats.style.Styler at 0x1a58b9f6b70>",
      "text/html": "<style  type=\"text/css\" >\n</style><table id=\"T_72502bb6_2c7e_11ea_a5b7_d8c4973e0814\" ><thead>    <tr>        <th class=\"blank level0\" ></th>        <th class=\"col_heading level0 col0\" >a</th>        <th class=\"col_heading level0 col1\" >b</th>        <th class=\"col_heading level0 col2\" >c</th>        <th class=\"col_heading level0 col3\" >d</th>    </tr></thead><tbody>\n                <tr>\n                        <th id=\"T_72502bb6_2c7e_11ea_a5b7_d8c4973e0814level0_row0\" class=\"row_heading level0 row0\" >0</th>\n                        <td id=\"T_72502bb6_2c7e_11ea_a5b7_d8c4973e0814row0_col0\" class=\"data row0 col0\" >0.751623</td>\n                        <td id=\"T_72502bb6_2c7e_11ea_a5b7_d8c4973e0814row0_col1\" class=\"data row0 col1\" >0.385811</td>\n                        <td id=\"T_72502bb6_2c7e_11ea_a5b7_d8c4973e0814row0_col2\" class=\"data row0 col2\" >-0.760553</td>\n                        <td id=\"T_72502bb6_2c7e_11ea_a5b7_d8c4973e0814row0_col3\" class=\"data row0 col3\" >0.298919</td>\n            </tr>\n            <tr>\n                        <th id=\"T_72502bb6_2c7e_11ea_a5b7_d8c4973e0814level0_row1\" class=\"row_heading level0 row1\" >1</th>\n                        <td id=\"T_72502bb6_2c7e_11ea_a5b7_d8c4973e0814row1_col0\" class=\"data row1 col0\" >-0.225609</td>\n                        <td id=\"T_72502bb6_2c7e_11ea_a5b7_d8c4973e0814row1_col1\" class=\"data row1 col1\" >-0.54383</td>\n                        <td id=\"T_72502bb6_2c7e_11ea_a5b7_d8c4973e0814row1_col2\" class=\"data row1 col2\" >-1.18919</td>\n                        <td id=\"T_72502bb6_2c7e_11ea_a5b7_d8c4973e0814row1_col3\" class=\"data row1 col3\" >-0.831069</td>\n            </tr>\n            <tr>\n                        <th id=\"T_72502bb6_2c7e_11ea_a5b7_d8c4973e0814level0_row2\" class=\"row_heading level0 row2\" >2</th>\n                        <td id=\"T_72502bb6_2c7e_11ea_a5b7_d8c4973e0814row2_col0\" class=\"data row2 col0\" >1.25737</td>\n                        <td id=\"T_72502bb6_2c7e_11ea_a5b7_d8c4973e0814row2_col1\" class=\"data row2 col1\" >-1.05773</td>\n                        <td id=\"T_72502bb6_2c7e_11ea_a5b7_d8c4973e0814row2_col2\" class=\"data row2 col2\" >-1.17325</td>\n                        <td id=\"T_72502bb6_2c7e_11ea_a5b7_d8c4973e0814row2_col3\" class=\"data row2 col3\" >-0.740071</td>\n            </tr>\n            <tr>\n                        <th id=\"T_72502bb6_2c7e_11ea_a5b7_d8c4973e0814level0_row3\" class=\"row_heading level0 row3\" >3</th>\n                        <td id=\"T_72502bb6_2c7e_11ea_a5b7_d8c4973e0814row3_col0\" class=\"data row3 col0\" >0.600951</td>\n                        <td id=\"T_72502bb6_2c7e_11ea_a5b7_d8c4973e0814row3_col1\" class=\"data row3 col1\" >-1.78114</td>\n                        <td id=\"T_72502bb6_2c7e_11ea_a5b7_d8c4973e0814row3_col2\" class=\"data row3 col2\" >-1.56652</td>\n                        <td id=\"T_72502bb6_2c7e_11ea_a5b7_d8c4973e0814row3_col3\" class=\"data row3 col3\" >-1.73053</td>\n            </tr>\n            <tr>\n                        <th id=\"T_72502bb6_2c7e_11ea_a5b7_d8c4973e0814level0_row4\" class=\"row_heading level0 row4\" >4</th>\n                        <td id=\"T_72502bb6_2c7e_11ea_a5b7_d8c4973e0814row4_col0\" class=\"data row4 col0\" >-0.391615</td>\n                        <td id=\"T_72502bb6_2c7e_11ea_a5b7_d8c4973e0814row4_col1\" class=\"data row4 col1\" >0.557641</td>\n                        <td id=\"T_72502bb6_2c7e_11ea_a5b7_d8c4973e0814row4_col2\" class=\"data row4 col2\" >0.614345</td>\n                        <td id=\"T_72502bb6_2c7e_11ea_a5b7_d8c4973e0814row4_col3\" class=\"data row4 col3\" >-1.46679</td>\n            </tr>\n            <tr>\n                        <th id=\"T_72502bb6_2c7e_11ea_a5b7_d8c4973e0814level0_row5\" class=\"row_heading level0 row5\" >5</th>\n                        <td id=\"T_72502bb6_2c7e_11ea_a5b7_d8c4973e0814row5_col0\" class=\"data row5 col0\" >-1.06093</td>\n                        <td id=\"T_72502bb6_2c7e_11ea_a5b7_d8c4973e0814row5_col1\" class=\"data row5 col1\" >1.13097</td>\n                        <td id=\"T_72502bb6_2c7e_11ea_a5b7_d8c4973e0814row5_col2\" class=\"data row5 col2\" >0.0892634</td>\n                        <td id=\"T_72502bb6_2c7e_11ea_a5b7_d8c4973e0814row5_col3\" class=\"data row5 col3\" >-1.2438</td>\n            </tr>\n            <tr>\n                        <th id=\"T_72502bb6_2c7e_11ea_a5b7_d8c4973e0814level0_row6\" class=\"row_heading level0 row6\" >6</th>\n                        <td id=\"T_72502bb6_2c7e_11ea_a5b7_d8c4973e0814row6_col0\" class=\"data row6 col0\" >0.10258</td>\n                        <td id=\"T_72502bb6_2c7e_11ea_a5b7_d8c4973e0814row6_col1\" class=\"data row6 col1\" >-0.951064</td>\n                        <td id=\"T_72502bb6_2c7e_11ea_a5b7_d8c4973e0814row6_col2\" class=\"data row6 col2\" >-1.04031</td>\n                        <td id=\"T_72502bb6_2c7e_11ea_a5b7_d8c4973e0814row6_col3\" class=\"data row6 col3\" >-1.98077</td>\n            </tr>\n            <tr>\n                        <th id=\"T_72502bb6_2c7e_11ea_a5b7_d8c4973e0814level0_row7\" class=\"row_heading level0 row7\" >7</th>\n                        <td id=\"T_72502bb6_2c7e_11ea_a5b7_d8c4973e0814row7_col0\" class=\"data row7 col0\" >-0.99857</td>\n                        <td id=\"T_72502bb6_2c7e_11ea_a5b7_d8c4973e0814row7_col1\" class=\"data row7 col1\" >1.97619</td>\n                        <td id=\"T_72502bb6_2c7e_11ea_a5b7_d8c4973e0814row7_col2\" class=\"data row7 col2\" >0.430221</td>\n                        <td id=\"T_72502bb6_2c7e_11ea_a5b7_d8c4973e0814row7_col3\" class=\"data row7 col3\" >-0.557356</td>\n            </tr>\n            <tr>\n                        <th id=\"T_72502bb6_2c7e_11ea_a5b7_d8c4973e0814level0_row8\" class=\"row_heading level0 row8\" >8</th>\n                        <td id=\"T_72502bb6_2c7e_11ea_a5b7_d8c4973e0814row8_col0\" class=\"data row8 col0\" >1.18832</td>\n                        <td id=\"T_72502bb6_2c7e_11ea_a5b7_d8c4973e0814row8_col1\" class=\"data row8 col1\" >-0.993632</td>\n                        <td id=\"T_72502bb6_2c7e_11ea_a5b7_d8c4973e0814row8_col2\" class=\"data row8 col2\" >0.260148</td>\n                        <td id=\"T_72502bb6_2c7e_11ea_a5b7_d8c4973e0814row8_col3\" class=\"data row8 col3\" >0.877126</td>\n            </tr>\n            <tr>\n                        <th id=\"T_72502bb6_2c7e_11ea_a5b7_d8c4973e0814level0_row9\" class=\"row_heading level0 row9\" >9</th>\n                        <td id=\"T_72502bb6_2c7e_11ea_a5b7_d8c4973e0814row9_col0\" class=\"data row9 col0\" >2.48016</td>\n                        <td id=\"T_72502bb6_2c7e_11ea_a5b7_d8c4973e0814row9_col1\" class=\"data row9 col1\" >1.06493</td>\n                        <td id=\"T_72502bb6_2c7e_11ea_a5b7_d8c4973e0814row9_col2\" class=\"data row9 col2\" >0.803106</td>\n                        <td id=\"T_72502bb6_2c7e_11ea_a5b7_d8c4973e0814row9_col3\" class=\"data row9 col3\" >0.137302</td>\n            </tr>\n    </tbody></table>"
     },
     "metadata": {},
     "output_type": "execute_result",
     "execution_count": 23
    }
   ],
   "source": [
    "#  df.style 样式初探  pandas下的知识点,都是可视化的知识就放到Matplotlib学习目录下了\n",
    "df = pd.DataFrame(np.random.randn(10,4),columns=list('abcd'))\n",
    "style = df.style\n",
    "print('style:',style)\n",
    "print('type(style):',type(style))\n",
    "\n",
    "style  # 无任何样式的df数据"
   ],
   "metadata": {
    "collapsed": false,
    "pycharm": {
     "name": "#%%\n",
     "is_executing": false
    }
   }
  },
  {
   "cell_type": "code",
   "execution_count": 25,
   "outputs": [
    {
     "data": {
      "text/plain": "<pandas.io.formats.style.Styler at 0x1a58b9f6278>",
      "text/html": "<style  type=\"text/css\" >\n    #T_7594909a_2c7e_11ea_b6f0_d8c4973e0814row0_col0 {\n            color: black;\n        }    #T_7594909a_2c7e_11ea_b6f0_d8c4973e0814row0_col1 {\n            color: black;\n        }    #T_7594909a_2c7e_11ea_b6f0_d8c4973e0814row0_col2 {\n            color: red;\n        }    #T_7594909a_2c7e_11ea_b6f0_d8c4973e0814row0_col3 {\n            color: black;\n        }    #T_7594909a_2c7e_11ea_b6f0_d8c4973e0814row1_col0 {\n            color: red;\n        }    #T_7594909a_2c7e_11ea_b6f0_d8c4973e0814row1_col1 {\n            color: red;\n        }    #T_7594909a_2c7e_11ea_b6f0_d8c4973e0814row1_col2 {\n            color: red;\n        }    #T_7594909a_2c7e_11ea_b6f0_d8c4973e0814row1_col3 {\n            color: red;\n        }    #T_7594909a_2c7e_11ea_b6f0_d8c4973e0814row2_col0 {\n            color: black;\n        }    #T_7594909a_2c7e_11ea_b6f0_d8c4973e0814row2_col1 {\n            color: red;\n        }    #T_7594909a_2c7e_11ea_b6f0_d8c4973e0814row2_col2 {\n            color: red;\n        }    #T_7594909a_2c7e_11ea_b6f0_d8c4973e0814row2_col3 {\n            color: red;\n        }    #T_7594909a_2c7e_11ea_b6f0_d8c4973e0814row3_col0 {\n            color: black;\n        }    #T_7594909a_2c7e_11ea_b6f0_d8c4973e0814row3_col1 {\n            color: red;\n        }    #T_7594909a_2c7e_11ea_b6f0_d8c4973e0814row3_col2 {\n            color: red;\n        }    #T_7594909a_2c7e_11ea_b6f0_d8c4973e0814row3_col3 {\n            color: red;\n        }    #T_7594909a_2c7e_11ea_b6f0_d8c4973e0814row4_col0 {\n            color: red;\n        }    #T_7594909a_2c7e_11ea_b6f0_d8c4973e0814row4_col1 {\n            color: black;\n        }    #T_7594909a_2c7e_11ea_b6f0_d8c4973e0814row4_col2 {\n            color: black;\n        }    #T_7594909a_2c7e_11ea_b6f0_d8c4973e0814row4_col3 {\n            color: red;\n        }    #T_7594909a_2c7e_11ea_b6f0_d8c4973e0814row5_col0 {\n            color: red;\n        }    #T_7594909a_2c7e_11ea_b6f0_d8c4973e0814row5_col1 {\n            color: black;\n        }    #T_7594909a_2c7e_11ea_b6f0_d8c4973e0814row5_col2 {\n            color: black;\n        }    #T_7594909a_2c7e_11ea_b6f0_d8c4973e0814row5_col3 {\n            color: red;\n        }    #T_7594909a_2c7e_11ea_b6f0_d8c4973e0814row6_col0 {\n            color: black;\n        }    #T_7594909a_2c7e_11ea_b6f0_d8c4973e0814row6_col1 {\n            color: red;\n        }    #T_7594909a_2c7e_11ea_b6f0_d8c4973e0814row6_col2 {\n            color: red;\n        }    #T_7594909a_2c7e_11ea_b6f0_d8c4973e0814row6_col3 {\n            color: red;\n        }    #T_7594909a_2c7e_11ea_b6f0_d8c4973e0814row7_col0 {\n            color: red;\n        }    #T_7594909a_2c7e_11ea_b6f0_d8c4973e0814row7_col1 {\n            color: black;\n        }    #T_7594909a_2c7e_11ea_b6f0_d8c4973e0814row7_col2 {\n            color: black;\n        }    #T_7594909a_2c7e_11ea_b6f0_d8c4973e0814row7_col3 {\n            color: red;\n        }    #T_7594909a_2c7e_11ea_b6f0_d8c4973e0814row8_col0 {\n            color: black;\n        }    #T_7594909a_2c7e_11ea_b6f0_d8c4973e0814row8_col1 {\n            color: red;\n        }    #T_7594909a_2c7e_11ea_b6f0_d8c4973e0814row8_col2 {\n            color: black;\n        }    #T_7594909a_2c7e_11ea_b6f0_d8c4973e0814row8_col3 {\n            color: black;\n        }    #T_7594909a_2c7e_11ea_b6f0_d8c4973e0814row9_col0 {\n            color: black;\n        }    #T_7594909a_2c7e_11ea_b6f0_d8c4973e0814row9_col1 {\n            color: black;\n        }    #T_7594909a_2c7e_11ea_b6f0_d8c4973e0814row9_col2 {\n            color: black;\n        }    #T_7594909a_2c7e_11ea_b6f0_d8c4973e0814row9_col3 {\n            color: black;\n        }</style><table id=\"T_7594909a_2c7e_11ea_b6f0_d8c4973e0814\" ><thead>    <tr>        <th class=\"blank level0\" ></th>        <th class=\"col_heading level0 col0\" >a</th>        <th class=\"col_heading level0 col1\" >b</th>        <th class=\"col_heading level0 col2\" >c</th>        <th class=\"col_heading level0 col3\" >d</th>    </tr></thead><tbody>\n                <tr>\n                        <th id=\"T_7594909a_2c7e_11ea_b6f0_d8c4973e0814level0_row0\" class=\"row_heading level0 row0\" >0</th>\n                        <td id=\"T_7594909a_2c7e_11ea_b6f0_d8c4973e0814row0_col0\" class=\"data row0 col0\" >0.751623</td>\n                        <td id=\"T_7594909a_2c7e_11ea_b6f0_d8c4973e0814row0_col1\" class=\"data row0 col1\" >0.385811</td>\n                        <td id=\"T_7594909a_2c7e_11ea_b6f0_d8c4973e0814row0_col2\" class=\"data row0 col2\" >-0.760553</td>\n                        <td id=\"T_7594909a_2c7e_11ea_b6f0_d8c4973e0814row0_col3\" class=\"data row0 col3\" >0.298919</td>\n            </tr>\n            <tr>\n                        <th id=\"T_7594909a_2c7e_11ea_b6f0_d8c4973e0814level0_row1\" class=\"row_heading level0 row1\" >1</th>\n                        <td id=\"T_7594909a_2c7e_11ea_b6f0_d8c4973e0814row1_col0\" class=\"data row1 col0\" >-0.225609</td>\n                        <td id=\"T_7594909a_2c7e_11ea_b6f0_d8c4973e0814row1_col1\" class=\"data row1 col1\" >-0.54383</td>\n                        <td id=\"T_7594909a_2c7e_11ea_b6f0_d8c4973e0814row1_col2\" class=\"data row1 col2\" >-1.18919</td>\n                        <td id=\"T_7594909a_2c7e_11ea_b6f0_d8c4973e0814row1_col3\" class=\"data row1 col3\" >-0.831069</td>\n            </tr>\n            <tr>\n                        <th id=\"T_7594909a_2c7e_11ea_b6f0_d8c4973e0814level0_row2\" class=\"row_heading level0 row2\" >2</th>\n                        <td id=\"T_7594909a_2c7e_11ea_b6f0_d8c4973e0814row2_col0\" class=\"data row2 col0\" >1.25737</td>\n                        <td id=\"T_7594909a_2c7e_11ea_b6f0_d8c4973e0814row2_col1\" class=\"data row2 col1\" >-1.05773</td>\n                        <td id=\"T_7594909a_2c7e_11ea_b6f0_d8c4973e0814row2_col2\" class=\"data row2 col2\" >-1.17325</td>\n                        <td id=\"T_7594909a_2c7e_11ea_b6f0_d8c4973e0814row2_col3\" class=\"data row2 col3\" >-0.740071</td>\n            </tr>\n            <tr>\n                        <th id=\"T_7594909a_2c7e_11ea_b6f0_d8c4973e0814level0_row3\" class=\"row_heading level0 row3\" >3</th>\n                        <td id=\"T_7594909a_2c7e_11ea_b6f0_d8c4973e0814row3_col0\" class=\"data row3 col0\" >0.600951</td>\n                        <td id=\"T_7594909a_2c7e_11ea_b6f0_d8c4973e0814row3_col1\" class=\"data row3 col1\" >-1.78114</td>\n                        <td id=\"T_7594909a_2c7e_11ea_b6f0_d8c4973e0814row3_col2\" class=\"data row3 col2\" >-1.56652</td>\n                        <td id=\"T_7594909a_2c7e_11ea_b6f0_d8c4973e0814row3_col3\" class=\"data row3 col3\" >-1.73053</td>\n            </tr>\n            <tr>\n                        <th id=\"T_7594909a_2c7e_11ea_b6f0_d8c4973e0814level0_row4\" class=\"row_heading level0 row4\" >4</th>\n                        <td id=\"T_7594909a_2c7e_11ea_b6f0_d8c4973e0814row4_col0\" class=\"data row4 col0\" >-0.391615</td>\n                        <td id=\"T_7594909a_2c7e_11ea_b6f0_d8c4973e0814row4_col1\" class=\"data row4 col1\" >0.557641</td>\n                        <td id=\"T_7594909a_2c7e_11ea_b6f0_d8c4973e0814row4_col2\" class=\"data row4 col2\" >0.614345</td>\n                        <td id=\"T_7594909a_2c7e_11ea_b6f0_d8c4973e0814row4_col3\" class=\"data row4 col3\" >-1.46679</td>\n            </tr>\n            <tr>\n                        <th id=\"T_7594909a_2c7e_11ea_b6f0_d8c4973e0814level0_row5\" class=\"row_heading level0 row5\" >5</th>\n                        <td id=\"T_7594909a_2c7e_11ea_b6f0_d8c4973e0814row5_col0\" class=\"data row5 col0\" >-1.06093</td>\n                        <td id=\"T_7594909a_2c7e_11ea_b6f0_d8c4973e0814row5_col1\" class=\"data row5 col1\" >1.13097</td>\n                        <td id=\"T_7594909a_2c7e_11ea_b6f0_d8c4973e0814row5_col2\" class=\"data row5 col2\" >0.0892634</td>\n                        <td id=\"T_7594909a_2c7e_11ea_b6f0_d8c4973e0814row5_col3\" class=\"data row5 col3\" >-1.2438</td>\n            </tr>\n            <tr>\n                        <th id=\"T_7594909a_2c7e_11ea_b6f0_d8c4973e0814level0_row6\" class=\"row_heading level0 row6\" >6</th>\n                        <td id=\"T_7594909a_2c7e_11ea_b6f0_d8c4973e0814row6_col0\" class=\"data row6 col0\" >0.10258</td>\n                        <td id=\"T_7594909a_2c7e_11ea_b6f0_d8c4973e0814row6_col1\" class=\"data row6 col1\" >-0.951064</td>\n                        <td id=\"T_7594909a_2c7e_11ea_b6f0_d8c4973e0814row6_col2\" class=\"data row6 col2\" >-1.04031</td>\n                        <td id=\"T_7594909a_2c7e_11ea_b6f0_d8c4973e0814row6_col3\" class=\"data row6 col3\" >-1.98077</td>\n            </tr>\n            <tr>\n                        <th id=\"T_7594909a_2c7e_11ea_b6f0_d8c4973e0814level0_row7\" class=\"row_heading level0 row7\" >7</th>\n                        <td id=\"T_7594909a_2c7e_11ea_b6f0_d8c4973e0814row7_col0\" class=\"data row7 col0\" >-0.99857</td>\n                        <td id=\"T_7594909a_2c7e_11ea_b6f0_d8c4973e0814row7_col1\" class=\"data row7 col1\" >1.97619</td>\n                        <td id=\"T_7594909a_2c7e_11ea_b6f0_d8c4973e0814row7_col2\" class=\"data row7 col2\" >0.430221</td>\n                        <td id=\"T_7594909a_2c7e_11ea_b6f0_d8c4973e0814row7_col3\" class=\"data row7 col3\" >-0.557356</td>\n            </tr>\n            <tr>\n                        <th id=\"T_7594909a_2c7e_11ea_b6f0_d8c4973e0814level0_row8\" class=\"row_heading level0 row8\" >8</th>\n                        <td id=\"T_7594909a_2c7e_11ea_b6f0_d8c4973e0814row8_col0\" class=\"data row8 col0\" >1.18832</td>\n                        <td id=\"T_7594909a_2c7e_11ea_b6f0_d8c4973e0814row8_col1\" class=\"data row8 col1\" >-0.993632</td>\n                        <td id=\"T_7594909a_2c7e_11ea_b6f0_d8c4973e0814row8_col2\" class=\"data row8 col2\" >0.260148</td>\n                        <td id=\"T_7594909a_2c7e_11ea_b6f0_d8c4973e0814row8_col3\" class=\"data row8 col3\" >0.877126</td>\n            </tr>\n            <tr>\n                        <th id=\"T_7594909a_2c7e_11ea_b6f0_d8c4973e0814level0_row9\" class=\"row_heading level0 row9\" >9</th>\n                        <td id=\"T_7594909a_2c7e_11ea_b6f0_d8c4973e0814row9_col0\" class=\"data row9 col0\" >2.48016</td>\n                        <td id=\"T_7594909a_2c7e_11ea_b6f0_d8c4973e0814row9_col1\" class=\"data row9 col1\" >1.06493</td>\n                        <td id=\"T_7594909a_2c7e_11ea_b6f0_d8c4973e0814row9_col2\" class=\"data row9 col2\" >0.803106</td>\n                        <td id=\"T_7594909a_2c7e_11ea_b6f0_d8c4973e0814row9_col3\" class=\"data row9 col3\" >0.137302</td>\n            </tr>\n    </tbody></table>"
     },
     "metadata": {},
     "output_type": "execute_result",
     "execution_count": 25
    }
   ],
   "source": [
    "# 按元素处理样式：style.applymap() 会遍历df中的每个元素\n",
    "\n",
    "# 创建样式方法，使得小于0的数变成红色\n",
    "def color_red(val):\n",
    "    if val < 0:\n",
    "        color = 'red'\n",
    "    else:\n",
    "        color = 'black'\n",
    "    return ('color:%s' % color)\n",
    "\n",
    "df.style.applymap(color_red)  # 颜色格式(类似字典):'color:black'"
   ],
   "metadata": {
    "collapsed": false,
    "pycharm": {
     "name": "#%%\n",
     "is_executing": false
    }
   }
  },
  {
   "cell_type": "code",
   "execution_count": 29,
   "outputs": [
    {
     "name": "stdout",
     "text": [
      "返回一个布尔型Series:\n",
      "0    False\n",
      "1    False\n",
      "2    False\n",
      "3    False\n",
      "4    False\n",
      "5    False\n",
      "6    False\n",
      "7    False\n",
      "8    False\n",
      "9     True\n",
      "Name: a, dtype: bool\n",
      "调用highlight_max()得到的样式lst为: ['', '', '', '', '', '', '', '', '', 'background-color:yellow']\n"
     ],
     "output_type": "stream"
    },
    {
     "data": {
      "text/plain": "<pandas.io.formats.style.Styler at 0x1a58d36f828>",
      "text/html": "<style  type=\"text/css\" >\n    #T_7dccca4c_2c7f_11ea_8b01_d8c4973e0814row9_col0 {\n            background-color: yellow;\n        }</style><table id=\"T_7dccca4c_2c7f_11ea_8b01_d8c4973e0814\" ><thead>    <tr>        <th class=\"blank level0\" ></th>        <th class=\"col_heading level0 col0\" >a</th>        <th class=\"col_heading level0 col1\" >b</th>        <th class=\"col_heading level0 col2\" >c</th>        <th class=\"col_heading level0 col3\" >d</th>    </tr></thead><tbody>\n                <tr>\n                        <th id=\"T_7dccca4c_2c7f_11ea_8b01_d8c4973e0814level0_row0\" class=\"row_heading level0 row0\" >0</th>\n                        <td id=\"T_7dccca4c_2c7f_11ea_8b01_d8c4973e0814row0_col0\" class=\"data row0 col0\" >0.751623</td>\n                        <td id=\"T_7dccca4c_2c7f_11ea_8b01_d8c4973e0814row0_col1\" class=\"data row0 col1\" >0.385811</td>\n                        <td id=\"T_7dccca4c_2c7f_11ea_8b01_d8c4973e0814row0_col2\" class=\"data row0 col2\" >-0.760553</td>\n                        <td id=\"T_7dccca4c_2c7f_11ea_8b01_d8c4973e0814row0_col3\" class=\"data row0 col3\" >0.298919</td>\n            </tr>\n            <tr>\n                        <th id=\"T_7dccca4c_2c7f_11ea_8b01_d8c4973e0814level0_row1\" class=\"row_heading level0 row1\" >1</th>\n                        <td id=\"T_7dccca4c_2c7f_11ea_8b01_d8c4973e0814row1_col0\" class=\"data row1 col0\" >-0.225609</td>\n                        <td id=\"T_7dccca4c_2c7f_11ea_8b01_d8c4973e0814row1_col1\" class=\"data row1 col1\" >-0.54383</td>\n                        <td id=\"T_7dccca4c_2c7f_11ea_8b01_d8c4973e0814row1_col2\" class=\"data row1 col2\" >-1.18919</td>\n                        <td id=\"T_7dccca4c_2c7f_11ea_8b01_d8c4973e0814row1_col3\" class=\"data row1 col3\" >-0.831069</td>\n            </tr>\n            <tr>\n                        <th id=\"T_7dccca4c_2c7f_11ea_8b01_d8c4973e0814level0_row2\" class=\"row_heading level0 row2\" >2</th>\n                        <td id=\"T_7dccca4c_2c7f_11ea_8b01_d8c4973e0814row2_col0\" class=\"data row2 col0\" >1.25737</td>\n                        <td id=\"T_7dccca4c_2c7f_11ea_8b01_d8c4973e0814row2_col1\" class=\"data row2 col1\" >-1.05773</td>\n                        <td id=\"T_7dccca4c_2c7f_11ea_8b01_d8c4973e0814row2_col2\" class=\"data row2 col2\" >-1.17325</td>\n                        <td id=\"T_7dccca4c_2c7f_11ea_8b01_d8c4973e0814row2_col3\" class=\"data row2 col3\" >-0.740071</td>\n            </tr>\n            <tr>\n                        <th id=\"T_7dccca4c_2c7f_11ea_8b01_d8c4973e0814level0_row3\" class=\"row_heading level0 row3\" >3</th>\n                        <td id=\"T_7dccca4c_2c7f_11ea_8b01_d8c4973e0814row3_col0\" class=\"data row3 col0\" >0.600951</td>\n                        <td id=\"T_7dccca4c_2c7f_11ea_8b01_d8c4973e0814row3_col1\" class=\"data row3 col1\" >-1.78114</td>\n                        <td id=\"T_7dccca4c_2c7f_11ea_8b01_d8c4973e0814row3_col2\" class=\"data row3 col2\" >-1.56652</td>\n                        <td id=\"T_7dccca4c_2c7f_11ea_8b01_d8c4973e0814row3_col3\" class=\"data row3 col3\" >-1.73053</td>\n            </tr>\n            <tr>\n                        <th id=\"T_7dccca4c_2c7f_11ea_8b01_d8c4973e0814level0_row4\" class=\"row_heading level0 row4\" >4</th>\n                        <td id=\"T_7dccca4c_2c7f_11ea_8b01_d8c4973e0814row4_col0\" class=\"data row4 col0\" >-0.391615</td>\n                        <td id=\"T_7dccca4c_2c7f_11ea_8b01_d8c4973e0814row4_col1\" class=\"data row4 col1\" >0.557641</td>\n                        <td id=\"T_7dccca4c_2c7f_11ea_8b01_d8c4973e0814row4_col2\" class=\"data row4 col2\" >0.614345</td>\n                        <td id=\"T_7dccca4c_2c7f_11ea_8b01_d8c4973e0814row4_col3\" class=\"data row4 col3\" >-1.46679</td>\n            </tr>\n            <tr>\n                        <th id=\"T_7dccca4c_2c7f_11ea_8b01_d8c4973e0814level0_row5\" class=\"row_heading level0 row5\" >5</th>\n                        <td id=\"T_7dccca4c_2c7f_11ea_8b01_d8c4973e0814row5_col0\" class=\"data row5 col0\" >-1.06093</td>\n                        <td id=\"T_7dccca4c_2c7f_11ea_8b01_d8c4973e0814row5_col1\" class=\"data row5 col1\" >1.13097</td>\n                        <td id=\"T_7dccca4c_2c7f_11ea_8b01_d8c4973e0814row5_col2\" class=\"data row5 col2\" >0.0892634</td>\n                        <td id=\"T_7dccca4c_2c7f_11ea_8b01_d8c4973e0814row5_col3\" class=\"data row5 col3\" >-1.2438</td>\n            </tr>\n            <tr>\n                        <th id=\"T_7dccca4c_2c7f_11ea_8b01_d8c4973e0814level0_row6\" class=\"row_heading level0 row6\" >6</th>\n                        <td id=\"T_7dccca4c_2c7f_11ea_8b01_d8c4973e0814row6_col0\" class=\"data row6 col0\" >0.10258</td>\n                        <td id=\"T_7dccca4c_2c7f_11ea_8b01_d8c4973e0814row6_col1\" class=\"data row6 col1\" >-0.951064</td>\n                        <td id=\"T_7dccca4c_2c7f_11ea_8b01_d8c4973e0814row6_col2\" class=\"data row6 col2\" >-1.04031</td>\n                        <td id=\"T_7dccca4c_2c7f_11ea_8b01_d8c4973e0814row6_col3\" class=\"data row6 col3\" >-1.98077</td>\n            </tr>\n            <tr>\n                        <th id=\"T_7dccca4c_2c7f_11ea_8b01_d8c4973e0814level0_row7\" class=\"row_heading level0 row7\" >7</th>\n                        <td id=\"T_7dccca4c_2c7f_11ea_8b01_d8c4973e0814row7_col0\" class=\"data row7 col0\" >-0.99857</td>\n                        <td id=\"T_7dccca4c_2c7f_11ea_8b01_d8c4973e0814row7_col1\" class=\"data row7 col1\" >1.97619</td>\n                        <td id=\"T_7dccca4c_2c7f_11ea_8b01_d8c4973e0814row7_col2\" class=\"data row7 col2\" >0.430221</td>\n                        <td id=\"T_7dccca4c_2c7f_11ea_8b01_d8c4973e0814row7_col3\" class=\"data row7 col3\" >-0.557356</td>\n            </tr>\n            <tr>\n                        <th id=\"T_7dccca4c_2c7f_11ea_8b01_d8c4973e0814level0_row8\" class=\"row_heading level0 row8\" >8</th>\n                        <td id=\"T_7dccca4c_2c7f_11ea_8b01_d8c4973e0814row8_col0\" class=\"data row8 col0\" >1.18832</td>\n                        <td id=\"T_7dccca4c_2c7f_11ea_8b01_d8c4973e0814row8_col1\" class=\"data row8 col1\" >-0.993632</td>\n                        <td id=\"T_7dccca4c_2c7f_11ea_8b01_d8c4973e0814row8_col2\" class=\"data row8 col2\" >0.260148</td>\n                        <td id=\"T_7dccca4c_2c7f_11ea_8b01_d8c4973e0814row8_col3\" class=\"data row8 col3\" >0.877126</td>\n            </tr>\n            <tr>\n                        <th id=\"T_7dccca4c_2c7f_11ea_8b01_d8c4973e0814level0_row9\" class=\"row_heading level0 row9\" >9</th>\n                        <td id=\"T_7dccca4c_2c7f_11ea_8b01_d8c4973e0814row9_col0\" class=\"data row9 col0\" >2.48016</td>\n                        <td id=\"T_7dccca4c_2c7f_11ea_8b01_d8c4973e0814row9_col1\" class=\"data row9 col1\" >1.06493</td>\n                        <td id=\"T_7dccca4c_2c7f_11ea_8b01_d8c4973e0814row9_col2\" class=\"data row9 col2\" >0.803106</td>\n                        <td id=\"T_7dccca4c_2c7f_11ea_8b01_d8c4973e0814row9_col3\" class=\"data row9 col3\" >0.137302</td>\n            </tr>\n    </tbody></table>"
     },
     "metadata": {},
     "output_type": "execute_result",
     "execution_count": 29
    }
   ],
   "source": [
    "# 按行/列处理样式：style.apply(), 拆分成普通数组来分布对其中的每一项填充样式\n",
    "\n",
    "# 创建样式方法，每列最大值填充黄色\n",
    "def highlight_max(s):\n",
    "    is_max = s == s.max()  #返回一个布尔型Series\n",
    "    print('返回一个布尔型Series:',is_max,sep='\\n')\n",
    "    lst = []\n",
    "    for v in is_max:\n",
    "        if v:\n",
    "            lst.append('background-color:yellow')\n",
    "        else:\n",
    "            lst.append('')\n",
    "    print('调用highlight_max()得到的样式lst为:',lst)\n",
    "    return lst\n",
    "\n",
    "df.style.apply(highlight_max,axis=0,subset=['a'])  # 将a列最大值填充为黄色\n",
    "        "
   ],
   "metadata": {
    "collapsed": false,
    "pycharm": {
     "name": "#%%\n",
     "is_executing": false
    }
   }
  },
  {
   "cell_type": "code",
   "execution_count": 42,
   "outputs": [
    {
     "name": "stdout",
     "text": [
      "返回一个布尔型Series:\n",
      "a     True\n",
      "b    False\n",
      "Name: 2, dtype: bool\n",
      "调用highlight_max()得到的样式lst为: ['background-color:yellow', '']\n",
      "返回一个布尔型Series:\n",
      "a     True\n",
      "b    False\n",
      "Name: 3, dtype: bool\n",
      "调用highlight_max()得到的样式lst为: ['background-color:yellow', '']\n",
      "返回一个布尔型Series:\n",
      "a    False\n",
      "b     True\n",
      "Name: 4, dtype: bool\n",
      "调用highlight_max()得到的样式lst为: ['', 'background-color:yellow']\n",
      "返回一个布尔型Series:\n",
      "a    False\n",
      "b     True\n",
      "Name: 5, dtype: bool\n",
      "调用highlight_max()得到的样式lst为: ['', 'background-color:yellow']\n"
     ],
     "output_type": "stream"
    },
    {
     "data": {
      "text/plain": "<pandas.io.formats.style.Styler at 0x1a590b6b278>",
      "text/html": "<style  type=\"text/css\" >\n    #T_5c0dcd0a_2c8d_11ea_aecb_d8c4973e0814row2_col0 {\n            background-color: yellow;\n        }    #T_5c0dcd0a_2c8d_11ea_aecb_d8c4973e0814row3_col0 {\n            background-color: yellow;\n        }    #T_5c0dcd0a_2c8d_11ea_aecb_d8c4973e0814row4_col1 {\n            background-color: yellow;\n        }    #T_5c0dcd0a_2c8d_11ea_aecb_d8c4973e0814row5_col1 {\n            background-color: yellow;\n        }</style><table id=\"T_5c0dcd0a_2c8d_11ea_aecb_d8c4973e0814\" ><thead>    <tr>        <th class=\"blank level0\" ></th>        <th class=\"col_heading level0 col0\" >a</th>        <th class=\"col_heading level0 col1\" >b</th>        <th class=\"col_heading level0 col2\" >c</th>        <th class=\"col_heading level0 col3\" >d</th>    </tr></thead><tbody>\n                <tr>\n                        <th id=\"T_5c0dcd0a_2c8d_11ea_aecb_d8c4973e0814level0_row0\" class=\"row_heading level0 row0\" >0</th>\n                        <td id=\"T_5c0dcd0a_2c8d_11ea_aecb_d8c4973e0814row0_col0\" class=\"data row0 col0\" >0.751623</td>\n                        <td id=\"T_5c0dcd0a_2c8d_11ea_aecb_d8c4973e0814row0_col1\" class=\"data row0 col1\" >0.385811</td>\n                        <td id=\"T_5c0dcd0a_2c8d_11ea_aecb_d8c4973e0814row0_col2\" class=\"data row0 col2\" >-0.760553</td>\n                        <td id=\"T_5c0dcd0a_2c8d_11ea_aecb_d8c4973e0814row0_col3\" class=\"data row0 col3\" >0.298919</td>\n            </tr>\n            <tr>\n                        <th id=\"T_5c0dcd0a_2c8d_11ea_aecb_d8c4973e0814level0_row1\" class=\"row_heading level0 row1\" >1</th>\n                        <td id=\"T_5c0dcd0a_2c8d_11ea_aecb_d8c4973e0814row1_col0\" class=\"data row1 col0\" >-0.225609</td>\n                        <td id=\"T_5c0dcd0a_2c8d_11ea_aecb_d8c4973e0814row1_col1\" class=\"data row1 col1\" >-0.54383</td>\n                        <td id=\"T_5c0dcd0a_2c8d_11ea_aecb_d8c4973e0814row1_col2\" class=\"data row1 col2\" >-1.18919</td>\n                        <td id=\"T_5c0dcd0a_2c8d_11ea_aecb_d8c4973e0814row1_col3\" class=\"data row1 col3\" >-0.831069</td>\n            </tr>\n            <tr>\n                        <th id=\"T_5c0dcd0a_2c8d_11ea_aecb_d8c4973e0814level0_row2\" class=\"row_heading level0 row2\" >2</th>\n                        <td id=\"T_5c0dcd0a_2c8d_11ea_aecb_d8c4973e0814row2_col0\" class=\"data row2 col0\" >1.25737</td>\n                        <td id=\"T_5c0dcd0a_2c8d_11ea_aecb_d8c4973e0814row2_col1\" class=\"data row2 col1\" >-1.05773</td>\n                        <td id=\"T_5c0dcd0a_2c8d_11ea_aecb_d8c4973e0814row2_col2\" class=\"data row2 col2\" >-1.17325</td>\n                        <td id=\"T_5c0dcd0a_2c8d_11ea_aecb_d8c4973e0814row2_col3\" class=\"data row2 col3\" >-0.740071</td>\n            </tr>\n            <tr>\n                        <th id=\"T_5c0dcd0a_2c8d_11ea_aecb_d8c4973e0814level0_row3\" class=\"row_heading level0 row3\" >3</th>\n                        <td id=\"T_5c0dcd0a_2c8d_11ea_aecb_d8c4973e0814row3_col0\" class=\"data row3 col0\" >0.600951</td>\n                        <td id=\"T_5c0dcd0a_2c8d_11ea_aecb_d8c4973e0814row3_col1\" class=\"data row3 col1\" >-1.78114</td>\n                        <td id=\"T_5c0dcd0a_2c8d_11ea_aecb_d8c4973e0814row3_col2\" class=\"data row3 col2\" >-1.56652</td>\n                        <td id=\"T_5c0dcd0a_2c8d_11ea_aecb_d8c4973e0814row3_col3\" class=\"data row3 col3\" >-1.73053</td>\n            </tr>\n            <tr>\n                        <th id=\"T_5c0dcd0a_2c8d_11ea_aecb_d8c4973e0814level0_row4\" class=\"row_heading level0 row4\" >4</th>\n                        <td id=\"T_5c0dcd0a_2c8d_11ea_aecb_d8c4973e0814row4_col0\" class=\"data row4 col0\" >-0.391615</td>\n                        <td id=\"T_5c0dcd0a_2c8d_11ea_aecb_d8c4973e0814row4_col1\" class=\"data row4 col1\" >0.557641</td>\n                        <td id=\"T_5c0dcd0a_2c8d_11ea_aecb_d8c4973e0814row4_col2\" class=\"data row4 col2\" >0.614345</td>\n                        <td id=\"T_5c0dcd0a_2c8d_11ea_aecb_d8c4973e0814row4_col3\" class=\"data row4 col3\" >-1.46679</td>\n            </tr>\n            <tr>\n                        <th id=\"T_5c0dcd0a_2c8d_11ea_aecb_d8c4973e0814level0_row5\" class=\"row_heading level0 row5\" >5</th>\n                        <td id=\"T_5c0dcd0a_2c8d_11ea_aecb_d8c4973e0814row5_col0\" class=\"data row5 col0\" >-1.06093</td>\n                        <td id=\"T_5c0dcd0a_2c8d_11ea_aecb_d8c4973e0814row5_col1\" class=\"data row5 col1\" >1.13097</td>\n                        <td id=\"T_5c0dcd0a_2c8d_11ea_aecb_d8c4973e0814row5_col2\" class=\"data row5 col2\" >0.0892634</td>\n                        <td id=\"T_5c0dcd0a_2c8d_11ea_aecb_d8c4973e0814row5_col3\" class=\"data row5 col3\" >-1.2438</td>\n            </tr>\n            <tr>\n                        <th id=\"T_5c0dcd0a_2c8d_11ea_aecb_d8c4973e0814level0_row6\" class=\"row_heading level0 row6\" >6</th>\n                        <td id=\"T_5c0dcd0a_2c8d_11ea_aecb_d8c4973e0814row6_col0\" class=\"data row6 col0\" >0.10258</td>\n                        <td id=\"T_5c0dcd0a_2c8d_11ea_aecb_d8c4973e0814row6_col1\" class=\"data row6 col1\" >-0.951064</td>\n                        <td id=\"T_5c0dcd0a_2c8d_11ea_aecb_d8c4973e0814row6_col2\" class=\"data row6 col2\" >-1.04031</td>\n                        <td id=\"T_5c0dcd0a_2c8d_11ea_aecb_d8c4973e0814row6_col3\" class=\"data row6 col3\" >-1.98077</td>\n            </tr>\n            <tr>\n                        <th id=\"T_5c0dcd0a_2c8d_11ea_aecb_d8c4973e0814level0_row7\" class=\"row_heading level0 row7\" >7</th>\n                        <td id=\"T_5c0dcd0a_2c8d_11ea_aecb_d8c4973e0814row7_col0\" class=\"data row7 col0\" >-0.99857</td>\n                        <td id=\"T_5c0dcd0a_2c8d_11ea_aecb_d8c4973e0814row7_col1\" class=\"data row7 col1\" >1.97619</td>\n                        <td id=\"T_5c0dcd0a_2c8d_11ea_aecb_d8c4973e0814row7_col2\" class=\"data row7 col2\" >0.430221</td>\n                        <td id=\"T_5c0dcd0a_2c8d_11ea_aecb_d8c4973e0814row7_col3\" class=\"data row7 col3\" >-0.557356</td>\n            </tr>\n            <tr>\n                        <th id=\"T_5c0dcd0a_2c8d_11ea_aecb_d8c4973e0814level0_row8\" class=\"row_heading level0 row8\" >8</th>\n                        <td id=\"T_5c0dcd0a_2c8d_11ea_aecb_d8c4973e0814row8_col0\" class=\"data row8 col0\" >1.18832</td>\n                        <td id=\"T_5c0dcd0a_2c8d_11ea_aecb_d8c4973e0814row8_col1\" class=\"data row8 col1\" >-0.993632</td>\n                        <td id=\"T_5c0dcd0a_2c8d_11ea_aecb_d8c4973e0814row8_col2\" class=\"data row8 col2\" >0.260148</td>\n                        <td id=\"T_5c0dcd0a_2c8d_11ea_aecb_d8c4973e0814row8_col3\" class=\"data row8 col3\" >0.877126</td>\n            </tr>\n            <tr>\n                        <th id=\"T_5c0dcd0a_2c8d_11ea_aecb_d8c4973e0814level0_row9\" class=\"row_heading level0 row9\" >9</th>\n                        <td id=\"T_5c0dcd0a_2c8d_11ea_aecb_d8c4973e0814row9_col0\" class=\"data row9 col0\" >2.48016</td>\n                        <td id=\"T_5c0dcd0a_2c8d_11ea_aecb_d8c4973e0814row9_col1\" class=\"data row9 col1\" >1.06493</td>\n                        <td id=\"T_5c0dcd0a_2c8d_11ea_aecb_d8c4973e0814row9_col2\" class=\"data row9 col2\" >0.803106</td>\n                        <td id=\"T_5c0dcd0a_2c8d_11ea_aecb_d8c4973e0814row9_col3\" class=\"data row9 col3\" >0.137302</td>\n            </tr>\n    </tbody></table>"
     },
     "metadata": {},
     "output_type": "execute_result",
     "execution_count": 42
    }
   ],
   "source": [
    "# 样式索引、切片\n",
    "# 通过pd.IndexSlice[]调用切片\n",
    "df.style.apply(highlight_max,axis=1,\n",
    "               subset=pd.IndexSlice[2:5,['a','b']])  # axis=1计算行,先选取索引为2:5的行,然后再找a,b列\n",
    "\n",
    "# 通过pd.IndexSlice[]调用切片\n"
   ],
   "metadata": {
    "collapsed": false,
    "pycharm": {
     "name": "#%%\n",
     "is_executing": false
    }
   }
  }
 ],
 "metadata": {
  "kernelspec": {
   "display_name": "Python 3",
   "language": "python",
   "name": "python3"
  },
  "language_info": {
   "codemirror_mode": {
    "name": "ipython",
    "version": 2
   },
   "file_extension": ".py",
   "mimetype": "text/x-python",
   "name": "python",
   "nbconvert_exporter": "python",
   "pygments_lexer": "ipython2",
   "version": "2.7.6"
  },
  "pycharm": {
   "stem_cell": {
    "cell_type": "raw",
    "source": [],
    "metadata": {
     "collapsed": false
    }
   }
  }
 },
 "nbformat": 4,
 "nbformat_minor": 0
}