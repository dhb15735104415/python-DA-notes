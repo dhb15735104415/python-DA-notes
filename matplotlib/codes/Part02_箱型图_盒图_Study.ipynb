{
 "cells": [
  {
   "cell_type": "code",
   "execution_count": 1,
   "metadata": {
    "collapsed": true,
    "pycharm": {
     "is_executing": false
    }
   },
   "outputs": [
    {
     "data": {
      "text/plain": "'\\n    箱型图\\n\\n    箱型图：又称为盒须图、盒式图、盒状图或箱线图，是一种用作显示一组数据分散情况资料的统计图\\n    包含一组数据的：最大值、最小值、中位数、上四分位数（Q1）、下四分位数（Q3）、异常值\\n    ① 中位数 → 一组数据平均分成两份，中间的数\\n    ② 下四分位数Q1 → 是将序列平均分成四份，计算(n+1)/4与(n-1)/4两种，一般使用(n+1)/4\\n    ③ 上四分位数Q3 → 是将序列平均分成四份，计算(1+n)/4*3=6.75\\n    ④ 内限 → T形的盒须就是内限，最大值区间Q3+1.5IQR,最小值区间Q1-1.5IQR （IQR=Q3-Q1）\\n    ⑤ 外限 → T形的盒须就是内限，最大值区间Q3+3IQR,最小值区间Q1-3IQR （IQR=Q3-Q1）\\n    ⑥ 异常值 → 内限之外 - 中度异常，外限之外 - 极度异常\\n    \\n    plt.plot.box(),plt.boxplot()\\n'"
     },
     "metadata": {},
     "output_type": "execute_result",
     "execution_count": 1
    }
   ],
   "source": [
    "'''\n",
    "    箱型图\n",
    "\n",
    "    箱型图：又称为盒须图、盒式图、盒状图或箱线图，是一种用作显示一组数据分散情况资料的统计图\n",
    "    包含一组数据的：最大值、最小值、中位数、上四分位数（Q1）、下四分位数（Q3）、异常值\n",
    "    ① 中位数 → 一组数据平均分成两份，中间的数\n",
    "    ② 下四分位数Q1 → 是将序列平均分成四份，计算(n+1)/4与(n-1)/4两种，一般使用(n+1)/4\n",
    "    ③ 上四分位数Q3 → 是将序列平均分成四份，计算(1+n)/4*3\n",
    "    ④ 内限 → 在Q3+1.5IQR和Q1－1.5IQR处画两条与中位线一样的线段，这两条线段为异常值截断点，称其为内限，最大值区间Q3+1.5IQR,最小值区间Q1-1.5IQR （IQR=Q3-Q1）\n",
    "    ⑤ 外限 → 在Q3+3IQR和Q1－3IQR处画两条线段，称其为外限，最大值区间Q3+3IQR,最小值区间Q1-3IQR （IQR=Q3-Q1）\n",
    "    ⑥ 异常值 → 处于内限以外位置的点表示的数据都是异常值，其中在内限与外限之间的异常值为温和的异常值（mild outliers），在外限以外的为极端的异常值(extreme outliers)\n",
    "    \n",
    "    plt.boxplot()\n",
    "'''"
   ]
  },
  {
   "cell_type": "code",
   "execution_count": 4,
   "outputs": [
    {
     "name": "stderr",
     "text": [
      "f:\\language\\python\\lib\\importlib\\_bootstrap.py:219: RuntimeWarning: numpy.ufunc size changed, may indicate binary incompatibility. Expected 192 from C header, got 216 from PyObject\n",
      "  return f(*args, **kwds)\n"
     ],
     "output_type": "stream"
    }
   ],
   "source": [
    "import numpy as np\n",
    "import pandas as pd\n",
    "import matplotlib.pyplot as plt"
   ],
   "metadata": {
    "collapsed": false,
    "pycharm": {
     "name": "#%%\n",
     "is_executing": false
    }
   }
  },
  {
   "cell_type": "code",
   "execution_count": 28,
   "outputs": [
    {
     "data": {
      "text/plain": "<Figure size 720x432 with 2 Axes>",
      "image/png": "[encoded data removed]"
     },
     "metadata": {
      "needs_background": "light"
     },
     "output_type": "display_data"
    }
   ],
   "source": [
    "# df.plot.box()绘制\n",
    "fig,axes = plt.subplots(2,1,figsize=(10,6))\n",
    "df = pd.DataFrame(np.random.rand(10,5),columns=list('abcde'))\n",
    "\n",
    "# 箱型图着色\n",
    "color = dict(boxes='DarkGreen',whiskers='DarkOrange',medians='DarkBlue',caps='Gray')\n",
    "# boxes → 箱线\n",
    "# whiskers → 分位数与error bar横线之间竖线的颜色\n",
    "# medians → 中位数线颜色\n",
    "# caps → error bar横线颜色\n",
    "\n",
    "# 绘图\n",
    "df.plot.box(ylim=[0,1.4],\n",
    "            grid=True,\n",
    "            color=color,\n",
    "            ax=axes[0])\n",
    "# color：样式填充\n",
    "\n",
    "df.plot.box(vert=False,\n",
    "            positions=[1,4,3,2,6],\n",
    "            grid=True,\n",
    "            color=color,\n",
    "            ax=axes[1])\n",
    "\n",
    "# vert:是否垂直，默认True\n",
    "# position:箱型图占位,观察纵坐标,columns与positions的下标是一一对应的,positions不同占位,列名就显示在不同位置\n",
    "\n",
    "plt.show()"
   ],
   "metadata": {
    "collapsed": false,
    "pycharm": {
     "name": "#%%\n",
     "is_executing": false
    }
   }
  },
  {
   "cell_type": "code",
   "execution_count": 111,
   "outputs": [
    {
     "name": "stdout",
     "text": [
      "type(f): <class 'dict'>\n"
     ],
     "output_type": "stream"
    },
    {
     "data": {
      "text/plain": "<Figure size 720x288 with 1 Axes>",
      "image/png": "[encoded data removed]"
     },
     "metadata": {
      "needs_background": "light"
     },
     "output_type": "display_data"
    }
   ],
   "source": [
    "# plt.boxplot()绘制\n",
    "\n",
    "# plt.boxplot(x, notch=None, sym=None, vert=None, whis=None, positions=None, widths=None, patch_artist=None, bootstrap=None, \n",
    "#             usermedians=None, conf_intervals=None, meanline=None, showmeans=None, showcaps=None, showbox=None, showfliers=None, boxprops=None, \n",
    "#             labels=None, flierprops=None, medianprops=None, meanprops=None, capprops=None, whiskerprops=None, manage_xticks=True, autorange=False, \n",
    "#             zorder=None, hold=None, data=None)\n",
    "\n",
    "df = pd.DataFrame(np.random.rand(10, 5), columns=['A', 'B', 'C', 'D', 'E'])\n",
    "plt.figure(figsize=(10,4))\n",
    "\n",
    "f = df.boxplot(sym = 'o',  # 异常点形状，参考marker\n",
    "               vert = True,  # 是否垂直\n",
    "               # ylim=[0,1.4],  没有此参数\n",
    "               grid=True,  # 网格线 默认为True\n",
    "               whis = 1.5,  # IQR，默认1.5，也可以设置区间比如[5,95]，代表强制上下边缘为数据95%和5%位置\n",
    "               patch_artist = True,  # 上下四分位框内是否填充，True为填充\n",
    "               meanline = False,  # 是否有均值线\n",
    "               showmeans=True,  # 是否有均值线的形状\n",
    "               showbox = True,  # 是否显示箱线\n",
    "               showcaps = True,  # 是否显示边缘线\n",
    "               showfliers = True,  # 是否显示异常值\n",
    "               notch = False,  # 中间箱体是否缺口\n",
    "               return_type='dict'  # 返回类型为字典\n",
    "              )\n",
    "plt.title('boxplot')\n",
    "print('type(f):',type(f))\n",
    "\n",
    "\n",
    "for box in f['boxes']:\n",
    "    box.set( color='b', linewidth=1)        # 箱体边框颜色\n",
    "    box.set( facecolor = 'b' ,alpha=0.5)    # 箱体内部填充颜色\n",
    "for whisker in f['whiskers']:\n",
    "    whisker.set(color='r', linewidth=0.5,linestyle='-')\n",
    "for cap in f['caps']:\n",
    "    cap.set(color='gray', linewidth=2)\n",
    "for median in f['medians']:\n",
    "    median.set(color='DarkBlue', linewidth=2)\n",
    "for flier in f['fliers']:\n",
    "    flier.set(marker='*', color='r', alpha=1.0)\n",
    "# boxes, 箱线\n",
    "# medians, 中位值的横线,\n",
    "# whiskers, 从box到error bar之间的竖线.\n",
    "# fliers, 异常值\n",
    "# caps, error bar横线\n",
    "# means, 均值的横线\n",
    "plt.show()"
   ],
   "metadata": {
    "collapsed": false,
    "pycharm": {
     "name": "#%%\n",
     "is_executing": false
    }
   }
  },
  {
   "cell_type": "code",
   "execution_count": 86,
   "outputs": [
    {
     "name": "stdout",
     "text": [
      "       Col1      Col2  X  Y\n",
      "0  0.485211  0.902296  A  A\n",
      "1  0.457842  0.640964  A  B\n",
      "2  0.345695  0.069647  A  A\n",
      "3  0.504699  0.285816  A  B\n",
      "4  0.670157  0.104700  A  A\n",
      "5  0.648734  0.777723  B  B\n",
      "6  0.348814  0.167399  B  A\n",
      "7  0.079033  0.645634  B  B\n",
      "8  0.029365  0.100930  B  A\n",
      "9  0.068244  0.429756  B  B\n"
     ],
     "output_type": "stream"
    },
    {
     "data": {
      "text/plain": "<Figure size 432x288 with 2 Axes>",
      "image/png": "[encoded data removed]"
     },
     "metadata": {
      "needs_background": "light"
     },
     "output_type": "display_data"
    },
    {
     "data": {
      "text/plain": "<Figure size 432x288 with 2 Axes>",
      "image/png": "[encoded data removed]"
     },
     "metadata": {
      "needs_background": "light"
     },
     "output_type": "display_data"
    }
   ],
   "source": [
    "# 分组汇总\n",
    "\n",
    "df = pd.DataFrame(np.random.rand(10,2), columns=['Col1', 'Col2'] )\n",
    "df['X'] = pd.Series(['A','A','A','A','A','B','B','B','B','B'])\n",
    "df['Y'] = pd.Series(['A','B','A','B','A','B','A','B','A','B'])\n",
    "print(df)\n",
    "\n",
    "df.boxplot(by = 'X')  # 按列X的值分组,分为A,B两组\n",
    "df.boxplot(column=['Col1','Col2'], by=['X','Y'])  # 分为4组,看坐标\n",
    "# columns：按照数据的列分子图\n",
    "# by：按照列分组做箱型图\n",
    "\n",
    "plt.show()"
   ],
   "metadata": {
    "collapsed": false,
    "pycharm": {
     "name": "#%%\n",
     "is_executing": false
    }
   }
  },
  {
   "cell_type": "code",
   "execution_count": 125,
   "outputs": [
    {
     "name": "stdout",
     "text": [
      "----bplot['boxes']----: [<matplotlib.patches.PathPatch object at 0x000001C84335AC88>, <matplotlib.patches.PathPatch object at 0x000001C841F234A8>, <matplotlib.patches.PathPatch object at 0x000001C8420BD278>]\n"
     ],
     "output_type": "stream"
    },
    {
     "data": {
      "text/plain": "<Figure size 576x432 with 1 Axes>",
      "image/png": "[encoded data removed]"
     },
     "metadata": {
      "needs_background": "light"
     },
     "output_type": "display_data"
    }
   ],
   "source": [
    "# 为不同的箱体填充不同颜色\n",
    "\n",
    "# 构造数据\n",
    "data = [np.random.normal(0,std,100) for std in range(1,4)]  # 标准差为[1,2,3]\n",
    "fig,axes = plt.subplots(1,1,figsize=(8,6))\n",
    "bplot = plt.boxplot(data,notch=False,sym='*',vert=True,patch_artist=True) \n",
    "# patch_artist:默认为None,是否给箱体填充颜色\n",
    "\n",
    "plt.xticks(ticks=[y+1 for y in range(len(data))],labels=['x1','x2','x3'])  #  设置x轴的当前刻度位置和标签\n",
    "plt.xlabel('XXX')  # 设置x轴的标签\n",
    "plt.title('box plot')  # 设置标题\n",
    "\n",
    "# 上面三行代码效果同如下代码:\n",
    "# plt.setp(axes,xticks=[y+1 for y in range(len(data))],xticklabels=['x1','x2','x3'],xlabel='XXX',title='box plt')  \n",
    "\n",
    "\n",
    "# 给箱体填充颜色\n",
    "colors = ['pink','lightblue','lightgreen']\n",
    "for patch, color in zip(bplot['boxes'],colors):\n",
    "    patch.set_facecolor(color)\n",
    "    \n",
    "# bplot['boxes']:获取箱体视图列表\n",
    "print(\"----bplot['boxes']----:\",bplot['boxes'])\n",
    "plt.show()\n",
    "\n"
   ],
   "metadata": {
    "collapsed": false,
    "pycharm": {
     "name": "#%%\n",
     "is_executing": false
    }
   }
  }
 ],
 "metadata": {
  "kernelspec": {
   "display_name": "Python 3",
   "language": "python",
   "name": "python3"
  },
  "language_info": {
   "codemirror_mode": {
    "name": "ipython",
    "version": 2
   },
   "file_extension": ".py",
   "mimetype": "text/x-python",
   "name": "python",
   "nbconvert_exporter": "python",
   "pygments_lexer": "ipython2",
   "version": "2.7.6"
  },
  "pycharm": {
   "stem_cell": {
    "cell_type": "raw",
    "source": [],
    "metadata": {
     "collapsed": false
    }
   }
  }
 },
 "nbformat": 4,
 "nbformat_minor": 0
}