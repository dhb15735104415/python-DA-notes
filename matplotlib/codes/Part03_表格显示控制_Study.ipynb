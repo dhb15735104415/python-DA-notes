{
 "cells": [
  {
   "cell_type": "code",
   "execution_count": 1,
   "metadata": {
    "collapsed": true,
    "pycharm": {
     "is_executing": false
    }
   },
   "outputs": [
    {
     "data": {
      "text/plain": "'\\n    表格显示控制\\n\\n    df.style.format()\\n'"
     },
     "metadata": {},
     "output_type": "execute_result",
     "execution_count": 1
    }
   ],
   "source": [
    "'''\n",
    "    表格显示控制\n",
    "\n",
    "    df.style.format()\n",
    "'''"
   ]
  },
  {
   "cell_type": "code",
   "execution_count": 4,
   "outputs": [],
   "source": [
    "import numpy as np\n",
    "import pandas as pd"
   ],
   "metadata": {
    "collapsed": false,
    "pycharm": {
     "name": "#%%\n",
     "is_executing": false
    }
   }
  },
  {
   "cell_type": "code",
   "execution_count": 11,
   "outputs": [
    {
     "name": "stdout",
     "text": [
      "          a         b         c         d\n",
      "0 -0.410550 -0.883670  0.608916 -0.305131\n",
      "1 -1.329496 -0.043339  0.506450  0.217027\n",
      "2 -0.334974  0.162032 -0.969877  1.383038\n",
      "3 -2.149610 -1.078223 -0.439805  0.364543\n",
      "4 -1.900281  0.128409  0.663680 -0.405364\n",
      "--------------------------------\n"
     ],
     "output_type": "stream"
    },
    {
     "data": {
      "text/plain": "<pandas.io.formats.style.Styler at 0x17e1fd55ef0>",
      "text/html": "<style  type=\"text/css\" >\n</style><table id=\"T_0b452c90_2c8f_11ea_8050_d8c4973e0814\" ><thead>    <tr>        <th class=\"blank level0\" ></th>        <th class=\"col_heading level0 col0\" >a</th>        <th class=\"col_heading level0 col1\" >b</th>        <th class=\"col_heading level0 col2\" >c</th>        <th class=\"col_heading level0 col3\" >d</th>    </tr></thead><tbody>\n                <tr>\n                        <th id=\"T_0b452c90_2c8f_11ea_8050_d8c4973e0814level0_row0\" class=\"row_heading level0 row0\" >0</th>\n                        <td id=\"T_0b452c90_2c8f_11ea_8050_d8c4973e0814row0_col0\" class=\"data row0 col0\" >-41.06%</td>\n                        <td id=\"T_0b452c90_2c8f_11ea_8050_d8c4973e0814row0_col1\" class=\"data row0 col1\" >-88.37%</td>\n                        <td id=\"T_0b452c90_2c8f_11ea_8050_d8c4973e0814row0_col2\" class=\"data row0 col2\" >60.89%</td>\n                        <td id=\"T_0b452c90_2c8f_11ea_8050_d8c4973e0814row0_col3\" class=\"data row0 col3\" >-30.51%</td>\n            </tr>\n            <tr>\n                        <th id=\"T_0b452c90_2c8f_11ea_8050_d8c4973e0814level0_row1\" class=\"row_heading level0 row1\" >1</th>\n                        <td id=\"T_0b452c90_2c8f_11ea_8050_d8c4973e0814row1_col0\" class=\"data row1 col0\" >-132.95%</td>\n                        <td id=\"T_0b452c90_2c8f_11ea_8050_d8c4973e0814row1_col1\" class=\"data row1 col1\" >-4.33%</td>\n                        <td id=\"T_0b452c90_2c8f_11ea_8050_d8c4973e0814row1_col2\" class=\"data row1 col2\" >50.65%</td>\n                        <td id=\"T_0b452c90_2c8f_11ea_8050_d8c4973e0814row1_col3\" class=\"data row1 col3\" >21.70%</td>\n            </tr>\n            <tr>\n                        <th id=\"T_0b452c90_2c8f_11ea_8050_d8c4973e0814level0_row2\" class=\"row_heading level0 row2\" >2</th>\n                        <td id=\"T_0b452c90_2c8f_11ea_8050_d8c4973e0814row2_col0\" class=\"data row2 col0\" >-33.50%</td>\n                        <td id=\"T_0b452c90_2c8f_11ea_8050_d8c4973e0814row2_col1\" class=\"data row2 col1\" >16.20%</td>\n                        <td id=\"T_0b452c90_2c8f_11ea_8050_d8c4973e0814row2_col2\" class=\"data row2 col2\" >-96.99%</td>\n                        <td id=\"T_0b452c90_2c8f_11ea_8050_d8c4973e0814row2_col3\" class=\"data row2 col3\" >138.30%</td>\n            </tr>\n            <tr>\n                        <th id=\"T_0b452c90_2c8f_11ea_8050_d8c4973e0814level0_row3\" class=\"row_heading level0 row3\" >3</th>\n                        <td id=\"T_0b452c90_2c8f_11ea_8050_d8c4973e0814row3_col0\" class=\"data row3 col0\" >-214.96%</td>\n                        <td id=\"T_0b452c90_2c8f_11ea_8050_d8c4973e0814row3_col1\" class=\"data row3 col1\" >-107.82%</td>\n                        <td id=\"T_0b452c90_2c8f_11ea_8050_d8c4973e0814row3_col2\" class=\"data row3 col2\" >-43.98%</td>\n                        <td id=\"T_0b452c90_2c8f_11ea_8050_d8c4973e0814row3_col3\" class=\"data row3 col3\" >36.45%</td>\n            </tr>\n            <tr>\n                        <th id=\"T_0b452c90_2c8f_11ea_8050_d8c4973e0814level0_row4\" class=\"row_heading level0 row4\" >4</th>\n                        <td id=\"T_0b452c90_2c8f_11ea_8050_d8c4973e0814row4_col0\" class=\"data row4 col0\" >-190.03%</td>\n                        <td id=\"T_0b452c90_2c8f_11ea_8050_d8c4973e0814row4_col1\" class=\"data row4 col1\" >12.84%</td>\n                        <td id=\"T_0b452c90_2c8f_11ea_8050_d8c4973e0814row4_col2\" class=\"data row4 col2\" >66.37%</td>\n                        <td id=\"T_0b452c90_2c8f_11ea_8050_d8c4973e0814row4_col3\" class=\"data row4 col3\" >-40.54%</td>\n            </tr>\n    </tbody></table>"
     },
     "metadata": {},
     "output_type": "execute_result",
     "execution_count": 11
    }
   ],
   "source": [
    "# 按照百分数显示\n",
    "df = pd.DataFrame(np.random.randn(5,4),columns=['a','b','c','d'])\n",
    "print(df)\n",
    "print('--------------------------------')\n",
    "\n",
    "df.style.format('{:.2%}')"
   ],
   "metadata": {
    "collapsed": false,
    "pycharm": {
     "name": "#%%\n",
     "is_executing": false
    }
   }
  },
  {
   "cell_type": "code",
   "execution_count": 14,
   "outputs": [
    {
     "data": {
      "text/plain": "<pandas.io.formats.style.Styler at 0x17e20a0b128>",
      "text/html": "<style  type=\"text/css\" >\n</style><table id=\"T_20fa2fda_2c8f_11ea_b53f_d8c4973e0814\" ><thead>    <tr>        <th class=\"blank level0\" ></th>        <th class=\"col_heading level0 col0\" >a</th>        <th class=\"col_heading level0 col1\" >b</th>        <th class=\"col_heading level0 col2\" >c</th>        <th class=\"col_heading level0 col3\" >d</th>    </tr></thead><tbody>\n                <tr>\n                        <th id=\"T_20fa2fda_2c8f_11ea_b53f_d8c4973e0814level0_row0\" class=\"row_heading level0 row0\" >0</th>\n                        <td id=\"T_20fa2fda_2c8f_11ea_b53f_d8c4973e0814row0_col0\" class=\"data row0 col0\" >-0.4106</td>\n                        <td id=\"T_20fa2fda_2c8f_11ea_b53f_d8c4973e0814row0_col1\" class=\"data row0 col1\" >-0.8837</td>\n                        <td id=\"T_20fa2fda_2c8f_11ea_b53f_d8c4973e0814row0_col2\" class=\"data row0 col2\" >0.6089</td>\n                        <td id=\"T_20fa2fda_2c8f_11ea_b53f_d8c4973e0814row0_col3\" class=\"data row0 col3\" >-0.3051</td>\n            </tr>\n            <tr>\n                        <th id=\"T_20fa2fda_2c8f_11ea_b53f_d8c4973e0814level0_row1\" class=\"row_heading level0 row1\" >1</th>\n                        <td id=\"T_20fa2fda_2c8f_11ea_b53f_d8c4973e0814row1_col0\" class=\"data row1 col0\" >-1.3295</td>\n                        <td id=\"T_20fa2fda_2c8f_11ea_b53f_d8c4973e0814row1_col1\" class=\"data row1 col1\" >-0.0433</td>\n                        <td id=\"T_20fa2fda_2c8f_11ea_b53f_d8c4973e0814row1_col2\" class=\"data row1 col2\" >0.5065</td>\n                        <td id=\"T_20fa2fda_2c8f_11ea_b53f_d8c4973e0814row1_col3\" class=\"data row1 col3\" >0.2170</td>\n            </tr>\n            <tr>\n                        <th id=\"T_20fa2fda_2c8f_11ea_b53f_d8c4973e0814level0_row2\" class=\"row_heading level0 row2\" >2</th>\n                        <td id=\"T_20fa2fda_2c8f_11ea_b53f_d8c4973e0814row2_col0\" class=\"data row2 col0\" >-0.3350</td>\n                        <td id=\"T_20fa2fda_2c8f_11ea_b53f_d8c4973e0814row2_col1\" class=\"data row2 col1\" >0.1620</td>\n                        <td id=\"T_20fa2fda_2c8f_11ea_b53f_d8c4973e0814row2_col2\" class=\"data row2 col2\" >-0.9699</td>\n                        <td id=\"T_20fa2fda_2c8f_11ea_b53f_d8c4973e0814row2_col3\" class=\"data row2 col3\" >1.3830</td>\n            </tr>\n            <tr>\n                        <th id=\"T_20fa2fda_2c8f_11ea_b53f_d8c4973e0814level0_row3\" class=\"row_heading level0 row3\" >3</th>\n                        <td id=\"T_20fa2fda_2c8f_11ea_b53f_d8c4973e0814row3_col0\" class=\"data row3 col0\" >-2.1496</td>\n                        <td id=\"T_20fa2fda_2c8f_11ea_b53f_d8c4973e0814row3_col1\" class=\"data row3 col1\" >-1.0782</td>\n                        <td id=\"T_20fa2fda_2c8f_11ea_b53f_d8c4973e0814row3_col2\" class=\"data row3 col2\" >-0.4398</td>\n                        <td id=\"T_20fa2fda_2c8f_11ea_b53f_d8c4973e0814row3_col3\" class=\"data row3 col3\" >0.3645</td>\n            </tr>\n            <tr>\n                        <th id=\"T_20fa2fda_2c8f_11ea_b53f_d8c4973e0814level0_row4\" class=\"row_heading level0 row4\" >4</th>\n                        <td id=\"T_20fa2fda_2c8f_11ea_b53f_d8c4973e0814row4_col0\" class=\"data row4 col0\" >-1.9003</td>\n                        <td id=\"T_20fa2fda_2c8f_11ea_b53f_d8c4973e0814row4_col1\" class=\"data row4 col1\" >0.1284</td>\n                        <td id=\"T_20fa2fda_2c8f_11ea_b53f_d8c4973e0814row4_col2\" class=\"data row4 col2\" >0.6637</td>\n                        <td id=\"T_20fa2fda_2c8f_11ea_b53f_d8c4973e0814row4_col3\" class=\"data row4 col3\" >-0.4054</td>\n            </tr>\n    </tbody></table>"
     },
     "metadata": {},
     "output_type": "execute_result",
     "execution_count": 14
    }
   ],
   "source": [
    "# 显示小数点数\n",
    "df.style.format('{:.4f}')  # 保留4位小数"
   ],
   "metadata": {
    "collapsed": false,
    "pycharm": {
     "name": "#%%\n",
     "is_executing": false
    }
   }
  },
  {
   "cell_type": "code",
   "execution_count": 17,
   "outputs": [
    {
     "data": {
      "text/plain": "<pandas.io.formats.style.Styler at 0x17e1da25ac8>",
      "text/html": "<style  type=\"text/css\" >\n</style><table id=\"T_3a1853c8_2c8f_11ea_972f_d8c4973e0814\" ><thead>    <tr>        <th class=\"blank level0\" ></th>        <th class=\"col_heading level0 col0\" >a</th>        <th class=\"col_heading level0 col1\" >b</th>        <th class=\"col_heading level0 col2\" >c</th>        <th class=\"col_heading level0 col3\" >d</th>    </tr></thead><tbody>\n                <tr>\n                        <th id=\"T_3a1853c8_2c8f_11ea_972f_d8c4973e0814level0_row0\" class=\"row_heading level0 row0\" >0</th>\n                        <td id=\"T_3a1853c8_2c8f_11ea_972f_d8c4973e0814row0_col0\" class=\"data row0 col0\" >-0.41</td>\n                        <td id=\"T_3a1853c8_2c8f_11ea_972f_d8c4973e0814row0_col1\" class=\"data row0 col1\" >-0.88</td>\n                        <td id=\"T_3a1853c8_2c8f_11ea_972f_d8c4973e0814row0_col2\" class=\"data row0 col2\" >+0.61</td>\n                        <td id=\"T_3a1853c8_2c8f_11ea_972f_d8c4973e0814row0_col3\" class=\"data row0 col3\" >-0.31</td>\n            </tr>\n            <tr>\n                        <th id=\"T_3a1853c8_2c8f_11ea_972f_d8c4973e0814level0_row1\" class=\"row_heading level0 row1\" >1</th>\n                        <td id=\"T_3a1853c8_2c8f_11ea_972f_d8c4973e0814row1_col0\" class=\"data row1 col0\" >-1.33</td>\n                        <td id=\"T_3a1853c8_2c8f_11ea_972f_d8c4973e0814row1_col1\" class=\"data row1 col1\" >-0.04</td>\n                        <td id=\"T_3a1853c8_2c8f_11ea_972f_d8c4973e0814row1_col2\" class=\"data row1 col2\" >+0.51</td>\n                        <td id=\"T_3a1853c8_2c8f_11ea_972f_d8c4973e0814row1_col3\" class=\"data row1 col3\" >+0.22</td>\n            </tr>\n            <tr>\n                        <th id=\"T_3a1853c8_2c8f_11ea_972f_d8c4973e0814level0_row2\" class=\"row_heading level0 row2\" >2</th>\n                        <td id=\"T_3a1853c8_2c8f_11ea_972f_d8c4973e0814row2_col0\" class=\"data row2 col0\" >-0.33</td>\n                        <td id=\"T_3a1853c8_2c8f_11ea_972f_d8c4973e0814row2_col1\" class=\"data row2 col1\" >+0.16</td>\n                        <td id=\"T_3a1853c8_2c8f_11ea_972f_d8c4973e0814row2_col2\" class=\"data row2 col2\" >-0.97</td>\n                        <td id=\"T_3a1853c8_2c8f_11ea_972f_d8c4973e0814row2_col3\" class=\"data row2 col3\" >+1.38</td>\n            </tr>\n            <tr>\n                        <th id=\"T_3a1853c8_2c8f_11ea_972f_d8c4973e0814level0_row3\" class=\"row_heading level0 row3\" >3</th>\n                        <td id=\"T_3a1853c8_2c8f_11ea_972f_d8c4973e0814row3_col0\" class=\"data row3 col0\" >-2.15</td>\n                        <td id=\"T_3a1853c8_2c8f_11ea_972f_d8c4973e0814row3_col1\" class=\"data row3 col1\" >-1.08</td>\n                        <td id=\"T_3a1853c8_2c8f_11ea_972f_d8c4973e0814row3_col2\" class=\"data row3 col2\" >-0.44</td>\n                        <td id=\"T_3a1853c8_2c8f_11ea_972f_d8c4973e0814row3_col3\" class=\"data row3 col3\" >+0.36</td>\n            </tr>\n            <tr>\n                        <th id=\"T_3a1853c8_2c8f_11ea_972f_d8c4973e0814level0_row4\" class=\"row_heading level0 row4\" >4</th>\n                        <td id=\"T_3a1853c8_2c8f_11ea_972f_d8c4973e0814row4_col0\" class=\"data row4 col0\" >-1.90</td>\n                        <td id=\"T_3a1853c8_2c8f_11ea_972f_d8c4973e0814row4_col1\" class=\"data row4 col1\" >+0.13</td>\n                        <td id=\"T_3a1853c8_2c8f_11ea_972f_d8c4973e0814row4_col2\" class=\"data row4 col2\" >+0.66</td>\n                        <td id=\"T_3a1853c8_2c8f_11ea_972f_d8c4973e0814row4_col3\" class=\"data row4 col3\" >-0.41</td>\n            </tr>\n    </tbody></table>"
     },
     "metadata": {},
     "output_type": "execute_result",
     "execution_count": 17
    }
   ],
   "source": [
    "# 显示正负数\n",
    "df.style.format('{:+.2f}')"
   ],
   "metadata": {
    "collapsed": false,
    "pycharm": {
     "name": "#%%\n",
     "is_executing": false
    }
   }
  },
  {
   "cell_type": "code",
   "execution_count": 18,
   "outputs": [
    {
     "data": {
      "text/plain": "<pandas.io.formats.style.Styler at 0x17e20274278>",
      "text/html": "<style  type=\"text/css\" >\n</style><table id=\"T_9e80ca6e_2c8f_11ea_a86e_d8c4973e0814\" ><thead>    <tr>        <th class=\"blank level0\" ></th>        <th class=\"col_heading level0 col0\" >a</th>        <th class=\"col_heading level0 col1\" >b</th>        <th class=\"col_heading level0 col2\" >c</th>        <th class=\"col_heading level0 col3\" >d</th>    </tr></thead><tbody>\n                <tr>\n                        <th id=\"T_9e80ca6e_2c8f_11ea_a86e_d8c4973e0814level0_row0\" class=\"row_heading level0 row0\" >0</th>\n                        <td id=\"T_9e80ca6e_2c8f_11ea_a86e_d8c4973e0814row0_col0\" class=\"data row0 col0\" >-0.41055</td>\n                        <td id=\"T_9e80ca6e_2c8f_11ea_a86e_d8c4973e0814row0_col1\" class=\"data row0 col1\" >-88.37%</td>\n                        <td id=\"T_9e80ca6e_2c8f_11ea_a86e_d8c4973e0814row0_col2\" class=\"data row0 col2\" >0.6089</td>\n                        <td id=\"T_9e80ca6e_2c8f_11ea_a86e_d8c4973e0814row0_col3\" class=\"data row0 col3\" >-0.31</td>\n            </tr>\n            <tr>\n                        <th id=\"T_9e80ca6e_2c8f_11ea_a86e_d8c4973e0814level0_row1\" class=\"row_heading level0 row1\" >1</th>\n                        <td id=\"T_9e80ca6e_2c8f_11ea_a86e_d8c4973e0814row1_col0\" class=\"data row1 col0\" >-1.3295</td>\n                        <td id=\"T_9e80ca6e_2c8f_11ea_a86e_d8c4973e0814row1_col1\" class=\"data row1 col1\" >-4.33%</td>\n                        <td id=\"T_9e80ca6e_2c8f_11ea_a86e_d8c4973e0814row1_col2\" class=\"data row1 col2\" >0.5065</td>\n                        <td id=\"T_9e80ca6e_2c8f_11ea_a86e_d8c4973e0814row1_col3\" class=\"data row1 col3\" >+0.22</td>\n            </tr>\n            <tr>\n                        <th id=\"T_9e80ca6e_2c8f_11ea_a86e_d8c4973e0814level0_row2\" class=\"row_heading level0 row2\" >2</th>\n                        <td id=\"T_9e80ca6e_2c8f_11ea_a86e_d8c4973e0814row2_col0\" class=\"data row2 col0\" >-0.334974</td>\n                        <td id=\"T_9e80ca6e_2c8f_11ea_a86e_d8c4973e0814row2_col1\" class=\"data row2 col1\" >16.20%</td>\n                        <td id=\"T_9e80ca6e_2c8f_11ea_a86e_d8c4973e0814row2_col2\" class=\"data row2 col2\" >-0.9699</td>\n                        <td id=\"T_9e80ca6e_2c8f_11ea_a86e_d8c4973e0814row2_col3\" class=\"data row2 col3\" >+1.38</td>\n            </tr>\n            <tr>\n                        <th id=\"T_9e80ca6e_2c8f_11ea_a86e_d8c4973e0814level0_row3\" class=\"row_heading level0 row3\" >3</th>\n                        <td id=\"T_9e80ca6e_2c8f_11ea_a86e_d8c4973e0814row3_col0\" class=\"data row3 col0\" >-2.14961</td>\n                        <td id=\"T_9e80ca6e_2c8f_11ea_a86e_d8c4973e0814row3_col1\" class=\"data row3 col1\" >-107.82%</td>\n                        <td id=\"T_9e80ca6e_2c8f_11ea_a86e_d8c4973e0814row3_col2\" class=\"data row3 col2\" >-0.4398</td>\n                        <td id=\"T_9e80ca6e_2c8f_11ea_a86e_d8c4973e0814row3_col3\" class=\"data row3 col3\" >+0.36</td>\n            </tr>\n            <tr>\n                        <th id=\"T_9e80ca6e_2c8f_11ea_a86e_d8c4973e0814level0_row4\" class=\"row_heading level0 row4\" >4</th>\n                        <td id=\"T_9e80ca6e_2c8f_11ea_a86e_d8c4973e0814row4_col0\" class=\"data row4 col0\" >-1.90028</td>\n                        <td id=\"T_9e80ca6e_2c8f_11ea_a86e_d8c4973e0814row4_col1\" class=\"data row4 col1\" >12.84%</td>\n                        <td id=\"T_9e80ca6e_2c8f_11ea_a86e_d8c4973e0814row4_col2\" class=\"data row4 col2\" >0.6637</td>\n                        <td id=\"T_9e80ca6e_2c8f_11ea_a86e_d8c4973e0814row4_col3\" class=\"data row4 col3\" >-0.41</td>\n            </tr>\n    </tbody></table>"
     },
     "metadata": {},
     "output_type": "execute_result",
     "execution_count": 18
    }
   ],
   "source": [
    "# 分列显示,多种显示方式组合,类似字典拼接显示格式数据\n",
    "df.style.format({'b':'{:.2%}','c':'{:.4f}','d':'{:+.2f}'})"
   ],
   "metadata": {
    "collapsed": false,
    "pycharm": {
     "name": "#%%\n",
     "is_executing": false
    }
   }
  }
 ],
 "metadata": {
  "kernelspec": {
   "display_name": "Python 3",
   "language": "python",
   "name": "python3"
  },
  "language_info": {
   "codemirror_mode": {
    "name": "ipython",
    "version": 2
   },
   "file_extension": ".py",
   "mimetype": "text/x-python",
   "name": "python",
   "nbconvert_exporter": "python",
   "pygments_lexer": "ipython2",
   "version": "2.7.6"
  },
  "pycharm": {
   "stem_cell": {
    "cell_type": "raw",
    "source": [],
    "metadata": {
     "collapsed": false
    }
   }
  }
 },
 "nbformat": 4,
 "nbformat_minor": 0
}