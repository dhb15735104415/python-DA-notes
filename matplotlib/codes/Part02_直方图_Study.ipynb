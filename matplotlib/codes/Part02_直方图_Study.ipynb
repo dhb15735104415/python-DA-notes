{
 "cells": [
  {
   "cell_type": "code",
   "execution_count": 1,
   "metadata": {
    "collapsed": true,
    "pycharm": {
     "is_executing": false
    }
   },
   "outputs": [
    {
     "data": {
      "text/plain": "\"\\n    直方图\\n    直方图(Histogram)，又称质量分布图，是一种统计报告图，由一系列高度不等的纵向条纹或线段表示数据分布的情况。 \\n    一般用横轴表示数据类型，纵轴表示分布情况。\\n    直方图是数值数据分布的精确图形表示\\n    \\n    plt.hist(x, bins=10, range=None, normed=False, weights=None, cumulative=False, bottom=None, \\n            histtype='bar', align='mid', orientation='vertical',rwidth=None, log=False, color=None, label=None, \\n            stacked=False, hold=None, data=None, **kwargs)\\n \\n    \\n\""
     },
     "metadata": {},
     "output_type": "execute_result",
     "execution_count": 1
    }
   ],
   "source": [
    "'''\n",
    "    直方图\n",
    "    直方图(Histogram)，又称质量分布图，是一种统计报告图，由一系列高度不等的纵向条纹或线段表示数据分布的情况。 \n",
    "    一般用横轴表示数据类型，纵轴表示分布情况。\n",
    "    直方图是数值数据分布的精确图形表示\n",
    "    \n",
    "    plt.hist(x, bins=10, range=None, normed=False, weights=None, cumulative=False, bottom=None, \n",
    "            histtype='bar', align='mid', orientation='vertical',rwidth=None, log=False, color=None, label=None, \n",
    "            stacked=False, hold=None, data=None, **kwargs)\n",
    "'''"
   ]
  },
  {
   "cell_type": "code",
   "execution_count": 2,
   "outputs": [
    {
     "name": "stderr",
     "text": [
      "f:\\language\\python\\lib\\importlib\\_bootstrap.py:219: RuntimeWarning: numpy.ufunc size changed, may indicate binary incompatibility. Expected 192 from C header, got 216 from PyObject\n",
      "  return f(*args, **kwds)\n"
     ],
     "output_type": "stream"
    }
   ],
   "source": [
    "import numpy as np\n",
    "import pandas as pd\n",
    "import matplotlib.pyplot as plt\n"
   ],
   "metadata": {
    "collapsed": false,
    "pycharm": {
     "name": "#%%\n",
     "is_executing": false
    }
   }
  },
  {
   "cell_type": "code",
   "execution_count": 25,
   "outputs": [
    {
     "data": {
      "text/plain": "<Figure size 432x288 with 1 Axes>",
      "image/png": "[encoded data removed]"
     },
     "metadata": {
      "needs_background": "light"
     },
     "output_type": "display_data"
    }
   ],
   "source": [
    "# 直方图+密度图\n",
    "s = pd.Series(np.random.randn(1000))\n",
    "s.hist(bins=15,\n",
    "       # normed=True,\n",
    "       histtype='bar',\n",
    "       orientation='vertical',\n",
    "       alpha=0.8,\n",
    "       align='mid')\n",
    "\n",
    "# bins: 要使用的直方图箱数。如果给定整数，则将计算bins + 1 bins边缘并返回。\n",
    "#       如果bin是序列，则给出bin边缘，包括第一个bin的左边缘和最后一个bin的右边缘。\n",
    "#       在这种情况下，bin将被原封不动地返回。\n",
    "# normed: 标准化(该参数将不再使用) The 'normed' kwarg was deprecated in Matplotlib 2.1 and will be removed in 3.1. \n",
    "# histtype: 风格，bar，barstacked，step，stepfilled\n",
    "# orientation: 水平还是垂直{‘horizontal’, ‘vertical’},默认垂直,vertical\n",
    "# align: {‘left’, ‘mid’, ‘right’}, optional(对齐方式)\n",
    "\n",
    "plt.show()"
   ],
   "metadata": {
    "collapsed": false,
    "pycharm": {
     "name": "#%%\n",
     "is_executing": false
    }
   }
  },
  {
   "cell_type": "code",
   "execution_count": 30,
   "outputs": [
    {
     "data": {
      "text/plain": "<Figure size 432x288 with 0 Axes>"
     },
     "metadata": {},
     "output_type": "display_data"
    },
    {
     "data": {
      "text/plain": "<Figure size 432x288 with 1 Axes>",
      "image/png": "[encoded data removed]"
     },
     "metadata": {
      "needs_background": "light"
     },
     "output_type": "display_data"
    },
    {
     "data": {
      "text/plain": "<Figure size 432x288 with 4 Axes>",
      "image/png": "[encoded data removed]"
     },
     "metadata": {
      "needs_background": "light"
     },
     "output_type": "display_data"
    }
   ],
   "source": [
    "plt.figure(num=1)\n",
    "df = pd.DataFrame({'a': np.random.randn(1000) + 1, \n",
    "                   'b': np.random.randn(1000),\n",
    "                   'c': np.random.randn(1000) - 1,\n",
    "                   'd': np.random.randn(1000) - 2},\n",
    "                   columns=['a', 'b', 'c','d'])\n",
    "df.plot.hist(bins=15,\n",
    "             colormap='Greens_r',\n",
    "             alpha=0.7,\n",
    "             grid=True,\n",
    "             stacked=True)\n",
    "\n",
    "# 使用DataFrame.plot.hist()和Series.plot.hist()方法绘制\n",
    "# stacked：是否堆叠\n",
    "\n",
    "df.hist(bins=30)  \n",
    "# 此函数在DataFrame中的每个序列上调用：meth：`matplotlib.pyplot.hist`，从而导致每列一个直方图。\n",
    "\n",
    "plt.show()"
   ],
   "metadata": {
    "collapsed": false,
    "pycharm": {
     "name": "#%%\n",
     "is_executing": false
    }
   }
  }
 ],
 "metadata": {
  "kernelspec": {
   "display_name": "Python 3",
   "language": "python",
   "name": "python3"
  },
  "language_info": {
   "codemirror_mode": {
    "name": "ipython",
    "version": 2
   },
   "file_extension": ".py",
   "mimetype": "text/x-python",
   "name": "python",
   "nbconvert_exporter": "python",
   "pygments_lexer": "ipython2",
   "version": "2.7.6"
  },
  "pycharm": {
   "stem_cell": {
    "cell_type": "raw",
    "source": [],
    "metadata": {
     "collapsed": false
    }
   }
  }
 },
 "nbformat": 4,
 "nbformat_minor": 0
}