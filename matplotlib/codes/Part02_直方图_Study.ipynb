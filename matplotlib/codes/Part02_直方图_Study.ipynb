{
 "cells": [
  {
   "cell_type": "code",
   "execution_count": 1,
   "metadata": {
    "collapsed": true,
    "pycharm": {
     "is_executing": false
    }
   },
   "outputs": [
    {
     "data": {
      "text/plain": "\"\\n    直方图\\n    直方图(Histogram)，又称质量分布图，是一种统计报告图，由一系列高度不等的纵向条纹或线段表示数据分布的情况。 \\n    一般用横轴表示数据类型，纵轴表示分布情况。\\n    直方图是数值数据分布的精确图形表示\\n    \\n    plt.hist(x, bins=10, range=None, normed=False, weights=None, cumulative=False, bottom=None, \\n            histtype='bar', align='mid', orientation='vertical',rwidth=None, log=False, color=None, label=None, \\n            stacked=False, hold=None, data=None, **kwargs)\\n \\n    \\n\""
     },
     "metadata": {},
     "output_type": "execute_result",
     "execution_count": 1
    }
   ],
   "source": [
    "'''\n",
    "    直方图\n",
    "    直方图(Histogram)，又称质量分布图，是一种统计报告图，由一系列高度不等的纵向条纹或线段表示数据分布的情况。 \n",
    "    一般用横轴表示数据类型，纵轴表示分布情况。\n",
    "    直方图是数值数据分布的精确图形表示\n",
    "    \n",
    "    plt.hist(x, bins=10, range=None, normed=False, weights=None, cumulative=False, bottom=None, \n",
    "            histtype='bar', align='mid', orientation='vertical',rwidth=None, log=False, color=None, label=None, \n",
    "            stacked=False, hold=None, data=None, **kwargs)\n",
    "'''"
   ]
  },
  {
   "cell_type": "code",
   "execution_count": 2,
   "outputs": [
    {
     "name": "stderr",
     "text": [
      "f:\\language\\python\\lib\\importlib\\_bootstrap.py:219: RuntimeWarning: numpy.ufunc size changed, may indicate binary incompatibility. Expected 192 from C header, got 216 from PyObject\n",
      "  return f(*args, **kwds)\n"
     ],
     "output_type": "stream"
    }
   ],
   "source": [
    "import numpy as np\n",
    "import pandas as pd\n",
    "import matplotlib.pyplot as plt\n"
   ],
   "metadata": {
    "collapsed": false,
    "pycharm": {
     "name": "#%%\n",
     "is_executing": false
    }
   }
  },
  {
   "cell_type": "code",
   "execution_count": 25,
   "outputs": [
    {
     "data": {
      "text/plain": "<Figure size 432x288 with 1 Axes>",
      "image/png": "[encoded data removed]"
     },
     "metadata": {
      "needs_background": "light"
     },
     "output_type": "display_data"
    }
   ],
   "source": [
    "# 直方图\n",
    "s = pd.Series(np.random.randn(1000))\n",
    "s.hist(bins=15,\n",
    "       # normed=True,\n",
    "       histtype='bar',\n",
    "       orientation='vertical',\n",
    "       alpha=0.8,\n",
    "       align='mid')\n",
    "\n",
    "# bins: 要使用的直方图箱数。如果给定整数，则将计算bins + 1 bins边缘并返回。\n",
    "#       如果bin是序列，则给出bin边缘，包括第一个bin的左边缘和最后一个bin的右边缘。\n",
    "#       在这种情况下，bin将被原封不动地返回。\n",
    "# normed: 标准化(该参数将不再使用) The 'normed' kwarg was deprecated in Matplotlib 2.1 and will be removed in 3.1. \n",
    "# histtype: 风格，bar，barstacked，step，stepfilled\n",
    "# orientation: 水平还是垂直{‘horizontal’, ‘vertical’},默认垂直,vertical\n",
    "# align: {‘left’, ‘mid’, ‘right’}, optional(对齐方式)\n",
    "\n",
    "plt.show()"
   ],
   "metadata": {
    "collapsed": false,
    "pycharm": {
     "name": "#%%\n",
     "is_executing": false
    }
   }
  },
  {
   "cell_type": "code",
   "execution_count": 38,
   "outputs": [
    {
     "data": {
      "text/plain": "<Figure size 432x288 with 0 Axes>"
     },
     "metadata": {},
     "output_type": "display_data"
    },
    {
     "data": {
      "text/plain": "<Figure size 432x288 with 1 Axes>",
      "image/png": "[encoded data removed]"
     },
     "metadata": {
      "needs_background": "light"
     },
     "output_type": "display_data"
    },
    {
     "data": {
      "text/plain": "<Figure size 432x288 with 4 Axes>",
      "image/png": "[encoded data removed]"
     },
     "metadata": {
      "needs_background": "light"
     },
     "output_type": "display_data"
    }
   ],
   "source": [
    "plt.figure(num=1)\n",
    "df = pd.DataFrame({'a': np.random.randn(1000) + 1, \n",
    "                   'b': np.random.randn(1000),\n",
    "                   'c': np.random.randn(1000) - 1,\n",
    "                   'd': np.random.randn(1000) - 2},\n",
    "                   columns=['a', 'b', 'c','d'])\n",
    "df.plot.hist(bins=15,\n",
    "             colormap='Greens_r',\n",
    "             alpha=0.7,\n",
    "             grid=True,\n",
    "             stacked=True)\n",
    "# 使用DataFrame.plot.hist()和Series.plot.hist()方法绘制\n",
    "# stacked：是否堆叠\n",
    "\n",
    "df.hist(bins=30)  \n",
    "# 此函数在DataFrame中的每个序列上调用：meth：`matplotlib.pyplot.hist`，从而导致每列一个直方图。\n",
    "\n",
    "plt.show()"
   ],
   "metadata": {
    "collapsed": false,
    "pycharm": {
     "name": "#%%\n",
     "is_executing": false
    }
   }
  },
  {
   "cell_type": "code",
   "execution_count": 63,
   "outputs": [
    {
     "data": {
      "text/plain": "<Figure size 432x288 with 1 Axes>",
      "image/png": "[encoded data removed]"
     },
     "metadata": {
      "needs_background": "light"
     },
     "output_type": "display_data"
    }
   ],
   "source": [
    "# plt.hist()\n",
    "\n",
    "data = np.random.normal(0,20,1000)  # 从正态（高斯）分布中抽取随机样本。\n",
    "bins = np.arange(-100,100,5)\n",
    "\n",
    "# 绘制直方图\n",
    "plt.hist(data,bins=bins)\n",
    "plt.xlim([min(data)-5,max(data)+5])  # 设置x轴边界\n",
    "\n",
    "plt.show()\n"
   ],
   "metadata": {
    "collapsed": false,
    "pycharm": {
     "name": "#%%\n",
     "is_executing": false
    }
   }
  },
  {
   "cell_type": "code",
   "execution_count": null,
   "outputs": [],
   "source": [
    "'''\n",
    "    正太分布源码:\n",
    "    def normal(loc=0.0, scale=1.0, size=None): # real signature unknown; restored from __doc__\n",
    "           Parameters\n",
    "            ----------\n",
    "            loc : float or array_like of floats\n",
    "                Mean (\"centre\") of the distribution.\n",
    "                分布的平均值（“中心”）。\n",
    "            scale : float or array_like of floats\n",
    "                Standard deviation (spread or \"width\") of the distribution.\n",
    "                分布的标准偏差（展开或“宽度”）\n",
    "            size : int or tuple of ints, optional\n",
    "                Output shape.  If the given shape is, e.g., ``(m, n, k)``, then\n",
    "                ``m * n * k`` samples are drawn.  If size is ``None`` (default),\n",
    "                a single value is returned if ``loc`` and ``scale`` are both scalars.\n",
    "                Otherwise, ``np.broadcast(loc, scale).size`` samples are drawn.\n",
    "                输出形状。如果给定的形状是例如（m，n，k），则绘制m * n * k个样本。\n",
    "                如果size为``None''（默认），则如果``loc''和``scale''均为标量，则返回单个值。\n",
    "                否则，将绘制“ np.broadcast（loc，scale）.size”样本\n",
    "            Returns\n",
    "            -------\n",
    "            out : ndarray or scalar\n",
    "                Drawn samples from the parameterized normal distribution.\n",
    "                从参数化正态分布中抽取样本。\n",
    "'''"
   ],
   "metadata": {
    "collapsed": false,
    "pycharm": {
     "name": "#%%\n"
    }
   }
  },
  {
   "cell_type": "code",
   "execution_count": 64,
   "outputs": [
    {
     "data": {
      "text/plain": "<Figure size 432x288 with 1 Axes>",
      "image/png": "[encoded data removed]"
     },
     "metadata": {
      "needs_background": "light"
     },
     "output_type": "display_data"
    }
   ],
   "source": [
    "# 多组数据直方图\n",
    "import random\n",
    "\n",
    "data1 = [random.gauss(15,10) for i in range(500)]\n",
    "data2 = [random.gauss(5,5) for i in range(500)]\n",
    "bins = np.arange(-50,50,2.5)\n",
    "\n",
    "\n",
    "plt.hist(data1,bins=bins,alpha=0.4,label='data1',color='green')\n",
    "plt.hist(data2,bins=bins,alpha=0.6,label='data2',color='red')\n",
    "\n",
    "plt.show()"
   ],
   "metadata": {
    "collapsed": false,
    "pycharm": {
     "name": "#%%\n",
     "is_executing": false
    }
   }
  },
  {
   "cell_type": "code",
   "execution_count": 65,
   "outputs": [
    {
     "data": {
      "text/plain": "'\\n    random模块,高斯分布函数源码:\\n    def gauss(self, mu, sigma):\\n    \"\"\"Gaussian distribution.\\n        \\n    mu is the mean, and sigma is the standard deviation.  This is\\n    slightly faster than the normalvariate() function.\\n    mu是平均值，而sigma是标准偏差。这比normalvariate（）函数要快一点。\\n    \\n    Not thread-safe without a lock around calls.\\n    如果没有锁定调用，则不是线程安全的。\\n    \\n'"
     },
     "metadata": {},
     "output_type": "execute_result",
     "execution_count": 65
    }
   ],
   "source": [
    "'''\n",
    "    random模块,高斯分布函数源码:\n",
    "    def gauss(self, mu, sigma):\n",
    "    \"\"\"Gaussian distribution.\n",
    "        \n",
    "    mu is the mean, and sigma is the standard deviation.  This is\n",
    "    slightly faster than the normalvariate() function.\n",
    "    mu是平均值，而sigma是标准偏差。这比normalvariate（）函数要快一点。\n",
    "    \n",
    "    Not thread-safe without a lock around calls.\n",
    "    如果没有锁定调用，则不是线程安全的。\n",
    "    \n",
    "'''\n",
    "\n"
   ],
   "metadata": {
    "collapsed": false,
    "pycharm": {
     "name": "#%%\n",
     "is_executing": false
    }
   }
  }
 ],
 "metadata": {
  "kernelspec": {
   "display_name": "Python 3",
   "language": "python",
   "name": "python3"
  },
  "language_info": {
   "codemirror_mode": {
    "name": "ipython",
    "version": 2
   },
   "file_extension": ".py",
   "mimetype": "text/x-python",
   "name": "python",
   "nbconvert_exporter": "python",
   "pygments_lexer": "ipython2",
   "version": "2.7.6"
  },
  "pycharm": {
   "stem_cell": {
    "cell_type": "raw",
    "source": [],
    "metadata": {
     "collapsed": false
    }
   }
  }
 },
 "nbformat": 4,
 "nbformat_minor": 0
}