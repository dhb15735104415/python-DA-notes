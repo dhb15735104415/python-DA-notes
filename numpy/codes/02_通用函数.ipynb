{
 "cells": [
  {
   "cell_type": "code",
   "execution_count": 2,
   "metadata": {
    "pycharm": {
     "is_executing": false,
     "name": "#%%\n"
    }
   },
   "outputs": [
    {
     "data": {
      "text/plain": [
       "'\\n     Numpy通用函数\\n\\n    基本操作\\n'"
      ]
     },
     "execution_count": 2,
     "metadata": {},
     "output_type": "execute_result"
    }
   ],
   "source": [
    "'''\n",
    "     Numpy通用函数\n",
    "\n",
    "    基本操作\n",
    "'''"
   ]
  },
  {
   "cell_type": "code",
   "execution_count": 3,
   "metadata": {
    "pycharm": {
     "is_executing": false,
     "name": "#%%\n"
    }
   },
   "outputs": [
    {
     "name": "stdout",
     "text": [
      "[0 1 2 3 4 5 6 7 8 9] (10,)\n",
      "转置T后: [0 1 2 3 4 5 6 7 8 9]\n",
      "二维数组转置后:\n",
      "[[4]\n",
      " [5]]\n",
      "ar2_reshape  reshape()后: [[0 1 2 3 4]\n",
      " [5 6 7 8 9]]\n",
      "ar3_reshape  reshape()后: [[0 1 2 3 4]\n",
      " [5 6 7 8 9]]\n",
      "ar4_reshape  reshape()后: [[0. 0. 0. 0. 0. 0. 0. 0.]\n",
      " [0. 0. 0. 0. 0. 0. 0. 0.]\n",
      " [0. 0. 0. 0. 0. 0. 0. 0.]]\n",
      "ar4_resize resize()后: [0 1 2 3 4 5 6 7 8 9 0 1]\n",
      "ar3_reshape resize()后: [0 1 2 3 4]\n",
      "[[0 1 2 3 4 5]\n",
      " [6 7 8 9 0 1]]\n",
      "None\n",
      "n被改变了: [0 1 2 3 4 5 6 7 8 9]\n",
      "p.resize()调用方式会改变原数组,改变后的p为: [[ 0  1  2  3  4]\n",
      " [ 5  6  7  8  9]\n",
      " [10 11  0  0  0]]\n"
     ],
     "output_type": "stream"
    }
   ],
   "source": [
    "import numpy as np\n",
    "# 数组形状：.T/.reshape()/.resize()\n",
    "ar1 = np.arange(10)\n",
    "print(ar1,ar1.shape)    \n",
    "print('转置T后:',ar1.T)\n",
    "\n",
    "ar2 = np.array([[4,5]])\n",
    "print('二维数组转置后:',ar2.T,sep='\\n')\n",
    "    \n",
    "# 必须保证元素总数一样\n",
    "ar2_reshape = ar1.reshape(2,5)  #   用法1：直接将已有数组改变形状\n",
    "ar3_reshape = np.reshape(ar1, (2,5))  # 用法2：参数内添加数组，目标形状\n",
    "ar4_reshape = np.zeros((4,6)).reshape(3,8)  # 用法3：生成数组后直接改变形状\n",
    "print('ar2_reshape  reshape()后:',ar2_reshape)\n",
    "print('ar3_reshape  reshape()后:',ar3_reshape)\n",
    "print('ar4_reshape  reshape()后:',ar4_reshape)\n",
    "                         \n",
    "ar1_resize = np.resize(ar1, 12)  # 不用保证元素总数一样 可以大于原来的\n",
    "ar2_resize = np.resize(ar3_reshape, 5)  # 不用保证元素总数一样 可以小于原来的\n",
    "print('ar4_resize resize()后:',ar1_resize)  # ar1_resize是新的数组\n",
    "print('ar3_reshape resize()后:',ar2_resize)  # ar2_resize是新的数组  \n",
    "\n",
    "n = np.arange(10)\n",
    "p = np.arange(12)\n",
    "print(np.resize(n, (2,6)))  # 输出结果正常  这种调用方式会生成一个新的数组\n",
    "print(p.resize((3,5)))  # 输出结果为None  这种调用方式会改变数组本身,不会生成新的数组 看源码即可\n",
    "print('n被改变了:', n)  # 结果显示n已经被改变了\n",
    "print('p.resize()调用方式会改变原数组,改变后的p为:',p)"
   ]
  },
  {
   "cell_type": "code",
   "execution_count": 223,
   "metadata": {
    "pycharm": {
     "is_executing": false
    }
   },
   "outputs": [
    {
     "name": "stdout",
     "text": [
      "[0 1 2 3 4 5 6 7 8 9]\n",
      "True\n",
      "等号赋值结果,ar1=[0 9 2 3 4 5 6 7 8 9],ar1_denghao=[0 9 2 3 4 5 6 7 8 9]\n",
      "------------------\n",
      "[0 1 2 3 4 5 6 7 8 9]\n",
      "False\n",
      "copy()复制结果,ar1=[0 9 2 3 4 5 6 7 8 9],ar1_copy=[0 1 2 3 4 5 6 7 8 9]\n"
     ],
     "output_type": "stream"
    }
   ],
   "source": [
    "# 数组的复制\n",
    "ar1_denghao =  ar1\n",
    "print(ar1_denghao)\n",
    "print( ar1_denghao is ar1)\n",
    "ar1[1] = 9\n",
    "print(f'等号赋值结果,ar1={ar1},ar1_denghao={ar1_denghao}')\n",
    "# 回忆python的赋值逻辑：指向内存中生成的一个值 → 这里ar1和ar1_denghao指向同一个值，所以ar1改变，ar1_denghao一起改变\n",
    "print('------------------')\n",
    "\n",
    "# .copy()则不同\n",
    "ar1 = np.arange(10)\n",
    "ar1_copy = ar1.copy()\n",
    "print(ar1_copy)\n",
    "print(ar1_copy is ar1)\n",
    "ar1[1] = 9\n",
    "print(f'copy()复制结果,ar1={ar1},ar1_copy={ar1_copy}')  # ar1_copy并未改变\n",
    "# copy方法生成数组及其数据的完整拷贝\n",
    "# 提醒：.T/.reshape()/.resize()都是生成新的数组！！！"
   ]
  },
  {
   "cell_type": "code",
   "execution_count": 44,
   "metadata": {
    "pycharm": {
     "is_executing": false,
     "name": "#%%\n"
    }
   },
   "outputs": [
    {
     "name": "stdout",
     "text": [
      "[0. 1. 2. 3. 4. 5. 6. 7. 8. 9.] float64\n",
      "[0 1 2 3 4 5 6 7 8 9] int64\n"
     ],
     "output_type": "stream"
    }
   ],
   "source": [
    "# 数组类型转换：.astype()\n",
    "ar1 = np.arange(10, dtype=float)\n",
    "ar2 = ar1.astype(np.int64)\n",
    "print(ar1,ar1.dtype)\n",
    "print(ar2,ar2.dtype)"
   ]
  },
  {
   "cell_type": "code",
   "execution_count": 238,
   "outputs": [
    {
     "name": "stdout",
     "text": [
      "[0 1 2 3 4]\n",
      "[5 6 7 8]\n",
      "[0 1 2 3 4 5 6 7 8]\n",
      "纵向连接: [[0 1 2 3 4]\n",
      " [0 1 2 3 4]]\n",
      "-------------\n",
      "[[1]\n",
      " [2]\n",
      " [3]]\n",
      "[['a']\n",
      " ['b']\n",
      " ['c']]\n",
      "[['1' 'a']\n",
      " ['2' 'b']\n",
      " ['3' 'c']]\n",
      "[['1']\n",
      " ['2']\n",
      " ['3']\n",
      " ['a']\n",
      " ['b']\n",
      " ['c']]\n",
      "[[1. 1.]\n",
      " [1. 1.]\n",
      " [1. 1.]]\n",
      "[[0. 0.]\n",
      " [0. 0.]]\n",
      "[[1. 1.]\n",
      " [1. 1.]\n",
      " [1. 1.]\n",
      " [0. 0.]\n",
      " [0. 0.]]\n"
     ],
     "output_type": "stream"
    },
    {
     "data": {
      "text/plain": "'\\nValueError: all the input array dimensions except for the concatenation axis must match exactly\\nValueError：除串联轴外的所有输入数组维必须完全匹配\\n'"
     },
     "metadata": {},
     "output_type": "execute_result",
     "execution_count": 238
    }
   ],
   "source": [
    "# 数组堆叠\n",
    "\n",
    "a = np.arange(5)\n",
    "b = np.arange(5,9)\n",
    "c = np.arange(5)\n",
    "print(a)\n",
    "print(b)\n",
    "print(np.hstack((a,b)))  # 横向连接 水平按列\n",
    "print('纵向连接:',np.vstack((a,c))) # 纵向连接 返回的数组至少是二维\n",
    "print('-------------')\n",
    "a = np.array([[1],[2],[3]])\n",
    "b = np.array([['a'],['b'],['c']])\n",
    "print(a)\n",
    "print(b)\n",
    "print(np.hstack((a,b)))  # 横向连接 变成3行2列的数组\n",
    "print(np.vstack((a,b)))  # 纵向连接 垂直按行 变成6行1列的数组, 但必须保证两个数组的秩一样\n",
    "\n",
    "c = np.array(np.ones((3,2)))\n",
    "d = np.array(np.zeros((2,2)))\n",
    "print(c)\n",
    "print(d)\n",
    "# print(np.hstack((c,d)))  # 横向连接 行数必须保持一致\n",
    "print(np.vstack((c,d)))  # 纵向连接 列数必须保持一致,否则会以下错误\n",
    "'''\n",
    "ValueError: all the input array dimensions except for the concatenation axis must match exactly\n",
    "ValueError：除串联轴外的所有输入数组维必须完全匹配\n",
    "'''"
   ],
   "metadata": {
    "collapsed": false,
    "pycharm": {
     "name": "#%%\n",
     "is_executing": false
    }
   }
  },
  {
   "cell_type": "code",
   "execution_count": 239,
   "outputs": [
    {
     "name": "stdout",
     "text": [
      "[[ 1  2  3  4  5  6  7  8]\n",
      " [ 9 10 11 12 13 14 15 16]]\n",
      "按索引拆,ar_hsp: [array([[ 1,  2],\n",
      "       [ 9, 10]]), array([[ 3,  4,  5],\n",
      "       [11, 12, 13]]), array([[ 6,  7,  8],\n",
      "       [14, 15, 16]]), array([], shape=(2, 0), dtype=int32)]\n",
      "按索引拆,len(): 4\n",
      "按节拆,type(): <class 'list'>\n",
      "按节拆,len(): 2\n",
      "按节拆,ar_hsp: [array([[ 1,  2,  3,  4],\n",
      "       [ 9, 10, 11, 12]]), array([[ 5,  6,  7,  8],\n",
      "       [13, 14, 15, 16]])]\n",
      "按节拆,ar_hsp[0]: [[ 1  2  3  4]\n",
      " [ 9 10 11 12]]\n",
      "------------------------------\n",
      "[[ 1  2  3  4  5  6  7  8]\n",
      " [ 9 10 11 12 13 14 15 16]]\n",
      "按索引拆,ar_vsp: [array([[ 1,  2,  3,  4,  5,  6,  7,  8],\n",
      "       [ 9, 10, 11, 12, 13, 14, 15, 16]]), array([], shape=(0, 8), dtype=int32), array([], shape=(0, 8), dtype=int32), array([], shape=(0, 8), dtype=int32)]\n",
      "按索引拆,len(): 4\n",
      "按节拆,type(): <class 'list'>\n",
      "按节拆,len(): 2\n",
      "按节拆,ar_vsp: [array([[1, 2, 3, 4, 5, 6, 7, 8]]), array([[ 9, 10, 11, 12, 13, 14, 15, 16]])]\n",
      "按节拆,ar_vsp[0]: [[1 2 3 4 5 6 7 8]]\n"
     ],
     "output_type": "stream"
    },
    {
     "data": {
      "text/plain": "'\\nvsplit等同于使用axis = 0的split（默认值），无论数组尺寸如何，数组始终沿第一个轴拆分\\n\\nar_vsp = np.vsplit(ar,5) # 报错\\n\\nnumpy.vsplit(ary, indices_or_sections)\\n注意点:\\n- 数组拆分必须是均分的,否则会报错\\n- 垂直（行）将数组拆分为多个子数组。\\n- vsplit等同于使用axis = 0的split（默认值）\\n- 无论数组尺寸如何，数组始终沿第一个轴拆分。\\n'"
     },
     "metadata": {},
     "output_type": "execute_result",
     "execution_count": 239
    }
   ],
   "source": [
    "# 数组拆分\n",
    "ar = np.arange(start=1,stop=17).reshape(2,8)  \n",
    "print(ar)\n",
    "ar_hsp = np.hsplit(ar, [2,5,8])  \n",
    "\"\"\"\n",
    "按索引[2,5,8]水平（按列）将数组拆分为多个子数组\n",
    "可以理解为在数组的索引处划一刀(如切3刀分4块),然后在'缺口'那儿向前取'分块',已经取走的就不包含,\n",
    "最后一个'缺口'需要特别注意:\n",
    "    如果小于索引最大值,则依然向前取'分块'\n",
    "    如果等于索引最大值,则取最大索引处的值\n",
    "    如果大于索引最大值,则依然向前取'分块',但同时会向后取一个空数组,\n",
    "    并且该数组的shape(n,0)和dtype会与前面的'分块'保持一致\n",
    "    如下面输出结果显示:array([], shape=(2, 0), dtype=int32)\n",
    "\"\"\"\n",
    "print('按索引拆,ar_hsp:', ar_hsp)\n",
    "print('按索引拆,len():',len(ar_hsp))\n",
    "ar_hsp = np.hsplit(ar, 2)  # 按节(8/2=4 ,每4个为一组)水平（按列））将数组拆分为多个子数组。\n",
    "print('按节拆,type():',type(ar_hsp))\n",
    "print('按节拆,len():',len(ar_hsp))\n",
    "print('按节拆,ar_hsp:',ar_hsp)\n",
    "print('按节拆,ar_hsp[0]:',ar_hsp[0])\n",
    "'''\n",
    "    hsplit等效于带有axis = 1的split，无论数组大小如何，数组总是沿第二个轴拆分。\n",
    "'''\n",
    "print('------------------------------')\n",
    "ar =np.arange(start=1,stop=17).reshape(2,8)\n",
    "print(ar)\n",
    "ar_vsp = np.vsplit(ar, [2,5,8])  \n",
    "\"\"\"\n",
    "按索引[2,5,8]垂直（行）将数组拆分为多个子数组。\n",
    "可以理解为在数组的索引处划一刀(如切3刀分4块),然后在'缺口'那儿向上取'分块',已经取走的就不包含,\n",
    "最后一个'缺口'需要特别注意:\n",
    "    如果小于索引最大值,则依然向上取'分块'\n",
    "    如果等于索引最大值,则取最大索引处的值\n",
    "    如果大于索引最大值,则依然向上取'分块',但同时会向下取一个空数组,\n",
    "    并且该数组的shape(n,0)和dtype会与上面的'分块'保持一致\n",
    "    如下面输出结果显示:array([], shape=(0, 8), dtype=int32\n",
    "\"\"\"\n",
    "print('按索引拆,ar_vsp:', ar_vsp)\n",
    "print('按索引拆,len():',len(ar_vsp))\n",
    "ar_vsp = np.vsplit(ar, 2)  # 按节(8/2=4 ,每4个为一组)垂直（行）将数组拆分为多个子数组。\n",
    "print('按节拆,type():',type(ar_vsp))\n",
    "print('按节拆,len():',len(ar_vsp))\n",
    "print('按节拆,ar_vsp:',ar_vsp)\n",
    "print('按节拆,ar_vsp[0]:',ar_vsp[0])\n",
    "\n",
    "'''\n",
    "vsplit等同于使用axis = 0的split（默认值），无论数组尺寸如何，数组始终沿第一个轴拆分\n",
    "\n",
    "ar_vsp = np.vsplit(ar,5) # 报错\n",
    "\n",
    "numpy.vsplit(ary, indices_or_sections)\n",
    "注意点:\n",
    "- 数组拆分必须是均分的,否则会报错\n",
    "- 垂直（行）将数组拆分为多个子数组。\n",
    "- vsplit等同于使用axis = 0的split（默认值）\n",
    "- 无论数组尺寸如何，数组始终沿第一个轴拆分。\n",
    "'''"
   ],
   "metadata": {
    "collapsed": false,
    "pycharm": {
     "name": "#%%\n",
     "is_executing": false
    }
   }
  },
  {
   "cell_type": "code",
   "execution_count": 243,
   "outputs": [
    {
     "name": "stdout",
     "text": [
      "[[0 1 2]\n",
      " [3 4 5]]\n",
      "[[10 11 12]\n",
      " [13 14 15]]\n",
      "[[ 0  2  4]\n",
      " [ 6  8 10]]\n",
      "[[1.         0.5        0.33333333]\n",
      " [0.25       0.2        0.16666667]]\n",
      "[[0.         1.         1.41421356]\n",
      " [1.73205081 2.         2.23606798]]\n",
      "2.5\n",
      "2.5\n",
      "5\n",
      "0\n",
      "1.707825127659933\n",
      "2.9166666666666665\n",
      "15 [3 5 7]\n",
      "[1 2 3 4 5 6]\n",
      "<built-in method sort of numpy.ndarray object at 0x0000026A800FDDA0>\n"
     ],
     "output_type": "stream"
    }
   ],
   "source": [
    "\n",
    "# 数组简单运算\n",
    "\n",
    "ar = np.arange(6).reshape(2,3)\n",
    "print(ar)\n",
    "print(ar + 10)   # 加法\n",
    "print(ar * 2)   # 乘法\n",
    "print(1 / (ar+1))  # 除法\n",
    "print(ar ** 0.5)  # 幂\n",
    "# 与标量的运算\n",
    "print(np.mean(ar))\n",
    "print(ar.mean())  # 求平均值\n",
    "print(ar.max())  # 求最大值\n",
    "print(ar.min())  # 求最小值\n",
    "print(ar.std())  # 求标准差\n",
    "print(ar.var())  # 求方差\n",
    "print(ar.sum(), np.sum(ar,axis = 0))  # 求和，np.sum() → axis为0，按列求和；axis为1，按行求和\n",
    "print(np.sort(np.array([1,4,3,2,5,6])))  # 排序\n",
    "print(ar.sort)\n",
    "# 常用函数"
   ],
   "metadata": {
    "collapsed": false,
    "pycharm": {
     "name": "#%%\n",
     "is_executing": false
    }
   }
  },
  {
   "cell_type": "code",
   "execution_count": 219,
   "outputs": [
    {
     "name": "stdout",
     "text": [
      "[ 0  1  2  3  4  5  6  7  8  9 10 11 12 13 14 15 16 17 18 19]\n",
      "[[ 0  1  2  3  4]\n",
      " [ 5  6  7  8  9]\n",
      " [10 11 12 13 14]\n",
      " [15 16 17 18 19]]\n",
      "None\n",
      "[[ 0  1  2  3  4  5]\n",
      " [ 6  7  8  9 10 11]\n",
      " [12 13 14 15 16 17]\n",
      " [18 19  0  0  0  0]\n",
      " [ 0  0  0  0  0  0]]\n",
      "------------------------\n",
      "[['0' '1' '2' '3']\n",
      " ['4' '5' '6' '7']\n",
      " ['8' '9' '10' '11']\n",
      " ['12' '13' '14' '15']]\n",
      "------------------------\n",
      "创建的数组为: [[ 0  1  2  3]\n",
      " [ 4  5  6  7]\n",
      " [ 8  9 10 11]\n",
      " [12 13 14 15]]\n",
      "计算后的数组为: [[100 110 120 130]\n",
      " [140 150 160 170]\n",
      " [180 190 200 210]\n",
      " [220 230 240 250]]\n",
      "result的均值: 175.0\n",
      "result求和为: 2800\n"
     ],
     "output_type": "stream"
    }
   ],
   "source": [
    "# 练习\n",
    "# 1.创建一个20个元素的数组，分别改变成两个形状：(4,5),(5,6) （提示：超出范围用resize）\n",
    "ar = np.arange(20)\n",
    "print(ar)\n",
    "print(ar.reshape((4,5))) \n",
    "print(ar.resize(5,6))   # 这中写法不满足题意\n",
    "print(np.resize(ar,(5,6)))\n",
    "print('------------------------')\n",
    "# 2.创建一个(4,4)的数组，把其元素类型改为字符型\n",
    "ar2 = np.arange(16).reshape(4,4)\n",
    "print(ar2.astype(np.str))\n",
    "print('------------------------')\n",
    "# 3.根据要求创建数组，运用数组的运算方法得到结果：result = ar * 10 +100，并求出result的均值及求和\n",
    "ar = np.arange(16).reshape(4,4)\n",
    "print('创建的数组为:',ar)\n",
    "result = ar * 10 + 100\n",
    "print('计算后的数组为:',result)\n",
    "print('result的均值:',result.mean())\n",
    "print('result求和为:',result.sum())\n"
   ],
   "metadata": {
    "collapsed": false,
    "pycharm": {
     "name": "#%%\n",
     "is_executing": false
    }
   }
  }
 ],
 "metadata": {
  "kernelspec": {
   "display_name": "Python 3",
   "language": "python",
   "name": "python3"
  },
  "language_info": {
   "codemirror_mode": {
    "name": "ipython",
    "version": 3
   },
   "file_extension": ".py",
   "mimetype": "text/x-python",
   "name": "python",
   "nbconvert_exporter": "python",
   "pygments_lexer": "ipython3",
   "version": "3.6.5"
  },
  "pycharm": {
   "stem_cell": {
    "cell_type": "raw",
    "source": [],
    "metadata": {
     "collapsed": false
    }
   }
  }
 },
 "nbformat": 4,
 "nbformat_minor": 2
}