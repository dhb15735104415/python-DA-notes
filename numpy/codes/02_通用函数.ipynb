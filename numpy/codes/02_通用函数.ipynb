{
 "cells": [
  {
   "cell_type": "code",
   "execution_count": 2,
   "metadata": {
    "pycharm": {
     "is_executing": false,
     "name": "#%%\n"
    }
   },
   "outputs": [
    {
     "data": {
      "text/plain": [
       "'\\n     Numpy通用函数\\n\\n    基本操作\\n'"
      ]
     },
     "execution_count": 2,
     "metadata": {},
     "output_type": "execute_result"
    }
   ],
   "source": [
    "'''\n",
    "     Numpy通用函数\n",
    "\n",
    "    基本操作\n",
    "'''"
   ]
  },
  {
   "cell_type": "code",
   "execution_count": 39,
   "metadata": {
    "pycharm": {
     "is_executing": false,
     "name": "#%%\n"
    }
   },
   "outputs": [
    {
     "name": "stdout",
     "text": [
      "[0 1 2 3 4 5 6 7 8 9] (10,)\n",
      "转置T后: [0 1 2 3 4 5 6 7 8 9]\n",
      "ar2_reshape  reshape()后: [[0 1 2 3 4]\n",
      " [5 6 7 8 9]]\n",
      "ar3_reshape  reshape()后: [[0 1 2 3 4]\n",
      " [5 6 7 8 9]]\n",
      "ar4_reshape  reshape()后: [[0. 0. 0. 0. 0. 0. 0. 0.]\n",
      " [0. 0. 0. 0. 0. 0. 0. 0.]\n",
      " [0. 0. 0. 0. 0. 0. 0. 0.]]\n",
      "ar4_resize resize()后: [0 1 2 3 4 5 6 7 8 9 0 1]\n",
      "ar3_reshape resize()后: [0 1 2 3 4]\n",
      "[[0 1 2 3 4 5]\n",
      " [6 7 8 9 0 1]]\n",
      "None\n",
      "n被改变了: [0 1 2 3 4 5 6 7 8 9]\n"
     ],
     "output_type": "stream"
    }
   ],
   "source": [
    "import numpy as np\n",
    "# 数组形状：.T/.reshape()/.resize()\n",
    "ar1 = np.arange(10)\n",
    "print(ar1,ar1.shape)    \n",
    "print('转置T后:',ar1.T)\n",
    "    \n",
    "# 必须保证秩一样\n",
    "ar2_reshape = ar1.reshape(2,5)  #   用法1：直接将已有数组改变形状\n",
    "ar3_reshape = np.reshape(ar1, (2,5))  # 用法2：参数内添加数组，目标形状\n",
    "ar4_reshape = np.zeros((4,6)).reshape(3,8)  # 用法3：生成数组后直接改变形状\n",
    "print('ar2_reshape  reshape()后:',ar2_reshape)\n",
    "print('ar3_reshape  reshape()后:',ar3_reshape)\n",
    "print('ar4_reshape  reshape()后:',ar4_reshape)\n",
    "                         \n",
    "ar1_resize = np.resize(ar1, 12)  # 不用保证秩一样 可以大于原来的\n",
    "ar2_resize = np.resize(ar3_reshape, 5)  # 不用保证秩一样 可以小于原来的\n",
    "print('ar4_resize resize()后:',ar1_resize)  # ar1_resize是新的数组\n",
    "print('ar3_reshape resize()后:',ar2_resize)  # ar2_resize是新的数组  \n",
    "\n",
    "n = np.arange(10)\n",
    "p = np.arange(12)\n",
    "print(np.resize(n, (2,6)))  # 输出结果正常  这种调用方式会生成一个新的数组\n",
    "print(p.resize((3,4)))  # 输出结果为None  这种调用方式会改变数组本身,不会生成新的数组 看源码即可\n",
    "print('n被改变了:', n)  # 结果显示n已经被改变了"
   ]
  },
  {
   "cell_type": "code",
   "execution_count": 29,
   "metadata": {
    "pycharm": {
     "is_executing": false
    }
   },
   "outputs": [
    {
     "name": "stdout",
     "text": [
      "[0 9 2 3 4 5 6 7 8 9]\n",
      "True\n",
      "等号赋值结果,ar1=[0 9 2 3 4 5 6 7 8 9],ar1_denghao=[0 9 2 3 4 5 6 7 8 9]\n",
      "------------------\n",
      "[0 1 2 3 4 5 6 7 8 9]\n",
      "False\n",
      "copy()复制结果,ar1=[0 9 2 3 4 5 6 7 8 9],ar1_copy=[0 1 2 3 4 5 6 7 8 9]\n",
      "[ 0  1  2  3  4  5  6  7  8  9 10 11]\n"
     ],
     "output_type": "stream"
    }
   ],
   "source": [
    "# 数组的复制\n",
    "ar1_denghao =  ar1\n",
    "print(ar1_denghao)\n",
    "print( ar1_denghao is ar1)\n",
    "ar1[1] = 9\n",
    "print(f'等号赋值结果,ar1={ar1},ar1_denghao={ar1_denghao}')\n",
    "# 回忆python的赋值逻辑：指向内存中生成的一个值 → 这里ar1和ar1_denghao指向同一个值，所以ar1改变，ar1_denghao一起改变\n",
    "print('------------------')\n",
    "\n",
    "# .copy()则不同\n",
    "ar1 = np.arange(10)\n",
    "ar1_copy = ar1.copy()\n",
    "print(ar1_copy)\n",
    "print(ar1_copy is ar1)\n",
    "ar1[1] = 9\n",
    "print(f'copy()复制结果,ar1={ar1},ar1_copy={ar1_copy}')  # ar1_copy并未改变\n",
    "# copy方法生成数组及其数据的完整拷贝\n",
    "# 提醒：.T/.reshape()/.resize()都是生成新的数组！！！"
   ]
  },
  {
   "cell_type": "code",
   "execution_count": 44,
   "metadata": {
    "pycharm": {
     "is_executing": false,
     "name": "#%%\n"
    }
   },
   "outputs": [
    {
     "name": "stdout",
     "text": [
      "[0. 1. 2. 3. 4. 5. 6. 7. 8. 9.] float64\n",
      "[0 1 2 3 4 5 6 7 8 9] int64\n"
     ],
     "output_type": "stream"
    }
   ],
   "source": [
    "# 数组类型转换：.astype()\n",
    "ar1 = np.arange(10, dtype=float)\n",
    "ar2 = ar1.astype(np.int64)\n",
    "print(ar1,ar1.dtype)\n",
    "print(ar2,ar2.dtype)"
   ]
  },
  {
   "cell_type": "code",
   "execution_count": 205,
   "outputs": [
    {
     "name": "stdout",
     "text": [
      "[0 1 2 3 4]\n",
      "[5 6 7 8]\n",
      "[0 1 2 3 4 5 6 7 8]\n",
      "[[1]\n",
      " [2]\n",
      " [3]]\n",
      "[['a']\n",
      " ['b']\n",
      " ['c']]\n",
      "[['1' 'a']\n",
      " ['2' 'b']\n",
      " ['3' 'c']]\n",
      "[['1']\n",
      " ['2']\n",
      " ['3']\n",
      " ['a']\n",
      " ['b']\n",
      " ['c']]\n",
      "[[0. 0.]\n",
      " [0. 0.]]\n",
      "[[1. 1.]\n",
      " [1. 1.]\n",
      " [1. 1.]]\n",
      "[[1. 1.]\n",
      " [1. 1.]\n",
      " [1. 1.]\n",
      " [0. 0.]\n",
      " [0. 0.]]\n"
     ],
     "output_type": "stream"
    },
    {
     "data": {
      "text/plain": "'\\nValueError: all the input array dimensions except for the concatenation axis must match exactly\\nValueError：除串联轴外的所有输入数组维必须完全匹配\\n'"
     },
     "metadata": {},
     "output_type": "execute_result",
     "execution_count": 205
    }
   ],
   "source": [
    "# 数组堆叠\n",
    "\n",
    "a = np.arange(5)\n",
    "b = np.arange(5,9)\n",
    "print(a)\n",
    "print(b)\n",
    "print(np.hstack((a,b)))  # 横向连接 水平按列\n",
    "\n",
    "a = np.array([[1],[2],[3]])\n",
    "b = np.array([['a'],['b'],['c']])\n",
    "print(a)\n",
    "print(b)\n",
    "print(np.hstack((a,b)))  # 横向连接 变成3行2列的数组\n",
    "print(np.vstack((a,b)))  # 纵向连接 垂直按行 变成6行1列的数组, 但必须保证两个数组的秩一样\n",
    "\n",
    "c = np.array(np.ones((3,2)))\n",
    "d = np.array(np.zeros((2,2)))\n",
    "print(d)\n",
    "print(c)\n",
    "# print(np.hstack((c,d)))  # 横向连接 行数必须保持一致\n",
    "print(np.vstack((c,d)))  # 纵向连接 列数必须保持一致,否则会以下错误\n",
    "'''\n",
    "ValueError: all the input array dimensions except for the concatenation axis must match exactly\n",
    "ValueError：除串联轴外的所有输入数组维必须完全匹配\n",
    "'''"
   ],
   "metadata": {
    "collapsed": false,
    "pycharm": {
     "name": "#%%\n",
     "is_executing": false
    }
   }
  },
  {
   "cell_type": "code",
   "execution_count": 204,
   "outputs": [
    {
     "name": "stdout",
     "text": [
      "[[ 1  2  3  4  5  6  7  8]\n",
      " [ 9 10 11 12 13 14 15 16]]\n",
      "按索引拆,ar_hsp: [array([[ 1,  2],\n",
      "       [ 9, 10]]), array([[ 3,  4,  5],\n",
      "       [11, 12, 13]]), array([[ 6,  7,  8],\n",
      "       [14, 15, 16]]), array([], shape=(2, 0), dtype=int32)]\n",
      "按索引拆,len(): 4\n",
      "按节拆,type(): <class 'list'>\n",
      "按节拆,len(): 2\n",
      "按节拆,ar_hsp: [array([[ 1,  2,  3,  4],\n",
      "       [ 9, 10, 11, 12]]), array([[ 5,  6,  7,  8],\n",
      "       [13, 14, 15, 16]])]\n",
      "按节拆,ar_hsp[0]: [[ 1  2  3  4]\n",
      " [ 9 10 11 12]]\n",
      "------------------------------\n",
      "[[ 1  2  3  4  5  6  7  8]\n",
      " [ 9 10 11 12 13 14 15 16]]\n",
      "按索引拆,ar_vsp: [array([[ 1,  2,  3,  4,  5,  6,  7,  8],\n",
      "       [ 9, 10, 11, 12, 13, 14, 15, 16]]), array([], shape=(0, 8), dtype=int32), array([], shape=(0, 8), dtype=int32), array([], shape=(0, 8), dtype=int32)]\n",
      "按索引拆,len(): 4\n",
      "按节拆,type(): <class 'list'>\n",
      "按节拆,len(): 2\n",
      "按节拆,ar_vsp: [array([[1, 2, 3, 4, 5, 6, 7, 8]]), array([[ 9, 10, 11, 12, 13, 14, 15, 16]])]\n",
      "按节拆,ar_vsp[0]: [[1 2 3 4 5 6 7 8]]\n"
     ],
     "output_type": "stream"
    },
    {
     "data": {
      "text/plain": "'\\nvsplit等同于使用axis = 0的split（默认值），无论数组尺寸如何，数组始终沿第一个轴拆分\\n\\nar_vsp = np.vsplit(ar,5) # 报错\\n\\nnumpy.vsplit(ary, indices_or_sections)\\n注意点:\\n- 数组拆分必须是均分的,否则会报错\\n- 垂直（行）将数组拆分为多个子数组。\\n- vsplit等同于使用axis = 0的split（默认值）\\n- 无论数组尺寸如何，数组始终沿第一个轴拆分。\\n'"
     },
     "metadata": {},
     "output_type": "execute_result",
     "execution_count": 204
    }
   ],
   "source": [
    "# 数组拆分\n",
    "ar = np.arange(start=1,stop=17).reshape(2,8)  \n",
    "print(ar)\n",
    "ar_hsp = np.hsplit(ar, [2,5,8])  \n",
    "\"\"\"\n",
    "按索引[2,5,8]垂直（行）将数组拆分为多个子数组。\n",
    "可以理解为在数组的索引处划一刀(如切3刀分4块),然后在'缺口'那儿向上取'分块',已经取走的就不包含,\n",
    "最后一个'缺口'需要特别注意:\n",
    "    如果小于索引最大值,则依然向上取'分块'\n",
    "    如果等于索引最大值,则取最大索引处的值\n",
    "    如果大于索引最大值,则依然向上取'分块',但同时会向下取一个空数组,\n",
    "    并且该数组的shape(n,0)和dtype会与上面的'分块'保持一致\n",
    "\"\"\"\n",
    "print('按索引拆,ar_hsp:', ar_hsp)\n",
    "print('按索引拆,len():',len(ar_hsp))\n",
    "ar_hsp = np.hsplit(ar, 2)  # 按节(8/2=4 ,每4个为一组)水平（按列））将数组拆分为多个子数组。\n",
    "print('按节拆,type():',type(ar_hsp))\n",
    "print('按节拆,len():',len(ar_hsp))\n",
    "print('按节拆,ar_hsp:',ar_hsp)\n",
    "print('按节拆,ar_hsp[0]:',ar_hsp[0])\n",
    "'''\n",
    "    hsplit等效于带有axis = 1的split，无论数组大小如何，数组总是沿第二个轴拆分。\n",
    "'''\n",
    "print('------------------------------')\n",
    "ar =np.arange(start=1,stop=17).reshape(2,8)\n",
    "print(ar)\n",
    "ar_vsp = np.vsplit(ar, [2,5,8])  \n",
    "\"\"\"\n",
    "按索引[2,5,8]垂直（行）将数组拆分为多个子数组。\n",
    "可以理解为在数组的索引处划一刀(如切3刀分4块),然后在'缺口'那儿向上取'分块',已经取走的就不包含,\n",
    "最后一个'缺口'需要特别注意:\n",
    "    如果小于索引最大值,则依然向上取'分块'\n",
    "    如果等于索引最大值,则取最大索引处的值\n",
    "    如果大于索引最大值,则依然向上取'分块',但同时会向下取一个空数组,\n",
    "    并且该数组的shape(n,0)和dtype会与上面的'分块'保持一致\n",
    "    如下面输出结果显示:array([], shape=(0, 8), dtype=int32\n",
    "\"\"\"\n",
    "print('按索引拆,ar_vsp:', ar_vsp)\n",
    "print('按索引拆,len():',len(ar_vsp))\n",
    "ar_vsp = np.vsplit(ar, 2)  # 按节(8/2=4 ,每4个为一组)垂直（行）将数组拆分为多个子数组。\n",
    "print('按节拆,type():',type(ar_vsp))\n",
    "print('按节拆,len():',len(ar_vsp))\n",
    "print('按节拆,ar_vsp:',ar_vsp)\n",
    "print('按节拆,ar_vsp[0]:',ar_vsp[0])\n",
    "\n",
    "'''\n",
    "vsplit等同于使用axis = 0的split（默认值），无论数组尺寸如何，数组始终沿第一个轴拆分\n",
    "\n",
    "ar_vsp = np.vsplit(ar,5) # 报错\n",
    "\n",
    "numpy.vsplit(ary, indices_or_sections)\n",
    "注意点:\n",
    "- 数组拆分必须是均分的,否则会报错\n",
    "- 垂直（行）将数组拆分为多个子数组。\n",
    "- vsplit等同于使用axis = 0的split（默认值）\n",
    "- 无论数组尺寸如何，数组始终沿第一个轴拆分。\n",
    "'''\n"
   ],
   "metadata": {
    "collapsed": false,
    "pycharm": {
     "name": "#%%\n",
     "is_executing": false
    }
   }
  }
 ],
 "metadata": {
  "kernelspec": {
   "display_name": "Python 3",
   "language": "python",
   "name": "python3"
  },
  "language_info": {
   "codemirror_mode": {
    "name": "ipython",
    "version": 3
   },
   "file_extension": ".py",
   "mimetype": "text/x-python",
   "name": "python",
   "nbconvert_exporter": "python",
   "pygments_lexer": "ipython3",
   "version": "3.6.5"
  },
  "pycharm": {
   "stem_cell": {
    "cell_type": "raw",
    "source": [],
    "metadata": {
     "collapsed": false
    }
   }
  }
 },
 "nbformat": 4,
 "nbformat_minor": 2
}