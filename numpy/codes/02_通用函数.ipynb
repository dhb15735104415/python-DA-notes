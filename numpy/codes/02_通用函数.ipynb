{
 "cells": [
  {
   "cell_type": "code",
   "execution_count": 2,
   "metadata": {
    "pycharm": {
     "is_executing": false,
     "name": "#%%\n"
    }
   },
   "outputs": [
    {
     "data": {
      "text/plain": [
       "'\\n     Numpy通用函数\\n\\n    基本操作\\n'"
      ]
     },
     "execution_count": 2,
     "metadata": {},
     "output_type": "execute_result"
    }
   ],
   "source": [
    "'''\n",
    "     Numpy通用函数\n",
    "\n",
    "    基本操作\n",
    "'''"
   ]
  },
  {
   "cell_type": "code",
   "execution_count": 17,
   "metadata": {
    "pycharm": {
     "is_executing": false,
     "name": "#%%\n"
    }
   },
   "outputs": [
    {
     "name": "stdout",
     "text": [
      "[0 1 2 3 4 5 6 7 8 9] (10,)\n转置T后: [0 1 2 3 4 5 6 7 8 9]\nar2_reshape  reshape()后: [[0 1 2 3 4]\n [5 6 7 8 9]]\nar3_reshape  reshape()后: [[0 1 2 3 4]\n [5 6 7 8 9]]\nar4_reshape  reshape()后: [[0. 0. 0. 0. 0. 0. 0. 0.]\n [0. 0. 0. 0. 0. 0. 0. 0.]\n [0. 0. 0. 0. 0. 0. 0. 0.]]\nar4_resize resize()后: [0 1 2 3 4 5 6 7 8 9 0 1]\nar3_reshape resize()后: [0 1 2 3 4]\n"
     ],
     "output_type": "stream"
    }
   ],
   "source": [
    "import numpy as np\n",
    "# 数组形状：.T/.reshape()/.resize()\n",
    "ar1 = np.arange(10)\n",
    "print(ar1,ar1.shape)    \n",
    "print('转置T后:',ar1.T)\n",
    "    \n",
    "# 必须保证秩一样\n",
    "ar2_reshape = ar1.reshape(2,5)  #   用法1：直接将已有数组改变形状\n",
    "ar3_reshape = np.reshape(ar1, (2,5))  # 用法2：参数内添加数组，目标形状\n",
    "ar4_reshape = np.zeros((4,6)).reshape(3,8)  # 用法3：生成数组后直接改变形状\n",
    "print('ar2_reshape  reshape()后:',ar2_reshape)\n",
    "print('ar3_reshape  reshape()后:',ar3_reshape)\n",
    "print('ar4_reshape  reshape()后:',ar4_reshape)\n",
    "                         \n",
    "ar1_resize = np.resize(ar1, 12)  # 不用保证秩一样 可以大于原来的\n",
    "ar2_resize = np.resize(ar3_reshape, 5)  # 不用保证秩一样 可以小于原来的\n",
    "print('ar4_resize resize()后:',ar1_resize)\n",
    "print('ar3_reshape resize()后:',ar2_resize)    "
   ]
  },
  {
   "cell_type": "code",
   "execution_count": 16,
   "metadata": {
    "pycharm": {
     "is_executing": false
    }
   },
   "outputs": [
    {
     "name": "stdout",
     "text": [
      "[0 1 2 3 4 5 6 7 8 9]\nTrue\n等号赋值结果,ar1=[0 9 2 3 4 5 6 7 8 9],ar1_denghao=[0 9 2 3 4 5 6 7 8 9]\n------------------\n[0 1 2 3 4 5 6 7 8 9]\nFalse\ncopy()复制结果,ar1=[0 9 2 3 4 5 6 7 8 9],ar1_copy=[0 1 2 3 4 5 6 7 8 9]\n"
     ],
     "output_type": "stream"
    }
   ],
   "source": [
    "# 数组的复制\n",
    "ar1_denghao =  ar1\n",
    "print(ar1_denghao)\n",
    "print( ar1_denghao is ar1)\n",
    "ar1[1] = 9\n",
    "print(f'等号赋值结果,ar1={ar1},ar1_denghao={ar1_denghao}')\n",
    "# 回忆python的赋值逻辑：指向内存中生成的一个值 → 这里ar1和ar1_denghao指向同一个值，所以ar1改变，ar1_denghao一起改变\n",
    "print('------------------')\n",
    "\n",
    "# .copy()则不同\n",
    "ar1 = np.arange(10)\n",
    "ar1_copy = ar1.copy()\n",
    "print(ar1_copy)\n",
    "print(ar1_copy is ar1)\n",
    "ar1[1] = 9\n",
    "print(f'copy()复制结果,ar1={ar1},ar1_copy={ar1_copy}')  # ar1_copy并未改变\n",
    "\n",
    "# copy方法生成数组及其数据的完整拷贝\n",
    "# 提醒：.T/.reshape()/.resize()都是生成新的数组！！！"
   ]
  },
  {
   "cell_type": "code",
   "execution_count": 8,
   "metadata": {
    "pycharm": {
     "is_executing": false
    }
   },
   "outputs": [
    {
     "data": {
      "text/plain": "array([0., 1., 2., 3., 4., 5., 6., 7., 8., 9.])"
     },
     "metadata": {},
     "output_type": "execute_result",
     "execution_count": 8
    }
   ],
   "source": [
    "# 数组类型转换：.astype()\n",
    "ar1.astype(np.float)\n"
   ]
  }
 ],
 "metadata": {
  "kernelspec": {
   "display_name": "Python 3",
   "language": "python",
   "name": "python3"
  },
  "language_info": {
   "codemirror_mode": {
    "name": "ipython",
    "version": 3
   },
   "file_extension": ".py",
   "mimetype": "text/x-python",
   "name": "python",
   "nbconvert_exporter": "python",
   "pygments_lexer": "ipython3",
   "version": "3.6.5"
  },
  "pycharm": {
   "stem_cell": {
    "cell_type": "raw",
    "source": [],
    "metadata": {
     "collapsed": false
    }
   }
  }
 },
 "nbformat": 4,
 "nbformat_minor": 2
}