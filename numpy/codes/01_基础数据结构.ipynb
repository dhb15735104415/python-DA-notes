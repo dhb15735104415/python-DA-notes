{
 "cells": [
  {
   "cell_type": "code",
   "execution_count": null,
   "metadata": {},
   "outputs": [],
   "source": [
    "'''\n",
    "Numpy基础数据结构\n",
    "\n",
    "NumPy数组是一个多维数组对象，称为ndarray。其由两部分组成：\n",
    "① 实际的数据\n",
    "② 描述这些数据的元数据\n",
    "\n",
    "数组的基本属性\n",
    "  ① 数组的维数称为秩（rank），一维数组的秩为1，二维数组的秩为2，以此类推\n",
    "  ② 在NumPy中，每一个线性的数组称为是一个轴（axes），秩其实是描述轴的数量：\n",
    "  比如说，二维数组相当于是两个一维数组，其中第一个一维数组中每个元素又是一个一维数组\n",
    "  所以一维数组就是NumPy中的轴（axes），第一个轴相当于是底层数组，第二个轴是底层数组里的数组。\n",
    "  而轴的数量——秩，就是数组的维数。\n",
    "\n",
    "'''"
   ]
  },
  {
   "cell_type": "code",
   "execution_count": 1,
   "outputs": [
    {
     "name": "stdout",
     "text": [
      "[[2 1 3 4]\n",
      " [1 3 4 5]] int32\n",
      "-------------分割线----------------\n",
      "[['2' '1' '3' '4']\n",
      " ['1' '3' '4' '5']] <U1\n",
      "-------------分割线----------------\n",
      "[list(['12', 23]) list([3, 5, 7]) list([11, 33, 44])] object\n",
      "<class 'numpy.ndarray'>\n"
     ],
     "output_type": "stream"
    }
   ],
   "source": [
    "import numpy as np\n",
    "\n",
    "# 1.创建数组 array()函数，括号内可以是列表、元祖、数组、生成器等\n",
    "ar = np.array([[2,1,3,4],[1,3,4,5]])   # 创建数组，两个一维数组组成 数字类型\n",
    "print(ar,ar.dtype)    # 注意数组的格式：中括号，元素之间没有逗号(和列表区分)\n",
    "'''\n",
    "    dtype 数组中元素的类型，类似type()（注意了，type()是函数，.dtype是方法）\n",
    "'''\n",
    "print('-------------分割线----------------')\n",
    "ar2 = np.array([['2',1,3,4],[1,3,4,5,]])   # 创建数组，两个一维数组组成 有一个为字符串，全为字符串\n",
    "print(ar2,ar2.dtype)  # 注意元素的类型都为字符串\n",
    "print('-------------分割线----------------')\n",
    "ar3 = np.array([['12',23],[3,5,7],[11,33,44]])  # 创建数组，三个一维数组组成 有一个为字符串\n",
    "print(ar3,ar3.dtype)  # 注意元素的类型变为object，因为第一个数组只有两个元素，和其他数组的元素数量不匹配，每个元素的类型为list\n",
    "print(type(ar3))      # 输出:<class 'numpy.ndarray'>  是一个一维数组"
   ],
   "metadata": {
    "collapsed": false,
    "pycharm": {
     "name": "#%%\n",
     "is_executing": false
    }
   }
  },
  {
   "cell_type": "code",
   "execution_count": 2,
   "outputs": [
    {
     "name": "stdout",
     "text": [
      "2 2 1\n"
     ],
     "output_type": "stream"
    }
   ],
   "source": [
    "# 2.nidm 输出数组维度的个数（轴数），或者说“秩”，维度的数量也称rank\n",
    "print(ar.ndim, ar2.ndim, ar3.ndim)  # 输出:2 2 1 ，ar3是一个对象了"
   ],
   "metadata": {
    "collapsed": false,
    "pycharm": {
     "name": "#%%\n",
     "is_executing": false
    }
   }
  },
  {
   "cell_type": "code",
   "execution_count": 3,
   "outputs": [
    {
     "name": "stdout",
     "text": [
      "(2, 4) (2, 4) (3,)\n",
      "8 8 3\n"
     ],
     "output_type": "stream"
    }
   ],
   "source": [
    "# 3.shape 数组的形状(纬度)，对于n行m列的数组，shape为（n，m）\n",
    "print(ar.shape, ar2.shape, ar3.shape)    # 输出:(2, 4) (2, 4) (3,)\n",
    "\n",
    "#\n",
    "\n",
    "# 4.size 数组的元素总数，对于n行m列的数组，元素总数为n*m\n",
    "print(ar.size, ar2.size, ar3.size)    #输出:8 8 3"
   ],
   "metadata": {
    "collapsed": false,
    "pycharm": {
     "name": "#%%\n",
     "is_executing": false
    }
   }
  },
  {
   "cell_type": "code",
   "execution_count": 7,
   "metadata": {
    "pycharm": {
     "is_executing": false
    }
   },
   "outputs": [
    {
     "name": "stdout",
     "text": [
      "4 4 8\n"
     ],
     "output_type": "stream"
    }
   ],
   "source": [
    "# 5. itemsize 数组中每个元素的字节大小，int32类型字节为4，float64的字节为8\n",
    "print(ar.itemsize, ar2.itemsize, ar3.itemsize)  "
   ]
  },
  {
   "cell_type": "code",
   "execution_count": 8,
   "metadata": {
    "pycharm": {
     "is_executing": false
    }
   },
   "outputs": [
    {
     "name": "stdout",
     "text": [
      "<memory at 0x000001E157CD9558>\n"
     ],
     "output_type": "stream"
    },
    {
     "data": {
      "text/plain": "array([[2, 1, 3, 4],\n       [1, 3, 4, 5]])"
     },
     "metadata": {},
     "output_type": "execute_result",
     "execution_count": 8
    }
   ],
   "source": [
    "# 6. data 包含实际数组元素的缓冲区，由于一般通过数组的索引获取元素，所以通常不需要使用这个属性。\n",
    "print(ar.data)\n",
    "ar  # 交互方式下输出，会有array(数组)"
   ]
  },
  {
   "cell_type": "code",
   "execution_count": 5,
   "metadata": {
    "pycharm": {
     "is_executing": false
    }
   },
   "outputs": [
    {
     "name": "stdout",
     "text": [
      "[0 1 2 3 4 5 6 7 8 9]\n",
      "[ 0  1  2  3  4  5  6  7  8  9 10 11 12 13 14 15]\n",
      "[     0      1      2 ... 199996 199997 199998]\n"
     ],
     "output_type": "stream"
    }
   ],
   "source": [
    "# 7. 创建数组的几种方式\n",
    "print(np.array(range(10)))     # 调用array()函数\n",
    "print(np.arange(16))           # 调用arange()函数 类似range()，在给定间隔内返回均匀间隔的值。numpy封装的\n",
    "print(np.arange(199999))       # 如果数组太大而无法打印，NumPy会自动跳过数组的中心部分，并只打印边角："
   ]
  },
  {
   "cell_type": "code",
   "execution_count": 3,
   "metadata": {
    "pycharm": {
     "is_executing": false
    }
   },
   "outputs": [
    {
     "name": "stdout",
     "text": [
      "[0.   1.25 2.5  3.75 5.  ] <class 'numpy.ndarray'>\n[0. 1. 2. 3. 4.]\n(array([0.  , 1.25, 2.5 , 3.75, 5.  ]), 1.25) <class 'tuple'>\n[10.         10.52631579 11.05263158 11.57894737 12.10526316 12.63157895\n 13.15789474 13.68421053 14.21052632 14.73684211 15.26315789 15.78947368\n 16.31578947 16.84210526 17.36842105 17.89473684 18.42105263 18.94736842\n 19.47368421 20.        ]\n"
     ],
     "output_type": "stream"
    }
   ],
   "source": [
    "# 8. linspace(): 返回在间隔[开始，停止]上计算的num个均匀间隔的样本。\n",
    "# numpy.linspace(start, stop, num=50, endpoint=True, retstep=False, dtype=None)  \n",
    "# start：起始值，stop：结束值\n",
    "# num：生成样本数，默认为50\n",
    "    # endpoint：如果为真，则停止是最后一个样本。否则，不包括在内。默认值为True。\n",
    "# retstep：如果为真，返回（样本，步长），其中步长是样本之间的间距 → 输出为一个包含2个元素的元祖，第一个元素为array，第二个为步长实际值\n",
    "\n",
    "ar1 = np.linspace(0,5,num = 5)\n",
    "ar2 = np.linspace(0,5,num = 5, endpoint = False)\n",
    "ar3 = np.linspace(0,5,num = 5, retstep = True)    # 加了retstep参数后，返回结果为一个元组，不是数组了\n",
    "print(ar1, type(ar1)) \n",
    "print(ar2)   # 左开右闭\n",
    "print(ar3, type(ar3))   # 步长为0.5\n",
    "\n",
    "print(np.linspace(10,20,num=20))\n",
    "# 自己猜测的结果如下,但实际不是:\n",
    "# 10 10.5 11 11.5\n",
    "# 12 12.5 13 13.5\n",
    "# 14 14.5 15 15.5\n",
    "# 16 16.5 17 17.5\n",
    "# 18 18.5 19 19.5\n",
    "# "
   ]
  },
  {
   "cell_type": "code",
   "execution_count": 120,
   "metadata": {},
   "outputs": [
    {
     "name": "stdout",
     "output_type": "stream",
     "text": [
      "[[0. 0. 0.]\n",
      " [0. 0. 0.]],<class 'numpy.ndarray'>\n",
      "ar1的秩为： 2\n",
      "ar2为： [[[0 0 0 0]\n",
      "  [0 0 0 0]\n",
      "  [0 0 0 0]]\n",
      "\n",
      " [[0 0 0 0]\n",
      "  [0 0 0 0]\n",
      "  [0 0 0 0]]]\n",
      "ar2的秩为： 3\n",
      "ar3为： [[ 0  1  2  3  4  5  6  7  8  9]\n",
      " [10 11 12 13 14 15 16 17 18 19]]\n",
      "ar4为： [[0 0 0 0 0 0 0 0 0 0]\n",
      " [0 0 0 0 0 0 0 0 0 0]]\n",
      "ar5为： [[1 1 1]\n",
      " [1 1 1]] <class 'numpy.ndarray'>\n",
      "ar6为： [[1 1 1 1 1 1 1 1 1 1]\n",
      " [1 1 1 1 1 1 1 1 1 1]]\n"
     ]
    }
   ],
   "source": [
    "# 9. zeros()/zeros_like()/ones()/ones_like()\n",
    "# numpy.zeros(shape, dtype=float, order='C'):返回给定形状和类型的新数组，用零填充。\n",
    "# shape：数组纬度，二维以上需要用()，且输入参数为整数\n",
    "# dtype：数据类型，默认numpy.float64\n",
    "# order：是否在存储器中以C或Fortran连续（按行或列方式）存储多维数据。\n",
    "\n",
    "ar1 = np.zeros((2,3))           # 生成一个二维数组,每个子数组由三个0组成  或者2行3列的矩阵，以0填充\n",
    "print(ar1, type(ar1),sep=',')   # sep=',' ,用于指定输出数据之间的分隔符,此处指定按逗号分割\n",
    "print('ar1的秩为：',ar1.ndim)   # 输出:2\n",
    "\n",
    "ar2 = np.zeros((2,3,4),dtype = int)     # 生成1个三维数组，由2个为二维数组组成(3行4列)\n",
    "print('ar2为：',ar2)\n",
    "print('ar2的秩为：',ar2.ndim)   \n",
    "\n",
    "\n",
    "ar3 = np.array([list(range(10)),list(range(10,20))])\n",
    "print('ar3为：',ar3)\n",
    "# zeros_like() 返回具有与给定数组相同的形状和类型的零数组，这里ar4根据ar3的形状和dtype创建一个全0的数组\n",
    "ar4 = np.zeros_like(ar3)\n",
    "print('ar4为：',ar4)\n",
    "\n",
    "# ones()/ones_like()和zeros()/zeros_like()一样，只是填充为1\n",
    "ar5 = np.ones((2,3), dtype = int)\n",
    "print('ar5为：',ar5, type(ar5))\n",
    "\n",
    "ar6 = np.ones_like(ar3)\n",
    "print('ar6为：',ar6)"
   ]
  },
  {
   "cell_type": "code",
   "execution_count": 4,
   "metadata": {
    "pycharm": {
     "is_executing": false
    }
   },
   "outputs": [
    {
     "name": "stdout",
     "text": [
      "ar7为： [[1 0 0 0 0]\n [0 1 0 0 0]\n [0 0 1 0 0]\n [0 0 0 1 0]\n [0 0 0 0 1]] int32\n[[1. 0. 0.]\n [0. 1. 0.]\n [0. 0. 1.]]\n"
     ],
     "output_type": "stream"
    }
   ],
   "source": [
    "# 10. eye()  创建一个正方的N*N的单位矩阵，对角线值为1，其余为0\n",
    "ar7 = np.eye(5,dtype = np.int)   #np.int 默认为32为\n",
    "print('ar7为：',ar7, ar7.dtype)  # 创建一个正方的5*5的单位矩阵，对角线值为1，其余为0\n",
    "print(np.eye(3))"
   ]
  },
  {
   "cell_type": "code",
   "execution_count": 139,
   "metadata": {},
   "outputs": [
    {
     "name": "stdout",
     "output_type": "stream",
     "text": [
      "[1 2 'a' 'hello' list([1, 2, 3]) {'one': 1, 'two': 2}] <class 'numpy.ndarray'>\n",
      "a1的shape为： (6,)\n",
      "[['0' '1' '2' '3' '4' '5']\n",
      " ['a' 'b' 'c' 'e' 'f' 'g']\n",
      " ['True' 'False' 'True' 'False' 'True' 'False']] <class 'numpy.ndarray'>\n",
      "a2的shape为 (3, 6)\n",
      "--------------分割线----------------\n",
      "ar3为： [ 5.  6.  7.  8.  9. 10. 11. 12. 13. 14.]\n",
      "--------------分割线----------------\n",
      "ar4为： [[0. 0. 0. 0.]\n",
      " [0. 0. 0. 0.]\n",
      " [0. 0. 0. 0.]\n",
      " [0. 0. 0. 0.]]\n",
      "[[1. 1. 1.]\n",
      " [1. 1. 1.]]\n",
      "[[1 0 0]\n",
      " [0 1 0]\n",
      " [0 0 1]]\n"
     ]
    }
   ],
   "source": [
    "# 练习：\n",
    "# 1. 按照要求生成一个一维数组、二维数据，并且查看其shape\n",
    "ar1 = np.array([1,2,'a','hello',[1,2,3],{'one':1,'two':2}])\n",
    "print(ar1,type(ar1))\n",
    "print('a1的shape为：',ar1.shape)\n",
    "\n",
    "ar2 = np.array([[0,1,2,3,4,5],['a','b','c','e','f','g'],[True,False,True,False,True,False]])\n",
    "print(ar2,type(ar2))\n",
    "print('a2的shape为',ar2.shape)\n",
    "print('--------------分割线----------------')\n",
    "# 2. 生成一个一维数组，起始值为5，终点值为15，样本数为10个\n",
    "ar3 = np.linspace(5,15,num = 10, endpoint = False)\n",
    "print('ar3为：',ar3)\n",
    "print('--------------分割线----------------')\n",
    "# 3.\n",
    "ar4 = np.zeros((4,4))\n",
    "print('ar4为：',ar4)\n",
    "print(np.ones((2,3)))\n",
    "print(np.eye(3,dtype = int))"
   ]
  },
  {
   "cell_type": "code",
   "execution_count": null,
   "metadata": {},
   "outputs": [],
   "source": []
  }
 ],
 "metadata": {
  "kernelspec": {
   "display_name": "Python 3",
   "language": "python",
   "name": "python3"
  },
  "language_info": {
   "codemirror_mode": {
    "name": "ipython",
    "version": 3
   },
   "file_extension": ".py",
   "mimetype": "text/x-python",
   "name": "python",
   "nbconvert_exporter": "python",
   "pygments_lexer": "ipython3",
   "version": "3.6.5"
  },
  "pycharm": {
   "stem_cell": {
    "cell_type": "raw",
    "source": [],
    "metadata": {
     "collapsed": false
    }
   }
  }
 },
 "nbformat": 4,
 "nbformat_minor": 2
}