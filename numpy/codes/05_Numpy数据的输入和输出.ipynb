{
 "cells": [
  {
   "cell_type": "code",
   "execution_count": 1,
   "metadata": {
    "collapsed": true,
    "pycharm": {
     "is_executing": false
    }
   },
   "outputs": [
    {
     "data": {
      "text/plain": "'  \\n    Numpy数据的输入输出\\n    \\n    numpy读取/写入数组数据、文本数据\\n'"
     },
     "metadata": {},
     "output_type": "execute_result",
     "execution_count": 1
    }
   ],
   "source": [
    "'''  \n",
    "    Numpy数据的输入输出\n",
    "    \n",
    "    numpy读取/写入数组数据、文本数据\n",
    "'''"
   ]
  },
  {
   "cell_type": "code",
   "execution_count": 7,
   "outputs": [
    {
     "name": "stdout",
     "text": [
      "[[1 7 1]\n",
      " [2 9 4]]\n",
      "[[1 7 1]\n",
      " [2 9 4]]\n"
     ],
     "output_type": "stream"
    }
   ],
   "source": [
    "import numpy as np\n",
    "import os \n",
    "\n",
    "# 存储数组数据 .npy文件\n",
    "\n",
    "# chdir() 将当前工作目录更改为指定的路径\n",
    "os.chdir(\"F:/ATest_ignore\")  \n",
    "ar = np.random.randint(1,10,size=(2,3))\n",
    "print(ar)\n",
    "\n",
    "# save() 将数组保存为NumPy .npy格式的二进制文件\n",
    "np.save('arraydata1.npy',ar)  \n",
    "\n",
    "# load() 读取数组数据.npy文件  \n",
    "ar_load = np.load('arraydata1.npy')  \n",
    "print(ar_load)"
   ],
   "metadata": {
    "collapsed": false,
    "pycharm": {
     "name": "#%%\n",
     "is_executing": false
    }
   }
  },
  {
   "cell_type": "code",
   "execution_count": 11,
   "outputs": [
    {
     "name": "stdout",
     "text": [
      "[[0.79067832 0.32378    0.4422647  0.62181106 0.80300266]\n",
      " [0.87556629 0.11427465 0.53967467 0.55447063 0.16374469]\n",
      " [0.93433415 0.68061453 0.59362985 0.62311052 0.59708388]\n",
      " [0.13524089 0.25351945 0.43554054 0.59086958 0.41731343]]\n",
      "[[0.79 0.32 0.44 0.62 0.8 ]\n",
      " [0.88 0.11 0.54 0.55 0.16]\n",
      " [0.93 0.68 0.59 0.62 0.6 ]\n",
      " [0.14 0.25 0.44 0.59 0.42]]\n"
     ],
     "output_type": "stream"
    }
   ],
   "source": [
    "# 存储/读取文本文件\n",
    "ar = np.random.rand(4,5)\n",
    "print(ar)\n",
    "\n",
    "# savetxt() 将数组保存到文本文件。源码如下:\n",
    "# def savetxt(fname, X, fmt='%.18e', delimiter=' ', newline='\\n', header='',\n",
    "#             footer='', comments='# ', encoding=None):\n",
    "np.savetxt('arraydata2.txt',ar,fmt='%.2f',delimiter=',')   # 保存小数点后两位,并且以','分割\n",
    "\n",
    "\n",
    "# loadtxt() 从文本文件加载数据。文本文件中的每一行必须具有相同数量的值。\n",
    "'''\n",
    "def loadtxt(fname, dtype=float, comments='#', delimiter=None,\n",
    "            converters=None, skiprows=0, usecols=None, unpack=False,\n",
    "           ndmin=0, encoding='bytes', max_rows=None):\n",
    "'''\n",
    "ar_loadtxt = np.loadtxt('arraydata2.txt', delimiter=',')\n",
    "print(ar_loadtxt)\n"
   ],
   "metadata": {
    "collapsed": false,
    "pycharm": {
     "name": "#%%\n",
     "is_executing": false
    }
   }
  }
 ],
 "metadata": {
  "kernelspec": {
   "display_name": "Python 3",
   "language": "python",
   "name": "python3"
  },
  "language_info": {
   "codemirror_mode": {
    "name": "ipython",
    "version": 2
   },
   "file_extension": ".py",
   "mimetype": "text/x-python",
   "name": "python",
   "nbconvert_exporter": "python",
   "pygments_lexer": "ipython2",
   "version": "2.7.6"
  },
  "pycharm": {
   "stem_cell": {
    "cell_type": "raw",
    "source": [],
    "metadata": {
     "collapsed": false
    }
   }
  }
 },
 "nbformat": 4,
 "nbformat_minor": 0
}